{
 "cells": [
  {
   "cell_type": "code",
   "execution_count": 1,
   "metadata": {},
   "outputs": [],
   "source": [
    "from datasets import load_dataset, Dataset, load_from_disk\n",
    "from tqdm import tqdm, trange\n",
    "import json\n",
    "from __future__ import annotations\n",
    "from typing import Iterator\n",
    "import torch\n",
    "from torch.utils.data import BatchSampler, DataLoader\n",
    "from torch import nn, Tensor\n",
    "from typing import Dict, Type, Callable, List\n",
    "from torch.optim import Optimizer\n",
    "import os\n",
    "from __future__ import annotations\n",
    "\n",
    "import csv\n",
    "import os\n",
    "from contextlib import nullcontext\n",
    "from typing import TYPE_CHECKING\n",
    "\n",
    "import numpy as np\n",
    "from sklearn.metrics.pairwise import paired_cosine_distances, paired_euclidean_distances, paired_manhattan_distances\n",
    "\n",
    "from sentence_transformers.evaluation.SentenceEvaluator import SentenceEvaluator\n",
    "from sentence_transformers.readers import InputExample\n",
    "from sentence_transformers.similarity_functions import SimilarityFunction\n",
    "from sentence_transformers.SentenceTransformer import SentenceTransformer\n",
    "import gzip"
   ]
  },
  {
   "cell_type": "markdown",
   "metadata": {},
   "source": [
    "### Using an off the shelf open source dataset here. You can replace with your own dataset (Transformers Dataset Format) with columns,\n",
    "### Anchor, Positive, Negative in that sequence"
   ]
  },
  {
   "cell_type": "code",
   "execution_count": 2,
   "metadata": {},
   "outputs": [],
   "source": [
    "# Format Data with columns names: 'anchor', 'positive', 'negative'"
   ]
  },
  {
   "cell_type": "code",
   "execution_count": 2,
   "metadata": {},
   "outputs": [
    {
     "name": "stderr",
     "output_type": "stream",
     "text": [
      "6999it [00:01, 5566.00it/s]\n"
     ]
    }
   ],
   "source": [
    "# Replace this with your train, eval, test datasets\n",
    "\n",
    "dataset = load_dataset(\"tomaarsen/gooaq-hard-negatives\", \"triplet-all\", split=\"train\", streaming=True, cache_dir=\"D:/temp\")\n",
    "\n",
    "number_samples = 7000\n",
    "count = 0\n",
    "train_data_samples = []\n",
    "valid_data_samples = []\n",
    "test_data_samples = []\n",
    "\n",
    "for i in tqdm(dataset):\n",
    "    if count >= 5000 and count < 6000:\n",
    "        valid_data_samples.append(i)\n",
    "    if count >= 6000:\n",
    "        test_data_samples.append(i)\n",
    "    if count < 5000:\n",
    "        train_data_samples.append(i)\n",
    "    count += 1\n",
    "    if count == number_samples:\n",
    "        break\n",
    "\n",
    "train_data = Dataset.from_list(train_data_samples)\n",
    "valid_data = Dataset.from_list(valid_data_samples)\n",
    "test_data = Dataset.from_list(test_data_samples)"
   ]
  },
  {
   "cell_type": "code",
   "execution_count": 2,
   "metadata": {},
   "outputs": [],
   "source": [
    "train_data = load_from_disk(\"D:/embeddings_gooaq_subset/train\")\n",
    "valid_data = load_from_disk(\"D:/embeddings_gooaq_subset/valid\")\n",
    "test_data = load_from_disk(\"D:/embeddings_gooaq_subset/test\")"
   ]
  },
  {
   "cell_type": "code",
   "execution_count": 3,
   "metadata": {},
   "outputs": [
    {
     "data": {
      "text/plain": [
       "(88194, 4924, 4893)"
      ]
     },
     "execution_count": 3,
     "metadata": {},
     "output_type": "execute_result"
    }
   ],
   "source": [
    "len(train_data), len(valid_data), len(test_data)"
   ]
  },
  {
   "cell_type": "code",
   "execution_count": 4,
   "metadata": {},
   "outputs": [],
   "source": [
    "def get_unique_texts(train_data, valid_data=None, test_data=None):\n",
    "    unique_texts = set()\n",
    "    \n",
    "    unique_texts.update(train_data['anchor'])\n",
    "    unique_texts.update(train_data['positive'])\n",
    "    unique_texts.update(train_data['negative'])\n",
    "\n",
    "    if valid_data is not None:\n",
    "        unique_texts.update(valid_data['anchor'])\n",
    "        unique_texts.update(valid_data['positive'])\n",
    "        unique_texts.update(valid_data['negative'])\n",
    "\n",
    "    if test_data is not None:\n",
    "        unique_texts.update(test_data['anchor'])\n",
    "        unique_texts.update(test_data['positive'])\n",
    "        unique_texts.update(test_data['negative'])\n",
    "    \n",
    "    return list(unique_texts)"
   ]
  },
  {
   "cell_type": "code",
   "execution_count": 5,
   "metadata": {},
   "outputs": [],
   "source": [
    "unique_texts = get_unique_texts(train_data, valid_data, test_data)"
   ]
  },
  {
   "cell_type": "code",
   "execution_count": 6,
   "metadata": {},
   "outputs": [
    {
     "data": {
      "text/plain": [
       "113767"
      ]
     },
     "execution_count": 6,
     "metadata": {},
     "output_type": "execute_result"
    }
   ],
   "source": [
    "len(unique_texts)"
   ]
  },
  {
   "cell_type": "markdown",
   "metadata": {},
   "source": [
    "### Loading an Open Source Model Here to create Embedding, Replace this with a Closed source model endpoint to get the embeddings"
   ]
  },
  {
   "cell_type": "code",
   "execution_count": 7,
   "metadata": {},
   "outputs": [],
   "source": [
    "from sentence_transformers import SentenceTransformer\n",
    "sentences = [\"Hello\", \"I am Osama\"]\n",
    "model = SentenceTransformer('tomaarsen/mpnet-base-nli-matryoshka')"
   ]
  },
  {
   "cell_type": "code",
   "execution_count": 8,
   "metadata": {},
   "outputs": [
    {
     "data": {
      "text/plain": [
       "array([[-0.03840512, -0.02365682, -0.01091154, ...,  0.05426791,\n",
       "        -0.01852449, -0.03838428],\n",
       "       [-0.02164984, -0.01609711,  0.01288171, ..., -0.01077557,\n",
       "        -0.02442665,  0.02066883]], dtype=float32)"
      ]
     },
     "execution_count": 8,
     "metadata": {},
     "output_type": "execute_result"
    }
   ],
   "source": [
    "embeddings_1 = model.encode(sentences, normalize_embeddings=True)\n",
    "embeddings_1"
   ]
  },
  {
   "cell_type": "code",
   "execution_count": 9,
   "metadata": {},
   "outputs": [
    {
     "name": "stderr",
     "output_type": "stream",
     "text": [
      "100%|██████████| 114/114 [09:47<00:00,  5.16s/it]\n"
     ]
    }
   ],
   "source": [
    "# We get the embeddings of all the texts and save them. This is so that we dont compute them everytime from the closed source model, when we are training\n",
    "dict_embeddings = {}\n",
    "batch_size = 1000\n",
    "\n",
    "for batch in tqdm(range(0, len(unique_texts), batch_size)):\n",
    "    list_embeddings = model.encode(unique_texts[batch : batch + batch_size])\n",
    "    for idx, u_t in enumerate(unique_texts[batch : batch + batch_size]):\n",
    "        dict_embeddings[u_t] = list_embeddings[idx].tolist()"
   ]
  },
  {
   "cell_type": "code",
   "execution_count": 16,
   "metadata": {},
   "outputs": [],
   "source": [
    "output_file = 'D:/closed_model_embeddings.json.gz'\n",
    "\n",
    "# Save as compressed JSON\n",
    "with gzip.open(output_file, 'wt', encoding='utf-8') as f:\n",
    "    json.dump(dict_embeddings, f)"
   ]
  },
  {
   "cell_type": "code",
   "execution_count": null,
   "metadata": {},
   "outputs": [],
   "source": [
    "with gzip.open('D:/closed_model_embeddings.json.gz', 'rt', encoding='utf-8') as f:\n",
    "    dict_embeddings = json.load(f)"
   ]
  },
  {
   "cell_type": "code",
   "execution_count": 10,
   "metadata": {},
   "outputs": [
    {
     "data": {
      "text/plain": [
       "113767"
      ]
     },
     "execution_count": 10,
     "metadata": {},
     "output_type": "execute_result"
    }
   ],
   "source": [
    "len(dict_embeddings)"
   ]
  },
  {
   "cell_type": "markdown",
   "metadata": {},
   "source": [
    "### Dataset Formatting"
   ]
  },
  {
   "cell_type": "code",
   "execution_count": 11,
   "metadata": {},
   "outputs": [],
   "source": [
    "class SetEpochMixin:\n",
    "    \"\"\"\n",
    "    Required for a BatchSampler as the Trainer will call set_epoch on the BatchSampler at the beginning of each epoch.\n",
    "    The BatchSampler can then set the generator seed accordingly.\n",
    "    \"\"\"\n",
    "\n",
    "    def __init__(self, *args, **kwargs) -> None:\n",
    "        super().__init__(*args, **kwargs)\n",
    "\n",
    "        self.epoch = 0\n",
    "\n",
    "    def set_epoch(self, epoch: int) -> None:\n",
    "        self.epoch = epoch\n",
    "\n",
    "class NoDuplicatesBatchSampler(SetEpochMixin, BatchSampler):\n",
    "    def __init__(\n",
    "        self,\n",
    "        dataset: Dataset,\n",
    "        batch_size: int,\n",
    "        drop_last: bool,\n",
    "        valid_label_columns: list[str] = [],\n",
    "        generator: torch.Generator = None,\n",
    "        seed: int = 0,\n",
    "    ) -> None:\n",
    "        \"\"\"\n",
    "        This sampler creates batches such that each batch contains samples where the values are unique,\n",
    "        even across columns. This is useful when losses consider other samples in a batch to be in-batch\n",
    "        negatives, and you want to ensure that the negatives are not duplicates of the anchor/positive sample.\n",
    "\n",
    "        Recommended for:\n",
    "            - :class:`~sentence_transformers.losses.MultipleNegativesRankingLoss`\n",
    "            - :class:`~sentence_transformers.losses.CachedMultipleNegativesRankingLoss`\n",
    "            - :class:`~sentence_transformers.losses.MultipleNegativesSymmetricRankingLoss`\n",
    "            - :class:`~sentence_transformers.losses.CachedMultipleNegativesSymmetricRankingLoss`\n",
    "            - :class:`~sentence_transformers.losses.MegaBatchMarginLoss`\n",
    "            - :class:`~sentence_transformers.losses.GISTEmbedLoss`\n",
    "            - :class:`~sentence_transformers.losses.CachedGISTEmbedLoss`\n",
    "\n",
    "        Args:\n",
    "            dataset (Dataset): The dataset to sample from.\n",
    "            batch_size (int): Number of samples per batch.\n",
    "            drop_last (bool): If True, drop the last incomplete batch if the dataset size\n",
    "                is not divisible by the batch size.\n",
    "            valid_label_columns (List[str]): List of column names to check for labels.\n",
    "                The first column name from ``valid_label_columns`` found in the dataset will\n",
    "                be used as the label column.\n",
    "            generator (torch.Generator, optional): Optional random number generator for shuffling\n",
    "                the indices.\n",
    "            seed (int, optional): Seed for the random number generator to ensure reproducibility.\n",
    "        \"\"\"\n",
    "        super().__init__(dataset, batch_size, drop_last)\n",
    "        if label_columns := set(dataset.column_names) & (set(valid_label_columns) | {\"dataset_name\"}):\n",
    "            dataset = dataset.remove_columns(label_columns)\n",
    "        self.dataset = dataset\n",
    "        self.batch_size = batch_size\n",
    "        self.drop_last = drop_last\n",
    "        self.generator = generator\n",
    "        self.seed = seed\n",
    "\n",
    "    def __iter__(self) -> Iterator[list[int]]:\n",
    "        \"\"\"\n",
    "        Iterate over the remaining non-yielded indices. For each index, check if the sample values are already in the\n",
    "        batch. If not, add the sample values to the batch keep going until the batch is full. If the batch is full, yield\n",
    "        the batch indices and continue with the next batch.\n",
    "        \"\"\"\n",
    "        if self.generator and self.seed:\n",
    "            self.generator.manual_seed(self.seed + self.epoch)\n",
    "\n",
    "        remaining_indices = set(torch.randperm(len(self.dataset), generator=self.generator).tolist())\n",
    "        while remaining_indices:\n",
    "            batch_values = set()\n",
    "            batch_indices = []\n",
    "            for index in remaining_indices:\n",
    "                sample_values = set(self.dataset[index].values())\n",
    "                if sample_values & batch_values:\n",
    "                    continue\n",
    "\n",
    "                batch_indices.append(index)\n",
    "                if len(batch_indices) == self.batch_size:\n",
    "                    yield batch_indices\n",
    "                    break\n",
    "\n",
    "                batch_values.update(sample_values)\n",
    "\n",
    "            else:\n",
    "                # NOTE: some indices might still have been ignored here\n",
    "                if not self.drop_last:\n",
    "                    yield batch_indices\n",
    "\n",
    "            remaining_indices -= set(batch_indices)\n",
    "\n",
    "    def __len__(self) -> int:\n",
    "        if self.drop_last:\n",
    "            return len(self.dataset) // self.batch_size\n",
    "        else:\n",
    "            return (len(self.dataset) + self.batch_size - 1) // self.batch_size"
   ]
  },
  {
   "cell_type": "code",
   "execution_count": 12,
   "metadata": {},
   "outputs": [],
   "source": [
    "sampler = NoDuplicatesBatchSampler(train_data, 100, False, generator=torch.Generator())\n",
    "dataloader_params = {}\n",
    "dataloader_params[\"batch_sampler\"] = sampler\n",
    "train_dl = DataLoader(train_data, **dataloader_params)"
   ]
  },
  {
   "cell_type": "code",
   "execution_count": 13,
   "metadata": {},
   "outputs": [
    {
     "data": {
      "text/plain": [
       "{'anchor': ['is toprol xl the same as metoprolol?',\n",
       "  'are you experienced cd steve hoffman?',\n",
       "  'how are babushka dolls made?',\n",
       "  'are eyes always the same size?',\n",
       "  'how long do you have to wait to apply for cerb?',\n",
       "  'what is the volkswagen commercial song?',\n",
       "  'what does it mean when it says your internet connection is unstable?',\n",
       "  '3 what does this symbol mean?',\n",
       "  'what is the difference between joint ligament and tendon?',\n",
       "  'are equilateral triangles always equiangular?',\n",
       "  'how to fix an error occurred while reconnecting z?',\n",
       "  'do the alps always have snow?',\n",
       "  'is focalin safer than adderall?',\n",
       "  '6 mg is how many milliliters?',\n",
       "  'are pyle tvs any good?',\n",
       "  'how many moles of co2 are produced when 5.45 mol of ethane are burned?',\n",
       "  'what are the requirements to become a health inspector?',\n",
       "  'ring is turning finger black?',\n",
       "  'can not drinking enough water cause preterm labor?',\n",
       "  'are bent over rows safe?',\n",
       "  'is himalayan pink salt dyed?',\n",
       "  'is corn silk used for?',\n",
       "  'home ac is leaking water?',\n",
       "  'is teva an american company?',\n",
       "  'how do you heal a zombie villager?',\n",
       "  'what is the idiomatic expression of a piece of cake?',\n",
       "  'what is dependent care flexible spending account - contribution?',\n",
       "  'are pvcs something to worry about?',\n",
       "  'is widener university division 1?',\n",
       "  'what are the economic consequences of covid 19?',\n",
       "  'how many days can i drive my car without mot?',\n",
       "  'how much does it cost to advertise a product on facebook?',\n",
       "  'are worms and ants closely related?',\n",
       "  'how does species richness affect an ecosystem?',\n",
       "  'what do i do if i lost my drivers license uk?',\n",
       "  'what major events happened in romeo and juliet?',\n",
       "  'are dogs brains similar to humans?',\n",
       "  'are performance enhancing drugs ethical?',\n",
       "  'is macrame hard to learn?',\n",
       "  'what is the difference between foster care and orphanage?',\n",
       "  'who is imf chief economist?',\n",
       "  'are fajitas mexican or american?',\n",
       "  'are there any female orthopedic surgeons?',\n",
       "  'egg yolks are a good food source for?',\n",
       "  'are congruent triangles also similar?',\n",
       "  'what does it mean when after you eat you feel like throwing up?',\n",
       "  'can omeprazole raise liver enzymes?',\n",
       "  'is it possible to get a false negative flu test?',\n",
       "  'is it safe to get pregnant with ovarian cysts?',\n",
       "  'are seals good to eat?',\n",
       "  'do tics ever go away?',\n",
       "  'what is the single most important objective when having a web presence?',\n",
       "  'are five guys fries healthy?',\n",
       "  'what tyre pressure for golf r?',\n",
       "  'what food can you eat to make your skin lighter?',\n",
       "  'what does it mean when a guy asks for a picture of you?',\n",
       "  'are bean sprouts low fodmap?',\n",
       "  'what is the difference between antibiotics and probiotics?',\n",
       "  'what ions are present in molten lead bromide?',\n",
       "  'how to change a pdf document back to word?',\n",
       "  'what is the difference between a network address and a broadcast address?',\n",
       "  'ct is getting married mtv?',\n",
       "  'are fences required around pools?',\n",
       "  'terminology is the only difference between ics and ims?',\n",
       "  'are lyft drivers allowed to talk on the phone?',\n",
       "  'how long does it take to get ready for bikini competition?',\n",
       "  'are andes creme de menthe gluten free?',\n",
       "  'what are underlying shares of stock?',\n",
       "  'what can you do with a computer science masters?',\n",
       "  'what is the latin root for cent?',\n",
       "  'is wyrd in the dictionary?',\n",
       "  'what is the difference between compliance and internal audit?',\n",
       "  'how do i change my name at the va?',\n",
       "  'do siblings have the same mitochondrial dna?',\n",
       "  'are eaa pistols any good?',\n",
       "  'how many times a day do you feed lambs?',\n",
       "  'how long does it take for nails to grow an inch?',\n",
       "  'what is the difference between a static and a dynamic web server?',\n",
       "  'are chameleons hard to care for?',\n",
       "  'why have lte on apple watch?',\n",
       "  'how many chromosomes are in anaphase 2?',\n",
       "  'are yetis tameable in ark?',\n",
       "  'does ups ship on saturday?',\n",
       "  'can you lay a fridge down to transport it?',\n",
       "  'do shudder attacks go away?',\n",
       "  'are you more introvert or extrovert?',\n",
       "  'what is the basic pass requirements for a national senior certificate diploma?',\n",
       "  'is jnu good for mba?',\n",
       "  'what is the difference between catholic bible and christian?',\n",
       "  'is tipping customary in panama?',\n",
       "  'how are sip panels made?',\n",
       "  'can wma files be converted to mp3?',\n",
       "  'are lapsi and dalia the same?',\n",
       "  'what is one significant difference between transcription and dna replication?',\n",
       "  'what was the unemployment rate in november 2016?',\n",
       "  'is c the cup size?',\n",
       "  'are saje essential oils organic?',\n",
       "  'what is the relationship between population and economic development?',\n",
       "  'is uk driving license valid in turkey?',\n",
       "  'do ilu spoznia sie okres?'],\n",
       " 'positive': ['metoprolol succinate is also known by the brand name toprol xl. it is the extended-release form of metoprolol. metoprolol succinate is approved to treat high blood pressure, chronic chest pain, and congestive heart failure.',\n",
       "  \"the are you experienced album was apparently mastered from the original stereo uk master tapes (according to steve hoffman - one of the very few who has heard both the master tapes and the cds produced over the years). ... the cd booklets were a little sparse, but at least they stayed true to the album's original design.\",\n",
       "  'matryoshka dolls are made of wood from lime, balsa, alder, aspen, and birch trees; lime is probably the most common wood type. ... after cutting, the trees are stripped of most of their bark, although a few inner rings of bark are left to bind the wood and keep it from splitting.',\n",
       "  'the eyes are always the same size from birth to death. baby eyes are proportionally larger than adult eyes, but they are still smaller.',\n",
       "  're-apply for the cerb if you continue to meet the eligibility criteria, you may re-apply every 4 weeks, up to a maximum of 6 periods (or 24 weeks in total). this means you can re-apply up to 5 times. the periods do not have to be consecutive.',\n",
       "  \"this latest volkswagen tiguan commercial song is a tune called 'turn around, look at me' that was originally recorded by singer glen campbell. the version playing in this vw advert though is a cover recorded by pennsylvania vocal group the vogues.\",\n",
       "  'unstable wi-fi is often caused by wireless congestion. congestion problems are common in apartment complexes or densely packed neighborhoods. the more people using the internet, the greater the instability. when many people in the same area are working from home, connectivity suffers.',\n",
       "  'the definition of <3 is \"love (heart shape)\" the meaning of <3. <3 means \"love (heart shape)\" so now you know - <3. means \"love (heart shape)\" - don\\'t thank us.!',\n",
       "  'ligament - a small band of dense, white, fibrous elastic tissue. ligaments connect the ends of bones together in order to form a joint. tendon - a tough, flexible band of fibrous connective tissue that connects muscles to bones.',\n",
       "  'equilateral triangle. ... in the familiar euclidean geometry, an equilateral triangle is also equiangular; that is, all three internal angles are also congruent to each other and are each 60°. it is also a regular polygon, so it is also referred to as a regular triangle.',\n",
       "  '[\"open file explorer\\', go to \\'this pc\\'. check the status of the network drive. [00:11]\", \\'an error occurred while reconnecting or mapping drive letter z: to network folder. [00:36]\\', \\'you can do either connect the drive (map network drive) or disconnect network drive. [01:01]\\', \\'disconnect network drive by this way. [01:28]\\']',\n",
       "  'on the higher parts of lofty mountains in the alps more snow falls in each year than melts. ... beds of snow commonly alternate with exposed slopes covered with brilliant vegetation without an obvious boundary of perpetual snow.',\n",
       "  'both have a high potential for abuse and dependence, although the risk may be perceived as higher with adderall because it is more popular; however, this does not mean focalin is less likely to cause tolerance or dependence. adderall ir has more dosage options than focalin ir, although focalin ir is usually cheaper.',\n",
       "  'how many ml is 6 mg? after converting 6 mg in ml, the answer will be 0.006 ml.',\n",
       "  'the price was right, the size was right and as it turns out this pyle tv has the best picture quality of all 5 tvs that our family watches! the setup was super easy with no hassle. i would recommend it to anyone!',\n",
       "  'according to the reaction: 2 mol of c2h6 produce 4 mol of co2 5.70 mol of c2h6 ‒ x moles of co2 so, number of moles of co2 produced by combustion of 5.70 mol of ethane equals: answer: n(co2) = 11.4 mol.',\n",
       "  \"you'll need an accredited health and safety qualification to become a health and safety inspector. many recruiters ask for a nebosh diploma as it's accredited by the institution of occupational health and safety. this is a degree-level course that you can study at a variety of institutions, as well as online.\",\n",
       "  'the most common reason your finger gets discolored when wearing a gold ring is. this is caused by makeup, or other cosmetics, on the skin. cosmetics contain compounds that are harder than the gold (remember gold is soft). ... another reason that that your finger may discolor is corrosion of the metals in your ring.',\n",
       "  \"dehydration can lead to lower levels of amniotic fluid, which can influence the baby's development, lead to preterm labor, and can affect the production of breast milk.\",\n",
       "  \"heavy bent-over rows are an effective back mass-building exercise. the biggest danger when performing heavy bent-over rows is rounding your lower back. attempting to support a heavy load with a rounded lower back can cause serious injury. ... pull the bar up and into your abdomen and then lower it back to arms' length.\",\n",
       "  'what is pink himalayan salt? pink himalayan salt is a pink-colored salt extracted from the khewra salt mine, which is located near the himalayas in pakistan. the khewra salt mine is one of the oldest and largest salt mines in the world.',\n",
       "  'corn silk is used for bladder infections, inflammation of the urinary system, inflammation of the prostate, kidney stones, and bedwetting. it is also used to treat congestive heart failure, diabetes, high blood pressure, fatigue, and high cholesterol levels.',\n",
       "  \"cause 1: clogged condensate drain line a clogged condensate drain line is the most common cause of water leaking from your ac into your home. if the drain line gets clogged with dust, dirt, sludge or mold, that water backs up into your home. in that case, you'll need to unclog it.\",\n",
       "  '(hebrew: טבע תעשיות פרמצבטיות בע\"מ), also known as teva pharmaceuticals, is an american israeli pharmaceutical company with dual headquarters in petah tikva, israel (global) and parsippany, new jersey, u.s. (commercial).',\n",
       "  '3. you can cure a zombie villager of its zombification by throwing a splash potion of weakness at it, then feeding it a golden apple.',\n",
       "  'the saying \"a piece of cake\" means something that\\'s simple to accomplish. if a school assignment is a piece of cake, it\\'s so easy that you will barely have to think about it. other ways to say \"it\\'s a piece of cake\" include no problem or it\\'s a breeze.',\n",
       "  'a dependent care flexible spending account, or “fsa,” is a pre-tax benefit account used to pay for dependent care services while you are at work. the money you contribute to a dependent care fsa is not subject to payroll taxes, so you end up paying less in taxes and taking home more of your paycheck.',\n",
       "  \"pvcs become more of a concern if they happen frequently. “if more than 10% to 15% of a person's heartbeats in 24 hours are pvcs, that's excessive,” bentz said. the more pvcs occur, the more they can potentially cause a condition called cardiomyopathy (a weakened heart muscle).\",\n",
       "  'widener competes at the ncaa division iii intercollegiate level in the middle atlantic conference.',\n",
       "  'the covid-19 pandemic has caused direct impacts on income due to premature deaths, workplace absenteeism, and reduction in productivity and has created a negative supply shock, with manufacturing productive activity slowing down due to global supply chain disruptions and closures of factories.',\n",
       "  \"if your car fails its mot you can only continue to drive it if the previous year's mot is still valid - which might occur if you submitted the car for its test two weeks early. you can still drive it away from the testing centre or garage if no 'dangerous' problems were identified during the mot.\",\n",
       "  \"fortunately, i've got a baseline for you to start from: if you're measuring cost per click (cpc) facebook advertising costs on average about $0.27 per click. if you're measuring cost per thousand impressions (cpm), facebook advertising costs about $7.19 cpm (hootsuite).\",\n",
       "  'worms and ants are more related because spiders contain hair and ants do not. worms do not contain hair as well.',\n",
       "  'increased species richness does not always cause increased ecosystem function. instead, richness can influence individual species with positive or negative ecosystem effects. ... it is also diluted from species-poor communities, allowing yeasts with lower functional impacts to dominate.',\n",
       "  'if you lose your driving licence or it gets stolen, damaged or destroyed you will need to apply for a replacement. you can apply for a replacement driving licence with the dvla, by visiting the www.gov.uk website and completing their online application process.',\n",
       "  '[\\'the scene is set (act 1 scene 1) ... \\', \\'the lovers meet for the first time (act 1 scene 4) ... \\', \\'romeo risks death to meet juliet again (act 2 scene 1) ... \\', \\'the wedding is held in secret (act 2 scene 5) ... \\', \"romeo angrily kills juliet\\'s cousin, tybalt (act 3 scene 1)\"]',\n",
       "  'with dogs and humans, we may see psychological convergence; that is, dogs have evolved to be cognitively more similar to humans than we are to our closest genetic relatives. ... research suggests that domestic dogs may have lost some of their original cognitive abilities once they joined humans.',\n",
       "  'drugs are different the committee takes the view that performance enhancing drugs should be banned because they can potentially damage the health of those taking them, whether they are elite athletes who stand the risk of being detected using them, or the recreational sportsperson who is unlikely ever to be tested.',\n",
       "  'macrame patterns and knots are an easy and affordable craft to learn. it requires very few tools and just some simple knowledge of basic knots.',\n",
       "  'the answers may surprise you. one distinct difference between orphanages and foster care is that modern day orphanages no longer exist in the united states, though they continue to be used in many countries around the world. in the united states, foster care and domestic adoption have taken the place of orphanages.',\n",
       "  'gita gopinath is the john zwaanstra professor of international studies and of economics at harvard university. she is currently on leave of public service from the economics department to serve as the chief economist of the international monetary fund (imf).',\n",
       "  'fajita is a tex-mex, texan-mexican american or tejano, diminutive term for little strips of meat cut from the beef skirt, the most common cut used to make fajitas. the word fajita is not known to have appeared in print until 1971, according to the oxford english dictionary.',\n",
       "  'women make up just 5% of the active physicians in orthopedic surgery, according to a 2015 report from the association of american medical colleges. the percentage is likely to rise, but only marginally, with data showing that about 14% of orthopedic residents are women.',\n",
       "  'eggs are rich sources of selenium, vitamin d, b6, b12 and minerals such as zinc, iron and copper. egg yolks contain more calories and fat than the whites. they are a source of fat-soluble vitamins a, d, e and k and lecithin, the compound that enables emulsification in recipes such as hollandaise or mayonnaise.',\n",
       "  'if two pairs of corresponding angles in a pair of triangles are congruent, then the triangles are similar. we know this because if two angle pairs are the same, then the third pair must also be equal. when the three angle pairs are all equal, the three pairs of sides must also be in proportion.',\n",
       "  'when appearing shortly after a meal, nausea or vomiting may be caused by food poisoning, gastritis (inflammation of the stomach lining), an ulcer, or bulimia. nausea or vomiting one to eight hours after a meal may also indicate food poisoning.',\n",
       "  'omeprazole and esomeprazole therapy are both associated with a low rate of transient and asymptomatic serum aminotransferase elevations and are rare causes of clinically apparent liver injury.',\n",
       "  'this variation in ability to detect viruses can result in some people who are infected with the flu having a negative rapid test result. (this situation is called a false negative test result.)',\n",
       "  \"having a cyst on an ovary does not usually affect one's chances of becoming pregnant, which is why doctors will typically only investigate further if a couple has been trying to conceive naturally through regular intercourse for a year, but have not yet been successful in falling pregnant.\",\n",
       "  'seal meat is the flesh, including the blubber and organs, of seals used as food for humans or other animals. it is prepared in numerous ways, often being hung and dried before consumption. historically, it has been eaten in many parts of the world, both as a part of a normal diet, and as sustenance.',\n",
       "  'will my tics go away? many children who have chronic tics do outgrow them. about half of children with chronic tic disorder outgrow tics by early adulthood, and most of those who still have tics will notice a decrease in the severity of the tics.',\n",
       "  'the main objectives for establishing an online presence are: promoting a service or product online. selling a service or product. providing product support or customer service. providing corporate information.',\n",
       "  'five guys may have some of the tastiest french fries, but they are also the unhealthiest in america. one small serving of fries contains 526 calories. a large serving contains 1,314 calories, which is more than half the average recommended amount for an entire day.',\n",
       "  'this tyre placard recommends a minimum tyre pressure of 38psi for the 2019 volkswagen golf. this is equal to 260 kpa and 2.6 bar.',\n",
       "  '[\\'lemon. lemon is packed with vitamin c, vitamin b and phosphorous. ... \\', \"kale. kale may be the king of all greens, but it\\'s certainly the queen of beauty too. ... \", \\'potato. potato works well as a natural bleaching agent and hence can be used for skin lightening. ... \\', \\'orange. ... \\', \\'avocado. ... \\', \\'tomato. ... \\', \\'beetroot. ... \\', \\'carrot.\\']',\n",
       "  'he wants to confirm if he is talking to priya or angel priya (i.e., if he is really talking to a girl or just a guy with fake profile) they are talking to you and want to see how you look. i found it normal but would say, be careful about whom do you share your picture with as they might misuse it. i hate this one.',\n",
       "  'low-fodmap vegetables include: bean sprouts, capsicum, carrot, choy sum, eggplant, kale, tomato, spinach and zucchini ( 7 , 8 ). summary: vegetables contain a diverse range of fodmaps. however, many vegetables are naturally low in fodmaps.',\n",
       "  'probiotics can help with digestion without probiotics, antibiotics can sometimes wipe out the protective gut bacteria, which is no good for your digestive system. probiotics are thought to directly kill or inhibit the growth of harmful bacteria, stopping them from producing toxic substances that can make you ill.',\n",
       "  'molten lead bromide, pbbr 2(l), is an electrolyte. during electrolysis: pb 2+ ions gain electrons at the cathode and become pb atoms. br - ions lose electrons at the anode and become br atoms, which pair up to form br 2 molecules.',\n",
       "  \"['open a pdf file in acrobat dc.', 'click on the “export pdf” tool in the right pane.', 'choose microsoft word as your export format, and then choose “word document.”', 'click “export.” if your pdf contains scanned text, the acrobat word converter will run text recognition automatically.']\",\n",
       "  'broadcast address is the last address in the network, and it is used for addressing all the nodes in the network at the same time. it means that ip packet, where the destination address is broadcast address, is sent to all nodes of the ip network.',\n",
       "  \"the challenge champ and fan favorite is getting his very own two-part wedding special, people can exclusively reveal. the challenge: c.t.'s getting married will follow the 38-year-old all-star's nuptials to lilianet solares, 26, the mother of his two-year-old son cj, which took place on sept. 8 in florida.\",\n",
       "  'fencing – in almost all cases, public-use pools are required to have some kind of fencing around the pool. states, cities, and counties usually specify exactly what is required of these fences in terms of material, spacing, gates, locks, and more.',\n",
       "  'q#4: what is the difference between ims and ics? ... ims expands upon ics by incorporating into a single system the function of multi-agency coordination system (macs) principles at the site level and within the eoc (rather than having two separate entities as per ics), for use at all levels of response.',\n",
       "  \"and you are correct, there is nothing explicit in lyft's (to my knowledge) terms of service that says you can not talk on the phone while driving a lyft passenger, nor do they say you can't fart...\",\n",
       "  \"preparing for a competition takes about three to five months, depending on how in shape you are. taylor says if you're already in good shape, working out three to five times per week, it should take about 12 weeks. if you're not, you're looking more at 20 weeks.\",\n",
       "  'andes mints are gluten-free! creme de menthe (original)',\n",
       "  'underlying shares means the shares of common stock issued and issuable upon conversion of the preferred stock, upon exercise of the warrants and issued and issuable in lieu of the cash payment of dividends on the preferred stock in accordance with the terms of the certificate of designation.',\n",
       "  \"['1) computer and information systems managers.', '2) computer and information research scientists.', '3) computer network architects.', '4) software development engineer.', '5) software developers.', '6) information security analysts.', '8) computer systems analysts.']\",\n",
       "  'the latin root word “cent” which means “one hundred” and the prefix centi- which means “one-hundredth” are both important morphemes in the english language. some examples of words that derive from both this word root and prefix include percent, cent, centiliter, and centigram.',\n",
       "  'wyrd. fate, destiny, particular in an anglo-saxon or norse context.',\n",
       "  'a compliance function is responsible to monitor specific risks such as noncompliance with applicable laws and regulations. internal audit provides the assurance on the effectiveness of governance, risk management, and internal controls.',\n",
       "  \"name. veterans may change their names in the va databases (national and local healthcare facility) by forwarding a letter request with a certified copy of the court ordered name change to both the regional va office that holds one's records and one's primary healthcare facility.\",\n",
       "  'mitochondrial dna carries characteristics inherited from a mother in both male and female offspring. thus, siblings from the same mother have the same mitochondrial dna. in fact, any two people will have an identical mitochondrial dna sequence if they are related by an unbroken maternal lineage.',\n",
       "  \"because the pistols were designed using the cz as a platform, they are very ergonomic and streamlined. ... similar to the cz, the eaa witness can be fired in double or single-action mode. the trigger, especially set in double-action, breaks at a very heavy 13 pounds, but it's a pretty smooth operator.\",\n",
       "  'for the first 24 hours after receiving the colostrum, lambs should be fed 140 milliliters every four hours. after this, feed your lamb 200 milliliters four times a day. your lamb should still be fed about every four hours.',\n",
       "  'the simple answer is that fingernails grow about one-tenth of an inch (3 millimeters) a month. if you lose a fingernail, it will take four to six months to regrow completely. toenails take a year to a year and a half to grow from cuticle to tip [source: robb-nicholson].',\n",
       "  'static websites are ones that are fixed and display the same content for every user, usually written exclusively in html. a dynamic website, on the other hand, is one that can display different content and provide user interaction, by making use of advanced programming and databases in addition to html.',\n",
       "  \"it's easy to see why people find chameleons fascinating and want to keep them as pets. a word of caution, though – chameleons are very difficult to maintain and inexperienced reptile owners should not start with this reptile. having said that, they are also not the most difficult exotic pet to take care of.\",\n",
       "  \"carrier restrictions the gps + cellular apple watch comes with lte connectivity, which allows you to piggyback off your current carrier plan (for an additional monthly fee, usually around $10) and get internet and phone connectivity even when your iphone is far away. ... if you're on at&t, your apple watch has to be, too.\",\n",
       "  'in anaphase ii, the sister chromatids present at the end of meiosis i are separated into 23 individual chromosomes.',\n",
       "  \"yeti: you can only force tame me. tame a yeti using a forcetame command! yes, that's the only way to tame it. ... yetis can't be tamed!\",\n",
       "  'note: for saturday delivery, you must affix a saturday delivery sticker to each shipment. with some services, saturday delivery of a ups returns shipment is available in the united states only.',\n",
       "  \"it's best to keep your refrigerator in an upright position for the entire move, no matter what its size. this is because putting a fridge down on its side can cause damage to the refrigerator compressor and keep it from doing its job. the compressor is filled with oil that is held in place by gravity.\",\n",
       "  'once the diagnosis is confirmed, no further testing or treatment is needed. these sorts of shudders usually stop within a few years, though even adults might occasionally feel a tingle down their spines once in a while.',\n",
       "  'you are shaped by both your genes and experiences. research shows that you were likely born an introvert or extrovert, and that preference will stick with you for life. introverts will probably always have a preference for calm and solitude, while extroverts will thrive in more stimulating environments.',\n",
       "  \"['must obtain at least 40% in your home language,', 'must obtain at least 40% in two other subjects,', 'must obtain at least 30% for four other subjects.', 'must past at least 6 out of 7 subjects.']\",\n",
       "  \"jnu isn't a great choice for pursuing mba as it doesn't rank even under the top 50 b-schools/universities in india. better to avoid it and look for other reputed colleges. jnu isn't a great choice for pursuing mba as it doesn't rank even under the top 50 b-schools/universities in india.\",\n",
       "  'for christians, the bible dictates faith. ... it is solely based on the holy scriptures considered the written “word of god.” the christian bible is all that is required by a christian to understand holiness and salvation if followed. catholic bible. in the catholic bible, the old testament is based on the septuagint.',\n",
       "  \"in panama tipping is a question of rewarding good service rather than an obligation. restaurant bills don't include gratuities; adding 10% is customary. bellhops and maids expect tips only in more expensive hotels, and $1–$2 per bag is the norm. you should also give a tip of up to $10 per day to tour guides.\",\n",
       "  'structural insulated panels (sips) are a high performance building system for residential and commercial construction. the panels consist of an insulating foam core sandwiched between two structural facings, typically oriented strand board (osb). sips are manufactured under factory controlled conditions.',\n",
       "  'first of all, you need to get a wma file from cd to your computer. insert cd and open it with windows media player, click on tools > options and select rip music tab. then specify the location you want to rip music to and choose mp3 as the format. after that, hit ok to proceed.',\n",
       "  'no. lapsi is a dessert, and dalia is a grain. dalia is a hindi name for broken or cracked wheat. and lapsi is a dessert made using dalia.',\n",
       "  'transcription copies the dna into rna, while replication makes another copy of dna. both processes involve the generation of a new molecule of nucleic acids, either dna or rna; however, the function of each process is very different, with one involved in gene expression and the other involved in cell division.',\n",
       "  'unemployment rate declines to 4.6 percent in november 2016. in november 2016, the unemployment rate decreased to 4.6 percent, a drop of 0.3 percentage point from the previous month. the number of people who were unemployed decreased to 7.4 million in november, a decline of 387,000 over the month.',\n",
       "  \"a c cup is three inches of breast tissue measured by comparing the size of the breasts with the band size. when the difference is three inches, what you have is a c cup. that's what size a c cup is. in truth, a c cup is not a bra size - it's the size of the cup itself.\",\n",
       "  'saje utilizes 100% natural ingredients (most are vegan), not tested on animals, made without synthetics, and sourced from sustainable farms all over the world and from certified organic sources wherever possible.',\n",
       "  'the relationship between economic growth and population growth. if population growth and per capita gdp growth are completely independent, higher population growth rates would clearly lead to higher economic growth rates.',\n",
       "  \"if you drive in turkey, you must have either an international driving permit or a notarised copy (in turkish) of your uk driving licence. if you stay in turkey continuously for more than 6 months, you must convert your uk driving licence into a turkish licence. ... don't drink and drive.\",\n",
       "  'ile może spóźniać się okres? prawidłowo przebiegająca menstruacja powinna pojawiać się cyklicznie co 25-35 dni i trwać od 3 do 8 dni. jeśli raz na jakiś czas następują wahania w którąś stronę o 2-3 dni, uważa się, że wszystko jest w normie, a okres jest regularny.'],\n",
       " 'negative': ['secondly, metoprolol and metoprolol er have different brand-name equivalents: brand version of metoprolol: lopressor. brand version of metoprolol er: toprol xl.',\n",
       "  \"i saw the light. showcasing the unique talent and musical influence of country-western artist hank williams, this candid biography also sheds light on the legacy of drug abuse and tormented relationships that contributes to the singer's legend.\",\n",
       "  'a quick scan of the auction and buy-it-now listings on ebay finds porcelain doll values ranging from around $5 and $10 to several thousand dollars or more but no dolls listed above $10,000.',\n",
       "  'is it normal to have pupils of different sizes? normally the size of the pupil is the same in each eye, with both eyes dilating or constricting together.',\n",
       "  'applicants can only receive $1,000 of income from employment during a four-week period while receiving the cerb. if you do earn more than $1,000 during a four-week period, you are not eligible for the cerb for this period.',\n",
       "  'volkswagen group sells passenger cars under the audi, bentley, bugatti, lamborghini, porsche, seat, škoda and the flagship volkswagen marques; motorcycles under the ducati brand; and traton (commercial vehicles, trucks, and buses) under the marques man, scania, and volkswagen commercial vehicles.',\n",
       "  'check for high-bandwidth background activities. devices updating and software downloading in the background can slow your internet connection. one of your devices could be updating without you knowing about it, so if your internet is slow, check your web-enabled devices.',\n",
       "  'the character \"⋮\". an ellipsis (three dots) vertically aligned. generally used to communicate the vertical continuation of a list.',\n",
       "  'tendons attach many skeletal muscles across joints, allowing muscle contraction to move the bones across the joint. muscles generally work in pairs to produce movement: when one muscle flexes (or contracts) the other relaxes, a process known as antagonism. ligaments and tendons of the arm and leg.',\n",
       "  \"in geometry, three or more than three straight lines (or segment of a line) make a polygon and an equilateral polygon is a polygon which has all sides of the same length. except in the triangle case, it doesn't need to be equiangular (doesn't need to have all angles equal), but if it does then it is a regular polygon.\",\n",
       "  'check internet connection sometimes this error will occur as a result of your web affiliation. ... so the easy fix would be to change your internet connection and try logging in again on another internet connection. in case you are using a wi-fi network, then turn off your router for 5 minutes and restart the connection.',\n",
       "  \"the alps are a long row of mountains dividing southern europe from northern europe. they formed about 34 to 23 million years ago. ... the himalayas are older than the alps, but they're younger than the rocky mountains.\",\n",
       "  'adderall mainly stimulates the sympathetic nervous system, which triggers the body\\'s \"fight or flight\" responses, such as pupil dilation, increased blood pressure and heart rate and increased sweating.',\n",
       "  'one milliliter (british spelling: millilitre) (ml) is 1/1000 of a liter and is a unit of volume. 1 milligram (mg) is 1/1000 of a gram and is a unit of mass/weight.',\n",
       "  \"the philips 6100 series (55-inch) 4k ultra slim smart led television is one of those products. ... however, one could easily argue that the pricing is just high enough for you to expect a no compromise tv. don't get us wrong, the television does bring good picture quality to the table.\",\n",
       "  '1 answer. the moles of carbon dioxide produced from 100 g methane is 6 moles.',\n",
       "  \"['4 or 5 gcses at grades 9 to 4 (a* to c), or equivalent, including english, maths and science.', '2 or 3 a levels, including a science, or a level 3 diploma or access to higher education in health, science or nursing.']\",\n",
       "  'western customs in western cultures, a wedding ring is traditionally worn on the fourth finger, commonly called the \"ring finger\". this developed from the roman anulus pronubis when a man would give a ring to the woman at their betrothal ceremony.',\n",
       "  \"during pregnancy, your baby is surrounded and cushioned by a fluid-filled membranous sac called the amniotic sac. typically, at the beginning of or during labor your membranes will rupture — also known as your water breaking. if your water breaks before labor starts, it's called prelabor rupture of membranes (prom).\",\n",
       "  \"this can occur during an auto accident, running over a curb, or even hitting a particularly deep pothole at higher speeds. the result is a bent axle. ... a badly bent axle will quickly cause damage to cv joints, and it's possible to damage your wheel hubs, bearings and other components.\",\n",
       "  'the thing: pink himalayan salt is made from rock crystals of salt that have been mined from areas close to the himalayas, often in pakistan. it gets its rosy hue from trace minerals in the salt, like magnesium, potassium and calcium.',\n",
       "  'baby corn (also known as young corn, cornlets or baby sweetcorn) is a cereal grain taken from corn (maize) harvested early while the stalks are still small and immature. it typically is eaten whole – cob included – in contrast to mature corn, whose cob is too tough for human consumption.',\n",
       "  \"there could be several factors causing your air conditioner to leak water, including: dirty air filters– when your ac air filter is dirty, partially blocked, or completely clogged, your air conditioner's evaporator coils are more likely to freeze up, causing excess water to overspill from the drain pan.\",\n",
       "  \"nice points> tc electronic is a company from denmark. it's ironic how americans insist on buying american made products or american companies, but yet their products are made in other countries.\",\n",
       "  \"['cut a bite wound.', 'attempt to suck out venom.', 'apply tourniquet, ice, or water.', 'give the person alcohol or caffeinated drinks or any other medications.']\",\n",
       "  'a piece (or slice) of the pie a share in an amount of money or business regarded as something to be divided up. a pillar of society, etc.',\n",
       "  \"a dependent care fsa (dcfsa) is a pre-tax benefit account used to pay for eligible dependent care services, such as preschool, summer day camp, before or after school programs, and child or adult daycare. it's a smart, simple way to save money while taking care of your loved ones so that you can continue to work.\",\n",
       "  \"pvc contains dangerous chemical additives including phthalates, lead, cadmium, and/or organotins, which can be toxic to your child's health. these toxic additives can leach out or evaporate into the air over time, posing unnecessary dangers to children.\",\n",
       "  'major differences between ncaa divisions division i schools also are the largest on average. division ii still offers scholarships, but they are rarer and smaller, and division ii schools typically have fewer athletic department funds and fewer sports teams than division i schools.',\n",
       "  'economic effects the hiv/aids pandemic has an impact on labour supply, through increased mortality and morbidity. this is compounded by loss of skills in key sectors of the labour market.',\n",
       "  'you cannot drive or park your vehicle on the road if the mot has run out. you can be prosecuted if caught. the only exceptions are to drive it: to or from somewhere to be repaired.',\n",
       "  'for instance, if you have 3,500 ad impressions and an ad cpm of $2.50, your earnings are $8.75. facebook will pay you monthly (on or around the 18th of the month). you need to make at least $100 in ad breaks revenue to receive the payout.',\n",
       "  'no, worms are not insects. ... both worms and insects are classified under the kingdom animalia. the animal kingdom is split into two groups: vertebrate, animals with a backbone, and invertebrate, animals without a backbone. both worms and insects are invertebrates.',\n",
       "  'healthy ecosystems clean our water, purify our air, maintain our soil, regulate the climate, recycle nutrients and provide us with food. ... biodiversity is the key indicator of the health of an ecosystem. a wide variety of species will cope better with threats than a limited number of them in large populations.',\n",
       "  \"if you have a passport or birth certificate, this is typically sufficient to get your lost license replaced. but, if you don't have an official form of id, you'll likely need several other documents with your signature, full name, address and picture.\",\n",
       "  'the death of romeo and juliet marks the end of the conflict between these two families. both families feel the pain of losing their own blood because of the conflict.',\n",
       "  'dogs, it turns out, have about twice the number of neurons in their cerebral cortexes than what cats have, which suggests they could be about twice as intelligent. this finding was provisionally accepted for publication and will soon publish in the journal frontiers in neuroanatomy.',\n",
       "  'the use of drugs by professional athletes has been a controversial topic for many years. athletes use performance enhancing drugs to excel in their sport giving them a leg up to other players. currently all players are tested once per year randomly, normally during the preseason according to sports-reference.com.',\n",
       "  'the short answer. lap steel guitar can be challenging but rewarding to learn. the most difficult aspect is mastering the slide technique, playing notes in the correct pitch while muting strings. ... also, understanding open tunings and learning the fretboard only using slide amongst other aspects.',\n",
       "  'there are no orphanages in the u.k. most children who may become orphaned have family or friends who can raise them. the few who cannot live with friends or family will be placed in foster care and possibly adopted.',\n",
       "  'the imf and the world bank. the international monetary fund (imf) and the world bank are institutions in the united nations system. they share the same goal of raising living standards in their member countries.',\n",
       "  'the first major difference between the two – besides the price – is the wood used for the bodies. while an american fender has a three piece body made of ash, its mexican equivalent is made either superior choice in wood and build. ... while the mexican variety comes with 21 frets the american fender tops it with 22.',\n",
       "  \"['anesthesiologists.', 'surgeons.', 'oral-maxillofacial surgeons.', 'obstetricians-gynecologists.', 'orthodontists.', 'psychiatrists.', 'physicians.', 'family-general practice doctors.']\",\n",
       "  \"compared to egg whites, the yolk contains most of an egg's good stuff, including the bulk of its iron, folate and vitamins. the yolks also contain two nutrients—lutein and zeaxanthin—that support eye and brain health.\",\n",
       "  'answer and explanation: no, all isosceles triangles are not similar. an isosceles triangle is a triangle with two sides of equal length.',\n",
       "  'the timing of the nausea or vomiting can indicate the cause. when appearing shortly after a meal, nausea or vomiting may be caused by food poisoning, gastritis (inflammation of the stomach lining), an ulcer, or bulimia. nausea or vomiting one to eight hours after a meal may also indicate food poisoning.',\n",
       "  \"omeprazole 20mg capsules are used to treat the following conditions: in adults: 'gastro-oesophageal reflux disease' (gord). this is where acid from the stomach escapes into the gullet (the tube which connects your throat to your stomach) causing pain, inflammation and heartburn.\",\n",
       "  \"a false negative test result occurs when the test shows negative and the person is really hiv positive. this is very rare and usually occurs during the window period when people are newly infected but the test can't quite pick up the infection. as with other types of tests, there is always be a small margin of error.\",\n",
       "  \"if you have been diagnosed with ovarian cysts and are trying to get pregnant, it's important to know that ovarian cysts don't typically cause problems with fertility.\",\n",
       "  'these monk seals are a conservation reliant endangered species. the small population of about 1,400 individuals is threatened by human encroachment, very low levels of genetic variation, entanglement in fishing nets, marine debris, disease, and past commercial hunting for skins.',\n",
       "  'warts and verrucas. warts and verrucas are small lumps on the skin that most people have at some point in their life. they usually go away on their own but may take months or even years.',\n",
       "  \"['self-disclosure. one of the fundamental findings researchers have made about computer-mediated communication is that users tend to disclose more about themselves more quickly when using this type of communication. ... ', 'immediacy. ... ', 'broader networks. ... ', 'long-distance relationships.']\",\n",
       "  'five guys? both are gluten free and both are fried in a fryer that is only used for the french fries---nothing else. the cajun style ones have the spices added after. when you ask them for something bunless, they will ask if it is an allergy/celiac.',\n",
       "  'ford fiesta comes with tyres of size 195/60 r15 for which the best tyre pressure would be 32 psi for more comfort and less mileage or 36 psi for a firmer but more fuel economic ride.',\n",
       "  \"['well-cooked or canned vegetables without seeds or skins.', 'carrots.', 'beets.', 'asparagus tips.', 'white potatoes without skin.', 'string beans.', 'lettuce, if your body can tolerate it.', 'tomato sauces.']\",\n",
       "  \"if he's liking basically all of your pictures, no matter what they are, there's a good chance he's into you. it doesn't matter what you're posting, and if he literally likes it or not; he'll want to show you support because he's into you, and appear on your radar.\",\n",
       "  'there are many other low-fodmap, protein-rich options. high-fodmap legumes and pulses include: baked beans, black-eyed peas, broad beans, butter beans, chickpeas, kidney beans, lentils, soybeans and split peas ( 4 ). low-fodmap, vegetarian sources of protein include: tofu, eggs and most nuts and seeds.',\n",
       "  'antibiotics and vaccines are in some ways opposites. antibiotics kill indiscriminately, whereas vaccines are highly targeted. antibiotics are used to treat severe infection, whereas vaccines prevent infections from ever becoming established.',\n",
       "  \"['silvery-white metals that tarnish when exposed to air, forming their oxides.', 'relatively soft metals. ... ', 'moving from left to right across the period (increasing atomic number), the radius of each lanthanide 3+ ion steadily decreases. ... ', 'high melting points and boiling points.', 'very reactive.']\",\n",
       "  \"['open the works document.', 'click “file” and “save as.” type a name in the “file name” field, if necessary.', 'click on the down arrow in the “save as type” field. ... ', 'click “file” again and then click “close.” once you have closed the file, you can now open it in word.']\",\n",
       "  'an internet protocol address (ip address) is a numerical label assigned to each device connected to a computer network that uses the internet protocol for communication. an ip address serves two main functions: host or network interface identification and location addressing.',\n",
       "  \"documents reveal '90 day fiancé' star's marriage status while it doesn't specify who he is married to, it's likely that it is evelin villegas, his ecuadorian lover on the tlc reality show. meanwhile, soap dirt also found evidence that evelin villegas is married to corey rathgeber.\",\n",
       "  \"dogs often run right through invisible fences in the heat of the moment, but to cross back over that line means that they'll get a painful jolt—a prospect that leaves some too scared to return. ... real fences and positive training methods in which dogs are rewarded for good behavior are humane and effective.\",\n",
       "  'the imsi (international mobile subscriber identity) is a code used by the phone company to identify the sim on the mobile network. the imei (international mobile station equipment identity) is an international \"serial number\" for your phone (device itself) to properly identify it on the carriers network.',\n",
       "  \"lyft drivers must be at least 21 years old, own an iphone or android phone, have a social security number and a 1-year-old-or-more in-state driver's license; in some cities like new york city, a taxi/limousine driver's license is also required.\",\n",
       "  'the majority of us (56%) take any time between 11 and 30 minutes getting ready. only 2% take less than 5 minutes and 3% over an hour. more women than men take longer to get ready with 21% men taking over 30 minutes and 38% women. perhaps this is because 16% of women wear make-up every day and 32% most days.',\n",
       "  'is cretors™ popped corn considered gluten free? yes, it is!',\n",
       "  \"ordinary shares, also called common shares, are stocks sold on a public exchange. each share of stock generally gives its owner the right to one vote at a company shareholders' meeting. unlike in the case of preferred shares, the owner of ordinary shares is not guaranteed a dividend.\",\n",
       "  \"['it consultant. ... ', 'cybersecurity consultant. ... ', 'information systems manager. ... ', 'database administrator. ... ', 'multimedia programmer. ... ', 'systems analyst. ... ', 'games developer. ... ', 'technical writer.']\",\n",
       "  '#61 circum → around the prefix circum- which means “around” and the latin root word circ which mean “ring” both are influential in making up english words.',\n",
       "  'wod is an acronym used for the nbc television show world of dance, and also for workout of the day in reference to crossfit training. some people use it to mean word of the day ... not us. related words: juju on that beat.',\n",
       "  'meaning: internal check is an arrangement of duties allocated in such a way that the work of one person is automatically checked by another. internal audit is an independent appraisal of the operations and records of the company.',\n",
       "  \"['call us at 800-827-1000 (tty: 711), or.', 'go to your nearest va regional office and change this information in person, or.', 'fill out a va request for change of address or cancellation of direct deposit (va form 20-572) download va form 20-572 (pdf)']\",\n",
       "  \"because of recombination, siblings only share about 50 percent of the same dna, on average, dennis says. so while biological siblings have the same family tree, their genetic code might be different in at least one of the areas looked at in a given test. that's true even for fraternal twins.\",\n",
       "  \"yes, they are worth it, but get an ssa for a general purpose rifle, the ssa-e is more of a precision trigger. if you aren't representing jesus in a way that makes people want to hang out with you, you're doing it wrong.\",\n",
       "  \"your veterinarian can calculate the exact amount to feed. you can feed your dog one or two times a day. it's best to do it twice daily at 8-12 hour intervals.\",\n",
       "  'your fingernails grow at an average rate of 3.47 millimeters (mm) per month, or about a tenth of a millimeter per day. to put this in perspective, the average grain of short rice is about 5.5 mm long. if you happen to lose a fingernail, it may take up to six months for that nail to completely grow back.',\n",
       "  'static content is any file that is stored in a server and is the same every time it is delivered to users. ... dynamic webpages are not stored as static html files. instead, server-side scripts generate an html file in response to events, such as user interactions or user logins, and send the html file to the web browser.',\n",
       "  'they can live in dry areas and are found on plateaus of mountainous regions, forests and valleys of southern saudi arabia and yemen. they are one of the few species of chameleons which can tolerate wide temperate ranges, though they prefer to live in a temperature range of 75 to 95 degrees f.',\n",
       "  \"the gps + cellular apple watch comes with lte connectivity, which allows you to piggyback off your current carrier plan (for an additional monthly fee, usually around $10) and get internet and phone connectivity even when your iphone is far away. ... if you're on at&t, your apple watch has to be, too.\",\n",
       "  'similarly, in humans, there are 92 chromosomes present and 92 chromatids during anaphase. these numbers remain the same during telophase. it is only after the end of mitosis – when the dividing cells have fully separated and the membranes have reformed – that the normal chromosome number is restored to the cell.',\n",
       "  \"adventure mode, round 2- now that you've got a feeling of accomplishment by beating the game, play adventure mode again. 5. yeti on 4- continue playing through the levels until you reach level 4-10. when you get to the last part of the stage, the yeti zombie will appear.\",\n",
       "  'yes, usps delivers on saturday. though usps delivers on saturdays, the delivery is subject to the service or mail class in use. priority mail & priority mail express items might be delivered on saturdays.',\n",
       "  \"it's best to keep your refrigerator in an upright position for the entire move, no matter what its size. this is because putting a fridge down on its side can cause damage to the refrigerator compressor and keep it from doing its job.\",\n",
       "  \"a nervous system condition that causes numbness, tingling, and muscle weakness. under va's rating regulations, it must be at least 10 percent disabling within one year of herbicide exposure. a disorder characterized by liver dysfunction and by thinning and blistering of the skin in sun-exposed areas.\",\n",
       "  \"with a full 40 percent of executives considering themselves introverts, there's plenty of evidence that suggests both personality types can be excellent leaders. extroverts may excel at motivating certain types of employees, but introverts often have superior planning skills.\",\n",
       "  'admission to a college or university typically entails a high school diploma or ged, certain coursework completed at the high school level and minimum aptitude test scores. the exact courses and test score minimums vary between schools.',\n",
       "  'an mba is only worth the expense, time, and effort when the graduate plans to work in a business-related field, in management, or as a company founder. for those working in other industries, unless they are in management or leadership roles, an mba may not be useful. moreover, not all mba degrees are created equal.',\n",
       "  'catholics also follow the teachings of jesus christ but do so through the church, whom they consider as the path to jesus. they believe in the special authority of the pope which other christians may not believe in, whereas christians are free to accept or reject individual teachings and interpretations of the bible.',\n",
       "  'unlike most other ships in the cruise industry, there is no required or recommended tipping on our ships for service that is generally rendered to all guests. ... we encourage those guests to acknowledge good service from these staff members with appropriate gratuities.',\n",
       "  'sip is a method of investing a fixed sum, regularly, in a mutual fund scheme. sip allows one to buy units on a given date each month, so that one can implement a saving plan for themselves. ... the amount is invested at the closing net asset value (nav) of the date of realisation of the cheque.',\n",
       "  'the original wma codec, known simply as wma, was conceived as a competitor to the popular mp3 and realaudio codecs. ... a lossless codec, wma lossless, compresses audio data without loss of audio fidelity (the regular wma format is lossy).',\n",
       "  'dalia is made from a special kind of whole wheat and has high nutritional values including fiber that comes from the bran or husk of the wheat. it is also referred as cracked wheat or samba rava or broken wheat and is called as godhuma rava in telugu.',\n",
       "  'rna polymerase does not play a role in dna replication, it plays a role in dna transcription. rna polymerase makes mrna from dna.',\n",
       "  'the highest rate of u.s. unemployment was 24.9% in 1933, during the great depression. 1\\ufeff unemployment remained above 14% from 1931 to 1940. it remained in the single digits until september 1982 when it reached 10.1%. 2\\ufeff during the great recession, unemployment reached 10% in october 2009.',\n",
       "  'cup size is relative to the band size, meaning it changes as the band size changes. ... as the band size gets larger, so does the cup volume, by one cup size. for example, a 32d is one cup size smaller than a 34d, two cup sizes smaller than a 36d, three cup sizes smaller than a 38d, and so on through all the band sizes.',\n",
       "  \"but young living essential oils aren't a magic cure-all. they're not even certified organic. ... on the young living website, it states that gary “developed his first organic herb farming and distillation operation,” which would lead consumers to believe the oils are organic.\",\n",
       "  \"economic growth reflects an increase in that country's gross domestic product, or gdp. ... economic development, on the other hand, is a broader term. it indicates an increase in citizens' quality of life and is often measured using the human development index.\",\n",
       "  'a driving licence issued in the emirates is now recognised in countries including the us, uk, ireland, singapore, new zealand and in eu nations such as germany, france, switzerland, italy, belgium, norway and spain, according to an updated list on the website of the ministry of foreign affairs and international ...',\n",
       "  'do wyrabiania, zagniatania i mieszania ciast znani blogerzy prezentujący swoje przepisy polecają roboty marki kenwood. doceniają je przede wszystkim za możliwość przygotowania większych ilości ciasta w krótkim czasie.']}"
      ]
     },
     "execution_count": 13,
     "metadata": {},
     "output_type": "execute_result"
    }
   ],
   "source": [
    "# Sample from dataloader\n",
    "for d in train_dl:\n",
    "    break\n",
    "\n",
    "d"
   ]
  },
  {
   "cell_type": "markdown",
   "metadata": {},
   "source": [
    "### Loading / Creating Adapter Model"
   ]
  },
  {
   "cell_type": "code",
   "execution_count": 14,
   "metadata": {},
   "outputs": [],
   "source": [
    "class AdapterModel(nn.Module):\n",
    "    def __init__(self, dim: int, num_layers: int):\n",
    "        super(AdapterModel, self).__init__()\n",
    "        self.layers = nn.ModuleList()\n",
    "        \n",
    "        for _ in range(num_layers):\n",
    "            self.layers.append(nn.Linear(dim, dim))  # Each layer has the same dimension\n",
    "            \n",
    "    def forward(self, x):\n",
    "        for layer in self.layers:\n",
    "            x = layer(x)\n",
    "        return x"
   ]
  },
  {
   "cell_type": "code",
   "execution_count": 15,
   "metadata": {},
   "outputs": [],
   "source": [
    "# We get the embedding dimension and create linear layers of the same dimension\n",
    "# For a closed source model you can check the length of the embedding dimension\n",
    "embedding_dimension = 768\n",
    "\n",
    "adapter_model = AdapterModel(embedding_dimension, 1)"
   ]
  },
  {
   "cell_type": "code",
   "execution_count": 16,
   "metadata": {},
   "outputs": [
    {
     "data": {
      "text/plain": [
       "AdapterModel(\n",
       "  (layers): ModuleList(\n",
       "    (0): Linear(in_features=768, out_features=768, bias=True)\n",
       "  )\n",
       ")"
      ]
     },
     "execution_count": 16,
     "metadata": {},
     "output_type": "execute_result"
    }
   ],
   "source": [
    "adapter_model"
   ]
  },
  {
   "cell_type": "markdown",
   "metadata": {},
   "source": [
    "### If model is saved at a location, and you want to load"
   ]
  },
  {
   "cell_type": "code",
   "execution_count": 17,
   "metadata": {},
   "outputs": [
    {
     "name": "stdout",
     "output_type": "stream",
     "text": [
      "ERROR: [Errno 2] No such file or directory: 'D:/adapter_model/checkpoints/model_checkpoint_300.pth'\n"
     ]
    }
   ],
   "source": [
    "model_load_location = \"D:/adapter_model/checkpoints/model_checkpoint_300.pth\"\n",
    "\n",
    "try:\n",
    "    adapter_model.load_state_dict(torch.load(model_load_location, weights_only=True)['model_state_dict'])\n",
    "    adapter_model.eval()\n",
    "except Exception as e:\n",
    "    print(f\"ERROR: {str(e)}\")"
   ]
  },
  {
   "cell_type": "markdown",
   "metadata": {},
   "source": [
    "### Evaluation Code"
   ]
  },
  {
   "cell_type": "code",
   "execution_count": 18,
   "metadata": {},
   "outputs": [],
   "source": [
    "class TripletEvaluator(SentenceEvaluator):\n",
    "    \"\"\"\n",
    "    Evaluate a model based on a triplet: (sentence, positive_example, negative_example).\n",
    "    Checks if distance(sentence, positive_example) < distance(sentence, negative_example).\n",
    "\n",
    "    Example:\n",
    "        ::\n",
    "\n",
    "            from sentence_transformers import SentenceTransformer\n",
    "            from sentence_transformers.evaluation import TripletEvaluator\n",
    "            from datasets import load_dataset\n",
    "\n",
    "            # Load a model\n",
    "            model = SentenceTransformer('all-mpnet-base-v2')\n",
    "\n",
    "            # Load a dataset with (anchor, positive, negative) triplets\n",
    "            dataset = load_dataset(\"sentence-transformers/all-nli\", \"triplet\", split=\"dev\")\n",
    "\n",
    "            # Initialize the TripletEvaluator using anchors, positives, and negatives\n",
    "            triplet_evaluator = TripletEvaluator(\n",
    "                anchors=dataset[:1000][\"anchor\"],\n",
    "                positives=dataset[:1000][\"positive\"],\n",
    "                negatives=dataset[:1000][\"negative\"],\n",
    "                name=\"all-nli-dev\",\n",
    "            )\n",
    "            results = triplet_evaluator(model)\n",
    "            '''\n",
    "            TripletEvaluator: Evaluating the model on the all-nli-dev dataset:\n",
    "            Accuracy Cosine Distance:        95.60\n",
    "            Accuracy Dot Product:            4.40\n",
    "            Accuracy Manhattan Distance:     95.40\n",
    "            Accuracy Euclidean Distance:     95.60\n",
    "            '''\n",
    "            print(triplet_evaluator.primary_metric)\n",
    "            # => \"all-nli-dev_max_accuracy\"\n",
    "            print(results[triplet_evaluator.primary_metric])\n",
    "            # => 0.956\n",
    "    \"\"\"\n",
    "\n",
    "    def __init__(\n",
    "        self,\n",
    "        anchors: list[str],\n",
    "        positives: list[str],\n",
    "        negatives: list[str],\n",
    "        main_distance_function: str | SimilarityFunction | None = None,\n",
    "        name: str = \"\",\n",
    "        batch_size: int = 16,\n",
    "        write_csv: bool = True,\n",
    "        truncate_dim: int | None = None,\n",
    "    ):\n",
    "        \"\"\"\n",
    "        Initializes a TripletEvaluator object.\n",
    "\n",
    "        Args:\n",
    "            anchors (List[str]): Sentences to check similarity to. (e.g. a query)\n",
    "            positives (List[str]): List of positive sentences\n",
    "            negatives (List[str]): List of negative sentences\n",
    "            main_distance_function (Union[str, SimilarityFunction], optional):\n",
    "                The distance function to use. If not specified, use cosine similarity,\n",
    "                dot product, Euclidean, and Manhattan. Defaults to None.\n",
    "            name (str): Name for the output. Defaults to \"\".\n",
    "            batch_size (int): Batch size used to compute embeddings. Defaults to 16.\n",
    "            write_csv (bool): Write results to a CSV file. Defaults to True.\n",
    "            truncate_dim (int, optional): The dimension to truncate sentence embeddings to.\n",
    "                `None` uses the model's current truncation dimension. Defaults to None.\n",
    "        \"\"\"\n",
    "        super().__init__()\n",
    "        self.anchors = anchors\n",
    "        self.positives = positives\n",
    "        self.negatives = negatives\n",
    "        self.name = name\n",
    "        self.truncate_dim = truncate_dim\n",
    "\n",
    "        assert len(self.anchors) == len(self.positives)\n",
    "        assert len(self.anchors) == len(self.negatives)\n",
    "\n",
    "        self.main_distance_function = SimilarityFunction(main_distance_function) if main_distance_function else None\n",
    "\n",
    "        self.batch_size = batch_size\n",
    "\n",
    "        self.csv_file: str = \"triplet_evaluation\" + (\"_\" + name if name else \"\") + \"_results.csv\"\n",
    "        self.csv_headers = [\"epoch\", \"steps\", \"accuracy_cosine\", \"accuracy_manhattan\", \"accuracy_euclidean\"]\n",
    "        self.write_csv = write_csv\n",
    "\n",
    "    @classmethod\n",
    "    def from_input_examples(cls, examples: list[InputExample], **kwargs):\n",
    "        anchors = []\n",
    "        positives = []\n",
    "        negatives = []\n",
    "\n",
    "        for example in examples:\n",
    "            anchors.append(example.texts[0])\n",
    "            positives.append(example.texts[1])\n",
    "            negatives.append(example.texts[2])\n",
    "        return cls(anchors, positives, negatives, **kwargs)\n",
    "\n",
    "    def __call__(\n",
    "        self, model, closed_source: bool, output_path: str = None, epoch: int = -1, steps: int = -1\n",
    "    ) -> dict[str, float]:\n",
    "        if epoch != -1:\n",
    "            if steps == -1:\n",
    "                out_txt = f\" after epoch {epoch}\"\n",
    "            else:\n",
    "                out_txt = f\" in epoch {epoch} after {steps} steps\"\n",
    "        else:\n",
    "            out_txt = \"\"\n",
    "        if self.truncate_dim is not None:\n",
    "            out_txt += f\" (truncated to {self.truncate_dim})\"\n",
    "\n",
    "        print(f\"TripletEvaluator: Evaluating the model on the {self.name} dataset{out_txt}:\")\n",
    "\n",
    "        num_triplets = 0\n",
    "        (\n",
    "            num_correct_cos_triplets,\n",
    "            num_correct_dot_triplets,\n",
    "            num_correct_manhattan_triplets,\n",
    "            num_correct_euclidean_triplets,\n",
    "        ) = 0, 0, 0, 0\n",
    "\n",
    "        with nullcontext() if self.truncate_dim is None else model.truncate_sentence_embeddings(self.truncate_dim):\n",
    "            \n",
    "            embedding_anchors_closed = [dict_embeddings[i] for i in self.anchors]\n",
    "            embedding_positives_closed = [dict_embeddings[i] for i in self.positives]\n",
    "            embedding_negatives_closed = [dict_embeddings[i] for i in self.negatives]\n",
    "\n",
    "            if not closed_source:\n",
    "                embeddings_anchors = []\n",
    "                for b in trange(0, len(self.anchors), self.batch_size):\n",
    "                    with torch.no_grad():\n",
    "                        embeddings_anchors += model(torch.tensor(embedding_anchors_closed[b : b + self.batch_size])).tolist()\n",
    "                embeddings_anchors = np.array(embeddings_anchors)\n",
    "\n",
    "                embeddings_positives = []\n",
    "                for b in trange(0, len(self.positives), self.batch_size):\n",
    "                    with torch.no_grad():\n",
    "                        embeddings_positives += model(torch.tensor(embedding_positives_closed[b : b + self.batch_size])).tolist()\n",
    "                embeddings_positives = np.array(embeddings_positives)\n",
    "\n",
    "                embeddings_negatives = []\n",
    "                for b in trange(0, len(self.negatives), self.batch_size):\n",
    "                    with torch.no_grad():\n",
    "                        embeddings_negatives += model(torch.tensor(embedding_negatives_closed[b : b + self.batch_size])).tolist()\n",
    "                embeddings_negatives = np.array(embeddings_negatives)\n",
    "\n",
    "            else:\n",
    "                embeddings_anchors = np.array(embedding_anchors_closed)\n",
    "                embeddings_positives = np.array(embedding_positives_closed)\n",
    "                embeddings_negatives = np.array(embedding_negatives_closed)\n",
    "\n",
    "        # Cosine distance\n",
    "        pos_cos_distance = paired_cosine_distances(embeddings_anchors, embeddings_positives)\n",
    "        neg_cos_distances = paired_cosine_distances(embeddings_anchors, embeddings_negatives)\n",
    "\n",
    "        # Dot score\n",
    "        pos_dot_distance = np.sum(embeddings_anchors * embeddings_positives, axis=-1)\n",
    "        neg_dot_distances = np.sum(embeddings_anchors * embeddings_negatives, axis=-1)\n",
    "\n",
    "        # Manhattan\n",
    "        pos_manhattan_distance = paired_manhattan_distances(embeddings_anchors, embeddings_positives)\n",
    "        neg_manhattan_distances = paired_manhattan_distances(embeddings_anchors, embeddings_negatives)\n",
    "\n",
    "        # Euclidean\n",
    "        pos_euclidean_distance = paired_euclidean_distances(embeddings_anchors, embeddings_positives)\n",
    "        neg_euclidean_distances = paired_euclidean_distances(embeddings_anchors, embeddings_negatives)\n",
    "\n",
    "        for idx in range(len(pos_cos_distance)):\n",
    "            num_triplets += 1\n",
    "\n",
    "            if pos_cos_distance[idx] < neg_cos_distances[idx]:\n",
    "                num_correct_cos_triplets += 1\n",
    "\n",
    "            if pos_dot_distance[idx] < neg_dot_distances[idx]:\n",
    "                num_correct_dot_triplets += 1\n",
    "\n",
    "            if pos_manhattan_distance[idx] < neg_manhattan_distances[idx]:\n",
    "                num_correct_manhattan_triplets += 1\n",
    "\n",
    "            if pos_euclidean_distance[idx] < neg_euclidean_distances[idx]:\n",
    "                num_correct_euclidean_triplets += 1\n",
    "\n",
    "        accuracy_cos = num_correct_cos_triplets / num_triplets\n",
    "        accuracy_dot = num_correct_dot_triplets / num_triplets\n",
    "        accuracy_manhattan = num_correct_manhattan_triplets / num_triplets\n",
    "        accuracy_euclidean = num_correct_euclidean_triplets / num_triplets\n",
    "\n",
    "        print(f\"Accuracy Cosine Distance:   \\t{accuracy_cos * 100:.2f}\")\n",
    "        print(f\"Accuracy Dot Product:       \\t{accuracy_dot * 100:.2f}\")\n",
    "        print(f\"Accuracy Manhattan Distance:\\t{accuracy_manhattan * 100:.2f}\")\n",
    "        print(f\"Accuracy Euclidean Distance:\\t{accuracy_euclidean * 100:.2f}\\n\")\n",
    "\n",
    "        if output_path is not None and self.write_csv:\n",
    "            csv_path = os.path.join(output_path, self.csv_file)\n",
    "            if not os.path.isfile(csv_path):\n",
    "                with open(csv_path, newline=\"\", mode=\"w\", encoding=\"utf-8\") as f:\n",
    "                    writer = csv.writer(f)\n",
    "                    writer.writerow(self.csv_headers)\n",
    "                    writer.writerow([epoch, steps, accuracy_cos, accuracy_manhattan, accuracy_euclidean])\n",
    "\n",
    "            else:\n",
    "                with open(csv_path, newline=\"\", mode=\"a\", encoding=\"utf-8\") as f:\n",
    "                    writer = csv.writer(f)\n",
    "                    writer.writerow([epoch, steps, accuracy_cos, accuracy_manhattan, accuracy_euclidean])\n",
    "\n",
    "        self.primary_metric = {\n",
    "            SimilarityFunction.COSINE: \"cosine_accuracy\",\n",
    "            SimilarityFunction.DOT_PRODUCT: \"dot_accuracy\",\n",
    "            SimilarityFunction.EUCLIDEAN: \"euclidean_accuracy\",\n",
    "            SimilarityFunction.MANHATTAN: \"manhattan_accuracy\",\n",
    "        }.get(self.main_distance_function, \"max_accuracy\")\n",
    "        metrics = {\n",
    "            \"cosine_accuracy\": accuracy_cos,\n",
    "            \"dot_accuracy\": accuracy_dot,\n",
    "            \"manhattan_accuracy\": accuracy_manhattan,\n",
    "            \"euclidean_accuracy\": accuracy_euclidean,\n",
    "            \"max_accuracy\": max(accuracy_cos, accuracy_manhattan, accuracy_euclidean),\n",
    "        }\n",
    "        metrics = self.prefix_name_to_metrics(metrics, self.name)\n",
    "        return metrics"
   ]
  },
  {
   "cell_type": "code",
   "execution_count": 19,
   "metadata": {},
   "outputs": [],
   "source": [
    "evaluator_name = \"gooaq\""
   ]
  },
  {
   "cell_type": "code",
   "execution_count": 20,
   "metadata": {},
   "outputs": [
    {
     "data": {
      "text/plain": [
       "Dataset({\n",
       "    features: ['anchor', 'positive', 'negative'],\n",
       "    num_rows: 4924\n",
       "})"
      ]
     },
     "execution_count": 20,
     "metadata": {},
     "output_type": "execute_result"
    }
   ],
   "source": [
    "valid_data"
   ]
  },
  {
   "cell_type": "markdown",
   "metadata": {},
   "source": [
    "#### Setting closed_source = True, just uses the closed source embeddings directly for evaluation, does not pass through the adapter model"
   ]
  },
  {
   "cell_type": "code",
   "execution_count": 21,
   "metadata": {},
   "outputs": [],
   "source": [
    "valid_evaluator = TripletEvaluator(\n",
    "        anchors=valid_data['anchor'],\n",
    "        positives=valid_data['positive'],\n",
    "        negatives=valid_data['negative'],\n",
    "        batch_size=100,\n",
    "        name=evaluator_name,\n",
    "        write_csv=True\n",
    ")"
   ]
  },
  {
   "cell_type": "code",
   "execution_count": 22,
   "metadata": {},
   "outputs": [
    {
     "name": "stdout",
     "output_type": "stream",
     "text": [
      "TripletEvaluator: Evaluating the model on the gooaq dataset:\n",
      "Accuracy Cosine Distance:   \t78.01\n",
      "Accuracy Dot Product:       \t24.15\n",
      "Accuracy Manhattan Distance:\t77.52\n",
      "Accuracy Euclidean Distance:\t78.05\n",
      "\n"
     ]
    },
    {
     "data": {
      "text/plain": [
       "{'gooaq_cosine_accuracy': 0.7800568643379366,\n",
       " 'gooaq_dot_accuracy': 0.24147034930950448,\n",
       " 'gooaq_manhattan_accuracy': 0.775182778229082,\n",
       " 'gooaq_euclidean_accuracy': 0.7804630381803412,\n",
       " 'gooaq_max_accuracy': 0.7804630381803412}"
      ]
     },
     "execution_count": 22,
     "metadata": {},
     "output_type": "execute_result"
    }
   ],
   "source": [
    "valid_evaluator(adapter_model, closed_source=True, output_path=\"D:/adapter_model\")"
   ]
  },
  {
   "cell_type": "code",
   "execution_count": 23,
   "metadata": {},
   "outputs": [
    {
     "name": "stdout",
     "output_type": "stream",
     "text": [
      "TripletEvaluator: Evaluating the model on the gooaq dataset:\n"
     ]
    },
    {
     "name": "stderr",
     "output_type": "stream",
     "text": [
      "100%|██████████| 50/50 [00:00<00:00, 73.42it/s]\n",
      "100%|██████████| 50/50 [00:00<00:00, 67.38it/s]\n",
      "100%|██████████| 50/50 [00:00<00:00, 68.16it/s]\n"
     ]
    },
    {
     "name": "stdout",
     "output_type": "stream",
     "text": [
      "Accuracy Cosine Distance:   \t77.13\n",
      "Accuracy Dot Product:       \t24.76\n",
      "Accuracy Manhattan Distance:\t77.56\n",
      "Accuracy Euclidean Distance:\t77.62\n",
      "\n"
     ]
    },
    {
     "data": {
      "text/plain": [
       "{'gooaq_cosine_accuracy': 0.7713241267262388,\n",
       " 'gooaq_dot_accuracy': 0.2475629569455727,\n",
       " 'gooaq_manhattan_accuracy': 0.7755889520714866,\n",
       " 'gooaq_euclidean_accuracy': 0.7761982128350934,\n",
       " 'gooaq_max_accuracy': 0.7761982128350934}"
      ]
     },
     "execution_count": 23,
     "metadata": {},
     "output_type": "execute_result"
    }
   ],
   "source": [
    "valid_evaluator(adapter_model, closed_source=False, output_path=\"D:/adapter_model\")"
   ]
  },
  {
   "cell_type": "code",
   "execution_count": 24,
   "metadata": {},
   "outputs": [],
   "source": [
    "test_evaluator = TripletEvaluator(\n",
    "        anchors=test_data['anchor'],\n",
    "        positives=test_data['positive'],\n",
    "        negatives=test_data['negative'],\n",
    "        batch_size=100,\n",
    "        name=evaluator_name,\n",
    "        write_csv=True\n",
    ")"
   ]
  },
  {
   "cell_type": "code",
   "execution_count": 25,
   "metadata": {},
   "outputs": [
    {
     "name": "stdout",
     "output_type": "stream",
     "text": [
      "TripletEvaluator: Evaluating the model on the gooaq dataset:\n",
      "Accuracy Cosine Distance:   \t78.42\n",
      "Accuracy Dot Product:       \t23.69\n",
      "Accuracy Manhattan Distance:\t79.24\n",
      "Accuracy Euclidean Distance:\t79.13\n",
      "\n"
     ]
    },
    {
     "data": {
      "text/plain": [
       "{'gooaq_cosine_accuracy': 0.7841814837522992,\n",
       " 'gooaq_dot_accuracy': 0.23686899652564888,\n",
       " 'gooaq_manhattan_accuracy': 0.7923564275495606,\n",
       " 'gooaq_euclidean_accuracy': 0.791334559574903,\n",
       " 'gooaq_max_accuracy': 0.7923564275495606}"
      ]
     },
     "execution_count": 25,
     "metadata": {},
     "output_type": "execute_result"
    }
   ],
   "source": [
    "test_evaluator(adapter_model, closed_source=True, output_path=\"D:/adapter_model\")"
   ]
  },
  {
   "cell_type": "code",
   "execution_count": 26,
   "metadata": {},
   "outputs": [
    {
     "name": "stdout",
     "output_type": "stream",
     "text": [
      "TripletEvaluator: Evaluating the model on the gooaq dataset:\n"
     ]
    },
    {
     "name": "stderr",
     "output_type": "stream",
     "text": [
      "100%|██████████| 49/49 [00:00<00:00, 66.96it/s]\n",
      "100%|██████████| 49/49 [00:00<00:00, 66.86it/s]\n",
      "100%|██████████| 49/49 [00:00<00:00, 68.17it/s]\n"
     ]
    },
    {
     "name": "stdout",
     "output_type": "stream",
     "text": [
      "Accuracy Cosine Distance:   \t78.34\n",
      "Accuracy Dot Product:       \t24.24\n",
      "Accuracy Manhattan Distance:\t78.30\n",
      "Accuracy Euclidean Distance:\t78.58\n",
      "\n"
     ]
    },
    {
     "data": {
      "text/plain": [
       "{'gooaq_cosine_accuracy': 0.783363989372573,\n",
       " 'gooaq_dot_accuracy': 0.24238708358880032,\n",
       " 'gooaq_manhattan_accuracy': 0.78295524218271,\n",
       " 'gooaq_euclidean_accuracy': 0.7858164725117515,\n",
       " 'gooaq_max_accuracy': 0.7858164725117515}"
      ]
     },
     "execution_count": 26,
     "metadata": {},
     "output_type": "execute_result"
    }
   ],
   "source": [
    "test_evaluator(adapter_model, closed_source=False, output_path=\"D:/adapter_model\")"
   ]
  },
  {
   "cell_type": "code",
   "execution_count": 27,
   "metadata": {},
   "outputs": [],
   "source": [
    "def save_checkpoint(epoch, training_steps, model, optimizer, scheduler, filename='checkpoint.pth'):\n",
    "    checkpoint = {\n",
    "        'epoch': epoch,\n",
    "        'training_steps': training_steps,\n",
    "        'model_state_dict': model.state_dict(),\n",
    "        'optimizer_state_dict': optimizer.state_dict(),\n",
    "        'scheduler_state_dict': scheduler.state_dict(),\n",
    "    }\n",
    "    torch.save(checkpoint, filename)\n",
    "    print(f\"Checkpoint saved at epoch {epoch}, training step {training_steps}.\")\n",
    "\n",
    "def load_checkpoint(filename, model, optimizer, scheduler):\n",
    "    checkpoint = torch.load(filename)\n",
    "    model.load_state_dict(checkpoint['model_state_dict'])\n",
    "    optimizer.load_state_dict(checkpoint['optimizer_state_dict'])\n",
    "    scheduler.load_state_dict(checkpoint['scheduler_state_dict'])\n",
    "    epoch = checkpoint['epoch']\n",
    "    training_steps = checkpoint['training_steps']\n",
    "    print(f\"Checkpoint loaded from epoch {epoch}, training step {training_steps}.\")\n",
    "    return epoch, training_steps\n",
    "\n",
    "def normalize_embeddings(embeddings: Tensor) -> Tensor:\n",
    "    \"\"\"\n",
    "    Normalizes the embeddings matrix, so that each sentence embedding has unit length.\n",
    "\n",
    "    Args:\n",
    "        embeddings (Tensor): The input embeddings matrix.\n",
    "\n",
    "    Returns:\n",
    "        Tensor: The normalized embeddings matrix.\n",
    "    \"\"\"\n",
    "    return torch.nn.functional.normalize(embeddings, p=2, dim=1)\n",
    "\n",
    "def cos_sim(a: Tensor, b: Tensor) -> Tensor:\n",
    "    \"\"\"\n",
    "    Computes the cosine similarity between two tensors.\n",
    "\n",
    "    Args:\n",
    "        a (Union[list, np.ndarray, Tensor]): The first tensor.\n",
    "        b (Union[list, np.ndarray, Tensor]): The second tensor.\n",
    "\n",
    "    Returns:\n",
    "        Tensor: Matrix with res[i][j] = cos_sim(a[i], b[j])\n",
    "    \"\"\"\n",
    "\n",
    "    a_norm = normalize_embeddings(a)\n",
    "    b_norm = normalize_embeddings(b)\n",
    "    return torch.mm(a_norm, b_norm.transpose(0, 1))\n",
    "\n",
    "def MultipleNegativesRankingLoss(features, scale: float = 20.0):\n",
    "    cross_entropy_loss = nn.CrossEntropyLoss()\n",
    "    embeddings_a = features[0]\n",
    "    embeddings_b = torch.cat(features[1:])\n",
    "    scores = cos_sim(embeddings_a, embeddings_b) * scale\n",
    "    range_labels = torch.arange(0, scores.size(0), device=scores.device)\n",
    "    return cross_entropy_loss(scores, range_labels)"
   ]
  },
  {
   "cell_type": "code",
   "execution_count": 28,
   "metadata": {},
   "outputs": [],
   "source": [
    "def train_adapter_model(\n",
    "        model: nn.Module,\n",
    "        output_path: str,\n",
    "        train_dataloader,\n",
    "        epochs,\n",
    "        evaluator: None,\n",
    "        evaluation_steps: int = 0,\n",
    "        eval_score_criteria: str = \"cosine_accuracy\", # One of [\"cosine_accuracy\", \"dot_accuracy\", \"manhattan_accuracy\", \"euclidean_accuracy\", \"max_accuracy\"]\n",
    "        scheduler: str = 'WarmupLinear',\n",
    "        warmup_steps: int = 10000,\n",
    "        optimizer_class: Type[Optimizer] = torch.optim.AdamW,\n",
    "        optimizer_params: Dict[str, object] = {'lr': 2e-5},\n",
    "        weight_decay: float = 0.01,\n",
    "        model_target_device: str = \"cpu\",\n",
    "        load_from_checkpoint: bool = False,\n",
    "        checkpoint_path: str = None,\n",
    "        show_progress_bar: bool = True,\n",
    "        save_strategy: str = \"epoch\", # Can be one of \"epoch\" or \"steps\"\n",
    "        save_steps: int = 100, # Only applicable if save_strategy is set to \"steps\"\n",
    "):\n",
    "\n",
    "    valid_score_criteria = [\"cosine_accuracy\", \"dot_accuracy\", \"manhattan_accuracy\", \"euclidean_accuracy\", \"max_accuracy\"]\n",
    "\n",
    "    if type(eval_score_criteria) == str:\n",
    "        if eval_score_criteria not in valid_score_criteria:\n",
    "            raise Exception(f\"Please provide a valid value for evaluation score criteria. Must be one of {str(valid_score_criteria)} and a string value\")\n",
    "    else:\n",
    "        raise Exception(f\"Please provide a valid value for evaluation score criteria. Must be one of {str(valid_score_criteria)} and a string value\")\n",
    "\n",
    "    if load_from_checkpoint and (checkpoint_path is None or type(checkpoint_path) != str):\n",
    "        raise Exception(\"Checkpoint Path must be a valid string when load_from_checkpoint is set to True.\")\n",
    "\n",
    "    model = model.to(model_target_device)\n",
    "\n",
    "    if output_path is not None:\n",
    "        os.makedirs(output_path, exist_ok=True)\n",
    "        # Creating Checkpoint Folder\n",
    "        os.makedirs(output_path + \"/checkpoints\", exist_ok=True)\n",
    "\n",
    "    num_train_steps = int(len(train_dataloader) * epochs)\n",
    "\n",
    "    # Prepare optimizers\n",
    "    param_optimizer = list(model.named_parameters())\n",
    "\n",
    "    no_decay = ['bias', 'LayerNorm.bias', 'LayerNorm.weight']\n",
    "    optimizer_grouped_parameters = [\n",
    "        {'params': [p for n, p in param_optimizer if not any(nd in n for nd in no_decay)], 'weight_decay': weight_decay},\n",
    "        {'params': [p for n, p in param_optimizer if any(nd in n for nd in no_decay)], 'weight_decay': 0.0}\n",
    "    ]\n",
    "\n",
    "    optimizer = optimizer_class(optimizer_grouped_parameters, **optimizer_params)\n",
    "\n",
    "    best_score = -9999999\n",
    "\n",
    "    if isinstance(scheduler, str):\n",
    "        scheduler = SentenceTransformer._get_scheduler(optimizer, scheduler=scheduler, warmup_steps=warmup_steps, t_total=num_train_steps)\n",
    "\n",
    "    start_epoch = 0\n",
    "    start_training_steps = 0\n",
    "    if load_from_checkpoint:\n",
    "        start_epoch, start_training_steps = load_checkpoint(checkpoint_path, model, optimizer, scheduler)\n",
    "    if start_training_steps == -1:\n",
    "        start_epoch += 1\n",
    "        start_training_steps = 0\n",
    "\n",
    "    skip_scheduler = False\n",
    "    for epoch in trange(start_epoch, epochs, desc=\"Epoch\", disable=not show_progress_bar):\n",
    "        training_steps = start_training_steps\n",
    "        model.zero_grad()\n",
    "        model.train()\n",
    "\n",
    "        for _ in range(start_training_steps):\n",
    "            next(train_dataloader) \n",
    "\n",
    "        for features in tqdm(train_dataloader, desc=\"Iteration\", smoothing=0.05, disable=not show_progress_bar):\n",
    "            list_closed_embeddings = []\n",
    "            for k, v in features.items():\n",
    "                list_closed_embeddings.append([dict_embeddings[val] for val in v])\n",
    "            list_closed_embeddings_tensor = torch.tensor(list_closed_embeddings, dtype=torch.float32)\n",
    "            reps = [adapter_model(embedding) for embedding in list_closed_embeddings_tensor]\n",
    "            loss = MultipleNegativesRankingLoss(reps)\n",
    "            loss.backward()\n",
    "\n",
    "            optimizer.step()\n",
    "\n",
    "            optimizer.zero_grad()\n",
    "\n",
    "            if not skip_scheduler:\n",
    "                scheduler.step()\n",
    "\n",
    "            print(f\"Epoch: {epoch}, Training Step: {training_steps}, Loss: {loss.item()}\")\n",
    "\n",
    "            if save_strategy == \"steps\" and save_steps is not None:\n",
    "                if training_steps % save_steps == 0:\n",
    "                    save_checkpoint(epoch, training_steps, model, optimizer, scheduler, output_path + f\"/checkpoints/model_checkpoint_{epoch}_{training_steps}.pth\")\n",
    "\n",
    "            if evaluator is not None and evaluation_steps > 0 and training_steps % evaluation_steps == 0 and training_steps > 0:\n",
    "                eval_result = evaluator(model, closed_source=False, output_path=output_path, epoch=epoch, steps=training_steps)\n",
    "                if eval_result[f\"{evaluator_name}_{eval_score_criteria}\"] > best_score:\n",
    "                    save_checkpoint(epoch, training_steps, model, optimizer, scheduler, output_path + f\"/checkpoints/best_model.pth\")\n",
    "                    best_score = eval_result[f\"{evaluator_name}_{eval_score_criteria}\"]\n",
    "\n",
    "                model.zero_grad()\n",
    "                model.train()\n",
    "\n",
    "            training_steps += 1\n",
    "\n",
    "        if save_strategy == \"epoch\":\n",
    "            save_checkpoint(epoch, training_steps, model, optimizer, scheduler, output_path + f\"/checkpoints/model_checkpoint_{epoch}_{training_steps}.pth\")\n",
    "\n",
    "        if evaluator is not None:\n",
    "            eval_result = evaluator(model, closed_source=False, output_path=output_path, epoch=epoch, steps=training_steps)\n",
    "            if eval_result[f\"{evaluator_name}_{eval_score_criteria}\"] > best_score:\n",
    "                save_checkpoint(epoch, training_steps, model, optimizer, scheduler, output_path + f\"/checkpoints/best_model.pth\")\n",
    "                best_score = eval_result[f\"{evaluator_name}_{eval_score_criteria}\"]\n",
    "\n",
    "    save_checkpoint(epoch, training_steps, model, optimizer, scheduler, output_path + f\"/checkpoints/model_checkpoint_{epoch}_{training_steps}.pth\")"
   ]
  },
  {
   "cell_type": "code",
   "execution_count": 29,
   "metadata": {},
   "outputs": [
    {
     "name": "stderr",
     "output_type": "stream",
     "text": [
      "Epoch:   0%|          | 0/3 [00:00<?, ?it/s]"
     ]
    },
    {
     "name": "stdout",
     "output_type": "stream",
     "text": [
      "Epoch: 0, Training Step: 0, Loss: 0.8012745380401611\n",
      "Checkpoint saved at epoch 0, training step 0.\n",
      "Epoch: 0, Training Step: 1, Loss: 0.7857745289802551\n",
      "Epoch: 0, Training Step: 2, Loss: 0.7289088368415833\n",
      "Epoch: 0, Training Step: 3, Loss: 0.7004703283309937\n",
      "Epoch: 0, Training Step: 4, Loss: 0.6883841156959534\n"
     ]
    },
    {
     "name": "stderr",
     "output_type": "stream",
     "text": []
    },
    {
     "name": "stdout",
     "output_type": "stream",
     "text": [
      "Epoch: 0, Training Step: 5, Loss: 0.74229896068573\n",
      "Epoch: 0, Training Step: 6, Loss: 0.6582251191139221\n",
      "Epoch: 0, Training Step: 7, Loss: 0.5318671464920044\n",
      "Epoch: 0, Training Step: 8, Loss: 0.5743264555931091\n"
     ]
    },
    {
     "name": "stderr",
     "output_type": "stream",
     "text": []
    },
    {
     "name": "stdout",
     "output_type": "stream",
     "text": [
      "Epoch: 0, Training Step: 9, Loss: 0.5228235721588135\n",
      "Epoch: 0, Training Step: 10, Loss: 0.6766355037689209\n",
      "Epoch: 0, Training Step: 11, Loss: 0.6655847430229187\n",
      "Epoch: 0, Training Step: 12, Loss: 0.5950328707695007\n",
      "Epoch: 0, Training Step: 13, Loss: 0.5642753839492798\n"
     ]
    },
    {
     "name": "stderr",
     "output_type": "stream",
     "text": []
    },
    {
     "name": "stdout",
     "output_type": "stream",
     "text": [
      "Epoch: 0, Training Step: 14, Loss: 0.5925382971763611\n",
      "Epoch: 0, Training Step: 15, Loss: 0.7271687388420105\n",
      "Epoch: 0, Training Step: 16, Loss: 0.684628963470459\n",
      "Epoch: 0, Training Step: 17, Loss: 0.6661151051521301\n"
     ]
    },
    {
     "name": "stderr",
     "output_type": "stream",
     "text": []
    },
    {
     "name": "stdout",
     "output_type": "stream",
     "text": [
      "Epoch: 0, Training Step: 18, Loss: 0.6774734258651733\n",
      "Epoch: 0, Training Step: 19, Loss: 0.6306431293487549\n",
      "Epoch: 0, Training Step: 20, Loss: 0.7351741194725037\n",
      "Epoch: 0, Training Step: 21, Loss: 0.6755823493003845\n",
      "Epoch: 0, Training Step: 22, Loss: 0.5880638957023621\n"
     ]
    },
    {
     "name": "stderr",
     "output_type": "stream",
     "text": []
    },
    {
     "name": "stdout",
     "output_type": "stream",
     "text": [
      "Epoch: 0, Training Step: 23, Loss: 0.6908408999443054\n",
      "Epoch: 0, Training Step: 24, Loss: 0.7032912969589233\n",
      "Epoch: 0, Training Step: 25, Loss: 0.6998869180679321\n",
      "Epoch: 0, Training Step: 26, Loss: 0.6980456709861755\n",
      "Epoch: 0, Training Step: 27, Loss: 0.6904934048652649\n"
     ]
    },
    {
     "name": "stderr",
     "output_type": "stream",
     "text": []
    },
    {
     "name": "stdout",
     "output_type": "stream",
     "text": [
      "Epoch: 0, Training Step: 28, Loss: 0.6308392882347107\n",
      "Epoch: 0, Training Step: 29, Loss: 0.6020384430885315\n",
      "Epoch: 0, Training Step: 30, Loss: 0.748135507106781\n",
      "Epoch: 0, Training Step: 31, Loss: 0.7311103343963623\n"
     ]
    },
    {
     "name": "stderr",
     "output_type": "stream",
     "text": []
    },
    {
     "name": "stdout",
     "output_type": "stream",
     "text": [
      "Epoch: 0, Training Step: 32, Loss: 0.6555017232894897\n",
      "Epoch: 0, Training Step: 33, Loss: 0.7254200577735901\n",
      "Epoch: 0, Training Step: 34, Loss: 0.6799852848052979\n",
      "Epoch: 0, Training Step: 35, Loss: 0.6604123115539551\n",
      "Epoch: 0, Training Step: 36, Loss: 0.5259273052215576\n"
     ]
    },
    {
     "name": "stderr",
     "output_type": "stream",
     "text": []
    },
    {
     "name": "stdout",
     "output_type": "stream",
     "text": [
      "Epoch: 0, Training Step: 37, Loss: 0.513206422328949\n",
      "Epoch: 0, Training Step: 38, Loss: 0.4992527663707733\n",
      "Epoch: 0, Training Step: 39, Loss: 0.5853306651115417\n",
      "Epoch: 0, Training Step: 40, Loss: 0.7578308582305908\n",
      "Epoch: 0, Training Step: 41, Loss: 0.6578388214111328\n"
     ]
    },
    {
     "name": "stderr",
     "output_type": "stream",
     "text": [
      "\n"
     ]
    },
    {
     "name": "stdout",
     "output_type": "stream",
     "text": [
      "Epoch: 0, Training Step: 42, Loss: 0.726703941822052\n",
      "Epoch: 0, Training Step: 43, Loss: 0.6672859787940979\n",
      "Epoch: 0, Training Step: 44, Loss: 0.6629564166069031\n",
      "Epoch: 0, Training Step: 45, Loss: 0.6135414242744446\n",
      "Epoch: 0, Training Step: 46, Loss: 0.5445652604103088\n"
     ]
    },
    {
     "name": "stderr",
     "output_type": "stream",
     "text": [
      "Iteration:   5%|▌         | 47/882 [00:02<00:41, 20.01it/s]\u001b[A"
     ]
    },
    {
     "name": "stdout",
     "output_type": "stream",
     "text": [
      "Epoch: 0, Training Step: 47, Loss: 0.4940033257007599\n",
      "Epoch: 0, Training Step: 48, Loss: 0.40372467041015625\n",
      "Epoch: 0, Training Step: 49, Loss: 0.6274505853652954\n",
      "Epoch: 0, Training Step: 50, Loss: 0.723991334438324\n",
      "Checkpoint saved at epoch 0, training step 50.\n",
      "TripletEvaluator: Evaluating the model on the gooaq dataset in epoch 0 after 50 steps:\n"
     ]
    },
    {
     "name": "stderr",
     "output_type": "stream",
     "text": [
      "\n",
      "\u001b[A\n",
      "\u001b[A\n",
      "\u001b[A\n",
      "\u001b[A\n",
      "\u001b[A\n",
      "\u001b[A\n",
      "100%|██████████| 50/50 [00:00<00:00, 66.90it/s]\n",
      "\n",
      "\u001b[A\n",
      "\u001b[A\n",
      "\u001b[A\n",
      "\u001b[A\n",
      "\u001b[A\n",
      "\u001b[A\n",
      "100%|██████████| 50/50 [00:00<00:00, 70.89it/s]\n",
      "\n",
      "\u001b[A\n",
      "\u001b[A\n",
      "\u001b[A\n",
      "\u001b[A\n",
      "\u001b[A\n",
      "100%|██████████| 50/50 [00:00<00:00, 74.75it/s]\n"
     ]
    },
    {
     "name": "stdout",
     "output_type": "stream",
     "text": [
      "Accuracy Cosine Distance:   \t78.09\n",
      "Accuracy Dot Product:       \t23.03\n",
      "Accuracy Manhattan Distance:\t78.41\n",
      "Accuracy Euclidean Distance:\t78.51\n",
      "\n",
      "Checkpoint saved at epoch 0, training step 50.\n",
      "Epoch: 0, Training Step: 51, Loss: 0.7636067867279053\n"
     ]
    },
    {
     "name": "stderr",
     "output_type": "stream",
     "text": []
    },
    {
     "name": "stdout",
     "output_type": "stream",
     "text": [
      "Epoch: 0, Training Step: 52, Loss: 0.8278725147247314\n",
      "Epoch: 0, Training Step: 53, Loss: 0.7707576155662537\n",
      "Epoch: 0, Training Step: 54, Loss: 0.6067764163017273\n",
      "Epoch: 0, Training Step: 55, Loss: 0.7896254062652588\n"
     ]
    },
    {
     "name": "stderr",
     "output_type": "stream",
     "text": []
    },
    {
     "name": "stdout",
     "output_type": "stream",
     "text": [
      "Epoch: 0, Training Step: 56, Loss: 0.7714552879333496\n",
      "Epoch: 0, Training Step: 57, Loss: 0.6839649081230164\n",
      "Epoch: 0, Training Step: 58, Loss: 0.7371112108230591\n",
      "Epoch: 0, Training Step: 59, Loss: 0.772245466709137\n"
     ]
    },
    {
     "name": "stderr",
     "output_type": "stream",
     "text": []
    },
    {
     "name": "stdout",
     "output_type": "stream",
     "text": [
      "Epoch: 0, Training Step: 60, Loss: 0.668404221534729\n",
      "Epoch: 0, Training Step: 61, Loss: 0.6305534839630127\n",
      "Epoch: 0, Training Step: 62, Loss: 0.6486186981201172\n",
      "Epoch: 0, Training Step: 63, Loss: 0.6675916910171509\n"
     ]
    },
    {
     "name": "stderr",
     "output_type": "stream",
     "text": []
    },
    {
     "name": "stdout",
     "output_type": "stream",
     "text": [
      "Epoch: 0, Training Step: 64, Loss: 0.49504712224006653\n",
      "Epoch: 0, Training Step: 65, Loss: 0.5660911202430725\n",
      "Epoch: 0, Training Step: 66, Loss: 0.5768443942070007\n",
      "Epoch: 0, Training Step: 67, Loss: 0.5646331906318665\n"
     ]
    },
    {
     "name": "stderr",
     "output_type": "stream",
     "text": [
      "\n"
     ]
    },
    {
     "name": "stdout",
     "output_type": "stream",
     "text": [
      "Epoch: 0, Training Step: 68, Loss: 0.6513841152191162\n",
      "Epoch: 0, Training Step: 69, Loss: 0.615907609462738\n",
      "Epoch: 0, Training Step: 70, Loss: 0.7746726274490356\n",
      "Epoch: 0, Training Step: 71, Loss: 0.6391111016273499\n",
      "Epoch: 0, Training Step: 72, Loss: 0.6888487935066223\n"
     ]
    },
    {
     "name": "stderr",
     "output_type": "stream",
     "text": [
      "Iteration:   8%|▊         | 73/882 [00:06<01:21,  9.96it/s]\u001b[A"
     ]
    },
    {
     "name": "stdout",
     "output_type": "stream",
     "text": [
      "Epoch: 0, Training Step: 73, Loss: 0.6391046643257141\n",
      "Epoch: 0, Training Step: 74, Loss: 0.6245640516281128\n",
      "Epoch: 0, Training Step: 75, Loss: 0.6239125728607178\n",
      "Epoch: 0, Training Step: 76, Loss: 0.641933798789978\n"
     ]
    },
    {
     "name": "stderr",
     "output_type": "stream",
     "text": []
    },
    {
     "name": "stdout",
     "output_type": "stream",
     "text": [
      "Epoch: 0, Training Step: 77, Loss: 0.5892487168312073\n",
      "Epoch: 0, Training Step: 78, Loss: 0.6232490539550781\n",
      "Epoch: 0, Training Step: 79, Loss: 0.5196049213409424\n",
      "Epoch: 0, Training Step: 80, Loss: 0.5144240856170654\n",
      "Epoch: 0, Training Step: 81, Loss: 0.519829511642456\n"
     ]
    },
    {
     "name": "stderr",
     "output_type": "stream",
     "text": [
      "\n"
     ]
    },
    {
     "name": "stdout",
     "output_type": "stream",
     "text": [
      "Epoch: 0, Training Step: 82, Loss: 0.5275766253471375\n",
      "Epoch: 0, Training Step: 83, Loss: 0.6403883099555969\n",
      "Epoch: 0, Training Step: 84, Loss: 0.559909999370575\n",
      "Epoch: 0, Training Step: 85, Loss: 0.5611015558242798\n",
      "Epoch: 0, Training Step: 86, Loss: 0.5322502255439758\n"
     ]
    },
    {
     "name": "stderr",
     "output_type": "stream",
     "text": [
      "Iteration:  10%|▉         | 87/882 [00:07<01:08, 11.68it/s]\u001b[A"
     ]
    },
    {
     "name": "stdout",
     "output_type": "stream",
     "text": [
      "Epoch: 0, Training Step: 87, Loss: 0.5890684723854065\n",
      "Epoch: 0, Training Step: 88, Loss: 0.5259948968887329\n",
      "Epoch: 0, Training Step: 89, Loss: 0.5230473279953003\n",
      "Epoch: 0, Training Step: 90, Loss: 0.7197423577308655\n"
     ]
    },
    {
     "name": "stderr",
     "output_type": "stream",
     "text": []
    },
    {
     "name": "stdout",
     "output_type": "stream",
     "text": [
      "Epoch: 0, Training Step: 91, Loss: 0.6816434264183044\n",
      "Epoch: 0, Training Step: 92, Loss: 0.5719955563545227\n",
      "Epoch: 0, Training Step: 93, Loss: 0.5878469944000244\n",
      "Epoch: 0, Training Step: 94, Loss: 0.5369150638580322\n",
      "Epoch: 0, Training Step: 95, Loss: 0.4982788562774658\n"
     ]
    },
    {
     "name": "stderr",
     "output_type": "stream",
     "text": []
    },
    {
     "name": "stdout",
     "output_type": "stream",
     "text": [
      "Epoch: 0, Training Step: 96, Loss: 0.5183472633361816\n",
      "Epoch: 0, Training Step: 97, Loss: 0.6070220470428467\n",
      "Epoch: 0, Training Step: 98, Loss: 0.6165627241134644\n",
      "Epoch: 0, Training Step: 99, Loss: 0.5129234790802002\n",
      "Epoch: 0, Training Step: 100, Loss: 0.5172629356384277\n",
      "Checkpoint saved at epoch 0, training step 100.\n",
      "TripletEvaluator: Evaluating the model on the gooaq dataset in epoch 0 after 100 steps:\n"
     ]
    },
    {
     "name": "stderr",
     "output_type": "stream",
     "text": [
      "\n",
      "\u001b[A\n",
      "\u001b[A\n",
      "\u001b[A\n",
      "\u001b[A\n",
      "\u001b[A\n",
      "\u001b[A\n",
      "100%|██████████| 50/50 [00:00<00:00, 72.68it/s]\n",
      "\n",
      "\u001b[A\n",
      "\u001b[A\n",
      "\u001b[A\n",
      "\u001b[A\n",
      "\u001b[A\n",
      "\u001b[A\n",
      "100%|██████████| 50/50 [00:00<00:00, 74.16it/s]\n",
      "\n",
      "\u001b[A\n",
      "\u001b[A\n",
      "\u001b[A\n",
      "\u001b[A\n",
      "\u001b[A\n",
      "\u001b[A\n",
      "100%|██████████| 50/50 [00:00<00:00, 73.36it/s]\n"
     ]
    },
    {
     "name": "stdout",
     "output_type": "stream",
     "text": [
      "Accuracy Cosine Distance:   \t78.61\n",
      "Accuracy Dot Product:       \t22.18\n",
      "Accuracy Manhattan Distance:\t78.47\n",
      "Accuracy Euclidean Distance:\t78.55\n",
      "\n",
      "Checkpoint saved at epoch 0, training step 100.\n",
      "Epoch: 0, Training Step: 101, Loss: 0.6396262645721436\n",
      "Epoch: 0, Training Step: 102, Loss: 0.6095990538597107\n",
      "Epoch: 0, Training Step: 103, Loss: 0.610420823097229\n"
     ]
    },
    {
     "name": "stderr",
     "output_type": "stream",
     "text": []
    },
    {
     "name": "stdout",
     "output_type": "stream",
     "text": [
      "Epoch: 0, Training Step: 104, Loss: 0.6277140974998474\n",
      "Epoch: 0, Training Step: 105, Loss: 0.6391605138778687\n",
      "Epoch: 0, Training Step: 106, Loss: 0.6979897022247314\n",
      "Epoch: 0, Training Step: 107, Loss: 0.6384088397026062\n",
      "Epoch: 0, Training Step: 108, Loss: 0.5413711071014404\n"
     ]
    },
    {
     "name": "stderr",
     "output_type": "stream",
     "text": [
      "\n"
     ]
    },
    {
     "name": "stdout",
     "output_type": "stream",
     "text": [
      "Epoch: 0, Training Step: 109, Loss: 0.575456440448761\n",
      "Epoch: 0, Training Step: 110, Loss: 0.637133777141571\n",
      "Epoch: 0, Training Step: 111, Loss: 0.6173908710479736\n",
      "Epoch: 0, Training Step: 112, Loss: 0.5910661220550537\n",
      "Epoch: 0, Training Step: 113, Loss: 0.6640176177024841\n"
     ]
    },
    {
     "name": "stderr",
     "output_type": "stream",
     "text": [
      "Iteration:  13%|█▎        | 114/882 [00:11<01:29,  8.58it/s]\u001b[A"
     ]
    },
    {
     "name": "stdout",
     "output_type": "stream",
     "text": [
      "Epoch: 0, Training Step: 114, Loss: 0.5856257081031799\n",
      "Epoch: 0, Training Step: 115, Loss: 0.6062970161437988\n",
      "Epoch: 0, Training Step: 116, Loss: 0.6588729619979858\n",
      "Epoch: 0, Training Step: 117, Loss: 0.5282298922538757\n"
     ]
    },
    {
     "name": "stderr",
     "output_type": "stream",
     "text": [
      "\n"
     ]
    },
    {
     "name": "stdout",
     "output_type": "stream",
     "text": [
      "Epoch: 0, Training Step: 118, Loss: 0.5115801692008972\n",
      "Epoch: 0, Training Step: 119, Loss: 0.6007202863693237\n",
      "Epoch: 0, Training Step: 120, Loss: 0.6138918399810791\n",
      "Epoch: 0, Training Step: 121, Loss: 0.695749044418335\n"
     ]
    },
    {
     "name": "stderr",
     "output_type": "stream",
     "text": [
      "Iteration:  14%|█▍        | 122/882 [00:12<01:21,  9.34it/s]\u001b[A"
     ]
    },
    {
     "name": "stdout",
     "output_type": "stream",
     "text": [
      "Epoch: 0, Training Step: 122, Loss: 0.6774832010269165\n",
      "Epoch: 0, Training Step: 123, Loss: 0.5950338840484619\n",
      "Epoch: 0, Training Step: 124, Loss: 0.4652724862098694\n",
      "Epoch: 0, Training Step: 125, Loss: 0.5293134450912476\n",
      "Epoch: 0, Training Step: 126, Loss: 0.48679620027542114\n"
     ]
    },
    {
     "name": "stderr",
     "output_type": "stream",
     "text": []
    },
    {
     "name": "stdout",
     "output_type": "stream",
     "text": [
      "Epoch: 0, Training Step: 127, Loss: 0.5631760954856873\n",
      "Epoch: 0, Training Step: 128, Loss: 0.5775160789489746\n",
      "Epoch: 0, Training Step: 129, Loss: 0.546990156173706\n",
      "Epoch: 0, Training Step: 130, Loss: 0.5235733985900879\n"
     ]
    },
    {
     "name": "stderr",
     "output_type": "stream",
     "text": [
      "\n"
     ]
    },
    {
     "name": "stdout",
     "output_type": "stream",
     "text": [
      "Epoch: 0, Training Step: 131, Loss: 0.48154395818710327\n",
      "Epoch: 0, Training Step: 132, Loss: 0.37027427554130554\n",
      "Epoch: 0, Training Step: 133, Loss: 0.5078272819519043\n",
      "Epoch: 0, Training Step: 134, Loss: 0.5034739971160889\n",
      "Epoch: 0, Training Step: 135, Loss: 0.5491487383842468\n"
     ]
    },
    {
     "name": "stderr",
     "output_type": "stream",
     "text": [
      "Iteration:  15%|█▌        | 136/882 [00:12<01:08, 10.87it/s]\u001b[A"
     ]
    },
    {
     "name": "stdout",
     "output_type": "stream",
     "text": [
      "Epoch: 0, Training Step: 136, Loss: 0.5168636441230774\n",
      "Epoch: 0, Training Step: 137, Loss: 0.5005372762680054\n",
      "Epoch: 0, Training Step: 138, Loss: 0.46845710277557373\n",
      "Epoch: 0, Training Step: 139, Loss: 0.4186633825302124\n"
     ]
    },
    {
     "name": "stderr",
     "output_type": "stream",
     "text": [
      "\n"
     ]
    },
    {
     "name": "stdout",
     "output_type": "stream",
     "text": [
      "Epoch: 0, Training Step: 140, Loss: 0.4608370065689087\n",
      "Epoch: 0, Training Step: 141, Loss: 0.49883532524108887\n",
      "Epoch: 0, Training Step: 142, Loss: 0.5111793279647827\n",
      "Epoch: 0, Training Step: 143, Loss: 0.6500294208526611\n"
     ]
    },
    {
     "name": "stderr",
     "output_type": "stream",
     "text": [
      "Iteration:  16%|█▋        | 144/882 [00:13<01:03, 11.55it/s]\u001b[A"
     ]
    },
    {
     "name": "stdout",
     "output_type": "stream",
     "text": [
      "Epoch: 0, Training Step: 144, Loss: 0.6308231949806213\n",
      "Epoch: 0, Training Step: 145, Loss: 0.6499363780021667\n",
      "Epoch: 0, Training Step: 146, Loss: 0.6678625345230103\n",
      "Epoch: 0, Training Step: 147, Loss: 0.5579940676689148\n"
     ]
    },
    {
     "name": "stderr",
     "output_type": "stream",
     "text": []
    },
    {
     "name": "stdout",
     "output_type": "stream",
     "text": [
      "Epoch: 0, Training Step: 148, Loss: 0.45114365220069885\n",
      "Epoch: 0, Training Step: 149, Loss: 0.5977015495300293\n",
      "Epoch: 0, Training Step: 150, Loss: 0.463058203458786\n",
      "Checkpoint saved at epoch 0, training step 150.\n",
      "TripletEvaluator: Evaluating the model on the gooaq dataset in epoch 0 after 150 steps:\n"
     ]
    },
    {
     "name": "stderr",
     "output_type": "stream",
     "text": [
      "\n",
      "\u001b[A\n",
      "\u001b[A\n",
      "\u001b[A\n",
      "\u001b[A\n",
      "\u001b[A\n",
      "\u001b[A\n",
      "100%|██████████| 50/50 [00:00<00:00, 69.90it/s]\n",
      "\n",
      "\u001b[A\n",
      "\u001b[A\n",
      "\u001b[A\n",
      "\u001b[A\n",
      "\u001b[A\n",
      "100%|██████████| 50/50 [00:00<00:00, 72.80it/s]\n",
      "\n",
      "\u001b[A\n",
      "\u001b[A\n",
      "\u001b[A\n",
      "\u001b[A\n",
      "\u001b[A\n",
      "\u001b[A\n",
      "100%|██████████| 50/50 [00:00<00:00, 75.16it/s]\n"
     ]
    },
    {
     "name": "stdout",
     "output_type": "stream",
     "text": [
      "Accuracy Cosine Distance:   \t79.29\n",
      "Accuracy Dot Product:       \t21.73\n",
      "Accuracy Manhattan Distance:\t78.72\n",
      "Accuracy Euclidean Distance:\t78.88\n",
      "\n",
      "Checkpoint saved at epoch 0, training step 150.\n",
      "Epoch: 0, Training Step: 151, Loss: 0.5600978136062622\n"
     ]
    },
    {
     "name": "stderr",
     "output_type": "stream",
     "text": []
    },
    {
     "name": "stdout",
     "output_type": "stream",
     "text": [
      "Epoch: 0, Training Step: 152, Loss: 0.54833984375\n",
      "Epoch: 0, Training Step: 153, Loss: 0.5869492292404175\n",
      "Epoch: 0, Training Step: 154, Loss: 0.5884824991226196\n",
      "Epoch: 0, Training Step: 155, Loss: 0.6644624471664429\n"
     ]
    },
    {
     "name": "stderr",
     "output_type": "stream",
     "text": [
      "\n"
     ]
    },
    {
     "name": "stdout",
     "output_type": "stream",
     "text": [
      "Epoch: 0, Training Step: 156, Loss: 0.5250715613365173\n",
      "Epoch: 0, Training Step: 157, Loss: 0.47649985551834106\n",
      "Epoch: 0, Training Step: 158, Loss: 0.4238375723361969\n",
      "Epoch: 0, Training Step: 159, Loss: 0.4034701883792877\n"
     ]
    },
    {
     "name": "stderr",
     "output_type": "stream",
     "text": [
      "Iteration:  18%|█▊        | 160/882 [00:17<01:33,  7.75it/s]\u001b[A"
     ]
    },
    {
     "name": "stdout",
     "output_type": "stream",
     "text": [
      "Epoch: 0, Training Step: 160, Loss: 0.5640180110931396\n",
      "Epoch: 0, Training Step: 161, Loss: 0.5076785087585449\n",
      "Epoch: 0, Training Step: 162, Loss: 0.6501421332359314\n",
      "Epoch: 0, Training Step: 163, Loss: 0.5566679239273071\n",
      "Epoch: 0, Training Step: 164, Loss: 0.5557811260223389\n"
     ]
    },
    {
     "name": "stderr",
     "output_type": "stream",
     "text": []
    },
    {
     "name": "stdout",
     "output_type": "stream",
     "text": [
      "Epoch: 0, Training Step: 165, Loss: 0.6319794654846191\n",
      "Epoch: 0, Training Step: 166, Loss: 0.6111101508140564\n",
      "Epoch: 0, Training Step: 167, Loss: 0.6059550046920776\n",
      "Epoch: 0, Training Step: 168, Loss: 0.5414825677871704\n",
      "Epoch: 0, Training Step: 169, Loss: 0.5577818155288696\n"
     ]
    },
    {
     "name": "stderr",
     "output_type": "stream",
     "text": []
    },
    {
     "name": "stdout",
     "output_type": "stream",
     "text": [
      "Epoch: 0, Training Step: 170, Loss: 0.4523073136806488\n",
      "Epoch: 0, Training Step: 171, Loss: 0.5358079671859741\n",
      "Epoch: 0, Training Step: 172, Loss: 0.46407195925712585\n",
      "Epoch: 0, Training Step: 173, Loss: 0.5761002898216248\n",
      "Epoch: 0, Training Step: 174, Loss: 0.5068948268890381\n"
     ]
    },
    {
     "name": "stderr",
     "output_type": "stream",
     "text": []
    },
    {
     "name": "stdout",
     "output_type": "stream",
     "text": [
      "Epoch: 0, Training Step: 175, Loss: 0.5212892293930054\n",
      "Epoch: 0, Training Step: 176, Loss: 0.5127800107002258\n",
      "Epoch: 0, Training Step: 177, Loss: 0.5199166536331177\n",
      "Epoch: 0, Training Step: 178, Loss: 0.51040118932724\n",
      "Epoch: 0, Training Step: 179, Loss: 0.5350287556648254\n"
     ]
    },
    {
     "name": "stderr",
     "output_type": "stream",
     "text": []
    },
    {
     "name": "stdout",
     "output_type": "stream",
     "text": [
      "Epoch: 0, Training Step: 180, Loss: 0.6547827124595642\n",
      "Epoch: 0, Training Step: 181, Loss: 0.6392809152603149\n",
      "Epoch: 0, Training Step: 182, Loss: 0.5454428791999817\n",
      "Epoch: 0, Training Step: 183, Loss: 0.5193031430244446\n"
     ]
    },
    {
     "name": "stderr",
     "output_type": "stream",
     "text": []
    },
    {
     "name": "stdout",
     "output_type": "stream",
     "text": [
      "Epoch: 0, Training Step: 184, Loss: 0.5651876330375671\n",
      "Epoch: 0, Training Step: 185, Loss: 0.6000339984893799\n",
      "Epoch: 0, Training Step: 186, Loss: 0.4714036285877228\n",
      "Epoch: 0, Training Step: 187, Loss: 0.514787495136261\n",
      "Epoch: 0, Training Step: 188, Loss: 0.4888184070587158\n"
     ]
    },
    {
     "name": "stderr",
     "output_type": "stream",
     "text": []
    },
    {
     "name": "stdout",
     "output_type": "stream",
     "text": [
      "Epoch: 0, Training Step: 189, Loss: 0.5309414863586426\n",
      "Epoch: 0, Training Step: 190, Loss: 0.6109679937362671\n",
      "Epoch: 0, Training Step: 191, Loss: 0.5737075805664062\n",
      "Epoch: 0, Training Step: 192, Loss: 0.5279769897460938\n",
      "Epoch: 0, Training Step: 193, Loss: 0.5434585809707642\n"
     ]
    },
    {
     "name": "stderr",
     "output_type": "stream",
     "text": []
    },
    {
     "name": "stdout",
     "output_type": "stream",
     "text": [
      "Epoch: 0, Training Step: 194, Loss: 0.5358421206474304\n",
      "Epoch: 0, Training Step: 195, Loss: 0.47576630115509033\n",
      "Epoch: 0, Training Step: 196, Loss: 0.4874557554721832\n",
      "Epoch: 0, Training Step: 197, Loss: 0.4569360613822937\n",
      "Epoch: 0, Training Step: 198, Loss: 0.3840841054916382\n"
     ]
    },
    {
     "name": "stderr",
     "output_type": "stream",
     "text": []
    },
    {
     "name": "stdout",
     "output_type": "stream",
     "text": [
      "Epoch: 0, Training Step: 199, Loss: 0.44416022300720215\n",
      "Epoch: 0, Training Step: 200, Loss: 0.6247354745864868\n",
      "Checkpoint saved at epoch 0, training step 200.\n",
      "TripletEvaluator: Evaluating the model on the gooaq dataset in epoch 0 after 200 steps:\n"
     ]
    },
    {
     "name": "stderr",
     "output_type": "stream",
     "text": [
      "\n",
      "\u001b[A\n",
      "\u001b[A\n",
      "\u001b[A\n",
      "\u001b[A\n",
      "\u001b[A\n",
      "\u001b[A\n",
      "100%|██████████| 50/50 [00:00<00:00, 73.64it/s]\n",
      "\n",
      "\u001b[A\n",
      "\u001b[A\n",
      "\u001b[A\n",
      "\u001b[A\n",
      "\u001b[A\n",
      "\u001b[A\n",
      "100%|██████████| 50/50 [00:00<00:00, 75.15it/s]\n",
      "\n",
      "\u001b[A\n",
      "\u001b[A\n",
      "\u001b[A\n",
      "\u001b[A\n",
      "\u001b[A\n",
      "\u001b[A\n",
      "100%|██████████| 50/50 [00:00<00:00, 73.90it/s]\n"
     ]
    },
    {
     "name": "stdout",
     "output_type": "stream",
     "text": [
      "Accuracy Cosine Distance:   \t79.57\n",
      "Accuracy Dot Product:       \t21.77\n",
      "Accuracy Manhattan Distance:\t79.00\n",
      "Accuracy Euclidean Distance:\t79.04\n",
      "\n",
      "Checkpoint saved at epoch 0, training step 200.\n"
     ]
    },
    {
     "name": "stderr",
     "output_type": "stream",
     "text": []
    },
    {
     "name": "stdout",
     "output_type": "stream",
     "text": [
      "Epoch: 0, Training Step: 201, Loss: 0.5699995160102844\n",
      "Epoch: 0, Training Step: 202, Loss: 0.5756914615631104\n",
      "Epoch: 0, Training Step: 203, Loss: 0.5932320952415466\n",
      "Epoch: 0, Training Step: 204, Loss: 0.5590720176696777\n",
      "Epoch: 0, Training Step: 205, Loss: 0.6698486804962158\n",
      "Epoch: 0, Training Step: 206, Loss: 0.6161119341850281\n"
     ]
    },
    {
     "name": "stderr",
     "output_type": "stream",
     "text": []
    },
    {
     "name": "stdout",
     "output_type": "stream",
     "text": [
      "Epoch: 0, Training Step: 207, Loss: 0.5266628265380859\n",
      "Epoch: 0, Training Step: 208, Loss: 0.46000489592552185\n",
      "Epoch: 0, Training Step: 209, Loss: 0.5672668218612671\n",
      "Epoch: 0, Training Step: 210, Loss: 0.6881616711616516\n",
      "Epoch: 0, Training Step: 211, Loss: 0.6566437482833862\n"
     ]
    },
    {
     "name": "stderr",
     "output_type": "stream",
     "text": []
    },
    {
     "name": "stdout",
     "output_type": "stream",
     "text": [
      "Epoch: 0, Training Step: 212, Loss: 0.5750964879989624\n",
      "Epoch: 0, Training Step: 213, Loss: 0.5541003942489624\n",
      "Epoch: 0, Training Step: 214, Loss: 0.5699294805526733\n",
      "Epoch: 0, Training Step: 215, Loss: 0.5275845527648926\n"
     ]
    },
    {
     "name": "stderr",
     "output_type": "stream",
     "text": [
      "\n"
     ]
    },
    {
     "name": "stdout",
     "output_type": "stream",
     "text": [
      "Epoch: 0, Training Step: 216, Loss: 0.4728877544403076\n",
      "Epoch: 0, Training Step: 217, Loss: 0.5122323036193848\n",
      "Epoch: 0, Training Step: 218, Loss: 0.4838842451572418\n",
      "Epoch: 0, Training Step: 219, Loss: 0.42227306962013245\n",
      "Epoch: 0, Training Step: 220, Loss: 0.4361613392829895\n"
     ]
    },
    {
     "name": "stderr",
     "output_type": "stream",
     "text": [
      "Iteration:  25%|██▌       | 221/882 [00:22<01:13,  9.03it/s]\u001b[A"
     ]
    },
    {
     "name": "stdout",
     "output_type": "stream",
     "text": [
      "Epoch: 0, Training Step: 221, Loss: 0.589398980140686\n",
      "Epoch: 0, Training Step: 222, Loss: 0.4793323278427124\n",
      "Epoch: 0, Training Step: 223, Loss: 0.5113937854766846\n",
      "Epoch: 0, Training Step: 224, Loss: 0.529601514339447\n",
      "Epoch: 0, Training Step: 225, Loss: 0.5954871773719788\n"
     ]
    },
    {
     "name": "stderr",
     "output_type": "stream",
     "text": []
    },
    {
     "name": "stdout",
     "output_type": "stream",
     "text": [
      "Epoch: 0, Training Step: 226, Loss: 0.5735610723495483\n",
      "Epoch: 0, Training Step: 227, Loss: 0.5675361752510071\n",
      "Epoch: 0, Training Step: 228, Loss: 0.6288251280784607\n",
      "Epoch: 0, Training Step: 229, Loss: 0.6377406120300293\n",
      "Epoch: 0, Training Step: 230, Loss: 0.6587069034576416\n"
     ]
    },
    {
     "name": "stderr",
     "output_type": "stream",
     "text": []
    },
    {
     "name": "stdout",
     "output_type": "stream",
     "text": [
      "Epoch: 0, Training Step: 231, Loss: 0.6617065668106079\n",
      "Epoch: 0, Training Step: 232, Loss: 0.5704506039619446\n",
      "Epoch: 0, Training Step: 233, Loss: 0.5276838541030884\n",
      "Epoch: 0, Training Step: 234, Loss: 0.5183218121528625\n",
      "Epoch: 0, Training Step: 235, Loss: 0.5679165720939636\n"
     ]
    },
    {
     "name": "stderr",
     "output_type": "stream",
     "text": []
    },
    {
     "name": "stdout",
     "output_type": "stream",
     "text": [
      "Epoch: 0, Training Step: 236, Loss: 0.5276893377304077\n",
      "Epoch: 0, Training Step: 237, Loss: 0.4962630867958069\n",
      "Epoch: 0, Training Step: 238, Loss: 0.5494983792304993\n",
      "Epoch: 0, Training Step: 239, Loss: 0.6008754968643188\n"
     ]
    },
    {
     "name": "stderr",
     "output_type": "stream",
     "text": [
      "\n"
     ]
    },
    {
     "name": "stdout",
     "output_type": "stream",
     "text": [
      "Epoch: 0, Training Step: 240, Loss: 0.5439186096191406\n",
      "Epoch: 0, Training Step: 241, Loss: 0.5926729440689087\n",
      "Epoch: 0, Training Step: 242, Loss: 0.6904010772705078\n",
      "Epoch: 0, Training Step: 243, Loss: 0.6506043076515198\n",
      "Epoch: 0, Training Step: 244, Loss: 0.5832678079605103\n",
      "Epoch: 0, Training Step: 245, Loss: 0.5073894262313843\n"
     ]
    },
    {
     "name": "stderr",
     "output_type": "stream",
     "text": [
      "Iteration:  28%|██▊       | 246/882 [00:24<00:54, 11.57it/s]\u001b[A"
     ]
    },
    {
     "name": "stdout",
     "output_type": "stream",
     "text": [
      "Epoch: 0, Training Step: 246, Loss: 0.3586345314979553\n",
      "Epoch: 0, Training Step: 247, Loss: 0.36157339811325073\n",
      "Epoch: 0, Training Step: 248, Loss: 0.5022376179695129\n",
      "Epoch: 0, Training Step: 249, Loss: 0.48868367075920105\n",
      "Epoch: 0, Training Step: 250, Loss: 0.564037024974823\n",
      "Checkpoint saved at epoch 0, training step 250.\n",
      "TripletEvaluator: Evaluating the model on the gooaq dataset in epoch 0 after 250 steps:\n"
     ]
    },
    {
     "name": "stderr",
     "output_type": "stream",
     "text": [
      "\n",
      "\u001b[A\n",
      "\u001b[A\n",
      "\u001b[A\n",
      "\u001b[A\n",
      "\u001b[A\n",
      "100%|██████████| 50/50 [00:00<00:00, 75.95it/s]\n",
      "\n",
      "\u001b[A\n",
      "\u001b[A\n",
      "\u001b[A\n",
      "\u001b[A\n",
      "\u001b[A\n",
      "100%|██████████| 50/50 [00:00<00:00, 77.60it/s]\n",
      "\n",
      "\u001b[A\n",
      "\u001b[A\n",
      "\u001b[A\n",
      "\u001b[A\n",
      "\u001b[A\n",
      "\u001b[A\n",
      "100%|██████████| 50/50 [00:00<00:00, 76.04it/s]\n"
     ]
    },
    {
     "name": "stdout",
     "output_type": "stream",
     "text": [
      "Accuracy Cosine Distance:   \t79.79\n",
      "Accuracy Dot Product:       \t21.45\n",
      "Accuracy Manhattan Distance:\t79.33\n",
      "Accuracy Euclidean Distance:\t79.04\n",
      "\n",
      "Checkpoint saved at epoch 0, training step 250.\n",
      "Epoch: 0, Training Step: 251, Loss: 0.6196255087852478\n",
      "Epoch: 0, Training Step: 252, Loss: 0.5663920044898987\n",
      "Epoch: 0, Training Step: 253, Loss: 0.5199429988861084\n"
     ]
    },
    {
     "name": "stderr",
     "output_type": "stream",
     "text": []
    },
    {
     "name": "stdout",
     "output_type": "stream",
     "text": [
      "Epoch: 0, Training Step: 254, Loss: 0.45349881052970886\n",
      "Epoch: 0, Training Step: 255, Loss: 0.45489007234573364\n",
      "Epoch: 0, Training Step: 256, Loss: 0.4998243451118469\n",
      "Epoch: 0, Training Step: 257, Loss: 0.37761715054512024\n",
      "Epoch: 0, Training Step: 258, Loss: 0.45465242862701416\n"
     ]
    },
    {
     "name": "stderr",
     "output_type": "stream",
     "text": []
    },
    {
     "name": "stdout",
     "output_type": "stream",
     "text": [
      "Epoch: 0, Training Step: 259, Loss: 0.5000072717666626\n",
      "Epoch: 0, Training Step: 260, Loss: 0.5438180565834045\n",
      "Epoch: 0, Training Step: 261, Loss: 0.5773286819458008\n",
      "Epoch: 0, Training Step: 262, Loss: 0.5426313281059265\n",
      "Epoch: 0, Training Step: 263, Loss: 0.5518150329589844\n"
     ]
    },
    {
     "name": "stderr",
     "output_type": "stream",
     "text": []
    },
    {
     "name": "stdout",
     "output_type": "stream",
     "text": [
      "Epoch: 0, Training Step: 264, Loss: 0.6539112329483032\n",
      "Epoch: 0, Training Step: 265, Loss: 0.5703680515289307\n",
      "Epoch: 0, Training Step: 266, Loss: 0.6006729006767273\n",
      "Epoch: 0, Training Step: 267, Loss: 0.5989284515380859\n"
     ]
    },
    {
     "name": "stderr",
     "output_type": "stream",
     "text": [
      "\n"
     ]
    },
    {
     "name": "stdout",
     "output_type": "stream",
     "text": [
      "Epoch: 0, Training Step: 268, Loss: 0.494268536567688\n",
      "Epoch: 0, Training Step: 269, Loss: 0.48329874873161316\n",
      "Epoch: 0, Training Step: 270, Loss: 0.6046196222305298\n",
      "Epoch: 0, Training Step: 271, Loss: 0.6056918501853943\n",
      "Epoch: 0, Training Step: 272, Loss: 0.5773663520812988\n"
     ]
    },
    {
     "name": "stderr",
     "output_type": "stream",
     "text": [
      "Iteration:  31%|███       | 273/882 [00:28<01:04,  9.48it/s]\u001b[A"
     ]
    },
    {
     "name": "stdout",
     "output_type": "stream",
     "text": [
      "Epoch: 0, Training Step: 273, Loss: 0.5726721882820129\n",
      "Epoch: 0, Training Step: 274, Loss: 0.5609049797058105\n",
      "Epoch: 0, Training Step: 275, Loss: 0.497275173664093\n",
      "Epoch: 0, Training Step: 276, Loss: 0.4677661657333374\n",
      "Epoch: 0, Training Step: 277, Loss: 0.4496091902256012\n"
     ]
    },
    {
     "name": "stderr",
     "output_type": "stream",
     "text": []
    },
    {
     "name": "stdout",
     "output_type": "stream",
     "text": [
      "Epoch: 0, Training Step: 278, Loss: 0.4049230217933655\n",
      "Epoch: 0, Training Step: 279, Loss: 0.3851279020309448\n",
      "Epoch: 0, Training Step: 280, Loss: 0.4189191460609436\n",
      "Epoch: 0, Training Step: 281, Loss: 0.4751611351966858\n"
     ]
    },
    {
     "name": "stderr",
     "output_type": "stream",
     "text": []
    },
    {
     "name": "stdout",
     "output_type": "stream",
     "text": [
      "Epoch: 0, Training Step: 282, Loss: 0.50860196352005\n",
      "Epoch: 0, Training Step: 283, Loss: 0.621915876865387\n",
      "Epoch: 0, Training Step: 284, Loss: 0.5739263296127319\n",
      "Epoch: 0, Training Step: 285, Loss: 0.6651250720024109\n",
      "Epoch: 0, Training Step: 286, Loss: 0.5857590436935425\n"
     ]
    },
    {
     "name": "stderr",
     "output_type": "stream",
     "text": []
    },
    {
     "name": "stdout",
     "output_type": "stream",
     "text": [
      "Epoch: 0, Training Step: 287, Loss: 0.5463793873786926\n",
      "Epoch: 0, Training Step: 288, Loss: 0.5198483467102051\n",
      "Epoch: 0, Training Step: 289, Loss: 0.48558974266052246\n",
      "Epoch: 0, Training Step: 290, Loss: 0.571565568447113\n",
      "Epoch: 0, Training Step: 291, Loss: 0.46966877579689026\n"
     ]
    },
    {
     "name": "stderr",
     "output_type": "stream",
     "text": [
      "\n"
     ]
    },
    {
     "name": "stdout",
     "output_type": "stream",
     "text": [
      "Epoch: 0, Training Step: 292, Loss: 0.5568298101425171\n",
      "Epoch: 0, Training Step: 293, Loss: 0.49723613262176514\n",
      "Epoch: 0, Training Step: 294, Loss: 0.48012775182724\n",
      "Epoch: 0, Training Step: 295, Loss: 0.4958830773830414\n",
      "Epoch: 0, Training Step: 296, Loss: 0.4730980694293976\n"
     ]
    },
    {
     "name": "stderr",
     "output_type": "stream",
     "text": [
      "Iteration:  34%|███▎      | 297/882 [00:29<00:49, 11.71it/s]\u001b[A"
     ]
    },
    {
     "name": "stdout",
     "output_type": "stream",
     "text": [
      "Epoch: 0, Training Step: 297, Loss: 0.44877079129219055\n",
      "Epoch: 0, Training Step: 298, Loss: 0.5230696201324463\n",
      "Epoch: 0, Training Step: 299, Loss: 0.5440454483032227\n",
      "Epoch: 0, Training Step: 300, Loss: 0.6058851480484009\n",
      "Checkpoint saved at epoch 0, training step 300.\n",
      "TripletEvaluator: Evaluating the model on the gooaq dataset in epoch 0 after 300 steps:\n"
     ]
    },
    {
     "name": "stderr",
     "output_type": "stream",
     "text": [
      "\n",
      "\u001b[A\n",
      "\u001b[A\n",
      "\u001b[A\n",
      "\u001b[A\n",
      "\u001b[A\n",
      "100%|██████████| 50/50 [00:00<00:00, 78.50it/s]\n",
      "\n",
      "\u001b[A\n",
      "\u001b[A\n",
      "\u001b[A\n",
      "\u001b[A\n",
      "\u001b[A\n",
      "\u001b[A\n",
      "100%|██████████| 50/50 [00:00<00:00, 69.84it/s]\n",
      "\n",
      "\u001b[A\n",
      "\u001b[A\n",
      "\u001b[A\n",
      "\u001b[A\n",
      "\u001b[A\n",
      "\u001b[A\n",
      "100%|██████████| 50/50 [00:00<00:00, 75.50it/s]\n"
     ]
    },
    {
     "name": "stdout",
     "output_type": "stream",
     "text": [
      "Accuracy Cosine Distance:   \t79.89\n",
      "Accuracy Dot Product:       \t21.43\n",
      "Accuracy Manhattan Distance:\t79.51\n",
      "Accuracy Euclidean Distance:\t79.18\n",
      "\n",
      "Checkpoint saved at epoch 0, training step 300.\n",
      "Epoch: 0, Training Step: 301, Loss: 0.5926867127418518\n",
      "Epoch: 0, Training Step: 302, Loss: 0.657006025314331\n",
      "Epoch: 0, Training Step: 303, Loss: 0.7366060018539429\n"
     ]
    },
    {
     "name": "stderr",
     "output_type": "stream",
     "text": []
    },
    {
     "name": "stdout",
     "output_type": "stream",
     "text": [
      "Epoch: 0, Training Step: 304, Loss: 0.637567937374115\n",
      "Epoch: 0, Training Step: 305, Loss: 0.5803671479225159\n",
      "Epoch: 0, Training Step: 306, Loss: 0.6041829586029053\n",
      "Epoch: 0, Training Step: 307, Loss: 0.6937261819839478\n",
      "Epoch: 0, Training Step: 308, Loss: 0.46096765995025635\n"
     ]
    },
    {
     "name": "stderr",
     "output_type": "stream",
     "text": []
    },
    {
     "name": "stdout",
     "output_type": "stream",
     "text": [
      "Epoch: 0, Training Step: 309, Loss: 0.4799671471118927\n",
      "Epoch: 0, Training Step: 310, Loss: 0.38273754715919495\n",
      "Epoch: 0, Training Step: 311, Loss: 0.38572028279304504\n",
      "Epoch: 0, Training Step: 312, Loss: 0.38137057423591614\n",
      "Epoch: 0, Training Step: 313, Loss: 0.3620874881744385\n"
     ]
    },
    {
     "name": "stderr",
     "output_type": "stream",
     "text": []
    },
    {
     "name": "stdout",
     "output_type": "stream",
     "text": [
      "Epoch: 0, Training Step: 314, Loss: 0.4219290018081665\n",
      "Epoch: 0, Training Step: 315, Loss: 0.42669394612312317\n",
      "Epoch: 0, Training Step: 316, Loss: 0.4859958291053772\n",
      "Epoch: 0, Training Step: 317, Loss: 0.5264847874641418\n",
      "Epoch: 0, Training Step: 318, Loss: 0.5201078653335571\n"
     ]
    },
    {
     "name": "stderr",
     "output_type": "stream",
     "text": [
      "\n"
     ]
    },
    {
     "name": "stdout",
     "output_type": "stream",
     "text": [
      "Epoch: 0, Training Step: 319, Loss: 0.5466336011886597\n",
      "Epoch: 0, Training Step: 320, Loss: 0.6498454809188843\n",
      "Epoch: 0, Training Step: 321, Loss: 0.6019090414047241\n",
      "Epoch: 0, Training Step: 322, Loss: 0.6106791496276855\n",
      "Epoch: 0, Training Step: 323, Loss: 0.5111086964607239\n"
     ]
    },
    {
     "name": "stderr",
     "output_type": "stream",
     "text": [
      "Iteration:  37%|███▋      | 324/882 [00:33<00:58,  9.58it/s]\u001b[A"
     ]
    },
    {
     "name": "stdout",
     "output_type": "stream",
     "text": [
      "Epoch: 0, Training Step: 324, Loss: 0.5178931355476379\n",
      "Epoch: 0, Training Step: 325, Loss: 0.5437361598014832\n",
      "Epoch: 0, Training Step: 326, Loss: 0.5625577569007874\n",
      "Epoch: 0, Training Step: 327, Loss: 0.5867308974266052\n",
      "Epoch: 0, Training Step: 328, Loss: 0.5371778011322021\n"
     ]
    },
    {
     "name": "stderr",
     "output_type": "stream",
     "text": []
    },
    {
     "name": "stdout",
     "output_type": "stream",
     "text": [
      "Epoch: 0, Training Step: 329, Loss: 0.5231000781059265\n",
      "Epoch: 0, Training Step: 330, Loss: 0.6033732891082764\n",
      "Epoch: 0, Training Step: 331, Loss: 0.6466661095619202\n",
      "Epoch: 0, Training Step: 332, Loss: 0.6494633555412292\n",
      "Epoch: 0, Training Step: 333, Loss: 0.6085296273231506\n"
     ]
    },
    {
     "name": "stderr",
     "output_type": "stream",
     "text": []
    },
    {
     "name": "stdout",
     "output_type": "stream",
     "text": [
      "Epoch: 0, Training Step: 334, Loss: 0.600421130657196\n",
      "Epoch: 0, Training Step: 335, Loss: 0.520733118057251\n",
      "Epoch: 0, Training Step: 336, Loss: 0.520306408405304\n",
      "Epoch: 0, Training Step: 337, Loss: 0.4518361985683441\n",
      "Epoch: 0, Training Step: 338, Loss: 0.4383503794670105\n"
     ]
    },
    {
     "name": "stderr",
     "output_type": "stream",
     "text": []
    },
    {
     "name": "stdout",
     "output_type": "stream",
     "text": [
      "Epoch: 0, Training Step: 339, Loss: 0.5283015966415405\n",
      "Epoch: 0, Training Step: 340, Loss: 0.5097954869270325\n",
      "Epoch: 0, Training Step: 341, Loss: 0.5214123725891113\n",
      "Epoch: 0, Training Step: 342, Loss: 0.4601370692253113\n",
      "Epoch: 0, Training Step: 343, Loss: 0.5450062155723572\n"
     ]
    },
    {
     "name": "stderr",
     "output_type": "stream",
     "text": []
    },
    {
     "name": "stdout",
     "output_type": "stream",
     "text": [
      "Epoch: 0, Training Step: 344, Loss: 0.48071348667144775\n",
      "Epoch: 0, Training Step: 345, Loss: 0.5324290990829468\n",
      "Epoch: 0, Training Step: 346, Loss: 0.4849528968334198\n",
      "Epoch: 0, Training Step: 347, Loss: 0.638628363609314\n",
      "Epoch: 0, Training Step: 348, Loss: 0.6078518033027649\n",
      "Epoch: 0, Training Step: 349, Loss: 0.5917966365814209\n",
      "Epoch: 0, Training Step: 350, Loss: 0.5945129990577698\n",
      "Checkpoint saved at epoch 0, training step 350.\n",
      "TripletEvaluator: Evaluating the model on the gooaq dataset in epoch 0 after 350 steps:\n"
     ]
    },
    {
     "name": "stderr",
     "output_type": "stream",
     "text": [
      "\n",
      "\u001b[A\n",
      "\u001b[A\n",
      "\u001b[A\n",
      "\u001b[A\n",
      "\u001b[A\n",
      "100%|██████████| 50/50 [00:00<00:00, 83.27it/s]\n",
      "\n",
      "\u001b[A\n",
      "\u001b[A\n",
      "\u001b[A\n",
      "\u001b[A\n",
      "\u001b[A\n",
      "100%|██████████| 50/50 [00:00<00:00, 79.67it/s]\n",
      "\n",
      "\u001b[A\n",
      "\u001b[A\n",
      "\u001b[A\n",
      "\u001b[A\n",
      "\u001b[A\n",
      "100%|██████████| 50/50 [00:00<00:00, 78.55it/s]\n"
     ]
    },
    {
     "name": "stdout",
     "output_type": "stream",
     "text": [
      "Accuracy Cosine Distance:   \t79.94\n",
      "Accuracy Dot Product:       \t21.28\n",
      "Accuracy Manhattan Distance:\t79.49\n",
      "Accuracy Euclidean Distance:\t79.49\n",
      "\n",
      "Checkpoint saved at epoch 0, training step 350.\n",
      "Epoch: 0, Training Step: 351, Loss: 0.6650524139404297\n",
      "Epoch: 0, Training Step: 352, Loss: 0.6653979420661926\n",
      "Epoch: 0, Training Step: 353, Loss: 0.6848857998847961\n"
     ]
    },
    {
     "name": "stderr",
     "output_type": "stream",
     "text": []
    },
    {
     "name": "stdout",
     "output_type": "stream",
     "text": [
      "Epoch: 0, Training Step: 354, Loss: 0.6157074570655823\n",
      "Epoch: 0, Training Step: 355, Loss: 0.5010941028594971\n",
      "Epoch: 0, Training Step: 356, Loss: 0.43612387776374817\n",
      "Epoch: 0, Training Step: 357, Loss: 0.47570380568504333\n",
      "Epoch: 0, Training Step: 358, Loss: 0.6209973692893982\n"
     ]
    },
    {
     "name": "stderr",
     "output_type": "stream",
     "text": []
    },
    {
     "name": "stdout",
     "output_type": "stream",
     "text": [
      "Epoch: 0, Training Step: 359, Loss: 0.5576456785202026\n",
      "Epoch: 0, Training Step: 360, Loss: 0.6570219397544861\n",
      "Epoch: 0, Training Step: 361, Loss: 0.6917760968208313\n",
      "Epoch: 0, Training Step: 362, Loss: 0.6356749534606934\n",
      "Epoch: 0, Training Step: 363, Loss: 0.6024314761161804\n"
     ]
    },
    {
     "name": "stderr",
     "output_type": "stream",
     "text": []
    },
    {
     "name": "stdout",
     "output_type": "stream",
     "text": [
      "Epoch: 0, Training Step: 364, Loss: 0.5592492818832397\n",
      "Epoch: 0, Training Step: 365, Loss: 0.5276462435722351\n",
      "Epoch: 0, Training Step: 366, Loss: 0.5117384791374207\n",
      "Epoch: 0, Training Step: 367, Loss: 0.46229878067970276\n",
      "Epoch: 0, Training Step: 368, Loss: 0.5324228405952454\n"
     ]
    },
    {
     "name": "stderr",
     "output_type": "stream",
     "text": []
    },
    {
     "name": "stdout",
     "output_type": "stream",
     "text": [
      "Epoch: 0, Training Step: 369, Loss: 0.6620720028877258\n",
      "Epoch: 0, Training Step: 370, Loss: 0.4467121958732605\n",
      "Epoch: 0, Training Step: 371, Loss: 0.4820123314857483\n",
      "Epoch: 0, Training Step: 372, Loss: 0.533847451210022\n",
      "Epoch: 0, Training Step: 373, Loss: 0.46581318974494934\n"
     ]
    },
    {
     "name": "stderr",
     "output_type": "stream",
     "text": []
    },
    {
     "name": "stdout",
     "output_type": "stream",
     "text": [
      "Epoch: 0, Training Step: 374, Loss: 0.4091707170009613\n",
      "Epoch: 0, Training Step: 375, Loss: 0.4229186773300171\n",
      "Epoch: 0, Training Step: 376, Loss: 0.4133763015270233\n",
      "Epoch: 0, Training Step: 377, Loss: 0.33292606472969055\n",
      "Epoch: 0, Training Step: 378, Loss: 0.35353195667266846\n"
     ]
    },
    {
     "name": "stderr",
     "output_type": "stream",
     "text": [
      "\n"
     ]
    },
    {
     "name": "stdout",
     "output_type": "stream",
     "text": [
      "Epoch: 0, Training Step: 379, Loss: 0.4408154785633087\n",
      "Epoch: 0, Training Step: 380, Loss: 0.42209967970848083\n",
      "Epoch: 0, Training Step: 381, Loss: 0.4116235077381134\n",
      "Epoch: 0, Training Step: 382, Loss: 0.47327888011932373\n",
      "Epoch: 0, Training Step: 383, Loss: 0.534118115901947\n"
     ]
    },
    {
     "name": "stderr",
     "output_type": "stream",
     "text": [
      "Iteration:  44%|████▎     | 384/882 [00:38<00:45, 10.98it/s]\u001b[A"
     ]
    },
    {
     "name": "stdout",
     "output_type": "stream",
     "text": [
      "Epoch: 0, Training Step: 384, Loss: 0.49869364500045776\n",
      "Epoch: 0, Training Step: 385, Loss: 0.4531562924385071\n",
      "Epoch: 0, Training Step: 386, Loss: 0.40271759033203125\n",
      "Epoch: 0, Training Step: 387, Loss: 0.43023207783699036\n",
      "Epoch: 0, Training Step: 388, Loss: 0.5957514047622681\n"
     ]
    },
    {
     "name": "stderr",
     "output_type": "stream",
     "text": []
    },
    {
     "name": "stdout",
     "output_type": "stream",
     "text": [
      "Epoch: 0, Training Step: 389, Loss: 0.5721627473831177\n",
      "Epoch: 0, Training Step: 390, Loss: 0.5542266964912415\n",
      "Epoch: 0, Training Step: 391, Loss: 0.5283516049385071\n",
      "Epoch: 0, Training Step: 392, Loss: 0.6657659411430359\n",
      "Epoch: 0, Training Step: 393, Loss: 0.6104367971420288\n"
     ]
    },
    {
     "name": "stderr",
     "output_type": "stream",
     "text": []
    },
    {
     "name": "stdout",
     "output_type": "stream",
     "text": [
      "Epoch: 0, Training Step: 394, Loss: 0.5653699636459351\n",
      "Epoch: 0, Training Step: 395, Loss: 0.48125407099723816\n",
      "Epoch: 0, Training Step: 396, Loss: 0.38119807839393616\n",
      "Epoch: 0, Training Step: 397, Loss: 0.42015910148620605\n",
      "Epoch: 0, Training Step: 398, Loss: 0.49748992919921875\n",
      "Epoch: 0, Training Step: 399, Loss: 0.5827750563621521\n",
      "Epoch: 0, Training Step: 400, Loss: 0.5030417442321777\n",
      "Checkpoint saved at epoch 0, training step 400.\n",
      "TripletEvaluator: Evaluating the model on the gooaq dataset in epoch 0 after 400 steps:\n"
     ]
    },
    {
     "name": "stderr",
     "output_type": "stream",
     "text": [
      "\n",
      "\u001b[A\n",
      "\u001b[A\n",
      "\u001b[A\n",
      "\u001b[A\n",
      "\u001b[A\n",
      "100%|██████████| 50/50 [00:00<00:00, 78.75it/s]\n",
      "\n",
      "\u001b[A\n",
      "\u001b[A\n",
      "\u001b[A\n",
      "\u001b[A\n",
      "\u001b[A\n",
      "100%|██████████| 50/50 [00:00<00:00, 83.87it/s]\n",
      "\n",
      "\u001b[A\n",
      "\u001b[A\n",
      "\u001b[A\n",
      "\u001b[A\n",
      "\u001b[A\n",
      "100%|██████████| 50/50 [00:00<00:00, 79.39it/s]\n"
     ]
    },
    {
     "name": "stdout",
     "output_type": "stream",
     "text": [
      "Accuracy Cosine Distance:   \t80.02\n",
      "Accuracy Dot Product:       \t20.98\n",
      "Accuracy Manhattan Distance:\t79.77\n",
      "Accuracy Euclidean Distance:\t79.37\n",
      "\n",
      "Checkpoint saved at epoch 0, training step 400.\n",
      "Epoch: 0, Training Step: 401, Loss: 0.5190644860267639\n",
      "Epoch: 0, Training Step: 402, Loss: 0.49018120765686035\n",
      "Epoch: 0, Training Step: 403, Loss: 0.44649067521095276\n"
     ]
    },
    {
     "name": "stderr",
     "output_type": "stream",
     "text": []
    },
    {
     "name": "stdout",
     "output_type": "stream",
     "text": [
      "Epoch: 0, Training Step: 404, Loss: 0.4831262230873108\n",
      "Epoch: 0, Training Step: 405, Loss: 0.35945385694503784\n",
      "Epoch: 0, Training Step: 406, Loss: 0.36891284584999084\n",
      "Epoch: 0, Training Step: 407, Loss: 0.369142085313797\n",
      "Epoch: 0, Training Step: 408, Loss: 0.4626568853855133\n"
     ]
    },
    {
     "name": "stderr",
     "output_type": "stream",
     "text": []
    },
    {
     "name": "stdout",
     "output_type": "stream",
     "text": [
      "Epoch: 0, Training Step: 409, Loss: 0.4513271450996399\n",
      "Epoch: 0, Training Step: 410, Loss: 0.4052535891532898\n",
      "Epoch: 0, Training Step: 411, Loss: 0.4474683403968811\n",
      "Epoch: 0, Training Step: 412, Loss: 0.4877287745475769\n",
      "Epoch: 0, Training Step: 413, Loss: 0.4018520712852478\n"
     ]
    },
    {
     "name": "stderr",
     "output_type": "stream",
     "text": []
    },
    {
     "name": "stdout",
     "output_type": "stream",
     "text": [
      "Epoch: 0, Training Step: 414, Loss: 0.401960551738739\n",
      "Epoch: 0, Training Step: 415, Loss: 0.4676956534385681\n",
      "Epoch: 0, Training Step: 416, Loss: 0.4133274555206299\n",
      "Epoch: 0, Training Step: 417, Loss: 0.4611349105834961\n",
      "Epoch: 0, Training Step: 418, Loss: 0.43101435899734497\n"
     ]
    },
    {
     "name": "stderr",
     "output_type": "stream",
     "text": []
    },
    {
     "name": "stdout",
     "output_type": "stream",
     "text": [
      "Epoch: 0, Training Step: 419, Loss: 0.4241303503513336\n",
      "Epoch: 0, Training Step: 420, Loss: 0.3949829041957855\n",
      "Epoch: 0, Training Step: 421, Loss: 0.3884578347206116\n",
      "Epoch: 0, Training Step: 422, Loss: 0.3638167083263397\n",
      "Epoch: 0, Training Step: 423, Loss: 0.4743116796016693\n"
     ]
    },
    {
     "name": "stderr",
     "output_type": "stream",
     "text": [
      "\n"
     ]
    },
    {
     "name": "stdout",
     "output_type": "stream",
     "text": [
      "Epoch: 0, Training Step: 424, Loss: 0.5941047072410583\n",
      "Epoch: 0, Training Step: 425, Loss: 0.5830014944076538\n",
      "Epoch: 0, Training Step: 426, Loss: 0.4889965355396271\n",
      "Epoch: 0, Training Step: 427, Loss: 0.5085455775260925\n",
      "Epoch: 0, Training Step: 428, Loss: 0.45274704694747925\n"
     ]
    },
    {
     "name": "stderr",
     "output_type": "stream",
     "text": [
      "Iteration:  49%|████▊     | 429/882 [00:43<00:42, 10.58it/s]\u001b[A"
     ]
    },
    {
     "name": "stdout",
     "output_type": "stream",
     "text": [
      "Epoch: 0, Training Step: 429, Loss: 0.47042959928512573\n",
      "Epoch: 0, Training Step: 430, Loss: 0.518957257270813\n",
      "Epoch: 0, Training Step: 431, Loss: 0.5590454339981079\n",
      "Epoch: 0, Training Step: 432, Loss: 0.5786793231964111\n",
      "Epoch: 0, Training Step: 433, Loss: 0.5562198162078857\n"
     ]
    },
    {
     "name": "stderr",
     "output_type": "stream",
     "text": []
    },
    {
     "name": "stdout",
     "output_type": "stream",
     "text": [
      "Epoch: 0, Training Step: 434, Loss: 0.55399489402771\n",
      "Epoch: 0, Training Step: 435, Loss: 0.5070963501930237\n",
      "Epoch: 0, Training Step: 436, Loss: 0.47314536571502686\n",
      "Epoch: 0, Training Step: 437, Loss: 0.3864183723926544\n",
      "Epoch: 0, Training Step: 438, Loss: 0.3806616961956024\n"
     ]
    },
    {
     "name": "stderr",
     "output_type": "stream",
     "text": []
    },
    {
     "name": "stdout",
     "output_type": "stream",
     "text": [
      "Epoch: 0, Training Step: 439, Loss: 0.5807203054428101\n",
      "Epoch: 0, Training Step: 440, Loss: 0.4711112678050995\n",
      "Epoch: 0, Training Step: 441, Loss: 0.4635823369026184\n",
      "Epoch: 0, Training Step: 442, Loss: 0.5243330001831055\n",
      "Epoch: 0, Training Step: 443, Loss: 0.5888593196868896\n"
     ]
    },
    {
     "name": "stderr",
     "output_type": "stream",
     "text": []
    },
    {
     "name": "stdout",
     "output_type": "stream",
     "text": [
      "Epoch: 0, Training Step: 444, Loss: 0.5146185755729675\n",
      "Epoch: 0, Training Step: 445, Loss: 0.5592115521430969\n",
      "Epoch: 0, Training Step: 446, Loss: 0.6551113724708557\n",
      "Epoch: 0, Training Step: 447, Loss: 0.6225395798683167\n",
      "Epoch: 0, Training Step: 448, Loss: 0.561414897441864\n"
     ]
    },
    {
     "name": "stderr",
     "output_type": "stream",
     "text": []
    },
    {
     "name": "stdout",
     "output_type": "stream",
     "text": [
      "Epoch: 0, Training Step: 449, Loss: 0.517682671546936\n",
      "Epoch: 0, Training Step: 450, Loss: 0.45123663544654846\n",
      "Checkpoint saved at epoch 0, training step 450.\n",
      "TripletEvaluator: Evaluating the model on the gooaq dataset in epoch 0 after 450 steps:\n"
     ]
    },
    {
     "name": "stderr",
     "output_type": "stream",
     "text": [
      "\n",
      "\u001b[A\n",
      "\u001b[A\n",
      "\u001b[A\n",
      "\u001b[A\n",
      "\u001b[A\n",
      "\u001b[A\n",
      "100%|██████████| 50/50 [00:00<00:00, 76.53it/s]\n",
      "\n",
      "\u001b[A\n",
      "\u001b[A\n",
      "\u001b[A\n",
      "\u001b[A\n",
      "\u001b[A\n",
      "\u001b[A\n",
      "100%|██████████| 50/50 [00:00<00:00, 71.50it/s]\n",
      "\n",
      "\u001b[A\n",
      "\u001b[A\n",
      "\u001b[A\n",
      "\u001b[A\n",
      "\u001b[A\n",
      "100%|██████████| 50/50 [00:00<00:00, 78.02it/s]\n",
      "\n"
     ]
    },
    {
     "name": "stdout",
     "output_type": "stream",
     "text": [
      "Accuracy Cosine Distance:   \t80.20\n",
      "Accuracy Dot Product:       \t21.04\n",
      "Accuracy Manhattan Distance:\t79.81\n",
      "Accuracy Euclidean Distance:\t79.83\n",
      "\n",
      "Checkpoint saved at epoch 0, training step 450.\n",
      "Epoch: 0, Training Step: 451, Loss: 0.42605000734329224\n",
      "Epoch: 0, Training Step: 452, Loss: 0.47428977489471436\n"
     ]
    },
    {
     "name": "stderr",
     "output_type": "stream",
     "text": [
      "Iteration:  51%|█████▏    | 453/882 [00:47<00:54,  7.86it/s]\u001b[A"
     ]
    },
    {
     "name": "stdout",
     "output_type": "stream",
     "text": [
      "Epoch: 0, Training Step: 453, Loss: 0.44281628727912903\n",
      "Epoch: 0, Training Step: 454, Loss: 0.446685254573822\n",
      "Epoch: 0, Training Step: 455, Loss: 0.36863353848457336\n",
      "Epoch: 0, Training Step: 456, Loss: 0.47009551525115967\n",
      "Epoch: 0, Training Step: 457, Loss: 0.4784177541732788\n"
     ]
    },
    {
     "name": "stderr",
     "output_type": "stream",
     "text": []
    },
    {
     "name": "stdout",
     "output_type": "stream",
     "text": [
      "Epoch: 0, Training Step: 458, Loss: 0.39270907640457153\n",
      "Epoch: 0, Training Step: 459, Loss: 0.41590121388435364\n",
      "Epoch: 0, Training Step: 460, Loss: 0.48657622933387756\n",
      "Epoch: 0, Training Step: 461, Loss: 0.5146299004554749\n",
      "Epoch: 0, Training Step: 462, Loss: 0.6403242349624634\n"
     ]
    },
    {
     "name": "stderr",
     "output_type": "stream",
     "text": []
    },
    {
     "name": "stdout",
     "output_type": "stream",
     "text": [
      "Epoch: 0, Training Step: 463, Loss: 0.5536908507347107\n",
      "Epoch: 0, Training Step: 464, Loss: 0.5479254126548767\n",
      "Epoch: 0, Training Step: 465, Loss: 0.5329930782318115\n",
      "Epoch: 0, Training Step: 466, Loss: 0.5873532891273499\n",
      "Epoch: 0, Training Step: 467, Loss: 0.49391651153564453\n"
     ]
    },
    {
     "name": "stderr",
     "output_type": "stream",
     "text": []
    },
    {
     "name": "stdout",
     "output_type": "stream",
     "text": [
      "Epoch: 0, Training Step: 468, Loss: 0.47396159172058105\n",
      "Epoch: 0, Training Step: 469, Loss: 0.4202270209789276\n",
      "Epoch: 0, Training Step: 470, Loss: 0.444185346364975\n",
      "Epoch: 0, Training Step: 471, Loss: 0.5023854970932007\n",
      "Epoch: 0, Training Step: 472, Loss: 0.5776587724685669\n"
     ]
    },
    {
     "name": "stderr",
     "output_type": "stream",
     "text": []
    },
    {
     "name": "stdout",
     "output_type": "stream",
     "text": [
      "Epoch: 0, Training Step: 473, Loss: 0.5077974796295166\n",
      "Epoch: 0, Training Step: 474, Loss: 0.5746650099754333\n",
      "Epoch: 0, Training Step: 475, Loss: 0.5893431305885315\n",
      "Epoch: 0, Training Step: 476, Loss: 0.6201180815696716\n",
      "Epoch: 0, Training Step: 477, Loss: 0.6750490069389343\n"
     ]
    },
    {
     "name": "stderr",
     "output_type": "stream",
     "text": [
      "\n"
     ]
    },
    {
     "name": "stdout",
     "output_type": "stream",
     "text": [
      "Epoch: 0, Training Step: 478, Loss: 0.5331722497940063\n",
      "Epoch: 0, Training Step: 479, Loss: 0.5532738566398621\n",
      "Epoch: 0, Training Step: 480, Loss: 0.5272886753082275\n",
      "Epoch: 0, Training Step: 481, Loss: 0.5204089879989624\n",
      "Epoch: 0, Training Step: 482, Loss: 0.4822988212108612\n"
     ]
    },
    {
     "name": "stderr",
     "output_type": "stream",
     "text": [
      "Iteration:  55%|█████▍    | 483/882 [00:48<00:37, 10.57it/s]\u001b[A"
     ]
    },
    {
     "name": "stdout",
     "output_type": "stream",
     "text": [
      "Epoch: 0, Training Step: 483, Loss: 0.5795623660087585\n",
      "Epoch: 0, Training Step: 484, Loss: 0.5625599026679993\n",
      "Epoch: 0, Training Step: 485, Loss: 0.4193081259727478\n",
      "Epoch: 0, Training Step: 486, Loss: 0.475212961435318\n",
      "Epoch: 0, Training Step: 487, Loss: 0.46419718861579895\n"
     ]
    },
    {
     "name": "stderr",
     "output_type": "stream",
     "text": []
    },
    {
     "name": "stdout",
     "output_type": "stream",
     "text": [
      "Epoch: 0, Training Step: 488, Loss: 0.42381972074508667\n",
      "Epoch: 0, Training Step: 489, Loss: 0.4789586663246155\n",
      "Epoch: 0, Training Step: 490, Loss: 0.4403425455093384\n",
      "Epoch: 0, Training Step: 491, Loss: 0.5046180486679077\n",
      "Epoch: 0, Training Step: 492, Loss: 0.5289773941040039\n"
     ]
    },
    {
     "name": "stderr",
     "output_type": "stream",
     "text": [
      "\n",
      "Iteration:  56%|█████▋    | 498/882 [00:49<00:32, 11.98it/s]"
     ]
    },
    {
     "name": "stdout",
     "output_type": "stream",
     "text": [
      "Epoch: 0, Training Step: 493, Loss: 0.4867250919342041\n",
      "Epoch: 0, Training Step: 494, Loss: 0.4914390444755554\n",
      "Epoch: 0, Training Step: 495, Loss: 0.5359471440315247\n",
      "Epoch: 0, Training Step: 496, Loss: 0.5479331016540527\n",
      "Epoch: 0, Training Step: 497, Loss: 0.6648703217506409\n"
     ]
    },
    {
     "name": "stderr",
     "output_type": "stream",
     "text": [
      "\u001b[A"
     ]
    },
    {
     "name": "stdout",
     "output_type": "stream",
     "text": [
      "Epoch: 0, Training Step: 498, Loss: 0.6260026097297668\n",
      "Epoch: 0, Training Step: 499, Loss: 0.5838624238967896\n",
      "Epoch: 0, Training Step: 500, Loss: 0.5340023040771484\n",
      "Checkpoint saved at epoch 0, training step 500.\n",
      "TripletEvaluator: Evaluating the model on the gooaq dataset in epoch 0 after 500 steps:\n"
     ]
    },
    {
     "name": "stderr",
     "output_type": "stream",
     "text": [
      "\n",
      "\u001b[A\n",
      "\u001b[A\n",
      "\u001b[A\n",
      "\u001b[A\n",
      "\u001b[A\n",
      "100%|██████████| 50/50 [00:00<00:00, 78.85it/s]\n",
      "\n",
      "\u001b[A\n",
      "\u001b[A\n",
      "\u001b[A\n",
      "\u001b[A\n",
      "\u001b[A\n",
      "100%|██████████| 50/50 [00:00<00:00, 84.38it/s]\n",
      "\n",
      "\u001b[A\n",
      "\u001b[A\n",
      "\u001b[A\n",
      "\u001b[A\n",
      "\u001b[A\n",
      "100%|██████████| 50/50 [00:00<00:00, 79.29it/s]\n"
     ]
    },
    {
     "name": "stdout",
     "output_type": "stream",
     "text": [
      "Accuracy Cosine Distance:   \t80.18\n",
      "Accuracy Dot Product:       \t20.88\n",
      "Accuracy Manhattan Distance:\t79.96\n",
      "Accuracy Euclidean Distance:\t79.69\n",
      "\n",
      "Epoch: 0, Training Step: 501, Loss: 0.4852593243122101\n",
      "Epoch: 0, Training Step: 502, Loss: 0.5873174071311951\n",
      "Epoch: 0, Training Step: 503, Loss: 0.476957768201828\n",
      "Epoch: 0, Training Step: 504, Loss: 0.4987674653530121\n"
     ]
    },
    {
     "name": "stderr",
     "output_type": "stream",
     "text": []
    },
    {
     "name": "stdout",
     "output_type": "stream",
     "text": [
      "Epoch: 0, Training Step: 505, Loss: 0.4602894186973572\n",
      "Epoch: 0, Training Step: 506, Loss: 0.4113296866416931\n",
      "Epoch: 0, Training Step: 507, Loss: 0.3891334533691406\n",
      "Epoch: 0, Training Step: 508, Loss: 0.34847474098205566\n"
     ]
    },
    {
     "name": "stderr",
     "output_type": "stream",
     "text": []
    },
    {
     "name": "stdout",
     "output_type": "stream",
     "text": [
      "Epoch: 0, Training Step: 509, Loss: 0.43313735723495483\n",
      "Epoch: 0, Training Step: 510, Loss: 0.5107864737510681\n",
      "Epoch: 0, Training Step: 511, Loss: 0.4553840756416321\n",
      "Epoch: 0, Training Step: 512, Loss: 0.6187661290168762\n",
      "Epoch: 0, Training Step: 513, Loss: 0.6965686082839966\n"
     ]
    },
    {
     "name": "stderr",
     "output_type": "stream",
     "text": [
      "\n"
     ]
    },
    {
     "name": "stdout",
     "output_type": "stream",
     "text": [
      "Epoch: 0, Training Step: 514, Loss: 0.6218731999397278\n",
      "Epoch: 0, Training Step: 515, Loss: 0.6367395520210266\n",
      "Epoch: 0, Training Step: 516, Loss: 0.5973543524742126\n",
      "Epoch: 0, Training Step: 517, Loss: 0.5550358891487122\n",
      "Epoch: 0, Training Step: 518, Loss: 0.4495043456554413\n"
     ]
    },
    {
     "name": "stderr",
     "output_type": "stream",
     "text": [
      "Iteration:  59%|█████▉    | 519/882 [00:53<00:37,  9.57it/s]\u001b[A"
     ]
    },
    {
     "name": "stdout",
     "output_type": "stream",
     "text": [
      "Epoch: 0, Training Step: 519, Loss: 0.4617116153240204\n",
      "Epoch: 0, Training Step: 520, Loss: 0.40258553624153137\n",
      "Epoch: 0, Training Step: 521, Loss: 0.40459197759628296\n",
      "Epoch: 0, Training Step: 522, Loss: 0.45836231112480164\n",
      "Epoch: 0, Training Step: 523, Loss: 0.4225537180900574\n"
     ]
    },
    {
     "name": "stderr",
     "output_type": "stream",
     "text": []
    },
    {
     "name": "stdout",
     "output_type": "stream",
     "text": [
      "Epoch: 0, Training Step: 524, Loss: 0.5337144136428833\n",
      "Epoch: 0, Training Step: 525, Loss: 0.5150955319404602\n",
      "Epoch: 0, Training Step: 526, Loss: 0.5690581202507019\n",
      "Epoch: 0, Training Step: 527, Loss: 0.6609077453613281\n",
      "Epoch: 0, Training Step: 528, Loss: 0.585541307926178\n"
     ]
    },
    {
     "name": "stderr",
     "output_type": "stream",
     "text": []
    },
    {
     "name": "stdout",
     "output_type": "stream",
     "text": [
      "Epoch: 0, Training Step: 529, Loss: 0.592942476272583\n",
      "Epoch: 0, Training Step: 530, Loss: 0.6332553625106812\n",
      "Epoch: 0, Training Step: 531, Loss: 0.46512359380722046\n",
      "Epoch: 0, Training Step: 532, Loss: 0.3487473428249359\n",
      "Epoch: 0, Training Step: 533, Loss: 0.39581185579299927\n"
     ]
    },
    {
     "name": "stderr",
     "output_type": "stream",
     "text": []
    },
    {
     "name": "stdout",
     "output_type": "stream",
     "text": [
      "Epoch: 0, Training Step: 534, Loss: 0.3723749816417694\n",
      "Epoch: 0, Training Step: 535, Loss: 0.4928134083747864\n",
      "Epoch: 0, Training Step: 536, Loss: 0.5285149812698364\n",
      "Epoch: 0, Training Step: 537, Loss: 0.5236390829086304\n",
      "Epoch: 0, Training Step: 538, Loss: 0.5209657549858093\n"
     ]
    },
    {
     "name": "stderr",
     "output_type": "stream",
     "text": []
    },
    {
     "name": "stdout",
     "output_type": "stream",
     "text": [
      "Epoch: 0, Training Step: 539, Loss: 0.5709068179130554\n",
      "Epoch: 0, Training Step: 540, Loss: 0.5081602334976196\n",
      "Epoch: 0, Training Step: 541, Loss: 0.4561063051223755\n",
      "Epoch: 0, Training Step: 542, Loss: 0.5877750515937805\n",
      "Epoch: 0, Training Step: 543, Loss: 0.6029115319252014\n"
     ]
    },
    {
     "name": "stderr",
     "output_type": "stream",
     "text": []
    },
    {
     "name": "stdout",
     "output_type": "stream",
     "text": [
      "Epoch: 0, Training Step: 544, Loss: 0.5591983795166016\n",
      "Epoch: 0, Training Step: 545, Loss: 0.5596311688423157\n",
      "Epoch: 0, Training Step: 546, Loss: 0.4110678732395172\n",
      "Epoch: 0, Training Step: 547, Loss: 0.4473540186882019\n"
     ]
    },
    {
     "name": "stderr",
     "output_type": "stream",
     "text": []
    },
    {
     "name": "stdout",
     "output_type": "stream",
     "text": [
      "Epoch: 0, Training Step: 548, Loss: 0.4574929177761078\n",
      "Epoch: 0, Training Step: 549, Loss: 0.3532896041870117\n",
      "Epoch: 0, Training Step: 550, Loss: 0.3127862811088562\n",
      "Checkpoint saved at epoch 0, training step 550.\n",
      "TripletEvaluator: Evaluating the model on the gooaq dataset in epoch 0 after 550 steps:\n"
     ]
    },
    {
     "name": "stderr",
     "output_type": "stream",
     "text": [
      "\n",
      "\u001b[A\n",
      "\u001b[A\n",
      "\u001b[A\n",
      "\u001b[A\n",
      "\u001b[A\n",
      "100%|██████████| 50/50 [00:00<00:00, 80.20it/s]\n",
      "\n",
      "\u001b[A\n",
      "\u001b[A\n",
      "\u001b[A\n",
      "\u001b[A\n",
      "\u001b[A\n",
      "100%|██████████| 50/50 [00:00<00:00, 84.22it/s]\n",
      "\n",
      "\u001b[A\n",
      "\u001b[A\n",
      "\u001b[A\n",
      "\u001b[A\n",
      "\u001b[A\n",
      "\u001b[A\n",
      "100%|██████████| 50/50 [00:00<00:00, 73.36it/s]\n",
      "\n"
     ]
    },
    {
     "name": "stdout",
     "output_type": "stream",
     "text": [
      "Accuracy Cosine Distance:   \t80.30\n",
      "Accuracy Dot Product:       \t20.84\n",
      "Accuracy Manhattan Distance:\t80.08\n",
      "Accuracy Euclidean Distance:\t79.98\n",
      "\n",
      "Checkpoint saved at epoch 0, training step 550.\n",
      "Epoch: 0, Training Step: 551, Loss: 0.3734689950942993\n",
      "Epoch: 0, Training Step: 552, Loss: 0.30869248509407043\n",
      "Epoch: 0, Training Step: 553, Loss: 0.34894466400146484\n",
      "Epoch: 0, Training Step: 554, Loss: 0.3720407783985138\n"
     ]
    },
    {
     "name": "stderr",
     "output_type": "stream",
     "text": [
      "Iteration:  63%|██████▎   | 555/882 [00:57<00:39,  8.33it/s]\u001b[A"
     ]
    },
    {
     "name": "stdout",
     "output_type": "stream",
     "text": [
      "Epoch: 0, Training Step: 555, Loss: 0.3885588049888611\n",
      "Epoch: 0, Training Step: 556, Loss: 0.48549962043762207\n",
      "Epoch: 0, Training Step: 557, Loss: 0.5394967794418335\n",
      "Epoch: 0, Training Step: 558, Loss: 0.5451182723045349\n",
      "Epoch: 0, Training Step: 559, Loss: 0.5054914951324463\n"
     ]
    },
    {
     "name": "stderr",
     "output_type": "stream",
     "text": []
    },
    {
     "name": "stdout",
     "output_type": "stream",
     "text": [
      "Epoch: 0, Training Step: 560, Loss: 0.44484397768974304\n",
      "Epoch: 0, Training Step: 561, Loss: 0.3964846432209015\n",
      "Epoch: 0, Training Step: 562, Loss: 0.33974897861480713\n",
      "Epoch: 0, Training Step: 563, Loss: 0.3650757074356079\n",
      "Epoch: 0, Training Step: 564, Loss: 0.42615509033203125\n"
     ]
    },
    {
     "name": "stderr",
     "output_type": "stream",
     "text": []
    },
    {
     "name": "stdout",
     "output_type": "stream",
     "text": [
      "Epoch: 0, Training Step: 565, Loss: 0.4423229992389679\n",
      "Epoch: 0, Training Step: 566, Loss: 0.4295853078365326\n",
      "Epoch: 0, Training Step: 567, Loss: 0.5045145153999329\n",
      "Epoch: 0, Training Step: 568, Loss: 0.4491643011569977\n",
      "Epoch: 0, Training Step: 569, Loss: 0.3982101082801819\n",
      "Epoch: 0, Training Step: 570, Loss: 0.46948280930519104\n"
     ]
    },
    {
     "name": "stderr",
     "output_type": "stream",
     "text": []
    },
    {
     "name": "stdout",
     "output_type": "stream",
     "text": [
      "Epoch: 0, Training Step: 571, Loss: 0.48053792119026184\n",
      "Epoch: 0, Training Step: 572, Loss: 0.4473225474357605\n",
      "Epoch: 0, Training Step: 573, Loss: 0.442850798368454\n",
      "Epoch: 0, Training Step: 574, Loss: 0.47954052686691284\n",
      "Epoch: 0, Training Step: 575, Loss: 0.4797586500644684\n",
      "Epoch: 0, Training Step: 576, Loss: 0.44883623719215393\n"
     ]
    },
    {
     "name": "stderr",
     "output_type": "stream",
     "text": []
    },
    {
     "name": "stdout",
     "output_type": "stream",
     "text": [
      "Epoch: 0, Training Step: 577, Loss: 0.6020519733428955\n",
      "Epoch: 0, Training Step: 578, Loss: 0.4891088902950287\n",
      "Epoch: 0, Training Step: 579, Loss: 0.4703615605831146\n"
     ]
    },
    {
     "name": "stderr",
     "output_type": "stream",
     "text": []
    },
    {
     "name": "stdout",
     "output_type": "stream",
     "text": [
      "Epoch: 0, Training Step: 580, Loss: 0.5054848194122314\n",
      "Epoch: 0, Training Step: 581, Loss: 0.4789830446243286\n",
      "Epoch: 0, Training Step: 582, Loss: 0.46039336919784546\n",
      "Epoch: 0, Training Step: 583, Loss: 0.47219517827033997\n",
      "Epoch: 0, Training Step: 584, Loss: 0.5273935794830322\n"
     ]
    },
    {
     "name": "stderr",
     "output_type": "stream",
     "text": [
      "\n"
     ]
    },
    {
     "name": "stdout",
     "output_type": "stream",
     "text": [
      "Epoch: 0, Training Step: 585, Loss: 0.5714772343635559\n",
      "Epoch: 0, Training Step: 586, Loss: 0.5074282288551331\n",
      "Epoch: 0, Training Step: 587, Loss: 0.5225085020065308\n",
      "Epoch: 0, Training Step: 588, Loss: 0.48928073048591614\n",
      "Epoch: 0, Training Step: 589, Loss: 0.41183167695999146\n",
      "Epoch: 0, Training Step: 590, Loss: 0.35354188084602356\n"
     ]
    },
    {
     "name": "stderr",
     "output_type": "stream",
     "text": [
      "Iteration:  67%|██████▋   | 591/882 [00:59<00:24, 11.67it/s]\u001b[A\n"
     ]
    },
    {
     "name": "stdout",
     "output_type": "stream",
     "text": [
      "Epoch: 0, Training Step: 591, Loss: 0.403321772813797\n",
      "Epoch: 0, Training Step: 592, Loss: 0.41853633522987366\n",
      "Epoch: 0, Training Step: 593, Loss: 0.5320494174957275\n",
      "Epoch: 0, Training Step: 594, Loss: 0.43876370787620544\n",
      "Epoch: 0, Training Step: 595, Loss: 0.4993428885936737\n",
      "Epoch: 0, Training Step: 596, Loss: 0.5414770245552063\n"
     ]
    },
    {
     "name": "stderr",
     "output_type": "stream",
     "text": [
      "Iteration:  68%|██████▊   | 597/882 [00:59<00:23, 12.29it/s]\u001b[A"
     ]
    },
    {
     "name": "stdout",
     "output_type": "stream",
     "text": [
      "Epoch: 0, Training Step: 597, Loss: 0.5543323755264282\n",
      "Epoch: 0, Training Step: 598, Loss: 0.4692637324333191\n",
      "Epoch: 0, Training Step: 599, Loss: 0.5082694888114929\n",
      "Epoch: 0, Training Step: 600, Loss: 0.5747615694999695\n",
      "Checkpoint saved at epoch 0, training step 600.\n",
      "TripletEvaluator: Evaluating the model on the gooaq dataset in epoch 0 after 600 steps:\n"
     ]
    },
    {
     "name": "stderr",
     "output_type": "stream",
     "text": [
      "\n",
      "\u001b[A\n",
      "\u001b[A\n",
      "\u001b[A\n",
      "\u001b[A\n",
      "\u001b[A\n",
      "100%|██████████| 50/50 [00:00<00:00, 81.52it/s]\n",
      "\n",
      "\u001b[A\n",
      "\u001b[A\n",
      "\u001b[A\n",
      "\u001b[A\n",
      "\u001b[A\n",
      "100%|██████████| 50/50 [00:00<00:00, 78.98it/s]\n",
      "\n",
      "\u001b[A\n",
      "\u001b[A\n",
      "\u001b[A\n",
      "\u001b[A\n",
      "\u001b[A\n",
      "100%|██████████| 50/50 [00:00<00:00, 78.01it/s]\n"
     ]
    },
    {
     "name": "stdout",
     "output_type": "stream",
     "text": [
      "Accuracy Cosine Distance:   \t80.32\n",
      "Accuracy Dot Product:       \t20.74\n",
      "Accuracy Manhattan Distance:\t80.24\n",
      "Accuracy Euclidean Distance:\t79.98\n",
      "\n",
      "Checkpoint saved at epoch 0, training step 600.\n",
      "Epoch: 0, Training Step: 601, Loss: 0.48148730397224426\n"
     ]
    },
    {
     "name": "stderr",
     "output_type": "stream",
     "text": []
    },
    {
     "name": "stdout",
     "output_type": "stream",
     "text": [
      "Epoch: 0, Training Step: 602, Loss: 0.49758684635162354\n",
      "Epoch: 0, Training Step: 603, Loss: 0.5317063331604004\n",
      "Epoch: 0, Training Step: 604, Loss: 0.4306308329105377\n",
      "Epoch: 0, Training Step: 605, Loss: 0.5145153999328613\n",
      "Epoch: 0, Training Step: 606, Loss: 0.49395424127578735\n"
     ]
    },
    {
     "name": "stderr",
     "output_type": "stream",
     "text": []
    },
    {
     "name": "stdout",
     "output_type": "stream",
     "text": [
      "Epoch: 0, Training Step: 607, Loss: 0.5967788100242615\n",
      "Epoch: 0, Training Step: 608, Loss: 0.48432791233062744\n",
      "Epoch: 0, Training Step: 609, Loss: 0.6440934538841248\n",
      "Epoch: 0, Training Step: 610, Loss: 0.6238871216773987\n"
     ]
    },
    {
     "name": "stderr",
     "output_type": "stream",
     "text": []
    },
    {
     "name": "stdout",
     "output_type": "stream",
     "text": [
      "Epoch: 0, Training Step: 611, Loss: 0.5886338949203491\n",
      "Epoch: 0, Training Step: 612, Loss: 0.5386855602264404\n",
      "Epoch: 0, Training Step: 613, Loss: 0.45310506224632263\n",
      "Epoch: 0, Training Step: 614, Loss: 0.5248194932937622\n"
     ]
    },
    {
     "name": "stderr",
     "output_type": "stream",
     "text": []
    },
    {
     "name": "stdout",
     "output_type": "stream",
     "text": [
      "Epoch: 0, Training Step: 615, Loss: 0.5100215077400208\n",
      "Epoch: 0, Training Step: 616, Loss: 0.5034522414207458\n",
      "Epoch: 0, Training Step: 617, Loss: 0.4940834045410156\n",
      "Epoch: 0, Training Step: 618, Loss: 0.43405044078826904\n",
      "Epoch: 0, Training Step: 619, Loss: 0.430449903011322\n"
     ]
    },
    {
     "name": "stderr",
     "output_type": "stream",
     "text": []
    },
    {
     "name": "stdout",
     "output_type": "stream",
     "text": [
      "Epoch: 0, Training Step: 620, Loss: 0.4899141788482666\n",
      "Epoch: 0, Training Step: 621, Loss: 0.5127628445625305\n",
      "Epoch: 0, Training Step: 622, Loss: 0.5512720346450806\n",
      "Epoch: 0, Training Step: 623, Loss: 0.5599848031997681\n",
      "Epoch: 0, Training Step: 624, Loss: 0.6246629953384399\n"
     ]
    },
    {
     "name": "stderr",
     "output_type": "stream",
     "text": [
      "\n"
     ]
    },
    {
     "name": "stdout",
     "output_type": "stream",
     "text": [
      "Epoch: 0, Training Step: 625, Loss: 0.602141261100769\n",
      "Epoch: 0, Training Step: 626, Loss: 0.4870480000972748\n",
      "Epoch: 0, Training Step: 627, Loss: 0.4502233862876892\n",
      "Epoch: 0, Training Step: 628, Loss: 0.4547252655029297\n",
      "Epoch: 0, Training Step: 629, Loss: 0.42156967520713806\n"
     ]
    },
    {
     "name": "stderr",
     "output_type": "stream",
     "text": [
      "Iteration:  71%|███████▏  | 630/882 [01:03<00:24, 10.33it/s]\u001b[A"
     ]
    },
    {
     "name": "stdout",
     "output_type": "stream",
     "text": [
      "Epoch: 0, Training Step: 630, Loss: 0.45752060413360596\n",
      "Epoch: 0, Training Step: 631, Loss: 0.41692936420440674\n",
      "Epoch: 0, Training Step: 632, Loss: 0.4700433313846588\n",
      "Epoch: 0, Training Step: 633, Loss: 0.413809210062027\n",
      "Epoch: 0, Training Step: 634, Loss: 0.3679632246494293\n"
     ]
    },
    {
     "name": "stderr",
     "output_type": "stream",
     "text": []
    },
    {
     "name": "stdout",
     "output_type": "stream",
     "text": [
      "Epoch: 0, Training Step: 635, Loss: 0.4618523120880127\n",
      "Epoch: 0, Training Step: 636, Loss: 0.4122401177883148\n",
      "Epoch: 0, Training Step: 637, Loss: 0.36819905042648315\n",
      "Epoch: 0, Training Step: 638, Loss: 0.4159470498561859\n",
      "Epoch: 0, Training Step: 639, Loss: 0.42215192317962646\n"
     ]
    },
    {
     "name": "stderr",
     "output_type": "stream",
     "text": []
    },
    {
     "name": "stdout",
     "output_type": "stream",
     "text": [
      "Epoch: 0, Training Step: 640, Loss: 0.6039709448814392\n",
      "Epoch: 0, Training Step: 641, Loss: 0.6591641306877136\n",
      "Epoch: 0, Training Step: 642, Loss: 0.7471640110015869\n",
      "Epoch: 0, Training Step: 643, Loss: 0.5773848295211792\n"
     ]
    },
    {
     "name": "stderr",
     "output_type": "stream",
     "text": []
    },
    {
     "name": "stdout",
     "output_type": "stream",
     "text": [
      "Epoch: 0, Training Step: 644, Loss: 0.5263073444366455\n",
      "Epoch: 0, Training Step: 645, Loss: 0.4809335470199585\n",
      "Epoch: 0, Training Step: 646, Loss: 0.38825851678848267\n",
      "Epoch: 0, Training Step: 647, Loss: 0.3278675973415375\n",
      "Epoch: 0, Training Step: 648, Loss: 0.38944366574287415\n",
      "Epoch: 0, Training Step: 649, Loss: 0.39055630564689636\n",
      "Epoch: 0, Training Step: 650, Loss: 0.4504939615726471\n",
      "Checkpoint saved at epoch 0, training step 650.\n",
      "TripletEvaluator: Evaluating the model on the gooaq dataset in epoch 0 after 650 steps:\n"
     ]
    },
    {
     "name": "stderr",
     "output_type": "stream",
     "text": [
      "\n",
      "\u001b[A\n",
      "\u001b[A\n",
      "\u001b[A\n",
      "\u001b[A\n",
      "\u001b[A\n",
      "100%|██████████| 50/50 [00:00<00:00, 83.23it/s]\n",
      "\n",
      "\u001b[A\n",
      "\u001b[A\n",
      "\u001b[A\n",
      "\u001b[A\n",
      "\u001b[A\n",
      "100%|██████████| 50/50 [00:00<00:00, 82.39it/s]\n",
      "\n",
      "\u001b[A\n",
      "\u001b[A\n",
      "\u001b[A\n",
      "\u001b[A\n",
      "\u001b[A\n",
      "\u001b[A\n",
      "100%|██████████| 50/50 [00:00<00:00, 77.08it/s]\n"
     ]
    },
    {
     "name": "stdout",
     "output_type": "stream",
     "text": [
      "Accuracy Cosine Distance:   \t80.34\n",
      "Accuracy Dot Product:       \t20.86\n",
      "Accuracy Manhattan Distance:\t80.20\n",
      "Accuracy Euclidean Distance:\t80.14\n",
      "\n",
      "Checkpoint saved at epoch 0, training step 650.\n",
      "Epoch: 0, Training Step: 651, Loss: 0.5315073132514954\n",
      "Epoch: 0, Training Step: 652, Loss: 0.49081364274024963\n",
      "Epoch: 0, Training Step: 653, Loss: 0.5308474898338318\n",
      "Epoch: 0, Training Step: 654, Loss: 0.558150589466095\n"
     ]
    },
    {
     "name": "stderr",
     "output_type": "stream",
     "text": []
    },
    {
     "name": "stdout",
     "output_type": "stream",
     "text": [
      "Epoch: 0, Training Step: 655, Loss: 0.42682358622550964\n",
      "Epoch: 0, Training Step: 656, Loss: 0.4828130602836609\n",
      "Epoch: 0, Training Step: 657, Loss: 0.4791835844516754\n",
      "Epoch: 0, Training Step: 658, Loss: 0.5162741541862488\n",
      "Epoch: 0, Training Step: 659, Loss: 0.503807783126831\n"
     ]
    },
    {
     "name": "stderr",
     "output_type": "stream",
     "text": []
    },
    {
     "name": "stdout",
     "output_type": "stream",
     "text": [
      "Epoch: 0, Training Step: 660, Loss: 0.5017977356910706\n",
      "Epoch: 0, Training Step: 661, Loss: 0.5418205261230469\n",
      "Epoch: 0, Training Step: 662, Loss: 0.4931198060512543\n",
      "Epoch: 0, Training Step: 663, Loss: 0.48222580552101135\n",
      "Epoch: 0, Training Step: 664, Loss: 0.6008579730987549\n"
     ]
    },
    {
     "name": "stderr",
     "output_type": "stream",
     "text": []
    },
    {
     "name": "stdout",
     "output_type": "stream",
     "text": [
      "Epoch: 0, Training Step: 665, Loss: 0.5802144408226013\n",
      "Epoch: 0, Training Step: 666, Loss: 0.47339847683906555\n",
      "Epoch: 0, Training Step: 667, Loss: 0.4948340654373169\n",
      "Epoch: 0, Training Step: 668, Loss: 0.4799802005290985\n",
      "Epoch: 0, Training Step: 669, Loss: 0.6486088037490845\n"
     ]
    },
    {
     "name": "stderr",
     "output_type": "stream",
     "text": [
      "\n"
     ]
    },
    {
     "name": "stdout",
     "output_type": "stream",
     "text": [
      "Epoch: 0, Training Step: 670, Loss: 0.588232159614563\n",
      "Epoch: 0, Training Step: 671, Loss: 0.6177469491958618\n",
      "Epoch: 0, Training Step: 672, Loss: 0.6265556812286377\n",
      "Epoch: 0, Training Step: 673, Loss: 0.6886565685272217\n",
      "Epoch: 0, Training Step: 674, Loss: 0.5718774795532227\n"
     ]
    },
    {
     "name": "stderr",
     "output_type": "stream",
     "text": [
      "Iteration:  77%|███████▋  | 675/882 [01:08<00:20, 10.20it/s]\u001b[A"
     ]
    },
    {
     "name": "stdout",
     "output_type": "stream",
     "text": [
      "Epoch: 0, Training Step: 675, Loss: 0.5702084898948669\n",
      "Epoch: 0, Training Step: 676, Loss: 0.5931803584098816\n",
      "Epoch: 0, Training Step: 677, Loss: 0.5914391279220581\n",
      "Epoch: 0, Training Step: 678, Loss: 0.5341916084289551\n",
      "Epoch: 0, Training Step: 679, Loss: 0.7401303648948669\n"
     ]
    },
    {
     "name": "stderr",
     "output_type": "stream",
     "text": []
    },
    {
     "name": "stdout",
     "output_type": "stream",
     "text": [
      "Epoch: 0, Training Step: 680, Loss: 0.4892227053642273\n",
      "Epoch: 0, Training Step: 681, Loss: 0.5407559275627136\n",
      "Epoch: 0, Training Step: 682, Loss: 0.5545651316642761\n",
      "Epoch: 0, Training Step: 683, Loss: 0.5594490766525269\n",
      "Epoch: 0, Training Step: 684, Loss: 0.48089364171028137\n"
     ]
    },
    {
     "name": "stderr",
     "output_type": "stream",
     "text": []
    },
    {
     "name": "stdout",
     "output_type": "stream",
     "text": [
      "Epoch: 0, Training Step: 685, Loss: 0.4294419586658478\n",
      "Epoch: 0, Training Step: 686, Loss: 0.5307057499885559\n",
      "Epoch: 0, Training Step: 687, Loss: 0.4933704733848572\n",
      "Epoch: 0, Training Step: 688, Loss: 0.5830525755882263\n",
      "Epoch: 0, Training Step: 689, Loss: 0.5428456664085388\n"
     ]
    },
    {
     "name": "stderr",
     "output_type": "stream",
     "text": []
    },
    {
     "name": "stdout",
     "output_type": "stream",
     "text": [
      "Epoch: 0, Training Step: 690, Loss: 0.5331546664237976\n",
      "Epoch: 0, Training Step: 691, Loss: 0.5542824268341064\n",
      "Epoch: 0, Training Step: 692, Loss: 0.5542759895324707\n",
      "Epoch: 0, Training Step: 693, Loss: 0.4344671964645386\n",
      "Epoch: 0, Training Step: 694, Loss: 0.5153404474258423\n"
     ]
    },
    {
     "name": "stderr",
     "output_type": "stream",
     "text": []
    },
    {
     "name": "stdout",
     "output_type": "stream",
     "text": [
      "Epoch: 0, Training Step: 695, Loss: 0.48571884632110596\n",
      "Epoch: 0, Training Step: 696, Loss: 0.4454610347747803\n",
      "Epoch: 0, Training Step: 697, Loss: 0.47236302495002747\n",
      "Epoch: 0, Training Step: 698, Loss: 0.41786810755729675\n",
      "Epoch: 0, Training Step: 699, Loss: 0.45475414395332336\n",
      "Epoch: 0, Training Step: 700, Loss: 0.4980089068412781\n",
      "Checkpoint saved at epoch 0, training step 700.\n",
      "TripletEvaluator: Evaluating the model on the gooaq dataset in epoch 0 after 700 steps:\n"
     ]
    },
    {
     "name": "stderr",
     "output_type": "stream",
     "text": [
      "\n",
      "\u001b[A\n",
      "\u001b[A\n",
      "\u001b[A\n",
      "\u001b[A\n",
      "\u001b[A\n",
      "100%|██████████| 50/50 [00:00<00:00, 82.74it/s]\n",
      "\n",
      "\u001b[A\n",
      "\u001b[A\n",
      "\u001b[A\n",
      "\u001b[A\n",
      "\u001b[A\n",
      "100%|██████████| 50/50 [00:00<00:00, 78.66it/s]\n",
      "\n",
      "\u001b[A\n",
      "\u001b[A\n",
      "\u001b[A\n",
      "\u001b[A\n",
      "\u001b[A\n",
      "100%|██████████| 50/50 [00:00<00:00, 84.57it/s]\n",
      "\n"
     ]
    },
    {
     "name": "stdout",
     "output_type": "stream",
     "text": [
      "Accuracy Cosine Distance:   \t80.46\n",
      "Accuracy Dot Product:       \t20.92\n",
      "Accuracy Manhattan Distance:\t80.16\n",
      "Accuracy Euclidean Distance:\t80.38\n",
      "\n",
      "Checkpoint saved at epoch 0, training step 700.\n",
      "Epoch: 0, Training Step: 701, Loss: 0.42401042580604553\n",
      "Epoch: 0, Training Step: 702, Loss: 0.31377115845680237\n",
      "Epoch: 0, Training Step: 703, Loss: 0.34212565422058105\n",
      "Epoch: 0, Training Step: 704, Loss: 0.3768613338470459\n"
     ]
    },
    {
     "name": "stderr",
     "output_type": "stream",
     "text": [
      "Iteration:  80%|███████▉  | 705/882 [01:12<00:20,  8.46it/s]\u001b[A"
     ]
    },
    {
     "name": "stdout",
     "output_type": "stream",
     "text": [
      "Epoch: 0, Training Step: 705, Loss: 0.3141460716724396\n",
      "Epoch: 0, Training Step: 706, Loss: 0.4126163423061371\n",
      "Epoch: 0, Training Step: 707, Loss: 0.3956970274448395\n",
      "Epoch: 0, Training Step: 708, Loss: 0.4302588701248169\n",
      "Epoch: 0, Training Step: 709, Loss: 0.4703294038772583\n"
     ]
    },
    {
     "name": "stderr",
     "output_type": "stream",
     "text": []
    },
    {
     "name": "stdout",
     "output_type": "stream",
     "text": [
      "Epoch: 0, Training Step: 710, Loss: 0.505744993686676\n",
      "Epoch: 0, Training Step: 711, Loss: 0.5003615021705627\n",
      "Epoch: 0, Training Step: 712, Loss: 0.5706255435943604\n",
      "Epoch: 0, Training Step: 713, Loss: 0.6062327027320862\n",
      "Epoch: 0, Training Step: 714, Loss: 0.6096568703651428\n"
     ]
    },
    {
     "name": "stderr",
     "output_type": "stream",
     "text": []
    },
    {
     "name": "stdout",
     "output_type": "stream",
     "text": [
      "Epoch: 0, Training Step: 715, Loss: 0.6043296456336975\n",
      "Epoch: 0, Training Step: 716, Loss: 0.6148496866226196\n",
      "Epoch: 0, Training Step: 717, Loss: 0.37949156761169434\n",
      "Epoch: 0, Training Step: 718, Loss: 0.4954245090484619\n",
      "Epoch: 0, Training Step: 719, Loss: 0.5232138633728027\n"
     ]
    },
    {
     "name": "stderr",
     "output_type": "stream",
     "text": []
    },
    {
     "name": "stdout",
     "output_type": "stream",
     "text": [
      "Epoch: 0, Training Step: 720, Loss: 0.5443881154060364\n",
      "Epoch: 0, Training Step: 721, Loss: 0.4587620198726654\n",
      "Epoch: 0, Training Step: 722, Loss: 0.42582806944847107\n",
      "Epoch: 0, Training Step: 723, Loss: 0.4287604093551636\n",
      "Epoch: 0, Training Step: 724, Loss: 0.36014580726623535\n"
     ]
    },
    {
     "name": "stderr",
     "output_type": "stream",
     "text": []
    },
    {
     "name": "stdout",
     "output_type": "stream",
     "text": [
      "Epoch: 0, Training Step: 725, Loss: 0.3816836476325989\n",
      "Epoch: 0, Training Step: 726, Loss: 0.49256283044815063\n",
      "Epoch: 0, Training Step: 727, Loss: 0.4693294167518616\n",
      "Epoch: 0, Training Step: 728, Loss: 0.47119367122650146\n",
      "Epoch: 0, Training Step: 729, Loss: 0.5284901857376099\n"
     ]
    },
    {
     "name": "stderr",
     "output_type": "stream",
     "text": []
    },
    {
     "name": "stdout",
     "output_type": "stream",
     "text": [
      "Epoch: 0, Training Step: 730, Loss: 0.47775134444236755\n",
      "Epoch: 0, Training Step: 731, Loss: 0.5872130990028381\n",
      "Epoch: 0, Training Step: 732, Loss: 0.48475757241249084\n",
      "Epoch: 0, Training Step: 733, Loss: 0.5680993795394897\n",
      "Epoch: 0, Training Step: 734, Loss: 0.4611514210700989\n"
     ]
    },
    {
     "name": "stderr",
     "output_type": "stream",
     "text": []
    },
    {
     "name": "stdout",
     "output_type": "stream",
     "text": [
      "Epoch: 0, Training Step: 735, Loss: 0.45548367500305176\n",
      "Epoch: 0, Training Step: 736, Loss: 0.49370110034942627\n",
      "Epoch: 0, Training Step: 737, Loss: 0.41485708951950073\n",
      "Epoch: 0, Training Step: 738, Loss: 0.4337637424468994\n",
      "Epoch: 0, Training Step: 739, Loss: 0.4844513237476349\n"
     ]
    },
    {
     "name": "stderr",
     "output_type": "stream",
     "text": []
    },
    {
     "name": "stdout",
     "output_type": "stream",
     "text": [
      "Epoch: 0, Training Step: 740, Loss: 0.44035613536834717\n",
      "Epoch: 0, Training Step: 741, Loss: 0.40693533420562744\n",
      "Epoch: 0, Training Step: 742, Loss: 0.4719032645225525\n",
      "Epoch: 0, Training Step: 743, Loss: 0.41577792167663574\n",
      "Epoch: 0, Training Step: 744, Loss: 0.6093056797981262\n"
     ]
    },
    {
     "name": "stderr",
     "output_type": "stream",
     "text": []
    },
    {
     "name": "stdout",
     "output_type": "stream",
     "text": [
      "Epoch: 0, Training Step: 745, Loss: 0.5708890557289124\n",
      "Epoch: 0, Training Step: 746, Loss: 0.5293402075767517\n",
      "Epoch: 0, Training Step: 747, Loss: 0.5711150169372559\n",
      "Epoch: 0, Training Step: 748, Loss: 0.603122353553772\n",
      "Epoch: 0, Training Step: 749, Loss: 0.609253466129303\n",
      "Epoch: 0, Training Step: 750, Loss: 0.534954309463501\n",
      "Checkpoint saved at epoch 0, training step 750.\n",
      "TripletEvaluator: Evaluating the model on the gooaq dataset in epoch 0 after 750 steps:\n"
     ]
    },
    {
     "name": "stderr",
     "output_type": "stream",
     "text": [
      "\n",
      "\u001b[A\n",
      "\u001b[A\n",
      "\u001b[A\n",
      "\u001b[A\n",
      "\u001b[A\n",
      "100%|██████████| 50/50 [00:00<00:00, 83.56it/s]\n",
      "\n",
      "\u001b[A\n",
      "\u001b[A\n",
      "\u001b[A\n",
      "\u001b[A\n",
      "\u001b[A\n",
      "100%|██████████| 50/50 [00:00<00:00, 83.58it/s]\n",
      "\n",
      "\u001b[A\n",
      "\u001b[A\n",
      "\u001b[A\n",
      "\u001b[A\n",
      "\u001b[A\n",
      "100%|██████████| 50/50 [00:00<00:00, 82.38it/s]\n"
     ]
    },
    {
     "name": "stdout",
     "output_type": "stream",
     "text": [
      "Accuracy Cosine Distance:   \t80.65\n",
      "Accuracy Dot Product:       \t21.00\n",
      "Accuracy Manhattan Distance:\t80.26\n",
      "Accuracy Euclidean Distance:\t80.30\n",
      "\n",
      "Checkpoint saved at epoch 0, training step 750.\n",
      "Epoch: 0, Training Step: 751, Loss: 0.642738401889801\n"
     ]
    },
    {
     "name": "stderr",
     "output_type": "stream",
     "text": []
    },
    {
     "name": "stdout",
     "output_type": "stream",
     "text": [
      "Epoch: 0, Training Step: 752, Loss: 0.5665907859802246\n",
      "Epoch: 0, Training Step: 753, Loss: 0.5125418901443481\n",
      "Epoch: 0, Training Step: 754, Loss: 0.5357473492622375\n",
      "Epoch: 0, Training Step: 755, Loss: 0.519129753112793\n",
      "Epoch: 0, Training Step: 756, Loss: 0.5672638416290283\n"
     ]
    },
    {
     "name": "stderr",
     "output_type": "stream",
     "text": [
      "\n"
     ]
    },
    {
     "name": "stdout",
     "output_type": "stream",
     "text": [
      "Epoch: 0, Training Step: 757, Loss: 0.5561569333076477\n",
      "Epoch: 0, Training Step: 758, Loss: 0.4398145377635956\n",
      "Epoch: 0, Training Step: 759, Loss: 0.45966479182243347\n",
      "Epoch: 0, Training Step: 760, Loss: 0.42247164249420166\n",
      "Epoch: 0, Training Step: 761, Loss: 0.5008695125579834\n"
     ]
    },
    {
     "name": "stderr",
     "output_type": "stream",
     "text": [
      "Iteration:  86%|████████▋ | 762/882 [01:17<00:13,  8.96it/s]\u001b[A"
     ]
    },
    {
     "name": "stdout",
     "output_type": "stream",
     "text": [
      "Epoch: 0, Training Step: 762, Loss: 0.4693678915500641\n",
      "Epoch: 0, Training Step: 763, Loss: 0.4780976474285126\n",
      "Epoch: 0, Training Step: 764, Loss: 0.5166343450546265\n",
      "Epoch: 0, Training Step: 765, Loss: 0.4335498809814453\n"
     ]
    },
    {
     "name": "stderr",
     "output_type": "stream",
     "text": [
      "\n",
      "Iteration:  87%|████████▋ | 771/882 [01:18<00:11,  9.74it/s]"
     ]
    },
    {
     "name": "stdout",
     "output_type": "stream",
     "text": [
      "Epoch: 0, Training Step: 766, Loss: 0.35380423069000244\n",
      "Epoch: 0, Training Step: 767, Loss: 0.4139392375946045\n",
      "Epoch: 0, Training Step: 768, Loss: 0.4792318344116211\n",
      "Epoch: 0, Training Step: 769, Loss: 0.576704204082489\n",
      "Epoch: 0, Training Step: 770, Loss: 0.5825825333595276\n"
     ]
    },
    {
     "name": "stderr",
     "output_type": "stream",
     "text": [
      "\u001b[A"
     ]
    },
    {
     "name": "stdout",
     "output_type": "stream",
     "text": [
      "Epoch: 0, Training Step: 771, Loss: 0.5888257026672363\n",
      "Epoch: 0, Training Step: 772, Loss: 0.6177768111228943\n",
      "Epoch: 0, Training Step: 773, Loss: 0.460866779088974\n",
      "Epoch: 0, Training Step: 774, Loss: 0.44818922877311707\n",
      "Epoch: 0, Training Step: 775, Loss: 0.49151456356048584\n"
     ]
    },
    {
     "name": "stderr",
     "output_type": "stream",
     "text": []
    },
    {
     "name": "stdout",
     "output_type": "stream",
     "text": [
      "Epoch: 0, Training Step: 776, Loss: 0.3744755983352661\n",
      "Epoch: 0, Training Step: 777, Loss: 0.3178713917732239\n",
      "Epoch: 0, Training Step: 778, Loss: 0.315559446811676\n",
      "Epoch: 0, Training Step: 779, Loss: 0.40573418140411377\n",
      "Epoch: 0, Training Step: 780, Loss: 0.39016619324684143\n"
     ]
    },
    {
     "name": "stderr",
     "output_type": "stream",
     "text": []
    },
    {
     "name": "stdout",
     "output_type": "stream",
     "text": [
      "Epoch: 0, Training Step: 781, Loss: 0.42472782731056213\n",
      "Epoch: 0, Training Step: 782, Loss: 0.5182334780693054\n",
      "Epoch: 0, Training Step: 783, Loss: 0.4703204333782196\n",
      "Epoch: 0, Training Step: 784, Loss: 0.5063400864601135\n",
      "Epoch: 0, Training Step: 785, Loss: 0.458482563495636\n"
     ]
    },
    {
     "name": "stderr",
     "output_type": "stream",
     "text": []
    },
    {
     "name": "stdout",
     "output_type": "stream",
     "text": [
      "Epoch: 0, Training Step: 786, Loss: 0.5682520866394043\n",
      "Epoch: 0, Training Step: 787, Loss: 0.46448901295661926\n",
      "Epoch: 0, Training Step: 788, Loss: 0.5563502311706543\n",
      "Epoch: 0, Training Step: 789, Loss: 0.412728488445282\n",
      "Epoch: 0, Training Step: 790, Loss: 0.508687436580658\n"
     ]
    },
    {
     "name": "stderr",
     "output_type": "stream",
     "text": []
    },
    {
     "name": "stdout",
     "output_type": "stream",
     "text": [
      "Epoch: 0, Training Step: 791, Loss: 0.4925589859485626\n",
      "Epoch: 0, Training Step: 792, Loss: 0.6942741870880127\n",
      "Epoch: 0, Training Step: 793, Loss: 0.52801913022995\n",
      "Epoch: 0, Training Step: 794, Loss: 0.5772432684898376\n",
      "Epoch: 0, Training Step: 795, Loss: 0.6623903512954712\n"
     ]
    },
    {
     "name": "stderr",
     "output_type": "stream",
     "text": []
    },
    {
     "name": "stdout",
     "output_type": "stream",
     "text": [
      "Epoch: 0, Training Step: 796, Loss: 0.5144034028053284\n",
      "Epoch: 0, Training Step: 797, Loss: 0.4116528630256653\n",
      "Epoch: 0, Training Step: 798, Loss: 0.5523958802223206\n",
      "Epoch: 0, Training Step: 799, Loss: 0.4026484787464142\n",
      "Epoch: 0, Training Step: 800, Loss: 0.40628620982170105\n",
      "Checkpoint saved at epoch 0, training step 800.\n",
      "TripletEvaluator: Evaluating the model on the gooaq dataset in epoch 0 after 800 steps:\n"
     ]
    },
    {
     "name": "stderr",
     "output_type": "stream",
     "text": [
      "\n",
      "\u001b[A\n",
      "\u001b[A\n",
      "\u001b[A\n",
      "\u001b[A\n",
      "\u001b[A\n",
      "100%|██████████| 50/50 [00:00<00:00, 80.87it/s]\n",
      "\n",
      "\u001b[A\n",
      "\u001b[A\n",
      "\u001b[A\n",
      "\u001b[A\n",
      "\u001b[A\n",
      "100%|██████████| 50/50 [00:00<00:00, 83.18it/s]\n",
      "\n",
      "\u001b[A\n",
      "\u001b[A\n",
      "\u001b[A\n",
      "\u001b[A\n",
      "\u001b[A\n",
      "100%|██████████| 50/50 [00:00<00:00, 78.73it/s]\n"
     ]
    },
    {
     "name": "stdout",
     "output_type": "stream",
     "text": [
      "Accuracy Cosine Distance:   \t80.75\n",
      "Accuracy Dot Product:       \t20.27\n",
      "Accuracy Manhattan Distance:\t80.30\n",
      "Accuracy Euclidean Distance:\t80.32\n",
      "\n",
      "Checkpoint saved at epoch 0, training step 800.\n",
      "Epoch: 0, Training Step: 801, Loss: 0.45193153619766235\n",
      "Epoch: 0, Training Step: 802, Loss: 0.416754812002182\n",
      "Epoch: 0, Training Step: 803, Loss: 0.44366076588630676\n",
      "Epoch: 0, Training Step: 804, Loss: 0.4032670855522156\n"
     ]
    },
    {
     "name": "stderr",
     "output_type": "stream",
     "text": [
      "\n"
     ]
    },
    {
     "name": "stdout",
     "output_type": "stream",
     "text": [
      "Epoch: 0, Training Step: 805, Loss: 0.3909687101840973\n",
      "Epoch: 0, Training Step: 806, Loss: 0.44497424364089966\n",
      "Epoch: 0, Training Step: 807, Loss: 0.4133491516113281\n",
      "Epoch: 0, Training Step: 808, Loss: 0.42694607377052307\n",
      "Epoch: 0, Training Step: 809, Loss: 0.5212893486022949\n"
     ]
    },
    {
     "name": "stderr",
     "output_type": "stream",
     "text": [
      "Iteration:  92%|█████████▏| 810/882 [01:22<00:08,  8.86it/s]\u001b[A"
     ]
    },
    {
     "name": "stdout",
     "output_type": "stream",
     "text": [
      "Epoch: 0, Training Step: 810, Loss: 0.582780659198761\n",
      "Epoch: 0, Training Step: 811, Loss: 0.5431768894195557\n",
      "Epoch: 0, Training Step: 812, Loss: 0.5128486752510071\n",
      "Epoch: 0, Training Step: 813, Loss: 0.5950660705566406\n",
      "Epoch: 0, Training Step: 814, Loss: 0.4332219958305359\n"
     ]
    },
    {
     "name": "stderr",
     "output_type": "stream",
     "text": []
    },
    {
     "name": "stdout",
     "output_type": "stream",
     "text": [
      "Epoch: 0, Training Step: 815, Loss: 0.49983128905296326\n",
      "Epoch: 0, Training Step: 816, Loss: 0.5308266282081604\n",
      "Epoch: 0, Training Step: 817, Loss: 0.5077501535415649\n",
      "Epoch: 0, Training Step: 818, Loss: 0.4439176917076111\n",
      "Epoch: 0, Training Step: 819, Loss: 0.566025972366333\n"
     ]
    },
    {
     "name": "stderr",
     "output_type": "stream",
     "text": [
      "\n"
     ]
    },
    {
     "name": "stdout",
     "output_type": "stream",
     "text": [
      "Epoch: 0, Training Step: 820, Loss: 0.5336635112762451\n",
      "Epoch: 0, Training Step: 821, Loss: 0.5342606902122498\n",
      "Epoch: 0, Training Step: 822, Loss: 0.4531182050704956\n",
      "Epoch: 0, Training Step: 823, Loss: 0.4721914529800415\n",
      "Epoch: 0, Training Step: 824, Loss: 0.4014270305633545\n"
     ]
    },
    {
     "name": "stderr",
     "output_type": "stream",
     "text": [
      "Iteration:  94%|█████████▎| 825/882 [01:23<00:05, 10.22it/s]\u001b[A"
     ]
    },
    {
     "name": "stdout",
     "output_type": "stream",
     "text": [
      "Epoch: 0, Training Step: 825, Loss: 0.39808112382888794\n",
      "Epoch: 0, Training Step: 826, Loss: 0.3196372389793396\n",
      "Epoch: 0, Training Step: 827, Loss: 0.31681928038597107\n",
      "Epoch: 0, Training Step: 828, Loss: 0.3664053976535797\n",
      "Epoch: 0, Training Step: 829, Loss: 0.5162063837051392\n"
     ]
    },
    {
     "name": "stderr",
     "output_type": "stream",
     "text": []
    },
    {
     "name": "stdout",
     "output_type": "stream",
     "text": [
      "Epoch: 0, Training Step: 830, Loss: 0.5509747266769409\n",
      "Epoch: 0, Training Step: 831, Loss: 0.5534064173698425\n",
      "Epoch: 0, Training Step: 832, Loss: 0.43569809198379517\n",
      "Epoch: 0, Training Step: 833, Loss: 0.45744118094444275\n",
      "Epoch: 0, Training Step: 834, Loss: 0.3691087067127228\n"
     ]
    },
    {
     "name": "stderr",
     "output_type": "stream",
     "text": []
    },
    {
     "name": "stdout",
     "output_type": "stream",
     "text": [
      "Epoch: 0, Training Step: 835, Loss: 0.34189948439598083\n",
      "Epoch: 0, Training Step: 836, Loss: 0.40986961126327515\n",
      "Epoch: 0, Training Step: 837, Loss: 0.45036688446998596\n",
      "Epoch: 0, Training Step: 838, Loss: 0.4243151843547821\n",
      "Epoch: 0, Training Step: 839, Loss: 0.47064387798309326\n"
     ]
    },
    {
     "name": "stderr",
     "output_type": "stream",
     "text": []
    },
    {
     "name": "stdout",
     "output_type": "stream",
     "text": [
      "Epoch: 0, Training Step: 840, Loss: 0.4929195046424866\n",
      "Epoch: 0, Training Step: 841, Loss: 0.5624415874481201\n",
      "Epoch: 0, Training Step: 842, Loss: 0.5134761333465576\n",
      "Epoch: 0, Training Step: 843, Loss: 0.5886335968971252\n",
      "Epoch: 0, Training Step: 844, Loss: 0.5644774436950684\n"
     ]
    },
    {
     "name": "stderr",
     "output_type": "stream",
     "text": []
    },
    {
     "name": "stdout",
     "output_type": "stream",
     "text": [
      "Epoch: 0, Training Step: 845, Loss: 0.6504562497138977\n",
      "Epoch: 0, Training Step: 846, Loss: 0.5960962176322937\n",
      "Epoch: 0, Training Step: 847, Loss: 0.633628249168396\n",
      "Epoch: 0, Training Step: 848, Loss: 0.49601244926452637\n",
      "Epoch: 0, Training Step: 849, Loss: 0.5076899528503418\n",
      "Epoch: 0, Training Step: 850, Loss: 0.36265674233436584\n",
      "Checkpoint saved at epoch 0, training step 850.\n",
      "TripletEvaluator: Evaluating the model on the gooaq dataset in epoch 0 after 850 steps:\n"
     ]
    },
    {
     "name": "stderr",
     "output_type": "stream",
     "text": [
      "\n",
      "\u001b[A\n",
      "\u001b[A\n",
      "\u001b[A\n",
      "\u001b[A\n",
      "\u001b[A\n",
      "100%|██████████| 50/50 [00:00<00:00, 80.35it/s]\n",
      "\n",
      "\u001b[A\n",
      "\u001b[A\n",
      "\u001b[A\n",
      "\u001b[A\n",
      "\u001b[A\n",
      "100%|██████████| 50/50 [00:00<00:00, 81.64it/s]\n",
      "\n",
      "\u001b[A\n",
      "\u001b[A\n",
      "\u001b[A\n",
      "\u001b[A\n",
      "\u001b[A\n",
      "100%|██████████| 50/50 [00:00<00:00, 81.63it/s]\n"
     ]
    },
    {
     "name": "stdout",
     "output_type": "stream",
     "text": [
      "Accuracy Cosine Distance:   \t80.77\n",
      "Accuracy Dot Product:       \t20.21\n",
      "Accuracy Manhattan Distance:\t80.40\n",
      "Accuracy Euclidean Distance:\t80.32\n",
      "\n",
      "Checkpoint saved at epoch 0, training step 850.\n",
      "Epoch: 0, Training Step: 851, Loss: 0.4508700668811798\n",
      "Epoch: 0, Training Step: 852, Loss: 0.42266398668289185\n",
      "Epoch: 0, Training Step: 853, Loss: 0.4512036442756653\n"
     ]
    },
    {
     "name": "stderr",
     "output_type": "stream",
     "text": []
    },
    {
     "name": "stdout",
     "output_type": "stream",
     "text": [
      "Epoch: 0, Training Step: 854, Loss: 0.4276607632637024\n",
      "Epoch: 0, Training Step: 855, Loss: 0.3834437429904938\n",
      "Epoch: 0, Training Step: 856, Loss: 0.5018351078033447\n",
      "Epoch: 0, Training Step: 857, Loss: 0.4960775077342987\n",
      "Epoch: 0, Training Step: 858, Loss: 0.39647239446640015\n"
     ]
    },
    {
     "name": "stderr",
     "output_type": "stream",
     "text": [
      "\n"
     ]
    },
    {
     "name": "stdout",
     "output_type": "stream",
     "text": [
      "Epoch: 0, Training Step: 859, Loss: 0.44726598262786865\n",
      "Epoch: 0, Training Step: 860, Loss: 0.5349429845809937\n",
      "Epoch: 0, Training Step: 861, Loss: 0.449052095413208\n",
      "Epoch: 0, Training Step: 862, Loss: 0.45028582215309143\n",
      "Epoch: 0, Training Step: 863, Loss: 0.4321538805961609\n"
     ]
    },
    {
     "name": "stderr",
     "output_type": "stream",
     "text": [
      "Iteration:  98%|█████████▊| 864/882 [01:27<00:01,  9.38it/s]\u001b[A"
     ]
    },
    {
     "name": "stdout",
     "output_type": "stream",
     "text": [
      "Epoch: 0, Training Step: 864, Loss: 0.5020752549171448\n",
      "Epoch: 0, Training Step: 865, Loss: 0.4794557988643646\n",
      "Epoch: 0, Training Step: 866, Loss: 0.533531904220581\n",
      "Epoch: 0, Training Step: 867, Loss: 0.43076568841934204\n",
      "Epoch: 0, Training Step: 868, Loss: 0.5046988129615784\n"
     ]
    },
    {
     "name": "stderr",
     "output_type": "stream",
     "text": []
    },
    {
     "name": "stdout",
     "output_type": "stream",
     "text": [
      "Epoch: 0, Training Step: 869, Loss: 0.5176361203193665\n",
      "Epoch: 0, Training Step: 870, Loss: 0.5216951370239258\n",
      "Epoch: 0, Training Step: 871, Loss: 0.6955389380455017\n",
      "Epoch: 0, Training Step: 872, Loss: 0.7027393579483032\n",
      "Epoch: 0, Training Step: 873, Loss: 0.6936120390892029\n"
     ]
    },
    {
     "name": "stderr",
     "output_type": "stream",
     "text": []
    },
    {
     "name": "stdout",
     "output_type": "stream",
     "text": [
      "Epoch: 0, Training Step: 874, Loss: 0.6212027668952942\n",
      "Epoch: 0, Training Step: 875, Loss: 0.6888533234596252\n",
      "Epoch: 0, Training Step: 876, Loss: 0.5410694479942322\n",
      "Epoch: 0, Training Step: 877, Loss: 0.5898919701576233\n",
      "Epoch: 0, Training Step: 878, Loss: 0.5669500231742859\n"
     ]
    },
    {
     "name": "stderr",
     "output_type": "stream",
     "text": [
      "Iteration: 884it [01:28, 10.02it/s]\n"
     ]
    },
    {
     "name": "stdout",
     "output_type": "stream",
     "text": [
      "Epoch: 0, Training Step: 879, Loss: 0.49601298570632935\n",
      "Epoch: 0, Training Step: 880, Loss: 0.493224561214447\n",
      "Epoch: 0, Training Step: 881, Loss: 0.49157029390335083\n",
      "Epoch: 0, Training Step: 882, Loss: 0.5517482757568359\n",
      "Epoch: 0, Training Step: 883, Loss: 0.5173155069351196\n",
      "TripletEvaluator: Evaluating the model on the gooaq dataset in epoch 0 after 884 steps:\n"
     ]
    },
    {
     "name": "stderr",
     "output_type": "stream",
     "text": [
      "100%|██████████| 50/50 [00:00<00:00, 88.76it/s]\n",
      "100%|██████████| 50/50 [00:00<00:00, 87.71it/s]\n",
      "100%|██████████| 50/50 [00:00<00:00, 80.50it/s]\n",
      "Epoch:  33%|███▎      | 1/3 [01:30<03:01, 90.73s/it]"
     ]
    },
    {
     "name": "stdout",
     "output_type": "stream",
     "text": [
      "Accuracy Cosine Distance:   \t80.89\n",
      "Accuracy Dot Product:       \t20.43\n",
      "Accuracy Manhattan Distance:\t80.54\n",
      "Accuracy Euclidean Distance:\t80.48\n",
      "\n",
      "Checkpoint saved at epoch 0, training step 884.\n"
     ]
    },
    {
     "name": "stderr",
     "output_type": "stream",
     "text": []
    },
    {
     "name": "stdout",
     "output_type": "stream",
     "text": [
      "Epoch: 1, Training Step: 0, Loss: 0.4617786407470703\n",
      "Checkpoint saved at epoch 1, training step 0.\n",
      "Epoch: 1, Training Step: 1, Loss: 0.46901145577430725\n",
      "Epoch: 1, Training Step: 2, Loss: 0.38335347175598145\n"
     ]
    },
    {
     "name": "stderr",
     "output_type": "stream",
     "text": [
      "\n"
     ]
    },
    {
     "name": "stdout",
     "output_type": "stream",
     "text": [
      "Epoch: 1, Training Step: 3, Loss: 0.3977767527103424\n",
      "Epoch: 1, Training Step: 4, Loss: 0.35130375623703003\n"
     ]
    },
    {
     "name": "stderr",
     "output_type": "stream",
     "text": [
      "Iteration:   1%|          | 5/882 [00:00<00:43, 20.10it/s]\u001b[A\n"
     ]
    },
    {
     "name": "stdout",
     "output_type": "stream",
     "text": [
      "Epoch: 1, Training Step: 5, Loss: 0.43613818287849426\n",
      "Epoch: 1, Training Step: 6, Loss: 0.394587904214859\n",
      "Epoch: 1, Training Step: 7, Loss: 0.274132639169693\n"
     ]
    },
    {
     "name": "stderr",
     "output_type": "stream",
     "text": [
      "Iteration:   1%|          | 8/882 [00:00<00:43, 20.17it/s]\u001b[A"
     ]
    },
    {
     "name": "stdout",
     "output_type": "stream",
     "text": [
      "Epoch: 1, Training Step: 8, Loss: 0.29312142729759216\n",
      "Epoch: 1, Training Step: 9, Loss: 0.27932286262512207\n"
     ]
    },
    {
     "name": "stderr",
     "output_type": "stream",
     "text": []
    },
    {
     "name": "stdout",
     "output_type": "stream",
     "text": [
      "Epoch: 1, Training Step: 10, Loss: 0.38125792145729065\n",
      "Epoch: 1, Training Step: 11, Loss: 0.3764716684818268\n",
      "Epoch: 1, Training Step: 12, Loss: 0.33284005522727966\n"
     ]
    },
    {
     "name": "stderr",
     "output_type": "stream",
     "text": []
    },
    {
     "name": "stdout",
     "output_type": "stream",
     "text": [
      "Epoch: 1, Training Step: 13, Loss: 0.3015824556350708\n",
      "Epoch: 1, Training Step: 14, Loss: 0.3262661099433899\n"
     ]
    },
    {
     "name": "stderr",
     "output_type": "stream",
     "text": []
    },
    {
     "name": "stdout",
     "output_type": "stream",
     "text": [
      "Epoch: 1, Training Step: 15, Loss: 0.48885226249694824\n",
      "Epoch: 1, Training Step: 16, Loss: 0.4503360390663147\n",
      "Epoch: 1, Training Step: 17, Loss: 0.37859177589416504\n"
     ]
    },
    {
     "name": "stderr",
     "output_type": "stream",
     "text": []
    },
    {
     "name": "stdout",
     "output_type": "stream",
     "text": [
      "Epoch: 1, Training Step: 18, Loss: 0.4251616597175598\n",
      "Epoch: 1, Training Step: 19, Loss: 0.3679049611091614\n"
     ]
    },
    {
     "name": "stderr",
     "output_type": "stream",
     "text": []
    },
    {
     "name": "stdout",
     "output_type": "stream",
     "text": [
      "Epoch: 1, Training Step: 20, Loss: 0.477447509765625\n",
      "Epoch: 1, Training Step: 21, Loss: 0.4860171973705292\n",
      "Epoch: 1, Training Step: 22, Loss: 0.3511852025985718\n",
      "Epoch: 1, Training Step: 23, Loss: 0.4364614486694336\n",
      "Epoch: 1, Training Step: 24, Loss: 0.47035303711891174\n"
     ]
    },
    {
     "name": "stderr",
     "output_type": "stream",
     "text": []
    },
    {
     "name": "stdout",
     "output_type": "stream",
     "text": [
      "Epoch: 1, Training Step: 25, Loss: 0.47399529814720154\n",
      "Epoch: 1, Training Step: 26, Loss: 0.41646748781204224\n",
      "Epoch: 1, Training Step: 27, Loss: 0.40687301754951477\n"
     ]
    },
    {
     "name": "stderr",
     "output_type": "stream",
     "text": []
    },
    {
     "name": "stdout",
     "output_type": "stream",
     "text": [
      "Epoch: 1, Training Step: 28, Loss: 0.3526115119457245\n",
      "Epoch: 1, Training Step: 29, Loss: 0.32376158237457275\n"
     ]
    },
    {
     "name": "stderr",
     "output_type": "stream",
     "text": []
    },
    {
     "name": "stdout",
     "output_type": "stream",
     "text": [
      "Epoch: 1, Training Step: 30, Loss: 0.5318041443824768\n",
      "Epoch: 1, Training Step: 31, Loss: 0.5194238424301147\n",
      "Epoch: 1, Training Step: 32, Loss: 0.4424141049385071\n"
     ]
    },
    {
     "name": "stderr",
     "output_type": "stream",
     "text": []
    },
    {
     "name": "stdout",
     "output_type": "stream",
     "text": [
      "Epoch: 1, Training Step: 33, Loss: 0.4433334469795227\n",
      "Epoch: 1, Training Step: 34, Loss: 0.42169731855392456\n"
     ]
    },
    {
     "name": "stderr",
     "output_type": "stream",
     "text": []
    },
    {
     "name": "stdout",
     "output_type": "stream",
     "text": [
      "Epoch: 1, Training Step: 35, Loss: 0.41136184334754944\n",
      "Epoch: 1, Training Step: 36, Loss: 0.31517282128334045\n",
      "Epoch: 1, Training Step: 37, Loss: 0.3208288848400116\n",
      "Epoch: 1, Training Step: 38, Loss: 0.323790967464447\n",
      "Epoch: 1, Training Step: 39, Loss: 0.40177130699157715\n"
     ]
    },
    {
     "name": "stderr",
     "output_type": "stream",
     "text": []
    },
    {
     "name": "stdout",
     "output_type": "stream",
     "text": [
      "Epoch: 1, Training Step: 40, Loss: 0.5280819535255432\n",
      "Epoch: 1, Training Step: 41, Loss: 0.443401038646698\n",
      "Epoch: 1, Training Step: 42, Loss: 0.4642747640609741\n"
     ]
    },
    {
     "name": "stderr",
     "output_type": "stream",
     "text": []
    },
    {
     "name": "stdout",
     "output_type": "stream",
     "text": [
      "Epoch: 1, Training Step: 43, Loss: 0.44860371947288513\n",
      "Epoch: 1, Training Step: 44, Loss: 0.411097913980484\n"
     ]
    },
    {
     "name": "stderr",
     "output_type": "stream",
     "text": []
    },
    {
     "name": "stdout",
     "output_type": "stream",
     "text": [
      "Epoch: 1, Training Step: 45, Loss: 0.4909824728965759\n",
      "Epoch: 1, Training Step: 46, Loss: 0.39679497480392456\n",
      "Epoch: 1, Training Step: 47, Loss: 0.356709361076355\n"
     ]
    },
    {
     "name": "stderr",
     "output_type": "stream",
     "text": []
    },
    {
     "name": "stdout",
     "output_type": "stream",
     "text": [
      "Epoch: 1, Training Step: 48, Loss: 0.265710711479187\n",
      "Epoch: 1, Training Step: 49, Loss: 0.5017934441566467\n",
      "Epoch: 1, Training Step: 50, Loss: 0.5393670797348022\n",
      "Checkpoint saved at epoch 1, training step 50.\n",
      "TripletEvaluator: Evaluating the model on the gooaq dataset in epoch 1 after 50 steps:\n"
     ]
    },
    {
     "name": "stderr",
     "output_type": "stream",
     "text": [
      "\n",
      "\u001b[A\n",
      "\u001b[A\n",
      "\u001b[A\n",
      "\u001b[A\n",
      "\u001b[A\n",
      "100%|██████████| 50/50 [00:00<00:00, 76.92it/s]\n",
      "\n",
      "\u001b[A\n",
      "\u001b[A\n",
      "\u001b[A\n",
      "\u001b[A\n",
      "\u001b[A\n",
      "100%|██████████| 50/50 [00:00<00:00, 79.50it/s]\n",
      "\n",
      "\u001b[A\n",
      "\u001b[A\n",
      "\u001b[A\n",
      "\u001b[A\n",
      "\u001b[A\n",
      "100%|██████████| 50/50 [00:00<00:00, 77.31it/s]\n"
     ]
    },
    {
     "name": "stdout",
     "output_type": "stream",
     "text": [
      "Accuracy Cosine Distance:   \t80.81\n",
      "Accuracy Dot Product:       \t20.41\n",
      "Accuracy Manhattan Distance:\t80.44\n",
      "Accuracy Euclidean Distance:\t80.67\n",
      "\n",
      "Epoch: 1, Training Step: 51, Loss: 0.5253801941871643\n",
      "Epoch: 1, Training Step: 52, Loss: 0.5878620743751526\n",
      "Epoch: 1, Training Step: 53, Loss: 0.5548701286315918\n"
     ]
    },
    {
     "name": "stderr",
     "output_type": "stream",
     "text": []
    },
    {
     "name": "stdout",
     "output_type": "stream",
     "text": [
      "Epoch: 1, Training Step: 54, Loss: 0.4010598063468933\n",
      "Epoch: 1, Training Step: 55, Loss: 0.6050373315811157\n",
      "Epoch: 1, Training Step: 56, Loss: 0.5833022594451904\n",
      "Epoch: 1, Training Step: 57, Loss: 0.48652783036231995\n",
      "Epoch: 1, Training Step: 58, Loss: 0.5110259652137756\n"
     ]
    },
    {
     "name": "stderr",
     "output_type": "stream",
     "text": []
    },
    {
     "name": "stdout",
     "output_type": "stream",
     "text": [
      "Epoch: 1, Training Step: 59, Loss: 0.5506443977355957\n",
      "Epoch: 1, Training Step: 60, Loss: 0.5232434272766113\n",
      "Epoch: 1, Training Step: 61, Loss: 0.4928417205810547\n",
      "Epoch: 1, Training Step: 62, Loss: 0.5111867785453796\n",
      "Epoch: 1, Training Step: 63, Loss: 0.5474201440811157\n"
     ]
    },
    {
     "name": "stderr",
     "output_type": "stream",
     "text": []
    },
    {
     "name": "stdout",
     "output_type": "stream",
     "text": [
      "Epoch: 1, Training Step: 64, Loss: 0.3683953583240509\n",
      "Epoch: 1, Training Step: 65, Loss: 0.38226550817489624\n",
      "Epoch: 1, Training Step: 66, Loss: 0.3819431662559509\n",
      "Epoch: 1, Training Step: 67, Loss: 0.3670938014984131\n",
      "Epoch: 1, Training Step: 68, Loss: 0.46814000606536865\n"
     ]
    },
    {
     "name": "stderr",
     "output_type": "stream",
     "text": [
      "\n",
      "Iteration:   8%|▊         | 74/882 [00:06<01:13, 11.00it/s]"
     ]
    },
    {
     "name": "stdout",
     "output_type": "stream",
     "text": [
      "Epoch: 1, Training Step: 69, Loss: 0.38462337851524353\n",
      "Epoch: 1, Training Step: 70, Loss: 0.5559247732162476\n",
      "Epoch: 1, Training Step: 71, Loss: 0.4788699448108673\n",
      "Epoch: 1, Training Step: 72, Loss: 0.4627126455307007\n",
      "Epoch: 1, Training Step: 73, Loss: 0.43782714009284973\n"
     ]
    },
    {
     "name": "stderr",
     "output_type": "stream",
     "text": [
      "\u001b[A"
     ]
    },
    {
     "name": "stdout",
     "output_type": "stream",
     "text": [
      "Epoch: 1, Training Step: 74, Loss: 0.4610533118247986\n",
      "Epoch: 1, Training Step: 75, Loss: 0.45322757959365845\n",
      "Epoch: 1, Training Step: 76, Loss: 0.45914995670318604\n",
      "Epoch: 1, Training Step: 77, Loss: 0.44765353202819824\n",
      "Epoch: 1, Training Step: 78, Loss: 0.4674706757068634\n"
     ]
    },
    {
     "name": "stderr",
     "output_type": "stream",
     "text": []
    },
    {
     "name": "stdout",
     "output_type": "stream",
     "text": [
      "Epoch: 1, Training Step: 79, Loss: 0.3533101975917816\n",
      "Epoch: 1, Training Step: 80, Loss: 0.37705573439598083\n",
      "Epoch: 1, Training Step: 81, Loss: 0.37927547097206116\n",
      "Epoch: 1, Training Step: 82, Loss: 0.39076873660087585\n",
      "Epoch: 1, Training Step: 83, Loss: 0.4471966624259949\n"
     ]
    },
    {
     "name": "stderr",
     "output_type": "stream",
     "text": [
      "\n"
     ]
    },
    {
     "name": "stdout",
     "output_type": "stream",
     "text": [
      "Epoch: 1, Training Step: 84, Loss: 0.3847317099571228\n",
      "Epoch: 1, Training Step: 85, Loss: 0.3912590444087982\n",
      "Epoch: 1, Training Step: 86, Loss: 0.37164798378944397\n",
      "Epoch: 1, Training Step: 87, Loss: 0.4180421531200409\n",
      "Epoch: 1, Training Step: 88, Loss: 0.3940865397453308\n"
     ]
    },
    {
     "name": "stderr",
     "output_type": "stream",
     "text": [
      "Iteration:  10%|█         | 89/882 [00:06<01:01, 12.93it/s]\u001b[A"
     ]
    },
    {
     "name": "stdout",
     "output_type": "stream",
     "text": [
      "Epoch: 1, Training Step: 89, Loss: 0.3715204894542694\n",
      "Epoch: 1, Training Step: 90, Loss: 0.5555622577667236\n",
      "Epoch: 1, Training Step: 91, Loss: 0.5151171684265137\n",
      "Epoch: 1, Training Step: 92, Loss: 0.41828179359436035\n",
      "Epoch: 1, Training Step: 93, Loss: 0.40206924080848694\n"
     ]
    },
    {
     "name": "stderr",
     "output_type": "stream",
     "text": []
    },
    {
     "name": "stdout",
     "output_type": "stream",
     "text": [
      "Epoch: 1, Training Step: 94, Loss: 0.389440655708313\n",
      "Epoch: 1, Training Step: 95, Loss: 0.36877205967903137\n",
      "Epoch: 1, Training Step: 96, Loss: 0.4076022803783417\n",
      "Epoch: 1, Training Step: 97, Loss: 0.4562617838382721\n",
      "Epoch: 1, Training Step: 98, Loss: 0.4718889892101288\n",
      "Epoch: 1, Training Step: 99, Loss: 0.38059478998184204\n",
      "Epoch: 1, Training Step: 100, Loss: 0.3595500588417053\n",
      "Checkpoint saved at epoch 1, training step 100.\n",
      "TripletEvaluator: Evaluating the model on the gooaq dataset in epoch 1 after 100 steps:\n"
     ]
    },
    {
     "name": "stderr",
     "output_type": "stream",
     "text": [
      "\n",
      "\u001b[A\n",
      "\u001b[A\n",
      "\u001b[A\n",
      "\u001b[A\n",
      "\u001b[A\n",
      "\u001b[A\n",
      "100%|██████████| 50/50 [00:00<00:00, 76.28it/s]\n",
      "\n",
      "\u001b[A\n",
      "\u001b[A\n",
      "\u001b[A\n",
      "\u001b[A\n",
      "\u001b[A\n",
      "100%|██████████| 50/50 [00:00<00:00, 80.43it/s]\n",
      "\n",
      "\u001b[A\n",
      "\u001b[A\n",
      "\u001b[A\n",
      "\u001b[A\n",
      "\u001b[A\n",
      "\u001b[A\n",
      "100%|██████████| 50/50 [00:00<00:00, 76.70it/s]\n"
     ]
    },
    {
     "name": "stdout",
     "output_type": "stream",
     "text": [
      "Accuracy Cosine Distance:   \t80.73\n",
      "Accuracy Dot Product:       \t20.53\n",
      "Accuracy Manhattan Distance:\t80.40\n",
      "Accuracy Euclidean Distance:\t80.40\n",
      "\n",
      "Epoch: 1, Training Step: 101, Loss: 0.504755437374115\n",
      "Epoch: 1, Training Step: 102, Loss: 0.4535665214061737\n",
      "Epoch: 1, Training Step: 103, Loss: 0.4750707745552063\n",
      "Epoch: 1, Training Step: 104, Loss: 0.4745626747608185\n"
     ]
    },
    {
     "name": "stderr",
     "output_type": "stream",
     "text": []
    },
    {
     "name": "stdout",
     "output_type": "stream",
     "text": [
      "Epoch: 1, Training Step: 105, Loss: 0.4631556272506714\n",
      "Epoch: 1, Training Step: 106, Loss: 0.49478772282600403\n",
      "Epoch: 1, Training Step: 107, Loss: 0.44031959772109985\n",
      "Epoch: 1, Training Step: 108, Loss: 0.3847408592700958\n",
      "Epoch: 1, Training Step: 109, Loss: 0.40072932839393616\n"
     ]
    },
    {
     "name": "stderr",
     "output_type": "stream",
     "text": []
    },
    {
     "name": "stdout",
     "output_type": "stream",
     "text": [
      "Epoch: 1, Training Step: 110, Loss: 0.4808625876903534\n",
      "Epoch: 1, Training Step: 111, Loss: 0.44580844044685364\n",
      "Epoch: 1, Training Step: 112, Loss: 0.44794636964797974\n",
      "Epoch: 1, Training Step: 113, Loss: 0.5169346332550049\n",
      "Epoch: 1, Training Step: 114, Loss: 0.43048056960105896\n"
     ]
    },
    {
     "name": "stderr",
     "output_type": "stream",
     "text": []
    },
    {
     "name": "stdout",
     "output_type": "stream",
     "text": [
      "Epoch: 1, Training Step: 115, Loss: 0.4771995544433594\n",
      "Epoch: 1, Training Step: 116, Loss: 0.5050605535507202\n",
      "Epoch: 1, Training Step: 117, Loss: 0.3951091468334198\n",
      "Epoch: 1, Training Step: 118, Loss: 0.3618101179599762\n",
      "Epoch: 1, Training Step: 119, Loss: 0.43832775950431824\n"
     ]
    },
    {
     "name": "stderr",
     "output_type": "stream",
     "text": []
    },
    {
     "name": "stdout",
     "output_type": "stream",
     "text": [
      "Epoch: 1, Training Step: 120, Loss: 0.4587823748588562\n",
      "Epoch: 1, Training Step: 121, Loss: 0.5358749628067017\n",
      "Epoch: 1, Training Step: 122, Loss: 0.5084514021873474\n",
      "Epoch: 1, Training Step: 123, Loss: 0.4460238516330719\n",
      "Epoch: 1, Training Step: 124, Loss: 0.3275245726108551\n"
     ]
    },
    {
     "name": "stderr",
     "output_type": "stream",
     "text": []
    },
    {
     "name": "stdout",
     "output_type": "stream",
     "text": [
      "Epoch: 1, Training Step: 125, Loss: 0.399398535490036\n",
      "Epoch: 1, Training Step: 126, Loss: 0.3562101125717163\n",
      "Epoch: 1, Training Step: 127, Loss: 0.41840121150016785\n",
      "Epoch: 1, Training Step: 128, Loss: 0.4372100532054901\n",
      "Epoch: 1, Training Step: 129, Loss: 0.4245411157608032\n"
     ]
    },
    {
     "name": "stderr",
     "output_type": "stream",
     "text": []
    },
    {
     "name": "stdout",
     "output_type": "stream",
     "text": [
      "Epoch: 1, Training Step: 130, Loss: 0.39113739132881165\n",
      "Epoch: 1, Training Step: 131, Loss: 0.3538888990879059\n",
      "Epoch: 1, Training Step: 132, Loss: 0.253652960062027\n",
      "Epoch: 1, Training Step: 133, Loss: 0.36391085386276245\n",
      "Epoch: 1, Training Step: 134, Loss: 0.3680565357208252\n"
     ]
    },
    {
     "name": "stderr",
     "output_type": "stream",
     "text": []
    },
    {
     "name": "stdout",
     "output_type": "stream",
     "text": [
      "Epoch: 1, Training Step: 135, Loss: 0.4244459569454193\n",
      "Epoch: 1, Training Step: 136, Loss: 0.41085749864578247\n",
      "Epoch: 1, Training Step: 137, Loss: 0.38160640001296997\n",
      "Epoch: 1, Training Step: 138, Loss: 0.3766712546348572\n",
      "Epoch: 1, Training Step: 139, Loss: 0.3210214674472809\n"
     ]
    },
    {
     "name": "stderr",
     "output_type": "stream",
     "text": []
    },
    {
     "name": "stdout",
     "output_type": "stream",
     "text": [
      "Epoch: 1, Training Step: 140, Loss: 0.3693520724773407\n",
      "Epoch: 1, Training Step: 141, Loss: 0.40125343203544617\n",
      "Epoch: 1, Training Step: 142, Loss: 0.40024784207344055\n",
      "Epoch: 1, Training Step: 143, Loss: 0.5008307099342346\n",
      "Epoch: 1, Training Step: 144, Loss: 0.47609683871269226\n"
     ]
    },
    {
     "name": "stderr",
     "output_type": "stream",
     "text": []
    },
    {
     "name": "stdout",
     "output_type": "stream",
     "text": [
      "Epoch: 1, Training Step: 145, Loss: 0.4698338210582733\n",
      "Epoch: 1, Training Step: 146, Loss: 0.4889174997806549\n",
      "Epoch: 1, Training Step: 147, Loss: 0.38393494486808777\n",
      "Epoch: 1, Training Step: 148, Loss: 0.34000933170318604\n",
      "Epoch: 1, Training Step: 149, Loss: 0.463380366563797\n",
      "Epoch: 1, Training Step: 150, Loss: 0.3443819284439087\n",
      "Checkpoint saved at epoch 1, training step 150.\n",
      "TripletEvaluator: Evaluating the model on the gooaq dataset in epoch 1 after 150 steps:\n"
     ]
    },
    {
     "name": "stderr",
     "output_type": "stream",
     "text": [
      "\n",
      "\u001b[A\n",
      "\u001b[A\n",
      "\u001b[A\n",
      "\u001b[A\n",
      "\u001b[A\n",
      "100%|██████████| 50/50 [00:01<00:00, 38.72it/s]\n",
      "\n",
      "\u001b[A\n",
      "\u001b[A\n",
      "\u001b[A\n",
      "\u001b[A\n",
      "\u001b[A\n",
      "100%|██████████| 50/50 [00:00<00:00, 80.67it/s]\n",
      "\n",
      "\u001b[A\n",
      "\u001b[A\n",
      "\u001b[A\n",
      "\u001b[A\n",
      "\u001b[A\n",
      "100%|██████████| 50/50 [00:00<00:00, 80.90it/s]\n",
      "\n"
     ]
    },
    {
     "name": "stdout",
     "output_type": "stream",
     "text": [
      "Accuracy Cosine Distance:   \t80.91\n",
      "Accuracy Dot Product:       \t20.15\n",
      "Accuracy Manhattan Distance:\t80.58\n",
      "Accuracy Euclidean Distance:\t80.63\n",
      "\n",
      "Checkpoint saved at epoch 1, training step 150.\n",
      "Epoch: 1, Training Step: 151, Loss: 0.46004611253738403\n",
      "Epoch: 1, Training Step: 152, Loss: 0.436428040266037\n",
      "Epoch: 1, Training Step: 153, Loss: 0.42118194699287415\n",
      "Epoch: 1, Training Step: 154, Loss: 0.4143450856208801\n"
     ]
    },
    {
     "name": "stderr",
     "output_type": "stream",
     "text": [
      "Iteration:  18%|█▊        | 155/882 [00:15<01:32,  7.88it/s]\u001b[A"
     ]
    },
    {
     "name": "stdout",
     "output_type": "stream",
     "text": [
      "Epoch: 1, Training Step: 155, Loss: 0.48413145542144775\n",
      "Epoch: 1, Training Step: 156, Loss: 0.3752666711807251\n",
      "Epoch: 1, Training Step: 157, Loss: 0.3589250445365906\n",
      "Epoch: 1, Training Step: 158, Loss: 0.3170517683029175\n",
      "Epoch: 1, Training Step: 159, Loss: 0.3063633441925049\n"
     ]
    },
    {
     "name": "stderr",
     "output_type": "stream",
     "text": []
    },
    {
     "name": "stdout",
     "output_type": "stream",
     "text": [
      "Epoch: 1, Training Step: 160, Loss: 0.46602585911750793\n",
      "Epoch: 1, Training Step: 161, Loss: 0.4141339361667633\n",
      "Epoch: 1, Training Step: 162, Loss: 0.5438629388809204\n",
      "Epoch: 1, Training Step: 163, Loss: 0.4329778552055359\n",
      "Epoch: 1, Training Step: 164, Loss: 0.4398996829986572\n"
     ]
    },
    {
     "name": "stderr",
     "output_type": "stream",
     "text": []
    },
    {
     "name": "stdout",
     "output_type": "stream",
     "text": [
      "Epoch: 1, Training Step: 165, Loss: 0.48733559250831604\n",
      "Epoch: 1, Training Step: 166, Loss: 0.440979927778244\n",
      "Epoch: 1, Training Step: 167, Loss: 0.4612025320529938\n",
      "Epoch: 1, Training Step: 168, Loss: 0.4142929017543793\n",
      "Epoch: 1, Training Step: 169, Loss: 0.44938045740127563\n"
     ]
    },
    {
     "name": "stderr",
     "output_type": "stream",
     "text": []
    },
    {
     "name": "stdout",
     "output_type": "stream",
     "text": [
      "Epoch: 1, Training Step: 170, Loss: 0.3636520504951477\n",
      "Epoch: 1, Training Step: 171, Loss: 0.44116079807281494\n",
      "Epoch: 1, Training Step: 172, Loss: 0.3478693664073944\n",
      "Epoch: 1, Training Step: 173, Loss: 0.46822619438171387\n",
      "Epoch: 1, Training Step: 174, Loss: 0.4043421149253845\n"
     ]
    },
    {
     "name": "stderr",
     "output_type": "stream",
     "text": []
    },
    {
     "name": "stdout",
     "output_type": "stream",
     "text": [
      "Epoch: 1, Training Step: 175, Loss: 0.409639447927475\n",
      "Epoch: 1, Training Step: 176, Loss: 0.415772408246994\n",
      "Epoch: 1, Training Step: 177, Loss: 0.4072384238243103\n",
      "Epoch: 1, Training Step: 178, Loss: 0.39427319169044495\n"
     ]
    },
    {
     "name": "stderr",
     "output_type": "stream",
     "text": []
    },
    {
     "name": "stdout",
     "output_type": "stream",
     "text": [
      "Epoch: 1, Training Step: 179, Loss: 0.4259301424026489\n",
      "Epoch: 1, Training Step: 180, Loss: 0.5028073787689209\n",
      "Epoch: 1, Training Step: 181, Loss: 0.49387457966804504\n",
      "Epoch: 1, Training Step: 182, Loss: 0.41009360551834106\n",
      "Epoch: 1, Training Step: 183, Loss: 0.42584341764450073\n"
     ]
    },
    {
     "name": "stderr",
     "output_type": "stream",
     "text": []
    },
    {
     "name": "stdout",
     "output_type": "stream",
     "text": [
      "Epoch: 1, Training Step: 184, Loss: 0.4459702968597412\n",
      "Epoch: 1, Training Step: 185, Loss: 0.5020942091941833\n",
      "Epoch: 1, Training Step: 186, Loss: 0.37078818678855896\n",
      "Epoch: 1, Training Step: 187, Loss: 0.4046388864517212\n",
      "Epoch: 1, Training Step: 188, Loss: 0.399977445602417\n"
     ]
    },
    {
     "name": "stderr",
     "output_type": "stream",
     "text": [
      "\n"
     ]
    },
    {
     "name": "stdout",
     "output_type": "stream",
     "text": [
      "Epoch: 1, Training Step: 189, Loss: 0.4178219735622406\n",
      "Epoch: 1, Training Step: 190, Loss: 0.48903030157089233\n",
      "Epoch: 1, Training Step: 191, Loss: 0.44951218366622925\n",
      "Epoch: 1, Training Step: 192, Loss: 0.40128853917121887\n",
      "Epoch: 1, Training Step: 193, Loss: 0.4292122721672058\n"
     ]
    },
    {
     "name": "stderr",
     "output_type": "stream",
     "text": [
      "Iteration:  22%|██▏       | 194/882 [00:17<00:58, 11.76it/s]\u001b[A"
     ]
    },
    {
     "name": "stdout",
     "output_type": "stream",
     "text": [
      "Epoch: 1, Training Step: 194, Loss: 0.40352725982666016\n",
      "Epoch: 1, Training Step: 195, Loss: 0.36059772968292236\n",
      "Epoch: 1, Training Step: 196, Loss: 0.38830074667930603\n",
      "Epoch: 1, Training Step: 197, Loss: 0.3632754385471344\n",
      "Epoch: 1, Training Step: 198, Loss: 0.2940971553325653\n"
     ]
    },
    {
     "name": "stderr",
     "output_type": "stream",
     "text": []
    },
    {
     "name": "stdout",
     "output_type": "stream",
     "text": [
      "Epoch: 1, Training Step: 199, Loss: 0.34570664167404175\n",
      "Epoch: 1, Training Step: 200, Loss: 0.4921931326389313\n",
      "Checkpoint saved at epoch 1, training step 200.\n",
      "TripletEvaluator: Evaluating the model on the gooaq dataset in epoch 1 after 200 steps:\n"
     ]
    },
    {
     "name": "stderr",
     "output_type": "stream",
     "text": [
      "\n",
      "\u001b[A\n",
      "\u001b[A\n",
      "\u001b[A\n",
      "\u001b[A\n",
      "\u001b[A\n",
      "100%|██████████| 50/50 [00:00<00:00, 80.45it/s]\n",
      "\n",
      "\u001b[A\n",
      "\u001b[A\n",
      "\u001b[A\n",
      "\u001b[A\n",
      "\u001b[A\n",
      "\u001b[A\n",
      "100%|██████████| 50/50 [00:00<00:00, 79.99it/s]\n",
      "\n",
      "\u001b[A\n",
      "\u001b[A\n",
      "\u001b[A\n",
      "\u001b[A\n",
      "\u001b[A\n",
      "100%|██████████| 50/50 [00:00<00:00, 79.35it/s]\n"
     ]
    },
    {
     "name": "stdout",
     "output_type": "stream",
     "text": [
      "Accuracy Cosine Distance:   \t80.99\n",
      "Accuracy Dot Product:       \t20.25\n",
      "Accuracy Manhattan Distance:\t80.65\n",
      "Accuracy Euclidean Distance:\t80.52\n",
      "\n",
      "Checkpoint saved at epoch 1, training step 200.\n",
      "Epoch: 1, Training Step: 201, Loss: 0.4577490985393524\n",
      "Epoch: 1, Training Step: 202, Loss: 0.4343269467353821\n",
      "Epoch: 1, Training Step: 203, Loss: 0.4211169183254242\n"
     ]
    },
    {
     "name": "stderr",
     "output_type": "stream",
     "text": [
      "\n"
     ]
    },
    {
     "name": "stdout",
     "output_type": "stream",
     "text": [
      "Epoch: 1, Training Step: 204, Loss: 0.4215458929538727\n",
      "Epoch: 1, Training Step: 205, Loss: 0.512886643409729\n",
      "Epoch: 1, Training Step: 206, Loss: 0.46096158027648926\n",
      "Epoch: 1, Training Step: 207, Loss: 0.4075053036212921\n",
      "Epoch: 1, Training Step: 208, Loss: 0.3416275084018707\n"
     ]
    },
    {
     "name": "stderr",
     "output_type": "stream",
     "text": [
      "Iteration:  24%|██▎       | 209/882 [00:20<01:18,  8.55it/s]\u001b[A"
     ]
    },
    {
     "name": "stdout",
     "output_type": "stream",
     "text": [
      "Epoch: 1, Training Step: 209, Loss: 0.46248722076416016\n",
      "Epoch: 1, Training Step: 210, Loss: 0.5536596179008484\n",
      "Epoch: 1, Training Step: 211, Loss: 0.5111080408096313\n",
      "Epoch: 1, Training Step: 212, Loss: 0.42970797419548035\n",
      "Epoch: 1, Training Step: 213, Loss: 0.40666377544403076\n"
     ]
    },
    {
     "name": "stderr",
     "output_type": "stream",
     "text": []
    },
    {
     "name": "stdout",
     "output_type": "stream",
     "text": [
      "Epoch: 1, Training Step: 214, Loss: 0.428427517414093\n",
      "Epoch: 1, Training Step: 215, Loss: 0.4115487337112427\n",
      "Epoch: 1, Training Step: 216, Loss: 0.34541991353034973\n",
      "Epoch: 1, Training Step: 217, Loss: 0.38667887449264526\n",
      "Epoch: 1, Training Step: 218, Loss: 0.34696757793426514\n"
     ]
    },
    {
     "name": "stderr",
     "output_type": "stream",
     "text": [
      "\n"
     ]
    },
    {
     "name": "stdout",
     "output_type": "stream",
     "text": [
      "Epoch: 1, Training Step: 219, Loss: 0.32350867986679077\n",
      "Epoch: 1, Training Step: 220, Loss: 0.31251218914985657\n",
      "Epoch: 1, Training Step: 221, Loss: 0.468857079744339\n",
      "Epoch: 1, Training Step: 222, Loss: 0.36649981141090393\n",
      "Epoch: 1, Training Step: 223, Loss: 0.4131373167037964\n"
     ]
    },
    {
     "name": "stderr",
     "output_type": "stream",
     "text": [
      "Iteration:  25%|██▌       | 224/882 [00:21<01:06,  9.92it/s]\u001b[A"
     ]
    },
    {
     "name": "stdout",
     "output_type": "stream",
     "text": [
      "Epoch: 1, Training Step: 224, Loss: 0.41596660017967224\n",
      "Epoch: 1, Training Step: 225, Loss: 0.4951106607913971\n",
      "Epoch: 1, Training Step: 226, Loss: 0.4611831605434418\n",
      "Epoch: 1, Training Step: 227, Loss: 0.4741649329662323\n",
      "Epoch: 1, Training Step: 228, Loss: 0.49863946437835693\n"
     ]
    },
    {
     "name": "stderr",
     "output_type": "stream",
     "text": []
    },
    {
     "name": "stdout",
     "output_type": "stream",
     "text": [
      "Epoch: 1, Training Step: 229, Loss: 0.49773815274238586\n",
      "Epoch: 1, Training Step: 230, Loss: 0.4930829107761383\n",
      "Epoch: 1, Training Step: 231, Loss: 0.5203787088394165\n",
      "Epoch: 1, Training Step: 232, Loss: 0.4384714961051941\n",
      "Epoch: 1, Training Step: 233, Loss: 0.3830625116825104\n"
     ]
    },
    {
     "name": "stderr",
     "output_type": "stream",
     "text": []
    },
    {
     "name": "stdout",
     "output_type": "stream",
     "text": [
      "Epoch: 1, Training Step: 234, Loss: 0.3820098638534546\n",
      "Epoch: 1, Training Step: 235, Loss: 0.4656126797199249\n",
      "Epoch: 1, Training Step: 236, Loss: 0.4153859317302704\n",
      "Epoch: 1, Training Step: 237, Loss: 0.35130906105041504\n",
      "Epoch: 1, Training Step: 238, Loss: 0.41973286867141724\n"
     ]
    },
    {
     "name": "stderr",
     "output_type": "stream",
     "text": []
    },
    {
     "name": "stdout",
     "output_type": "stream",
     "text": [
      "Epoch: 1, Training Step: 239, Loss: 0.4762119948863983\n",
      "Epoch: 1, Training Step: 240, Loss: 0.44342556595802307\n",
      "Epoch: 1, Training Step: 241, Loss: 0.46147048473358154\n",
      "Epoch: 1, Training Step: 242, Loss: 0.5432183742523193\n",
      "Epoch: 1, Training Step: 243, Loss: 0.5036559104919434\n"
     ]
    },
    {
     "name": "stderr",
     "output_type": "stream",
     "text": []
    },
    {
     "name": "stdout",
     "output_type": "stream",
     "text": [
      "Epoch: 1, Training Step: 244, Loss: 0.43101000785827637\n",
      "Epoch: 1, Training Step: 245, Loss: 0.3863310217857361\n",
      "Epoch: 1, Training Step: 246, Loss: 0.28459683060646057\n",
      "Epoch: 1, Training Step: 247, Loss: 0.28846949338912964\n",
      "Epoch: 1, Training Step: 248, Loss: 0.41799163818359375\n",
      "Epoch: 1, Training Step: 249, Loss: 0.3998279869556427\n",
      "Epoch: 1, Training Step: 250, Loss: 0.4607391357421875\n",
      "Checkpoint saved at epoch 1, training step 250.\n",
      "TripletEvaluator: Evaluating the model on the gooaq dataset in epoch 1 after 250 steps:\n"
     ]
    },
    {
     "name": "stderr",
     "output_type": "stream",
     "text": [
      "\n",
      "\u001b[A\n",
      "\u001b[A\n",
      "\u001b[A\n",
      "\u001b[A\n",
      "\u001b[A\n",
      "100%|██████████| 50/50 [00:00<00:00, 79.61it/s]\n",
      "\n",
      "\u001b[A\n",
      "\u001b[A\n",
      "\u001b[A\n",
      "\u001b[A\n",
      "\u001b[A\n",
      "100%|██████████| 50/50 [00:00<00:00, 87.25it/s]\n",
      "\n",
      "\u001b[A\n",
      "\u001b[A\n",
      "\u001b[A\n",
      "\u001b[A\n",
      "\u001b[A\n",
      "100%|██████████| 50/50 [00:00<00:00, 82.06it/s]\n"
     ]
    },
    {
     "name": "stdout",
     "output_type": "stream",
     "text": [
      "Accuracy Cosine Distance:   \t80.99\n",
      "Accuracy Dot Product:       \t20.35\n",
      "Accuracy Manhattan Distance:\t80.93\n",
      "Accuracy Euclidean Distance:\t80.77\n",
      "\n",
      "Epoch: 1, Training Step: 251, Loss: 0.4846440851688385\n",
      "Epoch: 1, Training Step: 252, Loss: 0.4385319650173187\n",
      "Epoch: 1, Training Step: 253, Loss: 0.4374675750732422\n",
      "Epoch: 1, Training Step: 254, Loss: 0.373152494430542\n"
     ]
    },
    {
     "name": "stderr",
     "output_type": "stream",
     "text": [
      "\n"
     ]
    },
    {
     "name": "stdout",
     "output_type": "stream",
     "text": [
      "Epoch: 1, Training Step: 255, Loss: 0.3591717779636383\n",
      "Epoch: 1, Training Step: 256, Loss: 0.40821248292922974\n",
      "Epoch: 1, Training Step: 257, Loss: 0.298862487077713\n",
      "Epoch: 1, Training Step: 258, Loss: 0.36225426197052\n",
      "Epoch: 1, Training Step: 259, Loss: 0.39464306831359863\n"
     ]
    },
    {
     "name": "stderr",
     "output_type": "stream",
     "text": [
      "Iteration:  29%|██▉       | 260/882 [00:25<01:09,  8.96it/s]\u001b[A"
     ]
    },
    {
     "name": "stdout",
     "output_type": "stream",
     "text": [
      "Epoch: 1, Training Step: 260, Loss: 0.4549546539783478\n",
      "Epoch: 1, Training Step: 261, Loss: 0.4705440104007721\n",
      "Epoch: 1, Training Step: 262, Loss: 0.4238327741622925\n",
      "Epoch: 1, Training Step: 263, Loss: 0.4211478531360626\n",
      "Epoch: 1, Training Step: 264, Loss: 0.5114144086837769\n"
     ]
    },
    {
     "name": "stderr",
     "output_type": "stream",
     "text": []
    },
    {
     "name": "stdout",
     "output_type": "stream",
     "text": [
      "Epoch: 1, Training Step: 265, Loss: 0.4641054570674896\n",
      "Epoch: 1, Training Step: 266, Loss: 0.47246643900871277\n",
      "Epoch: 1, Training Step: 267, Loss: 0.4830758571624756\n",
      "Epoch: 1, Training Step: 268, Loss: 0.38423746824264526\n",
      "Epoch: 1, Training Step: 269, Loss: 0.3710016906261444\n"
     ]
    },
    {
     "name": "stderr",
     "output_type": "stream",
     "text": []
    },
    {
     "name": "stdout",
     "output_type": "stream",
     "text": [
      "Epoch: 1, Training Step: 270, Loss: 0.47098252177238464\n",
      "Epoch: 1, Training Step: 271, Loss: 0.49322137236595154\n",
      "Epoch: 1, Training Step: 272, Loss: 0.44644632935523987\n",
      "Epoch: 1, Training Step: 273, Loss: 0.4513942301273346\n",
      "Epoch: 1, Training Step: 274, Loss: 0.4379088282585144\n"
     ]
    },
    {
     "name": "stderr",
     "output_type": "stream",
     "text": [
      "\n"
     ]
    },
    {
     "name": "stdout",
     "output_type": "stream",
     "text": [
      "Epoch: 1, Training Step: 275, Loss: 0.41193732619285583\n",
      "Epoch: 1, Training Step: 276, Loss: 0.37268978357315063\n",
      "Epoch: 1, Training Step: 277, Loss: 0.3643491864204407\n",
      "Epoch: 1, Training Step: 278, Loss: 0.3217102289199829\n",
      "Epoch: 1, Training Step: 279, Loss: 0.2873769700527191\n",
      "Epoch: 1, Training Step: 280, Loss: 0.3329463601112366\n"
     ]
    },
    {
     "name": "stderr",
     "output_type": "stream",
     "text": [
      "Iteration:  32%|███▏      | 281/882 [00:26<00:54, 11.02it/s]\u001b[A"
     ]
    },
    {
     "name": "stdout",
     "output_type": "stream",
     "text": [
      "Epoch: 1, Training Step: 281, Loss: 0.36805886030197144\n",
      "Epoch: 1, Training Step: 282, Loss: 0.4024888873100281\n",
      "Epoch: 1, Training Step: 283, Loss: 0.4929250478744507\n",
      "Epoch: 1, Training Step: 284, Loss: 0.4710184335708618\n",
      "Epoch: 1, Training Step: 285, Loss: 0.5715468525886536\n"
     ]
    },
    {
     "name": "stderr",
     "output_type": "stream",
     "text": []
    },
    {
     "name": "stdout",
     "output_type": "stream",
     "text": [
      "Epoch: 1, Training Step: 286, Loss: 0.5055910348892212\n",
      "Epoch: 1, Training Step: 287, Loss: 0.4386448264122009\n",
      "Epoch: 1, Training Step: 288, Loss: 0.4180111289024353\n",
      "Epoch: 1, Training Step: 289, Loss: 0.37561726570129395\n",
      "Epoch: 1, Training Step: 290, Loss: 0.44602805376052856\n"
     ]
    },
    {
     "name": "stderr",
     "output_type": "stream",
     "text": []
    },
    {
     "name": "stdout",
     "output_type": "stream",
     "text": [
      "Epoch: 1, Training Step: 291, Loss: 0.3512800931930542\n",
      "Epoch: 1, Training Step: 292, Loss: 0.41993001103401184\n",
      "Epoch: 1, Training Step: 293, Loss: 0.3941996395587921\n",
      "Epoch: 1, Training Step: 294, Loss: 0.36748695373535156\n",
      "Epoch: 1, Training Step: 295, Loss: 0.3962633013725281\n"
     ]
    },
    {
     "name": "stderr",
     "output_type": "stream",
     "text": []
    },
    {
     "name": "stdout",
     "output_type": "stream",
     "text": [
      "Epoch: 1, Training Step: 296, Loss: 0.3786446452140808\n",
      "Epoch: 1, Training Step: 297, Loss: 0.3507457375526428\n",
      "Epoch: 1, Training Step: 298, Loss: 0.4032038748264313\n",
      "Epoch: 1, Training Step: 299, Loss: 0.43520936369895935\n",
      "Epoch: 1, Training Step: 300, Loss: 0.4646550714969635\n",
      "Checkpoint saved at epoch 1, training step 300.\n",
      "TripletEvaluator: Evaluating the model on the gooaq dataset in epoch 1 after 300 steps:\n"
     ]
    },
    {
     "name": "stderr",
     "output_type": "stream",
     "text": [
      "\n",
      "\u001b[A\n",
      "\u001b[A\n",
      "\u001b[A\n",
      "\u001b[A\n",
      "\u001b[A\n",
      "100%|██████████| 50/50 [00:00<00:00, 80.93it/s]\n",
      "\n",
      "\u001b[A\n",
      "\u001b[A\n",
      "\u001b[A\n",
      "\u001b[A\n",
      "\u001b[A\n",
      "100%|██████████| 50/50 [00:00<00:00, 84.81it/s]\n",
      "\n",
      "\u001b[A\n",
      "\u001b[A\n",
      "\u001b[A\n",
      "\u001b[A\n",
      "\u001b[A\n",
      "100%|██████████| 50/50 [00:00<00:00, 83.44it/s]\n"
     ]
    },
    {
     "name": "stdout",
     "output_type": "stream",
     "text": [
      "Accuracy Cosine Distance:   \t81.07\n",
      "Accuracy Dot Product:       \t20.53\n",
      "Accuracy Manhattan Distance:\t80.97\n",
      "Accuracy Euclidean Distance:\t80.87\n",
      "\n",
      "Checkpoint saved at epoch 1, training step 300.\n",
      "Epoch: 1, Training Step: 301, Loss: 0.4817469120025635\n",
      "Epoch: 1, Training Step: 302, Loss: 0.5203114748001099\n",
      "Epoch: 1, Training Step: 303, Loss: 0.608686625957489\n",
      "Epoch: 1, Training Step: 304, Loss: 0.5358089208602905\n"
     ]
    },
    {
     "name": "stderr",
     "output_type": "stream",
     "text": [
      "\n"
     ]
    },
    {
     "name": "stdout",
     "output_type": "stream",
     "text": [
      "Epoch: 1, Training Step: 305, Loss: 0.4802355170249939\n",
      "Epoch: 1, Training Step: 306, Loss: 0.4978703558444977\n",
      "Epoch: 1, Training Step: 307, Loss: 0.5604096055030823\n",
      "Epoch: 1, Training Step: 308, Loss: 0.3440186679363251\n",
      "Epoch: 1, Training Step: 309, Loss: 0.37400349974632263\n",
      "Epoch: 1, Training Step: 310, Loss: 0.3043511211872101\n"
     ]
    },
    {
     "name": "stderr",
     "output_type": "stream",
     "text": [
      "Iteration:  35%|███▌      | 311/882 [00:30<01:02,  9.13it/s]\u001b[A"
     ]
    },
    {
     "name": "stdout",
     "output_type": "stream",
     "text": [
      "Epoch: 1, Training Step: 311, Loss: 0.3098338842391968\n",
      "Epoch: 1, Training Step: 312, Loss: 0.30292755365371704\n",
      "Epoch: 1, Training Step: 313, Loss: 0.30403444170951843\n",
      "Epoch: 1, Training Step: 314, Loss: 0.3490467071533203\n",
      "Epoch: 1, Training Step: 315, Loss: 0.3424856662750244\n"
     ]
    },
    {
     "name": "stderr",
     "output_type": "stream",
     "text": []
    },
    {
     "name": "stdout",
     "output_type": "stream",
     "text": [
      "Epoch: 1, Training Step: 316, Loss: 0.3847202956676483\n",
      "Epoch: 1, Training Step: 317, Loss: 0.42544353008270264\n",
      "Epoch: 1, Training Step: 318, Loss: 0.40710780024528503\n",
      "Epoch: 1, Training Step: 319, Loss: 0.43784600496292114\n",
      "Epoch: 1, Training Step: 320, Loss: 0.5355566143989563\n"
     ]
    },
    {
     "name": "stderr",
     "output_type": "stream",
     "text": []
    },
    {
     "name": "stdout",
     "output_type": "stream",
     "text": [
      "Epoch: 1, Training Step: 321, Loss: 0.4986872375011444\n",
      "Epoch: 1, Training Step: 322, Loss: 0.49991896748542786\n",
      "Epoch: 1, Training Step: 323, Loss: 0.4031515121459961\n",
      "Epoch: 1, Training Step: 324, Loss: 0.4185732901096344\n",
      "Epoch: 1, Training Step: 325, Loss: 0.4185824990272522\n"
     ]
    },
    {
     "name": "stderr",
     "output_type": "stream",
     "text": []
    },
    {
     "name": "stdout",
     "output_type": "stream",
     "text": [
      "Epoch: 1, Training Step: 326, Loss: 0.4443919062614441\n",
      "Epoch: 1, Training Step: 327, Loss: 0.4655187129974365\n",
      "Epoch: 1, Training Step: 328, Loss: 0.4121874272823334\n",
      "Epoch: 1, Training Step: 329, Loss: 0.392271488904953\n",
      "Epoch: 1, Training Step: 330, Loss: 0.47319549322128296\n"
     ]
    },
    {
     "name": "stderr",
     "output_type": "stream",
     "text": []
    },
    {
     "name": "stdout",
     "output_type": "stream",
     "text": [
      "Epoch: 1, Training Step: 331, Loss: 0.523129403591156\n",
      "Epoch: 1, Training Step: 332, Loss: 0.5055187344551086\n",
      "Epoch: 1, Training Step: 333, Loss: 0.48362210392951965\n",
      "Epoch: 1, Training Step: 334, Loss: 0.47109588980674744\n",
      "Epoch: 1, Training Step: 335, Loss: 0.42340317368507385\n"
     ]
    },
    {
     "name": "stderr",
     "output_type": "stream",
     "text": []
    },
    {
     "name": "stdout",
     "output_type": "stream",
     "text": [
      "Epoch: 1, Training Step: 336, Loss: 0.42196282744407654\n",
      "Epoch: 1, Training Step: 337, Loss: 0.36834007501602173\n",
      "Epoch: 1, Training Step: 338, Loss: 0.33975741267204285\n",
      "Epoch: 1, Training Step: 339, Loss: 0.4258638620376587\n",
      "Epoch: 1, Training Step: 340, Loss: 0.42219075560569763\n"
     ]
    },
    {
     "name": "stderr",
     "output_type": "stream",
     "text": []
    },
    {
     "name": "stdout",
     "output_type": "stream",
     "text": [
      "Epoch: 1, Training Step: 341, Loss: 0.416128545999527\n",
      "Epoch: 1, Training Step: 342, Loss: 0.36923110485076904\n",
      "Epoch: 1, Training Step: 343, Loss: 0.43407168984413147\n",
      "Epoch: 1, Training Step: 344, Loss: 0.3748225271701813\n",
      "Epoch: 1, Training Step: 345, Loss: 0.43279922008514404\n"
     ]
    },
    {
     "name": "stderr",
     "output_type": "stream",
     "text": []
    },
    {
     "name": "stdout",
     "output_type": "stream",
     "text": [
      "Epoch: 1, Training Step: 346, Loss: 0.39065539836883545\n",
      "Epoch: 1, Training Step: 347, Loss: 0.536468505859375\n",
      "Epoch: 1, Training Step: 348, Loss: 0.5053569674491882\n",
      "Epoch: 1, Training Step: 349, Loss: 0.4831637144088745\n",
      "Epoch: 1, Training Step: 350, Loss: 0.49518120288848877\n",
      "Checkpoint saved at epoch 1, training step 350.\n",
      "TripletEvaluator: Evaluating the model on the gooaq dataset in epoch 1 after 350 steps:\n"
     ]
    },
    {
     "name": "stderr",
     "output_type": "stream",
     "text": [
      "\n",
      "\u001b[A\n",
      "\u001b[A\n",
      "\u001b[A\n",
      "\u001b[A\n",
      "\u001b[A\n",
      "100%|██████████| 50/50 [00:00<00:00, 83.03it/s]\n",
      "\n",
      "\u001b[A\n",
      "\u001b[A\n",
      "\u001b[A\n",
      "\u001b[A\n",
      "\u001b[A\n",
      "100%|██████████| 50/50 [00:00<00:00, 82.41it/s]\n",
      "\n",
      "\u001b[A\n",
      "\u001b[A\n",
      "\u001b[A\n",
      "\u001b[A\n",
      "\u001b[A\n",
      "100%|██████████| 50/50 [00:00<00:00, 75.46it/s]\n"
     ]
    },
    {
     "name": "stdout",
     "output_type": "stream",
     "text": [
      "Accuracy Cosine Distance:   \t81.09\n",
      "Accuracy Dot Product:       \t20.43\n",
      "Accuracy Manhattan Distance:\t80.93\n",
      "Accuracy Euclidean Distance:\t80.81\n",
      "\n",
      "Checkpoint saved at epoch 1, training step 350.\n",
      "Epoch: 1, Training Step: 351, Loss: 0.5222705602645874\n",
      "Epoch: 1, Training Step: 352, Loss: 0.5113821625709534\n",
      "Epoch: 1, Training Step: 353, Loss: 0.5359283685684204\n",
      "Epoch: 1, Training Step: 354, Loss: 0.49880924820899963\n"
     ]
    },
    {
     "name": "stderr",
     "output_type": "stream",
     "text": []
    },
    {
     "name": "stdout",
     "output_type": "stream",
     "text": [
      "Epoch: 1, Training Step: 355, Loss: 0.38320595026016235\n",
      "Epoch: 1, Training Step: 356, Loss: 0.34356793761253357\n",
      "Epoch: 1, Training Step: 357, Loss: 0.38149112462997437\n",
      "Epoch: 1, Training Step: 358, Loss: 0.49465033411979675\n",
      "Epoch: 1, Training Step: 359, Loss: 0.4389443099498749\n"
     ]
    },
    {
     "name": "stderr",
     "output_type": "stream",
     "text": [
      "\n"
     ]
    },
    {
     "name": "stdout",
     "output_type": "stream",
     "text": [
      "Epoch: 1, Training Step: 360, Loss: 0.5196704268455505\n",
      "Epoch: 1, Training Step: 361, Loss: 0.5812652111053467\n",
      "Epoch: 1, Training Step: 362, Loss: 0.5224938988685608\n",
      "Epoch: 1, Training Step: 363, Loss: 0.502647340297699\n",
      "Epoch: 1, Training Step: 364, Loss: 0.4535853862762451\n"
     ]
    },
    {
     "name": "stderr",
     "output_type": "stream",
     "text": [
      "Iteration:  41%|████▏     | 365/882 [00:35<00:54,  9.46it/s]\u001b[A"
     ]
    },
    {
     "name": "stdout",
     "output_type": "stream",
     "text": [
      "Epoch: 1, Training Step: 365, Loss: 0.42754068970680237\n",
      "Epoch: 1, Training Step: 366, Loss: 0.40314731001853943\n",
      "Epoch: 1, Training Step: 367, Loss: 0.38510680198669434\n",
      "Epoch: 1, Training Step: 368, Loss: 0.4269391596317291\n",
      "Epoch: 1, Training Step: 369, Loss: 0.5622665286064148\n"
     ]
    },
    {
     "name": "stderr",
     "output_type": "stream",
     "text": []
    },
    {
     "name": "stdout",
     "output_type": "stream",
     "text": [
      "Epoch: 1, Training Step: 370, Loss: 0.3591194450855255\n",
      "Epoch: 1, Training Step: 371, Loss: 0.39923447370529175\n",
      "Epoch: 1, Training Step: 372, Loss: 0.42607632279396057\n",
      "Epoch: 1, Training Step: 373, Loss: 0.38274243474006653\n",
      "Epoch: 1, Training Step: 374, Loss: 0.310308039188385\n"
     ]
    },
    {
     "name": "stderr",
     "output_type": "stream",
     "text": []
    },
    {
     "name": "stdout",
     "output_type": "stream",
     "text": [
      "Epoch: 1, Training Step: 375, Loss: 0.34044307470321655\n",
      "Epoch: 1, Training Step: 376, Loss: 0.3241867423057556\n",
      "Epoch: 1, Training Step: 377, Loss: 0.269057035446167\n",
      "Epoch: 1, Training Step: 378, Loss: 0.29407984018325806\n"
     ]
    },
    {
     "name": "stderr",
     "output_type": "stream",
     "text": []
    },
    {
     "name": "stdout",
     "output_type": "stream",
     "text": [
      "Epoch: 1, Training Step: 379, Loss: 0.34350094199180603\n",
      "Epoch: 1, Training Step: 380, Loss: 0.3288540244102478\n",
      "Epoch: 1, Training Step: 381, Loss: 0.3210695683956146\n",
      "Epoch: 1, Training Step: 382, Loss: 0.36005541682243347\n",
      "Epoch: 1, Training Step: 383, Loss: 0.42766064405441284\n"
     ]
    },
    {
     "name": "stderr",
     "output_type": "stream",
     "text": [
      "\n"
     ]
    },
    {
     "name": "stdout",
     "output_type": "stream",
     "text": [
      "Epoch: 1, Training Step: 384, Loss: 0.41502752900123596\n",
      "Epoch: 1, Training Step: 385, Loss: 0.35699936747550964\n",
      "Epoch: 1, Training Step: 386, Loss: 0.3136035203933716\n",
      "Epoch: 1, Training Step: 387, Loss: 0.32355278730392456\n",
      "Epoch: 1, Training Step: 388, Loss: 0.504995584487915\n"
     ]
    },
    {
     "name": "stderr",
     "output_type": "stream",
     "text": [
      "Iteration:  44%|████▍     | 389/882 [00:36<00:42, 11.60it/s]\u001b[A"
     ]
    },
    {
     "name": "stdout",
     "output_type": "stream",
     "text": [
      "Epoch: 1, Training Step: 389, Loss: 0.4729861319065094\n",
      "Epoch: 1, Training Step: 390, Loss: 0.43840572237968445\n",
      "Epoch: 1, Training Step: 391, Loss: 0.4087216556072235\n",
      "Epoch: 1, Training Step: 392, Loss: 0.5408828854560852\n",
      "Epoch: 1, Training Step: 393, Loss: 0.490320086479187\n"
     ]
    },
    {
     "name": "stderr",
     "output_type": "stream",
     "text": []
    },
    {
     "name": "stdout",
     "output_type": "stream",
     "text": [
      "Epoch: 1, Training Step: 394, Loss: 0.47276583313941956\n",
      "Epoch: 1, Training Step: 395, Loss: 0.40241530537605286\n",
      "Epoch: 1, Training Step: 396, Loss: 0.3072495758533478\n",
      "Epoch: 1, Training Step: 397, Loss: 0.32536906003952026\n",
      "Epoch: 1, Training Step: 398, Loss: 0.4139057397842407\n",
      "Epoch: 1, Training Step: 399, Loss: 0.48240894079208374\n",
      "Epoch: 1, Training Step: 400, Loss: 0.4241161644458771\n",
      "Checkpoint saved at epoch 1, training step 400.\n",
      "TripletEvaluator: Evaluating the model on the gooaq dataset in epoch 1 after 400 steps:\n"
     ]
    },
    {
     "name": "stderr",
     "output_type": "stream",
     "text": [
      "\n",
      "\u001b[A\n",
      "\u001b[A\n",
      "\u001b[A\n",
      "\u001b[A\n",
      "\u001b[A\n",
      "100%|██████████| 50/50 [00:00<00:00, 82.30it/s]\n",
      "\n",
      "\u001b[A\n",
      "\u001b[A\n",
      "\u001b[A\n",
      "\u001b[A\n",
      "\u001b[A\n",
      "100%|██████████| 50/50 [00:00<00:00, 82.76it/s]\n",
      "\n",
      "\u001b[A\n",
      "\u001b[A\n",
      "\u001b[A\n",
      "\u001b[A\n",
      "\u001b[A\n",
      "100%|██████████| 50/50 [00:00<00:00, 80.27it/s]\n"
     ]
    },
    {
     "name": "stdout",
     "output_type": "stream",
     "text": [
      "Accuracy Cosine Distance:   \t81.01\n",
      "Accuracy Dot Product:       \t20.21\n",
      "Accuracy Manhattan Distance:\t80.87\n",
      "Accuracy Euclidean Distance:\t80.77\n",
      "\n",
      "Epoch: 1, Training Step: 401, Loss: 0.42185690999031067\n",
      "Epoch: 1, Training Step: 402, Loss: 0.40693745017051697\n",
      "Epoch: 1, Training Step: 403, Loss: 0.37680450081825256\n",
      "Epoch: 1, Training Step: 404, Loss: 0.4081784784793854\n"
     ]
    },
    {
     "name": "stderr",
     "output_type": "stream",
     "text": []
    },
    {
     "name": "stdout",
     "output_type": "stream",
     "text": [
      "Epoch: 1, Training Step: 405, Loss: 0.28605014085769653\n",
      "Epoch: 1, Training Step: 406, Loss: 0.3050209581851959\n",
      "Epoch: 1, Training Step: 407, Loss: 0.3044534921646118\n",
      "Epoch: 1, Training Step: 408, Loss: 0.36567622423171997\n",
      "Epoch: 1, Training Step: 409, Loss: 0.3559233844280243\n"
     ]
    },
    {
     "name": "stderr",
     "output_type": "stream",
     "text": []
    },
    {
     "name": "stdout",
     "output_type": "stream",
     "text": [
      "Epoch: 1, Training Step: 410, Loss: 0.324273943901062\n",
      "Epoch: 1, Training Step: 411, Loss: 0.36680230498313904\n",
      "Epoch: 1, Training Step: 412, Loss: 0.4011878967285156\n",
      "Epoch: 1, Training Step: 413, Loss: 0.32323500514030457\n",
      "Epoch: 1, Training Step: 414, Loss: 0.32506123185157776\n"
     ]
    },
    {
     "name": "stderr",
     "output_type": "stream",
     "text": []
    },
    {
     "name": "stdout",
     "output_type": "stream",
     "text": [
      "Epoch: 1, Training Step: 415, Loss: 0.3834923505783081\n",
      "Epoch: 1, Training Step: 416, Loss: 0.33468711376190186\n",
      "Epoch: 1, Training Step: 417, Loss: 0.3900367021560669\n",
      "Epoch: 1, Training Step: 418, Loss: 0.3597717583179474\n",
      "Epoch: 1, Training Step: 419, Loss: 0.3526075482368469\n",
      "Epoch: 1, Training Step: 420, Loss: 0.34316784143447876\n"
     ]
    },
    {
     "name": "stderr",
     "output_type": "stream",
     "text": []
    },
    {
     "name": "stdout",
     "output_type": "stream",
     "text": [
      "Epoch: 1, Training Step: 421, Loss: 0.3161947727203369\n",
      "Epoch: 1, Training Step: 422, Loss: 0.30144640803337097\n",
      "Epoch: 1, Training Step: 423, Loss: 0.4095727205276489\n",
      "Epoch: 1, Training Step: 424, Loss: 0.49674201011657715\n",
      "Epoch: 1, Training Step: 425, Loss: 0.4896513819694519\n"
     ]
    },
    {
     "name": "stderr",
     "output_type": "stream",
     "text": []
    },
    {
     "name": "stdout",
     "output_type": "stream",
     "text": [
      "Epoch: 1, Training Step: 426, Loss: 0.4053424596786499\n",
      "Epoch: 1, Training Step: 427, Loss: 0.41812750697135925\n",
      "Epoch: 1, Training Step: 428, Loss: 0.3719719648361206\n",
      "Epoch: 1, Training Step: 429, Loss: 0.39513564109802246\n",
      "Epoch: 1, Training Step: 430, Loss: 0.4223599135875702\n"
     ]
    },
    {
     "name": "stderr",
     "output_type": "stream",
     "text": []
    },
    {
     "name": "stdout",
     "output_type": "stream",
     "text": [
      "Epoch: 1, Training Step: 431, Loss: 0.4598679840564728\n",
      "Epoch: 1, Training Step: 432, Loss: 0.4567083716392517\n",
      "Epoch: 1, Training Step: 433, Loss: 0.4534619450569153\n",
      "Epoch: 1, Training Step: 434, Loss: 0.4555719494819641\n",
      "Epoch: 1, Training Step: 435, Loss: 0.41229572892189026\n"
     ]
    },
    {
     "name": "stderr",
     "output_type": "stream",
     "text": []
    },
    {
     "name": "stdout",
     "output_type": "stream",
     "text": [
      "Epoch: 1, Training Step: 436, Loss: 0.3984508812427521\n",
      "Epoch: 1, Training Step: 437, Loss: 0.31510329246520996\n",
      "Epoch: 1, Training Step: 438, Loss: 0.30007803440093994\n",
      "Epoch: 1, Training Step: 439, Loss: 0.48063451051712036\n",
      "Epoch: 1, Training Step: 440, Loss: 0.38484323024749756\n"
     ]
    },
    {
     "name": "stderr",
     "output_type": "stream",
     "text": []
    },
    {
     "name": "stdout",
     "output_type": "stream",
     "text": [
      "Epoch: 1, Training Step: 441, Loss: 0.3750365972518921\n",
      "Epoch: 1, Training Step: 442, Loss: 0.4134848415851593\n",
      "Epoch: 1, Training Step: 443, Loss: 0.46925151348114014\n",
      "Epoch: 1, Training Step: 444, Loss: 0.39827221632003784\n",
      "Epoch: 1, Training Step: 445, Loss: 0.40890875458717346\n",
      "Epoch: 1, Training Step: 446, Loss: 0.5025562047958374\n"
     ]
    },
    {
     "name": "stderr",
     "output_type": "stream",
     "text": []
    },
    {
     "name": "stdout",
     "output_type": "stream",
     "text": [
      "Epoch: 1, Training Step: 447, Loss: 0.4643932580947876\n",
      "Epoch: 1, Training Step: 448, Loss: 0.4207650125026703\n",
      "Epoch: 1, Training Step: 449, Loss: 0.3918602466583252\n",
      "Epoch: 1, Training Step: 450, Loss: 0.3411802649497986\n",
      "Checkpoint saved at epoch 1, training step 450.\n",
      "TripletEvaluator: Evaluating the model on the gooaq dataset in epoch 1 after 450 steps:\n"
     ]
    },
    {
     "name": "stderr",
     "output_type": "stream",
     "text": [
      "\n",
      "\u001b[A\n",
      "\u001b[A\n",
      "\u001b[A\n",
      "\u001b[A\n",
      "\u001b[A\n",
      "100%|██████████| 50/50 [00:00<00:00, 82.58it/s]\n",
      "\n",
      "\u001b[A\n",
      "\u001b[A\n",
      "\u001b[A\n",
      "\u001b[A\n",
      "\u001b[A\n",
      "100%|██████████| 50/50 [00:00<00:00, 80.15it/s]\n",
      "\n",
      "\u001b[A\n",
      "\u001b[A\n",
      "\u001b[A\n",
      "\u001b[A\n",
      "\u001b[A\n",
      "100%|██████████| 50/50 [00:00<00:00, 79.72it/s]\n",
      "\n"
     ]
    },
    {
     "name": "stdout",
     "output_type": "stream",
     "text": [
      "Accuracy Cosine Distance:   \t81.13\n",
      "Accuracy Dot Product:       \t20.15\n",
      "Accuracy Manhattan Distance:\t80.97\n",
      "Accuracy Euclidean Distance:\t80.63\n",
      "\n",
      "Checkpoint saved at epoch 1, training step 450.\n",
      "Epoch: 1, Training Step: 451, Loss: 0.33388420939445496\n",
      "Epoch: 1, Training Step: 452, Loss: 0.39412087202072144\n",
      "Epoch: 1, Training Step: 453, Loss: 0.38066303730010986\n",
      "Epoch: 1, Training Step: 454, Loss: 0.3780675530433655\n"
     ]
    },
    {
     "name": "stderr",
     "output_type": "stream",
     "text": [
      "Iteration:  52%|█████▏    | 455/882 [00:44<00:49,  8.66it/s]\u001b[A\n"
     ]
    },
    {
     "name": "stdout",
     "output_type": "stream",
     "text": [
      "Epoch: 1, Training Step: 455, Loss: 0.3043689727783203\n",
      "Epoch: 1, Training Step: 456, Loss: 0.3843562602996826\n",
      "Epoch: 1, Training Step: 457, Loss: 0.38929110765457153\n",
      "Epoch: 1, Training Step: 458, Loss: 0.3128889203071594\n",
      "Epoch: 1, Training Step: 459, Loss: 0.33333584666252136\n",
      "Epoch: 1, Training Step: 460, Loss: 0.40103915333747864\n"
     ]
    },
    {
     "name": "stderr",
     "output_type": "stream",
     "text": [
      "Iteration:  52%|█████▏    | 461/882 [00:44<00:45,  9.25it/s]\u001b[A"
     ]
    },
    {
     "name": "stdout",
     "output_type": "stream",
     "text": [
      "Epoch: 1, Training Step: 461, Loss: 0.40788695216178894\n",
      "Epoch: 1, Training Step: 462, Loss: 0.5107508301734924\n",
      "Epoch: 1, Training Step: 463, Loss: 0.45468762516975403\n",
      "Epoch: 1, Training Step: 464, Loss: 0.4268951117992401\n",
      "Epoch: 1, Training Step: 465, Loss: 0.4278351962566376\n"
     ]
    },
    {
     "name": "stderr",
     "output_type": "stream",
     "text": []
    },
    {
     "name": "stdout",
     "output_type": "stream",
     "text": [
      "Epoch: 1, Training Step: 466, Loss: 0.49144446849823\n",
      "Epoch: 1, Training Step: 467, Loss: 0.40258559584617615\n",
      "Epoch: 1, Training Step: 468, Loss: 0.3830731213092804\n",
      "Epoch: 1, Training Step: 469, Loss: 0.33950337767601013\n",
      "Epoch: 1, Training Step: 470, Loss: 0.38168323040008545\n"
     ]
    },
    {
     "name": "stderr",
     "output_type": "stream",
     "text": []
    },
    {
     "name": "stdout",
     "output_type": "stream",
     "text": [
      "Epoch: 1, Training Step: 471, Loss: 0.4163673520088196\n",
      "Epoch: 1, Training Step: 472, Loss: 0.4801608920097351\n",
      "Epoch: 1, Training Step: 473, Loss: 0.4235217571258545\n",
      "Epoch: 1, Training Step: 474, Loss: 0.47921809554100037\n",
      "Epoch: 1, Training Step: 475, Loss: 0.4973677098751068\n"
     ]
    },
    {
     "name": "stderr",
     "output_type": "stream",
     "text": [
      "\n"
     ]
    },
    {
     "name": "stdout",
     "output_type": "stream",
     "text": [
      "Epoch: 1, Training Step: 476, Loss: 0.518280565738678\n",
      "Epoch: 1, Training Step: 477, Loss: 0.5802544951438904\n",
      "Epoch: 1, Training Step: 478, Loss: 0.46103256940841675\n",
      "Epoch: 1, Training Step: 479, Loss: 0.48117730021476746\n",
      "Epoch: 1, Training Step: 480, Loss: 0.42149028182029724\n",
      "Epoch: 1, Training Step: 481, Loss: 0.4483036696910858\n"
     ]
    },
    {
     "name": "stderr",
     "output_type": "stream",
     "text": [
      "Iteration:  55%|█████▍    | 482/882 [00:45<00:35, 11.31it/s]\u001b[A"
     ]
    },
    {
     "name": "stdout",
     "output_type": "stream",
     "text": [
      "Epoch: 1, Training Step: 482, Loss: 0.38824883103370667\n",
      "Epoch: 1, Training Step: 483, Loss: 0.47381392121315\n",
      "Epoch: 1, Training Step: 484, Loss: 0.4524407982826233\n",
      "Epoch: 1, Training Step: 485, Loss: 0.3395264446735382\n",
      "Epoch: 1, Training Step: 486, Loss: 0.38808369636535645\n"
     ]
    },
    {
     "name": "stderr",
     "output_type": "stream",
     "text": []
    },
    {
     "name": "stdout",
     "output_type": "stream",
     "text": [
      "Epoch: 1, Training Step: 487, Loss: 0.3803902566432953\n",
      "Epoch: 1, Training Step: 488, Loss: 0.3381264805793762\n",
      "Epoch: 1, Training Step: 489, Loss: 0.39700454473495483\n",
      "Epoch: 1, Training Step: 490, Loss: 0.36185455322265625\n",
      "Epoch: 1, Training Step: 491, Loss: 0.42609265446662903\n"
     ]
    },
    {
     "name": "stderr",
     "output_type": "stream",
     "text": []
    },
    {
     "name": "stdout",
     "output_type": "stream",
     "text": [
      "Epoch: 1, Training Step: 492, Loss: 0.4613240957260132\n",
      "Epoch: 1, Training Step: 493, Loss: 0.39594826102256775\n",
      "Epoch: 1, Training Step: 494, Loss: 0.4010998010635376\n",
      "Epoch: 1, Training Step: 495, Loss: 0.43252384662628174\n",
      "Epoch: 1, Training Step: 496, Loss: 0.42237672209739685\n"
     ]
    },
    {
     "name": "stderr",
     "output_type": "stream",
     "text": []
    },
    {
     "name": "stdout",
     "output_type": "stream",
     "text": [
      "Epoch: 1, Training Step: 497, Loss: 0.5470945835113525\n",
      "Epoch: 1, Training Step: 498, Loss: 0.49753716588020325\n",
      "Epoch: 1, Training Step: 499, Loss: 0.4683469831943512\n",
      "Epoch: 1, Training Step: 500, Loss: 0.44663992524147034\n",
      "Checkpoint saved at epoch 1, training step 500.\n",
      "TripletEvaluator: Evaluating the model on the gooaq dataset in epoch 1 after 500 steps:\n"
     ]
    },
    {
     "name": "stderr",
     "output_type": "stream",
     "text": [
      "\n",
      "\u001b[A\n",
      "\u001b[A\n",
      "\u001b[A\n",
      "\u001b[A\n",
      "\u001b[A\n",
      "100%|██████████| 50/50 [00:00<00:00, 79.95it/s]\n",
      "\n",
      "\u001b[A\n",
      "\u001b[A\n",
      "\u001b[A\n",
      "\u001b[A\n",
      "\u001b[A\n",
      "100%|██████████| 50/50 [00:00<00:00, 84.49it/s]\n",
      "\n",
      "\u001b[A\n",
      "\u001b[A\n",
      "\u001b[A\n",
      "\u001b[A\n",
      "\u001b[A\n",
      "100%|██████████| 50/50 [00:00<00:00, 82.57it/s]\n"
     ]
    },
    {
     "name": "stdout",
     "output_type": "stream",
     "text": [
      "Accuracy Cosine Distance:   \t80.97\n",
      "Accuracy Dot Product:       \t20.11\n",
      "Accuracy Manhattan Distance:\t80.93\n",
      "Accuracy Euclidean Distance:\t80.69\n",
      "\n",
      "Epoch: 1, Training Step: 501, Loss: 0.4015973210334778\n",
      "Epoch: 1, Training Step: 502, Loss: 0.49767738580703735\n",
      "Epoch: 1, Training Step: 503, Loss: 0.3944006860256195\n",
      "Epoch: 1, Training Step: 504, Loss: 0.42085257172584534\n"
     ]
    },
    {
     "name": "stderr",
     "output_type": "stream",
     "text": []
    },
    {
     "name": "stdout",
     "output_type": "stream",
     "text": [
      "Epoch: 1, Training Step: 505, Loss: 0.38001787662506104\n",
      "Epoch: 1, Training Step: 506, Loss: 0.3316289484500885\n",
      "Epoch: 1, Training Step: 507, Loss: 0.30561375617980957\n",
      "Epoch: 1, Training Step: 508, Loss: 0.2841161787509918\n",
      "Epoch: 1, Training Step: 509, Loss: 0.33986976742744446\n"
     ]
    },
    {
     "name": "stderr",
     "output_type": "stream",
     "text": []
    },
    {
     "name": "stdout",
     "output_type": "stream",
     "text": [
      "Epoch: 1, Training Step: 510, Loss: 0.4039054214954376\n",
      "Epoch: 1, Training Step: 511, Loss: 0.36356663703918457\n",
      "Epoch: 1, Training Step: 512, Loss: 0.5020454525947571\n",
      "Epoch: 1, Training Step: 513, Loss: 0.5664080381393433\n",
      "Epoch: 1, Training Step: 514, Loss: 0.5116664171218872\n"
     ]
    },
    {
     "name": "stderr",
     "output_type": "stream",
     "text": []
    },
    {
     "name": "stdout",
     "output_type": "stream",
     "text": [
      "Epoch: 1, Training Step: 515, Loss: 0.5387856960296631\n",
      "Epoch: 1, Training Step: 516, Loss: 0.4960046708583832\n",
      "Epoch: 1, Training Step: 517, Loss: 0.4429132342338562\n",
      "Epoch: 1, Training Step: 518, Loss: 0.3644275963306427\n",
      "Epoch: 1, Training Step: 519, Loss: 0.3658434748649597\n"
     ]
    },
    {
     "name": "stderr",
     "output_type": "stream",
     "text": []
    },
    {
     "name": "stdout",
     "output_type": "stream",
     "text": [
      "Epoch: 1, Training Step: 520, Loss: 0.3156382441520691\n",
      "Epoch: 1, Training Step: 521, Loss: 0.31811580061912537\n",
      "Epoch: 1, Training Step: 522, Loss: 0.38311630487442017\n",
      "Epoch: 1, Training Step: 523, Loss: 0.3540610373020172\n"
     ]
    },
    {
     "name": "stderr",
     "output_type": "stream",
     "text": []
    },
    {
     "name": "stdout",
     "output_type": "stream",
     "text": [
      "Epoch: 1, Training Step: 524, Loss: 0.44234034419059753\n",
      "Epoch: 1, Training Step: 525, Loss: 0.4206947088241577\n",
      "Epoch: 1, Training Step: 526, Loss: 0.47041890025138855\n",
      "Epoch: 1, Training Step: 527, Loss: 0.5245646834373474\n",
      "Epoch: 1, Training Step: 528, Loss: 0.4820956289768219\n"
     ]
    },
    {
     "name": "stderr",
     "output_type": "stream",
     "text": []
    },
    {
     "name": "stdout",
     "output_type": "stream",
     "text": [
      "Epoch: 1, Training Step: 529, Loss: 0.4927496612071991\n",
      "Epoch: 1, Training Step: 530, Loss: 0.5377681851387024\n",
      "Epoch: 1, Training Step: 531, Loss: 0.3873371183872223\n",
      "Epoch: 1, Training Step: 532, Loss: 0.30115875601768494\n",
      "Epoch: 1, Training Step: 533, Loss: 0.33784541487693787\n"
     ]
    },
    {
     "name": "stderr",
     "output_type": "stream",
     "text": []
    },
    {
     "name": "stdout",
     "output_type": "stream",
     "text": [
      "Epoch: 1, Training Step: 534, Loss: 0.3106197416782379\n",
      "Epoch: 1, Training Step: 535, Loss: 0.4039807617664337\n",
      "Epoch: 1, Training Step: 536, Loss: 0.4385329782962799\n",
      "Epoch: 1, Training Step: 537, Loss: 0.42256656289100647\n",
      "Epoch: 1, Training Step: 538, Loss: 0.417212575674057\n",
      "Epoch: 1, Training Step: 539, Loss: 0.4705161154270172\n"
     ]
    },
    {
     "name": "stderr",
     "output_type": "stream",
     "text": []
    },
    {
     "name": "stdout",
     "output_type": "stream",
     "text": [
      "Epoch: 1, Training Step: 540, Loss: 0.4156053066253662\n",
      "Epoch: 1, Training Step: 541, Loss: 0.36957767605781555\n",
      "Epoch: 1, Training Step: 542, Loss: 0.49904483556747437\n",
      "Epoch: 1, Training Step: 543, Loss: 0.5334227085113525\n",
      "Epoch: 1, Training Step: 544, Loss: 0.47697609663009644\n"
     ]
    },
    {
     "name": "stderr",
     "output_type": "stream",
     "text": []
    },
    {
     "name": "stdout",
     "output_type": "stream",
     "text": [
      "Epoch: 1, Training Step: 545, Loss: 0.47966116666793823\n",
      "Epoch: 1, Training Step: 546, Loss: 0.3259078860282898\n",
      "Epoch: 1, Training Step: 547, Loss: 0.36817848682403564\n",
      "Epoch: 1, Training Step: 548, Loss: 0.37644606828689575\n",
      "Epoch: 1, Training Step: 549, Loss: 0.2715223729610443\n",
      "Epoch: 1, Training Step: 550, Loss: 0.23758910596370697\n",
      "Checkpoint saved at epoch 1, training step 550.\n",
      "TripletEvaluator: Evaluating the model on the gooaq dataset in epoch 1 after 550 steps:\n"
     ]
    },
    {
     "name": "stderr",
     "output_type": "stream",
     "text": [
      "\n",
      "\u001b[A\n",
      "\u001b[A\n",
      "\u001b[A\n",
      "\u001b[A\n",
      "\u001b[A\n",
      "\u001b[A\n",
      "100%|██████████| 50/50 [00:00<00:00, 74.41it/s]\n",
      "\n",
      "\u001b[A\n",
      "\u001b[A\n",
      "\u001b[A\n",
      "\u001b[A\n",
      "\u001b[A\n",
      "100%|██████████| 50/50 [00:00<00:00, 75.58it/s]\n",
      "\n",
      "\u001b[A\n",
      "\u001b[A\n",
      "\u001b[A\n",
      "\u001b[A\n",
      "\u001b[A\n",
      "100%|██████████| 50/50 [00:00<00:00, 80.75it/s]\n"
     ]
    },
    {
     "name": "stdout",
     "output_type": "stream",
     "text": [
      "Accuracy Cosine Distance:   \t81.09\n",
      "Accuracy Dot Product:       \t20.00\n",
      "Accuracy Manhattan Distance:\t81.05\n",
      "Accuracy Euclidean Distance:\t80.85\n",
      "\n",
      "Epoch: 1, Training Step: 551, Loss: 0.3072967827320099\n",
      "Epoch: 1, Training Step: 552, Loss: 0.24095603823661804\n",
      "Epoch: 1, Training Step: 553, Loss: 0.28675347566604614\n",
      "Epoch: 1, Training Step: 554, Loss: 0.3220996856689453\n"
     ]
    },
    {
     "name": "stderr",
     "output_type": "stream",
     "text": []
    },
    {
     "name": "stdout",
     "output_type": "stream",
     "text": [
      "Epoch: 1, Training Step: 555, Loss: 0.3252949118614197\n",
      "Epoch: 1, Training Step: 556, Loss: 0.4023957848548889\n",
      "Epoch: 1, Training Step: 557, Loss: 0.4412586987018585\n",
      "Epoch: 1, Training Step: 558, Loss: 0.45856335759162903\n",
      "Epoch: 1, Training Step: 559, Loss: 0.4366830587387085\n"
     ]
    },
    {
     "name": "stderr",
     "output_type": "stream",
     "text": []
    },
    {
     "name": "stdout",
     "output_type": "stream",
     "text": [
      "Epoch: 1, Training Step: 560, Loss: 0.37288859486579895\n",
      "Epoch: 1, Training Step: 561, Loss: 0.32890501618385315\n",
      "Epoch: 1, Training Step: 562, Loss: 0.29978108406066895\n",
      "Epoch: 1, Training Step: 563, Loss: 0.3169504702091217\n",
      "Epoch: 1, Training Step: 564, Loss: 0.35976967215538025\n"
     ]
    },
    {
     "name": "stderr",
     "output_type": "stream",
     "text": []
    },
    {
     "name": "stdout",
     "output_type": "stream",
     "text": [
      "Epoch: 1, Training Step: 565, Loss: 0.3753829300403595\n",
      "Epoch: 1, Training Step: 566, Loss: 0.35379859805107117\n",
      "Epoch: 1, Training Step: 567, Loss: 0.4197867214679718\n",
      "Epoch: 1, Training Step: 568, Loss: 0.3855147659778595\n",
      "Epoch: 1, Training Step: 569, Loss: 0.32951819896698\n"
     ]
    },
    {
     "name": "stderr",
     "output_type": "stream",
     "text": [
      "\n"
     ]
    },
    {
     "name": "stdout",
     "output_type": "stream",
     "text": [
      "Epoch: 1, Training Step: 570, Loss: 0.3969866633415222\n",
      "Epoch: 1, Training Step: 571, Loss: 0.40557861328125\n",
      "Epoch: 1, Training Step: 572, Loss: 0.3774636387825012\n",
      "Epoch: 1, Training Step: 573, Loss: 0.3728129267692566\n",
      "Epoch: 1, Training Step: 574, Loss: 0.4046112298965454\n"
     ]
    },
    {
     "name": "stderr",
     "output_type": "stream",
     "text": [
      "Iteration:  65%|██████▌   | 575/882 [00:55<00:29, 10.48it/s]\u001b[A"
     ]
    },
    {
     "name": "stdout",
     "output_type": "stream",
     "text": [
      "Epoch: 1, Training Step: 575, Loss: 0.39298656582832336\n",
      "Epoch: 1, Training Step: 576, Loss: 0.3618106544017792\n",
      "Epoch: 1, Training Step: 577, Loss: 0.49836528301239014\n",
      "Epoch: 1, Training Step: 578, Loss: 0.39725860953330994\n",
      "Epoch: 1, Training Step: 579, Loss: 0.3820396661758423\n"
     ]
    },
    {
     "name": "stderr",
     "output_type": "stream",
     "text": []
    },
    {
     "name": "stdout",
     "output_type": "stream",
     "text": [
      "Epoch: 1, Training Step: 580, Loss: 0.4293466806411743\n",
      "Epoch: 1, Training Step: 581, Loss: 0.39164432883262634\n",
      "Epoch: 1, Training Step: 582, Loss: 0.3656753599643707\n",
      "Epoch: 1, Training Step: 583, Loss: 0.38882386684417725\n",
      "Epoch: 1, Training Step: 584, Loss: 0.44954708218574524\n"
     ]
    },
    {
     "name": "stderr",
     "output_type": "stream",
     "text": [
      "\n"
     ]
    },
    {
     "name": "stdout",
     "output_type": "stream",
     "text": [
      "Epoch: 1, Training Step: 585, Loss: 0.4751737713813782\n",
      "Epoch: 1, Training Step: 586, Loss: 0.41822758316993713\n",
      "Epoch: 1, Training Step: 587, Loss: 0.4358668625354767\n",
      "Epoch: 1, Training Step: 588, Loss: 0.41627898812294006\n",
      "Epoch: 1, Training Step: 589, Loss: 0.33725279569625854\n"
     ]
    },
    {
     "name": "stderr",
     "output_type": "stream",
     "text": [
      "Iteration:  67%|██████▋   | 590/882 [00:55<00:24, 11.93it/s]\u001b[A\n"
     ]
    },
    {
     "name": "stdout",
     "output_type": "stream",
     "text": [
      "Epoch: 1, Training Step: 590, Loss: 0.3020933270454407\n",
      "Epoch: 1, Training Step: 591, Loss: 0.3514327108860016\n",
      "Epoch: 1, Training Step: 592, Loss: 0.36228007078170776\n",
      "Epoch: 1, Training Step: 593, Loss: 0.45418158173561096\n",
      "Epoch: 1, Training Step: 594, Loss: 0.37293991446495056\n",
      "Epoch: 1, Training Step: 595, Loss: 0.41424548625946045\n"
     ]
    },
    {
     "name": "stderr",
     "output_type": "stream",
     "text": [
      "Iteration:  68%|██████▊   | 596/882 [00:55<00:22, 12.53it/s]\u001b[A"
     ]
    },
    {
     "name": "stdout",
     "output_type": "stream",
     "text": [
      "Epoch: 1, Training Step: 596, Loss: 0.44057995080947876\n",
      "Epoch: 1, Training Step: 597, Loss: 0.4502873718738556\n",
      "Epoch: 1, Training Step: 598, Loss: 0.38410934805870056\n",
      "Epoch: 1, Training Step: 599, Loss: 0.4244216978549957\n",
      "Epoch: 1, Training Step: 600, Loss: 0.47170260548591614\n",
      "Checkpoint saved at epoch 1, training step 600.\n",
      "TripletEvaluator: Evaluating the model on the gooaq dataset in epoch 1 after 600 steps:\n"
     ]
    },
    {
     "name": "stderr",
     "output_type": "stream",
     "text": [
      "\n",
      "\u001b[A\n",
      "\u001b[A\n",
      "\u001b[A\n",
      "\u001b[A\n",
      "\u001b[A\n",
      "100%|██████████| 50/50 [00:00<00:00, 84.01it/s]\n",
      "\n",
      "\u001b[A\n",
      "\u001b[A\n",
      "\u001b[A\n",
      "\u001b[A\n",
      "\u001b[A\n",
      "100%|██████████| 50/50 [00:00<00:00, 82.18it/s]\n",
      "\n",
      "\u001b[A\n",
      "\u001b[A\n",
      "\u001b[A\n",
      "\u001b[A\n",
      "\u001b[A\n",
      "100%|██████████| 50/50 [00:00<00:00, 81.39it/s]\n"
     ]
    },
    {
     "name": "stdout",
     "output_type": "stream",
     "text": [
      "Accuracy Cosine Distance:   \t81.13\n",
      "Accuracy Dot Product:       \t20.27\n",
      "Accuracy Manhattan Distance:\t80.99\n",
      "Accuracy Euclidean Distance:\t80.85\n",
      "\n",
      "Epoch: 1, Training Step: 601, Loss: 0.40852686762809753\n",
      "Epoch: 1, Training Step: 602, Loss: 0.41897764801979065\n",
      "Epoch: 1, Training Step: 603, Loss: 0.4425193667411804\n",
      "Epoch: 1, Training Step: 604, Loss: 0.3677094280719757\n"
     ]
    },
    {
     "name": "stderr",
     "output_type": "stream",
     "text": []
    },
    {
     "name": "stdout",
     "output_type": "stream",
     "text": [
      "Epoch: 1, Training Step: 605, Loss: 0.4465385377407074\n",
      "Epoch: 1, Training Step: 606, Loss: 0.4108007848262787\n",
      "Epoch: 1, Training Step: 607, Loss: 0.5031251311302185\n",
      "Epoch: 1, Training Step: 608, Loss: 0.38451653718948364\n",
      "Epoch: 1, Training Step: 609, Loss: 0.5465750098228455\n"
     ]
    },
    {
     "name": "stderr",
     "output_type": "stream",
     "text": []
    },
    {
     "name": "stdout",
     "output_type": "stream",
     "text": [
      "Epoch: 1, Training Step: 610, Loss: 0.5233981609344482\n",
      "Epoch: 1, Training Step: 611, Loss: 0.4994419515132904\n",
      "Epoch: 1, Training Step: 612, Loss: 0.4796406030654907\n",
      "Epoch: 1, Training Step: 613, Loss: 0.3849595785140991\n",
      "Epoch: 1, Training Step: 614, Loss: 0.43237030506134033\n",
      "Epoch: 1, Training Step: 615, Loss: 0.4377025365829468\n"
     ]
    },
    {
     "name": "stderr",
     "output_type": "stream",
     "text": []
    },
    {
     "name": "stdout",
     "output_type": "stream",
     "text": [
      "Epoch: 1, Training Step: 616, Loss: 0.42144775390625\n",
      "Epoch: 1, Training Step: 617, Loss: 0.40487948060035706\n",
      "Epoch: 1, Training Step: 618, Loss: 0.3364931046962738\n",
      "Epoch: 1, Training Step: 619, Loss: 0.3467389643192291\n",
      "Epoch: 1, Training Step: 620, Loss: 0.3883063495159149\n"
     ]
    },
    {
     "name": "stderr",
     "output_type": "stream",
     "text": []
    },
    {
     "name": "stdout",
     "output_type": "stream",
     "text": [
      "Epoch: 1, Training Step: 621, Loss: 0.4206996560096741\n",
      "Epoch: 1, Training Step: 622, Loss: 0.45625361800193787\n",
      "Epoch: 1, Training Step: 623, Loss: 0.4643993675708771\n",
      "Epoch: 1, Training Step: 624, Loss: 0.5242453813552856\n",
      "Epoch: 1, Training Step: 625, Loss: 0.49924376606941223\n",
      "Epoch: 1, Training Step: 626, Loss: 0.3872949481010437\n"
     ]
    },
    {
     "name": "stderr",
     "output_type": "stream",
     "text": []
    },
    {
     "name": "stdout",
     "output_type": "stream",
     "text": [
      "Epoch: 1, Training Step: 627, Loss: 0.35680755972862244\n",
      "Epoch: 1, Training Step: 628, Loss: 0.3773753046989441\n",
      "Epoch: 1, Training Step: 629, Loss: 0.3460697829723358\n",
      "Epoch: 1, Training Step: 630, Loss: 0.3779386579990387\n",
      "Epoch: 1, Training Step: 631, Loss: 0.3646336495876312\n"
     ]
    },
    {
     "name": "stderr",
     "output_type": "stream",
     "text": []
    },
    {
     "name": "stdout",
     "output_type": "stream",
     "text": [
      "Epoch: 1, Training Step: 632, Loss: 0.40155136585235596\n",
      "Epoch: 1, Training Step: 633, Loss: 0.34933578968048096\n",
      "Epoch: 1, Training Step: 634, Loss: 0.301336407661438\n",
      "Epoch: 1, Training Step: 635, Loss: 0.4054746627807617\n"
     ]
    },
    {
     "name": "stderr",
     "output_type": "stream",
     "text": [
      "\n"
     ]
    },
    {
     "name": "stdout",
     "output_type": "stream",
     "text": [
      "Epoch: 1, Training Step: 636, Loss: 0.3530397117137909\n",
      "Epoch: 1, Training Step: 637, Loss: 0.3230210840702057\n",
      "Epoch: 1, Training Step: 638, Loss: 0.36898869276046753\n",
      "Epoch: 1, Training Step: 639, Loss: 0.366585910320282\n",
      "Epoch: 1, Training Step: 640, Loss: 0.5167253613471985\n"
     ]
    },
    {
     "name": "stderr",
     "output_type": "stream",
     "text": [
      "Iteration:  73%|███████▎  | 641/882 [01:00<00:19, 12.29it/s]\u001b[A"
     ]
    },
    {
     "name": "stdout",
     "output_type": "stream",
     "text": [
      "Epoch: 1, Training Step: 641, Loss: 0.5584571957588196\n",
      "Epoch: 1, Training Step: 642, Loss: 0.6285743117332458\n",
      "Epoch: 1, Training Step: 643, Loss: 0.4633079767227173\n",
      "Epoch: 1, Training Step: 644, Loss: 0.4373917877674103\n",
      "Epoch: 1, Training Step: 645, Loss: 0.4107329249382019\n"
     ]
    },
    {
     "name": "stderr",
     "output_type": "stream",
     "text": []
    },
    {
     "name": "stdout",
     "output_type": "stream",
     "text": [
      "Epoch: 1, Training Step: 646, Loss: 0.3281247615814209\n",
      "Epoch: 1, Training Step: 647, Loss: 0.26480239629745483\n",
      "Epoch: 1, Training Step: 648, Loss: 0.32162711024284363\n",
      "Epoch: 1, Training Step: 649, Loss: 0.3254939913749695\n",
      "Epoch: 1, Training Step: 650, Loss: 0.35346028208732605\n",
      "Checkpoint saved at epoch 1, training step 650.\n",
      "TripletEvaluator: Evaluating the model on the gooaq dataset in epoch 1 after 650 steps:\n"
     ]
    },
    {
     "name": "stderr",
     "output_type": "stream",
     "text": [
      "\n",
      "\u001b[A\n",
      "\u001b[A\n",
      "\u001b[A\n",
      "\u001b[A\n",
      "\u001b[A\n",
      "100%|██████████| 50/50 [00:00<00:00, 82.96it/s]\n",
      "\n",
      "\u001b[A\n",
      "\u001b[A\n",
      "\u001b[A\n",
      "\u001b[A\n",
      "\u001b[A\n",
      "100%|██████████| 50/50 [00:00<00:00, 83.23it/s]\n",
      "\n",
      "\u001b[A\n",
      "\u001b[A\n",
      "\u001b[A\n",
      "\u001b[A\n",
      "\u001b[A\n",
      "\u001b[A\n",
      "100%|██████████| 50/50 [00:00<00:00, 78.24it/s]\n"
     ]
    },
    {
     "name": "stdout",
     "output_type": "stream",
     "text": [
      "Accuracy Cosine Distance:   \t81.07\n",
      "Accuracy Dot Product:       \t20.17\n",
      "Accuracy Manhattan Distance:\t81.09\n",
      "Accuracy Euclidean Distance:\t80.75\n",
      "\n",
      "Epoch: 1, Training Step: 651, Loss: 0.44836750626564026\n",
      "Epoch: 1, Training Step: 652, Loss: 0.4047151207923889\n",
      "Epoch: 1, Training Step: 653, Loss: 0.45540663599967957\n",
      "Epoch: 1, Training Step: 654, Loss: 0.47734761238098145\n"
     ]
    },
    {
     "name": "stderr",
     "output_type": "stream",
     "text": []
    },
    {
     "name": "stdout",
     "output_type": "stream",
     "text": [
      "Epoch: 1, Training Step: 655, Loss: 0.3642900884151459\n",
      "Epoch: 1, Training Step: 656, Loss: 0.4045080244541168\n",
      "Epoch: 1, Training Step: 657, Loss: 0.40404459834098816\n",
      "Epoch: 1, Training Step: 658, Loss: 0.4468112587928772\n",
      "Epoch: 1, Training Step: 659, Loss: 0.4389459192752838\n"
     ]
    },
    {
     "name": "stderr",
     "output_type": "stream",
     "text": []
    },
    {
     "name": "stdout",
     "output_type": "stream",
     "text": [
      "Epoch: 1, Training Step: 660, Loss: 0.43444928526878357\n",
      "Epoch: 1, Training Step: 661, Loss: 0.44714465737342834\n",
      "Epoch: 1, Training Step: 662, Loss: 0.4093082845211029\n",
      "Epoch: 1, Training Step: 663, Loss: 0.4000416696071625\n",
      "Epoch: 1, Training Step: 664, Loss: 0.5176010131835938\n"
     ]
    },
    {
     "name": "stderr",
     "output_type": "stream",
     "text": []
    },
    {
     "name": "stdout",
     "output_type": "stream",
     "text": [
      "Epoch: 1, Training Step: 665, Loss: 0.49460452795028687\n",
      "Epoch: 1, Training Step: 666, Loss: 0.41034233570098877\n",
      "Epoch: 1, Training Step: 667, Loss: 0.4203035831451416\n",
      "Epoch: 1, Training Step: 668, Loss: 0.3923441767692566\n",
      "Epoch: 1, Training Step: 669, Loss: 0.54049152135849\n"
     ]
    },
    {
     "name": "stderr",
     "output_type": "stream",
     "text": []
    },
    {
     "name": "stdout",
     "output_type": "stream",
     "text": [
      "Epoch: 1, Training Step: 670, Loss: 0.4876703917980194\n",
      "Epoch: 1, Training Step: 671, Loss: 0.5086008310317993\n",
      "Epoch: 1, Training Step: 672, Loss: 0.5280761122703552\n",
      "Epoch: 1, Training Step: 673, Loss: 0.6052042841911316\n",
      "Epoch: 1, Training Step: 674, Loss: 0.4735347032546997\n"
     ]
    },
    {
     "name": "stderr",
     "output_type": "stream",
     "text": [
      "\n"
     ]
    },
    {
     "name": "stdout",
     "output_type": "stream",
     "text": [
      "Epoch: 1, Training Step: 675, Loss: 0.4692036509513855\n",
      "Epoch: 1, Training Step: 676, Loss: 0.5028156042098999\n",
      "Epoch: 1, Training Step: 677, Loss: 0.5015671849250793\n",
      "Epoch: 1, Training Step: 678, Loss: 0.44834351539611816\n",
      "Epoch: 1, Training Step: 679, Loss: 0.6640813946723938\n"
     ]
    },
    {
     "name": "stderr",
     "output_type": "stream",
     "text": [
      "Iteration:  77%|███████▋  | 680/882 [01:04<00:18, 11.08it/s]\u001b[A"
     ]
    },
    {
     "name": "stdout",
     "output_type": "stream",
     "text": [
      "Epoch: 1, Training Step: 680, Loss: 0.41589808464050293\n",
      "Epoch: 1, Training Step: 681, Loss: 0.45801153779029846\n",
      "Epoch: 1, Training Step: 682, Loss: 0.45546984672546387\n",
      "Epoch: 1, Training Step: 683, Loss: 0.4670589864253998\n",
      "Epoch: 1, Training Step: 684, Loss: 0.3932182788848877\n"
     ]
    },
    {
     "name": "stderr",
     "output_type": "stream",
     "text": []
    },
    {
     "name": "stdout",
     "output_type": "stream",
     "text": [
      "Epoch: 1, Training Step: 685, Loss: 0.3566308617591858\n",
      "Epoch: 1, Training Step: 686, Loss: 0.4384528696537018\n",
      "Epoch: 1, Training Step: 687, Loss: 0.4200913608074188\n",
      "Epoch: 1, Training Step: 688, Loss: 0.49484744668006897\n",
      "Epoch: 1, Training Step: 689, Loss: 0.4468669593334198\n"
     ]
    },
    {
     "name": "stderr",
     "output_type": "stream",
     "text": []
    },
    {
     "name": "stdout",
     "output_type": "stream",
     "text": [
      "Epoch: 1, Training Step: 690, Loss: 0.44088006019592285\n",
      "Epoch: 1, Training Step: 691, Loss: 0.46421632170677185\n",
      "Epoch: 1, Training Step: 692, Loss: 0.4673672914505005\n",
      "Epoch: 1, Training Step: 693, Loss: 0.3656052350997925\n",
      "Epoch: 1, Training Step: 694, Loss: 0.44024768471717834\n",
      "Epoch: 1, Training Step: 695, Loss: 0.4093989431858063\n"
     ]
    },
    {
     "name": "stderr",
     "output_type": "stream",
     "text": []
    },
    {
     "name": "stdout",
     "output_type": "stream",
     "text": [
      "Epoch: 1, Training Step: 696, Loss: 0.3731008768081665\n",
      "Epoch: 1, Training Step: 697, Loss: 0.3993295729160309\n",
      "Epoch: 1, Training Step: 698, Loss: 0.3507189154624939\n",
      "Epoch: 1, Training Step: 699, Loss: 0.382187157869339\n",
      "Epoch: 1, Training Step: 700, Loss: 0.434188574552536\n",
      "Checkpoint saved at epoch 1, training step 700.\n",
      "TripletEvaluator: Evaluating the model on the gooaq dataset in epoch 1 after 700 steps:\n"
     ]
    },
    {
     "name": "stderr",
     "output_type": "stream",
     "text": [
      "\n",
      "\u001b[A\n",
      "\u001b[A\n",
      "\u001b[A\n",
      "\u001b[A\n",
      "\u001b[A\n",
      "100%|██████████| 50/50 [00:00<00:00, 79.67it/s]\n",
      "\n",
      "\u001b[A\n",
      "\u001b[A\n",
      "\u001b[A\n",
      "\u001b[A\n",
      "\u001b[A\n",
      "100%|██████████| 50/50 [00:00<00:00, 83.30it/s]\n",
      "\n",
      "\u001b[A\n",
      "\u001b[A\n",
      "\u001b[A\n",
      "\u001b[A\n",
      "\u001b[A\n",
      "100%|██████████| 50/50 [00:00<00:00, 80.23it/s]\n"
     ]
    },
    {
     "name": "stdout",
     "output_type": "stream",
     "text": [
      "Accuracy Cosine Distance:   \t80.99\n",
      "Accuracy Dot Product:       \t20.09\n",
      "Accuracy Manhattan Distance:\t81.07\n",
      "Accuracy Euclidean Distance:\t80.73\n",
      "\n",
      "Epoch: 1, Training Step: 701, Loss: 0.36207255721092224\n",
      "Epoch: 1, Training Step: 702, Loss: 0.2605787515640259\n",
      "Epoch: 1, Training Step: 703, Loss: 0.29348599910736084\n",
      "Epoch: 1, Training Step: 704, Loss: 0.3216450810432434\n"
     ]
    },
    {
     "name": "stderr",
     "output_type": "stream",
     "text": [
      "\n"
     ]
    },
    {
     "name": "stdout",
     "output_type": "stream",
     "text": [
      "Epoch: 1, Training Step: 705, Loss: 0.26619887351989746\n",
      "Epoch: 1, Training Step: 706, Loss: 0.3602898120880127\n",
      "Epoch: 1, Training Step: 707, Loss: 0.33850565552711487\n",
      "Epoch: 1, Training Step: 708, Loss: 0.3651792109012604\n",
      "Epoch: 1, Training Step: 709, Loss: 0.4087093770503998\n"
     ]
    },
    {
     "name": "stderr",
     "output_type": "stream",
     "text": [
      "Iteration:  80%|████████  | 710/882 [01:08<00:18,  9.07it/s]\u001b[A"
     ]
    },
    {
     "name": "stdout",
     "output_type": "stream",
     "text": [
      "Epoch: 1, Training Step: 710, Loss: 0.4198237657546997\n",
      "Epoch: 1, Training Step: 711, Loss: 0.4129883646965027\n",
      "Epoch: 1, Training Step: 712, Loss: 0.46641960740089417\n",
      "Epoch: 1, Training Step: 713, Loss: 0.5136419534683228\n",
      "Epoch: 1, Training Step: 714, Loss: 0.516978919506073\n"
     ]
    },
    {
     "name": "stderr",
     "output_type": "stream",
     "text": []
    },
    {
     "name": "stdout",
     "output_type": "stream",
     "text": [
      "Epoch: 1, Training Step: 715, Loss: 0.5177505016326904\n",
      "Epoch: 1, Training Step: 716, Loss: 0.5291838645935059\n",
      "Epoch: 1, Training Step: 717, Loss: 0.32674720883369446\n",
      "Epoch: 1, Training Step: 718, Loss: 0.42208415269851685\n",
      "Epoch: 1, Training Step: 719, Loss: 0.4440288841724396\n"
     ]
    },
    {
     "name": "stderr",
     "output_type": "stream",
     "text": []
    },
    {
     "name": "stdout",
     "output_type": "stream",
     "text": [
      "Epoch: 1, Training Step: 720, Loss: 0.4574870765209198\n",
      "Epoch: 1, Training Step: 721, Loss: 0.3957025408744812\n",
      "Epoch: 1, Training Step: 722, Loss: 0.36873793601989746\n",
      "Epoch: 1, Training Step: 723, Loss: 0.36423251032829285\n",
      "Epoch: 1, Training Step: 724, Loss: 0.3060110807418823\n"
     ]
    },
    {
     "name": "stderr",
     "output_type": "stream",
     "text": []
    },
    {
     "name": "stdout",
     "output_type": "stream",
     "text": [
      "Epoch: 1, Training Step: 725, Loss: 0.3307684361934662\n",
      "Epoch: 1, Training Step: 726, Loss: 0.4212839603424072\n",
      "Epoch: 1, Training Step: 727, Loss: 0.40517550706863403\n",
      "Epoch: 1, Training Step: 728, Loss: 0.42128974199295044\n",
      "Epoch: 1, Training Step: 729, Loss: 0.4601617753505707\n"
     ]
    },
    {
     "name": "stderr",
     "output_type": "stream",
     "text": []
    },
    {
     "name": "stdout",
     "output_type": "stream",
     "text": [
      "Epoch: 1, Training Step: 730, Loss: 0.4013916254043579\n",
      "Epoch: 1, Training Step: 731, Loss: 0.4940381348133087\n",
      "Epoch: 1, Training Step: 732, Loss: 0.4002093970775604\n",
      "Epoch: 1, Training Step: 733, Loss: 0.470218688249588\n",
      "Epoch: 1, Training Step: 734, Loss: 0.38468873500823975\n"
     ]
    },
    {
     "name": "stderr",
     "output_type": "stream",
     "text": []
    },
    {
     "name": "stdout",
     "output_type": "stream",
     "text": [
      "Epoch: 1, Training Step: 735, Loss: 0.3854210674762726\n",
      "Epoch: 1, Training Step: 736, Loss: 0.42005717754364014\n",
      "Epoch: 1, Training Step: 737, Loss: 0.35415351390838623\n",
      "Epoch: 1, Training Step: 738, Loss: 0.377991646528244\n",
      "Epoch: 1, Training Step: 739, Loss: 0.4145125150680542\n"
     ]
    },
    {
     "name": "stderr",
     "output_type": "stream",
     "text": []
    },
    {
     "name": "stdout",
     "output_type": "stream",
     "text": [
      "Epoch: 1, Training Step: 740, Loss: 0.3800896108150482\n",
      "Epoch: 1, Training Step: 741, Loss: 0.34058254957199097\n",
      "Epoch: 1, Training Step: 742, Loss: 0.38032522797584534\n",
      "Epoch: 1, Training Step: 743, Loss: 0.3344482183456421\n",
      "Epoch: 1, Training Step: 744, Loss: 0.5053338408470154\n"
     ]
    },
    {
     "name": "stderr",
     "output_type": "stream",
     "text": []
    },
    {
     "name": "stdout",
     "output_type": "stream",
     "text": [
      "Epoch: 1, Training Step: 745, Loss: 0.46567797660827637\n",
      "Epoch: 1, Training Step: 746, Loss: 0.4500064551830292\n",
      "Epoch: 1, Training Step: 747, Loss: 0.4865180552005768\n",
      "Epoch: 1, Training Step: 748, Loss: 0.5167969465255737\n",
      "Epoch: 1, Training Step: 749, Loss: 0.5220881104469299\n",
      "Epoch: 1, Training Step: 750, Loss: 0.45596545934677124\n",
      "Checkpoint saved at epoch 1, training step 750.\n",
      "TripletEvaluator: Evaluating the model on the gooaq dataset in epoch 1 after 750 steps:\n"
     ]
    },
    {
     "name": "stderr",
     "output_type": "stream",
     "text": [
      "\n",
      "\u001b[A\n",
      "\u001b[A\n",
      "\u001b[A\n",
      "\u001b[A\n",
      "\u001b[A\n",
      "100%|██████████| 50/50 [00:00<00:00, 82.88it/s]\n",
      "\n",
      "\u001b[A\n",
      "\u001b[A\n",
      "\u001b[A\n",
      "\u001b[A\n",
      "\u001b[A\n",
      "100%|██████████| 50/50 [00:00<00:00, 85.37it/s]\n",
      "\n",
      "\u001b[A\n",
      "\u001b[A\n",
      "\u001b[A\n",
      "\u001b[A\n",
      "\u001b[A\n",
      "100%|██████████| 50/50 [00:00<00:00, 85.62it/s]\n"
     ]
    },
    {
     "name": "stdout",
     "output_type": "stream",
     "text": [
      "Accuracy Cosine Distance:   \t81.05\n",
      "Accuracy Dot Product:       \t20.11\n",
      "Accuracy Manhattan Distance:\t81.15\n",
      "Accuracy Euclidean Distance:\t80.71\n",
      "\n",
      "Epoch: 1, Training Step: 751, Loss: 0.5494146943092346\n",
      "Epoch: 1, Training Step: 752, Loss: 0.4765684902667999\n",
      "Epoch: 1, Training Step: 753, Loss: 0.4266747534275055\n",
      "Epoch: 1, Training Step: 754, Loss: 0.449364572763443\n",
      "Epoch: 1, Training Step: 755, Loss: 0.44057291746139526\n"
     ]
    },
    {
     "name": "stderr",
     "output_type": "stream",
     "text": []
    },
    {
     "name": "stdout",
     "output_type": "stream",
     "text": [
      "Epoch: 1, Training Step: 756, Loss: 0.48344916105270386\n",
      "Epoch: 1, Training Step: 757, Loss: 0.46262073516845703\n",
      "Epoch: 1, Training Step: 758, Loss: 0.378300279378891\n",
      "Epoch: 1, Training Step: 759, Loss: 0.40088680386543274\n",
      "Epoch: 1, Training Step: 760, Loss: 0.359262615442276\n"
     ]
    },
    {
     "name": "stderr",
     "output_type": "stream",
     "text": []
    },
    {
     "name": "stdout",
     "output_type": "stream",
     "text": [
      "Epoch: 1, Training Step: 761, Loss: 0.4224030375480652\n",
      "Epoch: 1, Training Step: 762, Loss: 0.3985266387462616\n",
      "Epoch: 1, Training Step: 763, Loss: 0.4048306941986084\n",
      "Epoch: 1, Training Step: 764, Loss: 0.437188059091568\n",
      "Epoch: 1, Training Step: 765, Loss: 0.357242614030838\n"
     ]
    },
    {
     "name": "stderr",
     "output_type": "stream",
     "text": []
    },
    {
     "name": "stdout",
     "output_type": "stream",
     "text": [
      "Epoch: 1, Training Step: 766, Loss: 0.29202792048454285\n",
      "Epoch: 1, Training Step: 767, Loss: 0.3407161831855774\n",
      "Epoch: 1, Training Step: 768, Loss: 0.40296420454978943\n",
      "Epoch: 1, Training Step: 769, Loss: 0.5102192759513855\n",
      "Epoch: 1, Training Step: 770, Loss: 0.5174873471260071\n"
     ]
    },
    {
     "name": "stderr",
     "output_type": "stream",
     "text": []
    },
    {
     "name": "stdout",
     "output_type": "stream",
     "text": [
      "Epoch: 1, Training Step: 771, Loss: 0.5095447301864624\n",
      "Epoch: 1, Training Step: 772, Loss: 0.5317646861076355\n",
      "Epoch: 1, Training Step: 773, Loss: 0.3912360668182373\n",
      "Epoch: 1, Training Step: 774, Loss: 0.3836217224597931\n",
      "Epoch: 1, Training Step: 775, Loss: 0.4278503358364105\n"
     ]
    },
    {
     "name": "stderr",
     "output_type": "stream",
     "text": []
    },
    {
     "name": "stdout",
     "output_type": "stream",
     "text": [
      "Epoch: 1, Training Step: 776, Loss: 0.3288711905479431\n",
      "Epoch: 1, Training Step: 777, Loss: 0.2734321355819702\n",
      "Epoch: 1, Training Step: 778, Loss: 0.28059327602386475\n",
      "Epoch: 1, Training Step: 779, Loss: 0.36692091822624207\n",
      "Epoch: 1, Training Step: 780, Loss: 0.3415028750896454\n"
     ]
    },
    {
     "name": "stderr",
     "output_type": "stream",
     "text": []
    },
    {
     "name": "stdout",
     "output_type": "stream",
     "text": [
      "Epoch: 1, Training Step: 781, Loss: 0.36829131841659546\n",
      "Epoch: 1, Training Step: 782, Loss: 0.45243316888809204\n",
      "Epoch: 1, Training Step: 783, Loss: 0.4142057001590729\n",
      "Epoch: 1, Training Step: 784, Loss: 0.43906399607658386\n",
      "Epoch: 1, Training Step: 785, Loss: 0.39292895793914795\n"
     ]
    },
    {
     "name": "stderr",
     "output_type": "stream",
     "text": []
    },
    {
     "name": "stdout",
     "output_type": "stream",
     "text": [
      "Epoch: 1, Training Step: 786, Loss: 0.49464595317840576\n",
      "Epoch: 1, Training Step: 787, Loss: 0.4026167392730713\n",
      "Epoch: 1, Training Step: 788, Loss: 0.47339603304862976\n",
      "Epoch: 1, Training Step: 789, Loss: 0.3373497426509857\n",
      "Epoch: 1, Training Step: 790, Loss: 0.4382803738117218\n"
     ]
    },
    {
     "name": "stderr",
     "output_type": "stream",
     "text": []
    },
    {
     "name": "stdout",
     "output_type": "stream",
     "text": [
      "Epoch: 1, Training Step: 791, Loss: 0.42856425046920776\n",
      "Epoch: 1, Training Step: 792, Loss: 0.6027268767356873\n",
      "Epoch: 1, Training Step: 793, Loss: 0.43769320845603943\n",
      "Epoch: 1, Training Step: 794, Loss: 0.4811999201774597\n",
      "Epoch: 1, Training Step: 795, Loss: 0.566946268081665\n"
     ]
    },
    {
     "name": "stderr",
     "output_type": "stream",
     "text": []
    },
    {
     "name": "stdout",
     "output_type": "stream",
     "text": [
      "Epoch: 1, Training Step: 796, Loss: 0.43397998809814453\n",
      "Epoch: 1, Training Step: 797, Loss: 0.3455936014652252\n",
      "Epoch: 1, Training Step: 798, Loss: 0.47370627522468567\n",
      "Epoch: 1, Training Step: 799, Loss: 0.33215123414993286\n",
      "Epoch: 1, Training Step: 800, Loss: 0.3473034203052521\n",
      "Checkpoint saved at epoch 1, training step 800.\n",
      "TripletEvaluator: Evaluating the model on the gooaq dataset in epoch 1 after 800 steps:\n"
     ]
    },
    {
     "name": "stderr",
     "output_type": "stream",
     "text": [
      "\n",
      "\u001b[A\n",
      "\u001b[A\n",
      "\u001b[A\n",
      "\u001b[A\n",
      "\u001b[A\n",
      "100%|██████████| 50/50 [00:00<00:00, 83.17it/s]\n",
      "\n",
      "\u001b[A\n",
      "\u001b[A\n",
      "\u001b[A\n",
      "\u001b[A\n",
      "\u001b[A\n",
      "100%|██████████| 50/50 [00:00<00:00, 83.44it/s]\n",
      "\n",
      "\u001b[A\n",
      "\u001b[A\n",
      "\u001b[A\n",
      "\u001b[A\n",
      "\u001b[A\n",
      "100%|██████████| 50/50 [00:00<00:00, 79.05it/s]\n"
     ]
    },
    {
     "name": "stdout",
     "output_type": "stream",
     "text": [
      "Accuracy Cosine Distance:   \t81.03\n",
      "Accuracy Dot Product:       \t20.15\n",
      "Accuracy Manhattan Distance:\t81.19\n",
      "Accuracy Euclidean Distance:\t80.77\n",
      "\n",
      "Epoch: 1, Training Step: 801, Loss: 0.3856695294380188\n",
      "Epoch: 1, Training Step: 802, Loss: 0.3520548641681671\n",
      "Epoch: 1, Training Step: 803, Loss: 0.3827522397041321\n",
      "Epoch: 1, Training Step: 804, Loss: 0.3492889702320099\n"
     ]
    },
    {
     "name": "stderr",
     "output_type": "stream",
     "text": []
    },
    {
     "name": "stdout",
     "output_type": "stream",
     "text": [
      "Epoch: 1, Training Step: 805, Loss: 0.33634987473487854\n",
      "Epoch: 1, Training Step: 806, Loss: 0.3919912576675415\n",
      "Epoch: 1, Training Step: 807, Loss: 0.35458001494407654\n",
      "Epoch: 1, Training Step: 808, Loss: 0.36382579803466797\n",
      "Epoch: 1, Training Step: 809, Loss: 0.45362457633018494\n",
      "Epoch: 1, Training Step: 810, Loss: 0.5154970288276672\n"
     ]
    },
    {
     "name": "stderr",
     "output_type": "stream",
     "text": []
    },
    {
     "name": "stdout",
     "output_type": "stream",
     "text": [
      "Epoch: 1, Training Step: 811, Loss: 0.46345290541648865\n",
      "Epoch: 1, Training Step: 812, Loss: 0.4422900080680847\n",
      "Epoch: 1, Training Step: 813, Loss: 0.5230420827865601\n",
      "Epoch: 1, Training Step: 814, Loss: 0.36932507157325745\n",
      "Epoch: 1, Training Step: 815, Loss: 0.43255627155303955\n"
     ]
    },
    {
     "name": "stderr",
     "output_type": "stream",
     "text": []
    },
    {
     "name": "stdout",
     "output_type": "stream",
     "text": [
      "Epoch: 1, Training Step: 816, Loss: 0.4682781994342804\n",
      "Epoch: 1, Training Step: 817, Loss: 0.4514157176017761\n",
      "Epoch: 1, Training Step: 818, Loss: 0.3812944293022156\n",
      "Epoch: 1, Training Step: 819, Loss: 0.49974995851516724\n",
      "Epoch: 1, Training Step: 820, Loss: 0.4771895110607147\n"
     ]
    },
    {
     "name": "stderr",
     "output_type": "stream",
     "text": []
    },
    {
     "name": "stdout",
     "output_type": "stream",
     "text": [
      "Epoch: 1, Training Step: 821, Loss: 0.4654425382614136\n",
      "Epoch: 1, Training Step: 822, Loss: 0.393513947725296\n",
      "Epoch: 1, Training Step: 823, Loss: 0.4184691309928894\n",
      "Epoch: 1, Training Step: 824, Loss: 0.3569028973579407\n",
      "Epoch: 1, Training Step: 825, Loss: 0.36058667302131653\n"
     ]
    },
    {
     "name": "stderr",
     "output_type": "stream",
     "text": []
    },
    {
     "name": "stdout",
     "output_type": "stream",
     "text": [
      "Epoch: 1, Training Step: 826, Loss: 0.27388665080070496\n",
      "Epoch: 1, Training Step: 827, Loss: 0.2680000960826874\n",
      "Epoch: 1, Training Step: 828, Loss: 0.3136936128139496\n",
      "Epoch: 1, Training Step: 829, Loss: 0.4520820379257202\n",
      "Epoch: 1, Training Step: 830, Loss: 0.4820915460586548\n"
     ]
    },
    {
     "name": "stderr",
     "output_type": "stream",
     "text": []
    },
    {
     "name": "stdout",
     "output_type": "stream",
     "text": [
      "Epoch: 1, Training Step: 831, Loss: 0.4904549717903137\n",
      "Epoch: 1, Training Step: 832, Loss: 0.37004557251930237\n",
      "Epoch: 1, Training Step: 833, Loss: 0.40986719727516174\n",
      "Epoch: 1, Training Step: 834, Loss: 0.3231135308742523\n",
      "Epoch: 1, Training Step: 835, Loss: 0.2994861900806427\n"
     ]
    },
    {
     "name": "stderr",
     "output_type": "stream",
     "text": []
    },
    {
     "name": "stdout",
     "output_type": "stream",
     "text": [
      "Epoch: 1, Training Step: 836, Loss: 0.36463913321495056\n",
      "Epoch: 1, Training Step: 837, Loss: 0.40164902806282043\n",
      "Epoch: 1, Training Step: 838, Loss: 0.37643614411354065\n",
      "Epoch: 1, Training Step: 839, Loss: 0.4142089784145355\n",
      "Epoch: 1, Training Step: 840, Loss: 0.4344504177570343\n"
     ]
    },
    {
     "name": "stderr",
     "output_type": "stream",
     "text": []
    },
    {
     "name": "stdout",
     "output_type": "stream",
     "text": [
      "Epoch: 1, Training Step: 841, Loss: 0.5040197372436523\n",
      "Epoch: 1, Training Step: 842, Loss: 0.45272549986839294\n",
      "Epoch: 1, Training Step: 843, Loss: 0.5066513419151306\n",
      "Epoch: 1, Training Step: 844, Loss: 0.47395411133766174\n",
      "Epoch: 1, Training Step: 845, Loss: 0.5473195910453796\n"
     ]
    },
    {
     "name": "stderr",
     "output_type": "stream",
     "text": []
    },
    {
     "name": "stdout",
     "output_type": "stream",
     "text": [
      "Epoch: 1, Training Step: 846, Loss: 0.5027022361755371\n",
      "Epoch: 1, Training Step: 847, Loss: 0.537958025932312\n",
      "Epoch: 1, Training Step: 848, Loss: 0.41448652744293213\n",
      "Epoch: 1, Training Step: 849, Loss: 0.43943241238594055\n",
      "Epoch: 1, Training Step: 850, Loss: 0.3108585476875305\n",
      "Checkpoint saved at epoch 1, training step 850.\n",
      "TripletEvaluator: Evaluating the model on the gooaq dataset in epoch 1 after 850 steps:\n"
     ]
    },
    {
     "name": "stderr",
     "output_type": "stream",
     "text": [
      "\n",
      "\u001b[A\n",
      "\u001b[A\n",
      "\u001b[A\n",
      "\u001b[A\n",
      "\u001b[A\n",
      "100%|██████████| 50/50 [00:00<00:00, 86.86it/s]\n",
      "\n",
      "\u001b[A\n",
      "\u001b[A\n",
      "\u001b[A\n",
      "\u001b[A\n",
      "\u001b[A\n",
      "100%|██████████| 50/50 [00:00<00:00, 79.63it/s]\n",
      "\n",
      "\u001b[A\n",
      "\u001b[A\n",
      "\u001b[A\n",
      "\u001b[A\n",
      "\u001b[A\n",
      "100%|██████████| 50/50 [00:00<00:00, 80.18it/s]\n"
     ]
    },
    {
     "name": "stdout",
     "output_type": "stream",
     "text": [
      "Accuracy Cosine Distance:   \t81.05\n",
      "Accuracy Dot Product:       \t20.23\n",
      "Accuracy Manhattan Distance:\t81.05\n",
      "Accuracy Euclidean Distance:\t80.77\n",
      "\n",
      "Epoch: 1, Training Step: 851, Loss: 0.3900597393512726\n",
      "Epoch: 1, Training Step: 852, Loss: 0.3719145655632019\n",
      "Epoch: 1, Training Step: 853, Loss: 0.39072704315185547\n",
      "Epoch: 1, Training Step: 854, Loss: 0.3816198408603668\n"
     ]
    },
    {
     "name": "stderr",
     "output_type": "stream",
     "text": []
    },
    {
     "name": "stdout",
     "output_type": "stream",
     "text": [
      "Epoch: 1, Training Step: 855, Loss: 0.3331008851528168\n",
      "Epoch: 1, Training Step: 856, Loss: 0.43804731965065\n",
      "Epoch: 1, Training Step: 857, Loss: 0.43858733773231506\n",
      "Epoch: 1, Training Step: 858, Loss: 0.3356509804725647\n",
      "Epoch: 1, Training Step: 859, Loss: 0.38034793734550476\n"
     ]
    },
    {
     "name": "stderr",
     "output_type": "stream",
     "text": []
    },
    {
     "name": "stdout",
     "output_type": "stream",
     "text": [
      "Epoch: 1, Training Step: 860, Loss: 0.4527949392795563\n",
      "Epoch: 1, Training Step: 861, Loss: 0.38598376512527466\n",
      "Epoch: 1, Training Step: 862, Loss: 0.386679470539093\n",
      "Epoch: 1, Training Step: 863, Loss: 0.37014275789260864\n",
      "Epoch: 1, Training Step: 864, Loss: 0.43246886134147644\n"
     ]
    },
    {
     "name": "stderr",
     "output_type": "stream",
     "text": []
    },
    {
     "name": "stdout",
     "output_type": "stream",
     "text": [
      "Epoch: 1, Training Step: 865, Loss: 0.4096643924713135\n",
      "Epoch: 1, Training Step: 866, Loss: 0.466838538646698\n",
      "Epoch: 1, Training Step: 867, Loss: 0.3760802149772644\n",
      "Epoch: 1, Training Step: 868, Loss: 0.44505202770233154\n",
      "Epoch: 1, Training Step: 869, Loss: 0.44806107878685\n"
     ]
    },
    {
     "name": "stderr",
     "output_type": "stream",
     "text": []
    },
    {
     "name": "stdout",
     "output_type": "stream",
     "text": [
      "Epoch: 1, Training Step: 870, Loss: 0.44191405177116394\n",
      "Epoch: 1, Training Step: 871, Loss: 0.6105420589447021\n",
      "Epoch: 1, Training Step: 872, Loss: 0.6090347170829773\n",
      "Epoch: 1, Training Step: 873, Loss: 0.5956392288208008\n",
      "Epoch: 1, Training Step: 874, Loss: 0.5423523783683777\n"
     ]
    },
    {
     "name": "stderr",
     "output_type": "stream",
     "text": [
      "\n"
     ]
    },
    {
     "name": "stdout",
     "output_type": "stream",
     "text": [
      "Epoch: 1, Training Step: 875, Loss: 0.6145870685577393\n",
      "Epoch: 1, Training Step: 876, Loss: 0.47145798802375793\n",
      "Epoch: 1, Training Step: 877, Loss: 0.5230133533477783\n",
      "Epoch: 1, Training Step: 878, Loss: 0.4795715808868408\n",
      "Epoch: 1, Training Step: 879, Loss: 0.4103866219520569\n",
      "Epoch: 1, Training Step: 880, Loss: 0.39444249868392944\n"
     ]
    },
    {
     "name": "stderr",
     "output_type": "stream",
     "text": [
      "Iteration: 884it [01:23, 10.55it/s]                         \u001b[A\n"
     ]
    },
    {
     "name": "stdout",
     "output_type": "stream",
     "text": [
      "Epoch: 1, Training Step: 881, Loss: 0.39178624749183655\n",
      "Epoch: 1, Training Step: 882, Loss: 0.4316304922103882\n",
      "Epoch: 1, Training Step: 883, Loss: 0.37977150082588196\n",
      "TripletEvaluator: Evaluating the model on the gooaq dataset in epoch 1 after 884 steps:\n"
     ]
    },
    {
     "name": "stderr",
     "output_type": "stream",
     "text": [
      "100%|██████████| 50/50 [00:00<00:00, 78.88it/s]\n",
      "100%|██████████| 50/50 [00:00<00:00, 82.31it/s]\n",
      "100%|██████████| 50/50 [00:00<00:00, 84.68it/s]\n",
      "Epoch:  67%|██████▋   | 2/3 [02:57<01:28, 88.17s/it]"
     ]
    },
    {
     "name": "stdout",
     "output_type": "stream",
     "text": [
      "Accuracy Cosine Distance:   \t81.09\n",
      "Accuracy Dot Product:       \t20.13\n",
      "Accuracy Manhattan Distance:\t81.11\n",
      "Accuracy Euclidean Distance:\t80.83\n",
      "\n"
     ]
    },
    {
     "name": "stderr",
     "output_type": "stream",
     "text": []
    },
    {
     "name": "stdout",
     "output_type": "stream",
     "text": [
      "Epoch: 2, Training Step: 0, Loss: 0.4059211313724518\n",
      "Checkpoint saved at epoch 2, training step 0.\n",
      "Epoch: 2, Training Step: 1, Loss: 0.41173550486564636\n",
      "Epoch: 2, Training Step: 2, Loss: 0.3318444788455963\n"
     ]
    },
    {
     "name": "stderr",
     "output_type": "stream",
     "text": [
      "\n"
     ]
    },
    {
     "name": "stdout",
     "output_type": "stream",
     "text": [
      "Epoch: 2, Training Step: 3, Loss: 0.3431062698364258\n",
      "Epoch: 2, Training Step: 4, Loss: 0.29786238074302673\n"
     ]
    },
    {
     "name": "stderr",
     "output_type": "stream",
     "text": [
      "Iteration:   1%|          | 5/882 [00:00<00:44, 19.69it/s]\u001b[A"
     ]
    },
    {
     "name": "stdout",
     "output_type": "stream",
     "text": [
      "Epoch: 2, Training Step: 5, Loss: 0.38956618309020996\n",
      "Epoch: 2, Training Step: 6, Loss: 0.3536650538444519\n",
      "Epoch: 2, Training Step: 7, Loss: 0.24520093202590942\n"
     ]
    },
    {
     "name": "stderr",
     "output_type": "stream",
     "text": []
    },
    {
     "name": "stdout",
     "output_type": "stream",
     "text": [
      "Epoch: 2, Training Step: 8, Loss: 0.2595234513282776\n",
      "Epoch: 2, Training Step: 9, Loss: 0.25274598598480225\n",
      "Epoch: 2, Training Step: 10, Loss: 0.3451170325279236\n"
     ]
    },
    {
     "name": "stderr",
     "output_type": "stream",
     "text": []
    },
    {
     "name": "stdout",
     "output_type": "stream",
     "text": [
      "Epoch: 2, Training Step: 11, Loss: 0.33816996216773987\n",
      "Epoch: 2, Training Step: 12, Loss: 0.29629066586494446\n"
     ]
    },
    {
     "name": "stderr",
     "output_type": "stream",
     "text": [
      "\n"
     ]
    },
    {
     "name": "stdout",
     "output_type": "stream",
     "text": [
      "Epoch: 2, Training Step: 13, Loss: 0.25922736525535583\n",
      "Epoch: 2, Training Step: 14, Loss: 0.28676894307136536\n",
      "Epoch: 2, Training Step: 15, Loss: 0.4282345175743103\n"
     ]
    },
    {
     "name": "stderr",
     "output_type": "stream",
     "text": [
      "Iteration:   2%|▏         | 16/882 [00:00<00:39, 22.01it/s]\u001b[A"
     ]
    },
    {
     "name": "stdout",
     "output_type": "stream",
     "text": [
      "Epoch: 2, Training Step: 16, Loss: 0.39196836948394775\n",
      "Epoch: 2, Training Step: 17, Loss: 0.32285088300704956\n"
     ]
    },
    {
     "name": "stderr",
     "output_type": "stream",
     "text": []
    },
    {
     "name": "stdout",
     "output_type": "stream",
     "text": [
      "Epoch: 2, Training Step: 18, Loss: 0.37061432003974915\n",
      "Epoch: 2, Training Step: 19, Loss: 0.32186707854270935\n",
      "Epoch: 2, Training Step: 20, Loss: 0.4161052405834198\n"
     ]
    },
    {
     "name": "stderr",
     "output_type": "stream",
     "text": []
    },
    {
     "name": "stdout",
     "output_type": "stream",
     "text": [
      "Epoch: 2, Training Step: 21, Loss: 0.43819886445999146\n",
      "Epoch: 2, Training Step: 22, Loss: 0.3053891062736511\n"
     ]
    },
    {
     "name": "stderr",
     "output_type": "stream",
     "text": []
    },
    {
     "name": "stdout",
     "output_type": "stream",
     "text": [
      "Epoch: 2, Training Step: 23, Loss: 0.3812450170516968\n",
      "Epoch: 2, Training Step: 24, Loss: 0.41930538415908813\n",
      "Epoch: 2, Training Step: 25, Loss: 0.416146457195282\n"
     ]
    },
    {
     "name": "stderr",
     "output_type": "stream",
     "text": []
    },
    {
     "name": "stdout",
     "output_type": "stream",
     "text": [
      "Epoch: 2, Training Step: 26, Loss: 0.35883861780166626\n",
      "Epoch: 2, Training Step: 27, Loss: 0.35259944200515747\n",
      "Epoch: 2, Training Step: 28, Loss: 0.2995337247848511\n"
     ]
    },
    {
     "name": "stderr",
     "output_type": "stream",
     "text": []
    },
    {
     "name": "stdout",
     "output_type": "stream",
     "text": [
      "Epoch: 2, Training Step: 29, Loss: 0.27257582545280457\n",
      "Epoch: 2, Training Step: 30, Loss: 0.4737723469734192\n"
     ]
    },
    {
     "name": "stderr",
     "output_type": "stream",
     "text": [
      "\n"
     ]
    },
    {
     "name": "stdout",
     "output_type": "stream",
     "text": [
      "Epoch: 2, Training Step: 31, Loss: 0.459976464509964\n",
      "Epoch: 2, Training Step: 32, Loss: 0.3890432119369507\n",
      "Epoch: 2, Training Step: 33, Loss: 0.38387569785118103\n"
     ]
    },
    {
     "name": "stderr",
     "output_type": "stream",
     "text": [
      "Iteration:   4%|▍         | 34/882 [00:01<00:37, 22.79it/s]\u001b[A"
     ]
    },
    {
     "name": "stdout",
     "output_type": "stream",
     "text": [
      "Epoch: 2, Training Step: 34, Loss: 0.3646063208580017\n",
      "Epoch: 2, Training Step: 35, Loss: 0.3565811216831207\n"
     ]
    },
    {
     "name": "stderr",
     "output_type": "stream",
     "text": [
      "\n"
     ]
    },
    {
     "name": "stdout",
     "output_type": "stream",
     "text": [
      "Epoch: 2, Training Step: 36, Loss: 0.28041353821754456\n",
      "Epoch: 2, Training Step: 37, Loss: 0.2813749611377716\n",
      "Epoch: 2, Training Step: 38, Loss: 0.2858487665653229\n",
      "Epoch: 2, Training Step: 39, Loss: 0.35829296708106995\n"
     ]
    },
    {
     "name": "stderr",
     "output_type": "stream",
     "text": [
      "Iteration:   5%|▍         | 40/882 [00:01<00:36, 23.15it/s]\u001b[A"
     ]
    },
    {
     "name": "stdout",
     "output_type": "stream",
     "text": [
      "Epoch: 2, Training Step: 40, Loss: 0.46686816215515137\n"
     ]
    },
    {
     "name": "stderr",
     "output_type": "stream",
     "text": [
      "\n"
     ]
    },
    {
     "name": "stdout",
     "output_type": "stream",
     "text": [
      "Epoch: 2, Training Step: 41, Loss: 0.38997408747673035\n",
      "Epoch: 2, Training Step: 42, Loss: 0.40529608726501465\n",
      "Epoch: 2, Training Step: 43, Loss: 0.3931867182254791\n",
      "Epoch: 2, Training Step: 44, Loss: 0.35671374201774597\n",
      "Epoch: 2, Training Step: 45, Loss: 0.4518660008907318\n"
     ]
    },
    {
     "name": "stderr",
     "output_type": "stream",
     "text": [
      "Iteration:   5%|▌         | 46/882 [00:01<00:35, 23.29it/s]\u001b[A"
     ]
    },
    {
     "name": "stdout",
     "output_type": "stream",
     "text": [
      "Epoch: 2, Training Step: 46, Loss: 0.35568100214004517\n"
     ]
    },
    {
     "name": "stderr",
     "output_type": "stream",
     "text": []
    },
    {
     "name": "stdout",
     "output_type": "stream",
     "text": [
      "Epoch: 2, Training Step: 47, Loss: 0.31524544954299927\n",
      "Epoch: 2, Training Step: 48, Loss: 0.23699605464935303\n",
      "Epoch: 2, Training Step: 49, Loss: 0.4572213888168335\n",
      "Epoch: 2, Training Step: 50, Loss: 0.47783008217811584\n",
      "Checkpoint saved at epoch 2, training step 50.\n",
      "TripletEvaluator: Evaluating the model on the gooaq dataset in epoch 2 after 50 steps:\n"
     ]
    },
    {
     "name": "stderr",
     "output_type": "stream",
     "text": [
      "\n",
      "\u001b[A\n",
      "\u001b[A\n",
      "\u001b[A\n",
      "\u001b[A\n",
      "\u001b[A\n",
      "100%|██████████| 50/50 [00:00<00:00, 84.38it/s]\n",
      "\n",
      "\u001b[A\n",
      "\u001b[A\n",
      "\u001b[A\n",
      "\u001b[A\n",
      "\u001b[A\n",
      "100%|██████████| 50/50 [00:00<00:00, 85.49it/s]\n",
      "\n",
      "\u001b[A\n",
      "\u001b[A\n",
      "\u001b[A\n",
      "\u001b[A\n",
      "\u001b[A\n",
      "100%|██████████| 50/50 [00:00<00:00, 81.58it/s]\n",
      "\n"
     ]
    },
    {
     "name": "stdout",
     "output_type": "stream",
     "text": [
      "Accuracy Cosine Distance:   \t81.17\n",
      "Accuracy Dot Product:       \t20.02\n",
      "Accuracy Manhattan Distance:\t81.03\n",
      "Accuracy Euclidean Distance:\t80.93\n",
      "\n",
      "Checkpoint saved at epoch 2, training step 50.\n",
      "Epoch: 2, Training Step: 51, Loss: 0.4556046426296234\n",
      "Epoch: 2, Training Step: 52, Loss: 0.5143687725067139\n",
      "Epoch: 2, Training Step: 53, Loss: 0.48610466718673706\n",
      "Epoch: 2, Training Step: 54, Loss: 0.347093403339386\n"
     ]
    },
    {
     "name": "stderr",
     "output_type": "stream",
     "text": [
      "Iteration:   6%|▌         | 55/882 [00:04<01:29,  9.23it/s]\u001b[A\n"
     ]
    },
    {
     "name": "stdout",
     "output_type": "stream",
     "text": [
      "Epoch: 2, Training Step: 55, Loss: 0.5411697626113892\n",
      "Epoch: 2, Training Step: 56, Loss: 0.5172473788261414\n",
      "Epoch: 2, Training Step: 57, Loss: 0.42402413487434387\n",
      "Epoch: 2, Training Step: 58, Loss: 0.4441377520561218\n",
      "Epoch: 2, Training Step: 59, Loss: 0.47934991121292114\n",
      "Epoch: 2, Training Step: 60, Loss: 0.4700912833213806\n"
     ]
    },
    {
     "name": "stderr",
     "output_type": "stream",
     "text": [
      "Iteration:   7%|▋         | 61/882 [00:05<01:20, 10.15it/s]\u001b[A"
     ]
    },
    {
     "name": "stdout",
     "output_type": "stream",
     "text": [
      "Epoch: 2, Training Step: 61, Loss: 0.4367922842502594\n",
      "Epoch: 2, Training Step: 62, Loss: 0.4509130120277405\n",
      "Epoch: 2, Training Step: 63, Loss: 0.5022179484367371\n",
      "Epoch: 2, Training Step: 64, Loss: 0.3329907953739166\n",
      "Epoch: 2, Training Step: 65, Loss: 0.3387089967727661\n"
     ]
    },
    {
     "name": "stderr",
     "output_type": "stream",
     "text": []
    },
    {
     "name": "stdout",
     "output_type": "stream",
     "text": [
      "Epoch: 2, Training Step: 66, Loss: 0.33253055810928345\n",
      "Epoch: 2, Training Step: 67, Loss: 0.3215101361274719\n",
      "Epoch: 2, Training Step: 68, Loss: 0.4093022048473358\n",
      "Epoch: 2, Training Step: 69, Loss: 0.3229794204235077\n",
      "Epoch: 2, Training Step: 70, Loss: 0.48287704586982727\n"
     ]
    },
    {
     "name": "stderr",
     "output_type": "stream",
     "text": []
    },
    {
     "name": "stdout",
     "output_type": "stream",
     "text": [
      "Epoch: 2, Training Step: 71, Loss: 0.4262954294681549\n",
      "Epoch: 2, Training Step: 72, Loss: 0.40296733379364014\n",
      "Epoch: 2, Training Step: 73, Loss: 0.3879980742931366\n",
      "Epoch: 2, Training Step: 74, Loss: 0.41408485174179077\n",
      "Epoch: 2, Training Step: 75, Loss: 0.3979929983615875\n",
      "Epoch: 2, Training Step: 76, Loss: 0.4077969789505005\n"
     ]
    },
    {
     "name": "stderr",
     "output_type": "stream",
     "text": []
    },
    {
     "name": "stdout",
     "output_type": "stream",
     "text": [
      "Epoch: 2, Training Step: 77, Loss: 0.39566001296043396\n",
      "Epoch: 2, Training Step: 78, Loss: 0.4186791181564331\n",
      "Epoch: 2, Training Step: 79, Loss: 0.3190704882144928\n",
      "Epoch: 2, Training Step: 80, Loss: 0.3463330864906311\n",
      "Epoch: 2, Training Step: 81, Loss: 0.34369322657585144\n"
     ]
    },
    {
     "name": "stderr",
     "output_type": "stream",
     "text": []
    },
    {
     "name": "stdout",
     "output_type": "stream",
     "text": [
      "Epoch: 2, Training Step: 82, Loss: 0.3557945191860199\n",
      "Epoch: 2, Training Step: 83, Loss: 0.40399807691574097\n",
      "Epoch: 2, Training Step: 84, Loss: 0.3437356650829315\n",
      "Epoch: 2, Training Step: 85, Loss: 0.346574604511261\n",
      "Epoch: 2, Training Step: 86, Loss: 0.33081841468811035\n"
     ]
    },
    {
     "name": "stderr",
     "output_type": "stream",
     "text": []
    },
    {
     "name": "stdout",
     "output_type": "stream",
     "text": [
      "Epoch: 2, Training Step: 87, Loss: 0.3646526634693146\n",
      "Epoch: 2, Training Step: 88, Loss: 0.3497912585735321\n",
      "Epoch: 2, Training Step: 89, Loss: 0.32441115379333496\n",
      "Epoch: 2, Training Step: 90, Loss: 0.49410685896873474\n",
      "Epoch: 2, Training Step: 91, Loss: 0.45254480838775635\n"
     ]
    },
    {
     "name": "stderr",
     "output_type": "stream",
     "text": []
    },
    {
     "name": "stdout",
     "output_type": "stream",
     "text": [
      "Epoch: 2, Training Step: 92, Loss: 0.37547123432159424\n",
      "Epoch: 2, Training Step: 93, Loss: 0.3546675741672516\n",
      "Epoch: 2, Training Step: 94, Loss: 0.344401478767395\n",
      "Epoch: 2, Training Step: 95, Loss: 0.3295029401779175\n",
      "Epoch: 2, Training Step: 96, Loss: 0.3696329593658447\n",
      "Epoch: 2, Training Step: 97, Loss: 0.4028806984424591\n"
     ]
    },
    {
     "name": "stderr",
     "output_type": "stream",
     "text": []
    },
    {
     "name": "stdout",
     "output_type": "stream",
     "text": [
      "Epoch: 2, Training Step: 98, Loss: 0.4205280542373657\n",
      "Epoch: 2, Training Step: 99, Loss: 0.3458142876625061\n",
      "Epoch: 2, Training Step: 100, Loss: 0.31699877977371216\n",
      "Checkpoint saved at epoch 2, training step 100.\n",
      "TripletEvaluator: Evaluating the model on the gooaq dataset in epoch 2 after 100 steps:\n"
     ]
    },
    {
     "name": "stderr",
     "output_type": "stream",
     "text": [
      "\n",
      "\u001b[A\n",
      "\u001b[A\n",
      "\u001b[A\n",
      "\u001b[A\n",
      "\u001b[A\n",
      "100%|██████████| 50/50 [00:00<00:00, 83.71it/s]\n",
      "\n",
      "\u001b[A\n",
      "\u001b[A\n",
      "\u001b[A\n",
      "\u001b[A\n",
      "\u001b[A\n",
      "100%|██████████| 50/50 [00:00<00:00, 88.84it/s]\n",
      "\n",
      "\u001b[A\n",
      "\u001b[A\n",
      "\u001b[A\n",
      "\u001b[A\n",
      "\u001b[A\n",
      "100%|██████████| 50/50 [00:00<00:00, 82.98it/s]\n"
     ]
    },
    {
     "name": "stdout",
     "output_type": "stream",
     "text": [
      "Accuracy Cosine Distance:   \t81.17\n",
      "Accuracy Dot Product:       \t20.09\n",
      "Accuracy Manhattan Distance:\t81.03\n",
      "Accuracy Euclidean Distance:\t81.01\n",
      "\n",
      "Epoch: 2, Training Step: 101, Loss: 0.4513925611972809\n",
      "Epoch: 2, Training Step: 102, Loss: 0.3976116180419922\n",
      "Epoch: 2, Training Step: 103, Loss: 0.4242679476737976\n",
      "Epoch: 2, Training Step: 104, Loss: 0.4203825294971466\n"
     ]
    },
    {
     "name": "stderr",
     "output_type": "stream",
     "text": []
    },
    {
     "name": "stdout",
     "output_type": "stream",
     "text": [
      "Epoch: 2, Training Step: 105, Loss: 0.4134071469306946\n",
      "Epoch: 2, Training Step: 106, Loss: 0.43486836552619934\n",
      "Epoch: 2, Training Step: 107, Loss: 0.3862397372722626\n",
      "Epoch: 2, Training Step: 108, Loss: 0.3436439037322998\n",
      "Epoch: 2, Training Step: 109, Loss: 0.36030569672584534\n",
      "Epoch: 2, Training Step: 110, Loss: 0.43091723322868347\n"
     ]
    },
    {
     "name": "stderr",
     "output_type": "stream",
     "text": []
    },
    {
     "name": "stdout",
     "output_type": "stream",
     "text": [
      "Epoch: 2, Training Step: 111, Loss: 0.3981199562549591\n",
      "Epoch: 2, Training Step: 112, Loss: 0.40429365634918213\n",
      "Epoch: 2, Training Step: 113, Loss: 0.4700005054473877\n",
      "Epoch: 2, Training Step: 114, Loss: 0.38904500007629395\n",
      "Epoch: 2, Training Step: 115, Loss: 0.4362158179283142\n"
     ]
    },
    {
     "name": "stderr",
     "output_type": "stream",
     "text": []
    },
    {
     "name": "stdout",
     "output_type": "stream",
     "text": [
      "Epoch: 2, Training Step: 116, Loss: 0.4508334696292877\n",
      "Epoch: 2, Training Step: 117, Loss: 0.355752170085907\n",
      "Epoch: 2, Training Step: 118, Loss: 0.3259694278240204\n",
      "Epoch: 2, Training Step: 119, Loss: 0.39097896218299866\n",
      "Epoch: 2, Training Step: 120, Loss: 0.4072761535644531\n",
      "Epoch: 2, Training Step: 121, Loss: 0.47901058197021484\n"
     ]
    },
    {
     "name": "stderr",
     "output_type": "stream",
     "text": []
    },
    {
     "name": "stdout",
     "output_type": "stream",
     "text": [
      "Epoch: 2, Training Step: 122, Loss: 0.45115524530410767\n",
      "Epoch: 2, Training Step: 123, Loss: 0.39693745970726013\n",
      "Epoch: 2, Training Step: 124, Loss: 0.29201382398605347\n",
      "Epoch: 2, Training Step: 125, Loss: 0.358811616897583\n",
      "Epoch: 2, Training Step: 126, Loss: 0.31765690445899963\n",
      "Epoch: 2, Training Step: 127, Loss: 0.37103384733200073\n"
     ]
    },
    {
     "name": "stderr",
     "output_type": "stream",
     "text": []
    },
    {
     "name": "stdout",
     "output_type": "stream",
     "text": [
      "Epoch: 2, Training Step: 128, Loss: 0.39328715205192566\n",
      "Epoch: 2, Training Step: 129, Loss: 0.3866308331489563\n",
      "Epoch: 2, Training Step: 130, Loss: 0.3550393283367157\n",
      "Epoch: 2, Training Step: 131, Loss: 0.32044923305511475\n",
      "Epoch: 2, Training Step: 132, Loss: 0.22426804900169373\n",
      "Epoch: 2, Training Step: 133, Loss: 0.3234620690345764\n"
     ]
    },
    {
     "name": "stderr",
     "output_type": "stream",
     "text": []
    },
    {
     "name": "stdout",
     "output_type": "stream",
     "text": [
      "Epoch: 2, Training Step: 134, Loss: 0.3308967649936676\n",
      "Epoch: 2, Training Step: 135, Loss: 0.3831562101840973\n",
      "Epoch: 2, Training Step: 136, Loss: 0.368886798620224\n",
      "Epoch: 2, Training Step: 137, Loss: 0.34532660245895386\n",
      "Epoch: 2, Training Step: 138, Loss: 0.3433372974395752\n"
     ]
    },
    {
     "name": "stderr",
     "output_type": "stream",
     "text": [
      "\n"
     ]
    },
    {
     "name": "stdout",
     "output_type": "stream",
     "text": [
      "Epoch: 2, Training Step: 139, Loss: 0.2867177128791809\n",
      "Epoch: 2, Training Step: 140, Loss: 0.34063825011253357\n",
      "Epoch: 2, Training Step: 141, Loss: 0.36676478385925293\n",
      "Epoch: 2, Training Step: 142, Loss: 0.35857269167900085\n",
      "Epoch: 2, Training Step: 143, Loss: 0.4417414963245392\n",
      "Epoch: 2, Training Step: 144, Loss: 0.4177032709121704\n"
     ]
    },
    {
     "name": "stderr",
     "output_type": "stream",
     "text": [
      "Iteration:  16%|█▋        | 145/882 [00:11<00:53, 13.85it/s]\u001b[A"
     ]
    },
    {
     "name": "stdout",
     "output_type": "stream",
     "text": [
      "Epoch: 2, Training Step: 145, Loss: 0.406208336353302\n",
      "Epoch: 2, Training Step: 146, Loss: 0.431064248085022\n",
      "Epoch: 2, Training Step: 147, Loss: 0.335854709148407\n",
      "Epoch: 2, Training Step: 148, Loss: 0.30483606457710266\n",
      "Epoch: 2, Training Step: 149, Loss: 0.41524723172187805\n",
      "Epoch: 2, Training Step: 150, Loss: 0.30192360281944275\n",
      "Checkpoint saved at epoch 2, training step 150.\n",
      "TripletEvaluator: Evaluating the model on the gooaq dataset in epoch 2 after 150 steps:\n"
     ]
    },
    {
     "name": "stderr",
     "output_type": "stream",
     "text": [
      "\n",
      "\u001b[A\n",
      "\u001b[A\n",
      "\u001b[A\n",
      "\u001b[A\n",
      "\u001b[A\n",
      "100%|██████████| 50/50 [00:00<00:00, 77.64it/s]\n",
      "\n",
      "\u001b[A\n",
      "\u001b[A\n",
      "\u001b[A\n",
      "\u001b[A\n",
      "\u001b[A\n",
      "100%|██████████| 50/50 [00:00<00:00, 80.86it/s]\n",
      "\n",
      "\u001b[A\n",
      "\u001b[A\n",
      "\u001b[A\n",
      "\u001b[A\n",
      "\u001b[A\n",
      "\u001b[A\n",
      "100%|██████████| 50/50 [00:00<00:00, 78.54it/s]\n"
     ]
    },
    {
     "name": "stdout",
     "output_type": "stream",
     "text": [
      "Accuracy Cosine Distance:   \t81.23\n",
      "Accuracy Dot Product:       \t19.94\n",
      "Accuracy Manhattan Distance:\t80.97\n",
      "Accuracy Euclidean Distance:\t81.09\n",
      "\n",
      "Checkpoint saved at epoch 2, training step 150.\n",
      "Epoch: 2, Training Step: 151, Loss: 0.41471144556999207\n",
      "Epoch: 2, Training Step: 152, Loss: 0.38866597414016724\n",
      "Epoch: 2, Training Step: 153, Loss: 0.3662106990814209\n"
     ]
    },
    {
     "name": "stderr",
     "output_type": "stream",
     "text": []
    },
    {
     "name": "stdout",
     "output_type": "stream",
     "text": [
      "Epoch: 2, Training Step: 154, Loss: 0.364584356546402\n",
      "Epoch: 2, Training Step: 155, Loss: 0.43214741349220276\n",
      "Epoch: 2, Training Step: 156, Loss: 0.33807602524757385\n",
      "Epoch: 2, Training Step: 157, Loss: 0.32457587122917175\n",
      "Epoch: 2, Training Step: 158, Loss: 0.28821855783462524\n"
     ]
    },
    {
     "name": "stderr",
     "output_type": "stream",
     "text": []
    },
    {
     "name": "stdout",
     "output_type": "stream",
     "text": [
      "Epoch: 2, Training Step: 159, Loss: 0.27882474660873413\n",
      "Epoch: 2, Training Step: 160, Loss: 0.4257407784461975\n",
      "Epoch: 2, Training Step: 161, Loss: 0.3783499598503113\n",
      "Epoch: 2, Training Step: 162, Loss: 0.4956094026565552\n",
      "Epoch: 2, Training Step: 163, Loss: 0.39032232761383057\n"
     ]
    },
    {
     "name": "stderr",
     "output_type": "stream",
     "text": []
    },
    {
     "name": "stdout",
     "output_type": "stream",
     "text": [
      "Epoch: 2, Training Step: 164, Loss: 0.3943983018398285\n",
      "Epoch: 2, Training Step: 165, Loss: 0.4336351752281189\n",
      "Epoch: 2, Training Step: 166, Loss: 0.3851480484008789\n",
      "Epoch: 2, Training Step: 167, Loss: 0.4119456112384796\n",
      "Epoch: 2, Training Step: 168, Loss: 0.36764606833457947\n"
     ]
    },
    {
     "name": "stderr",
     "output_type": "stream",
     "text": [
      "\n"
     ]
    },
    {
     "name": "stdout",
     "output_type": "stream",
     "text": [
      "Epoch: 2, Training Step: 169, Loss: 0.405742883682251\n",
      "Epoch: 2, Training Step: 170, Loss: 0.33079594373703003\n",
      "Epoch: 2, Training Step: 171, Loss: 0.4054603576660156\n",
      "Epoch: 2, Training Step: 172, Loss: 0.31218457221984863\n",
      "Epoch: 2, Training Step: 173, Loss: 0.424743115901947\n",
      "Epoch: 2, Training Step: 174, Loss: 0.37102022767066956\n"
     ]
    },
    {
     "name": "stderr",
     "output_type": "stream",
     "text": [
      "Iteration:  20%|█▉        | 175/882 [00:15<01:04, 10.97it/s]\u001b[A"
     ]
    },
    {
     "name": "stdout",
     "output_type": "stream",
     "text": [
      "Epoch: 2, Training Step: 175, Loss: 0.37554851174354553\n",
      "Epoch: 2, Training Step: 176, Loss: 0.38370218873023987\n",
      "Epoch: 2, Training Step: 177, Loss: 0.36827075481414795\n",
      "Epoch: 2, Training Step: 178, Loss: 0.35655930638313293\n",
      "Epoch: 2, Training Step: 179, Loss: 0.3892246186733246\n"
     ]
    },
    {
     "name": "stderr",
     "output_type": "stream",
     "text": []
    },
    {
     "name": "stdout",
     "output_type": "stream",
     "text": [
      "Epoch: 2, Training Step: 180, Loss: 0.4525150656700134\n",
      "Epoch: 2, Training Step: 181, Loss: 0.4437676966190338\n",
      "Epoch: 2, Training Step: 182, Loss: 0.3659070134162903\n",
      "Epoch: 2, Training Step: 183, Loss: 0.3977358341217041\n",
      "Epoch: 2, Training Step: 184, Loss: 0.4023587703704834\n"
     ]
    },
    {
     "name": "stderr",
     "output_type": "stream",
     "text": [
      "\n"
     ]
    },
    {
     "name": "stdout",
     "output_type": "stream",
     "text": [
      "Epoch: 2, Training Step: 185, Loss: 0.46459946036338806\n",
      "Epoch: 2, Training Step: 186, Loss: 0.33385029435157776\n",
      "Epoch: 2, Training Step: 187, Loss: 0.36539849638938904\n",
      "Epoch: 2, Training Step: 188, Loss: 0.37092453241348267\n",
      "Epoch: 2, Training Step: 189, Loss: 0.3722549378871918\n"
     ]
    },
    {
     "name": "stderr",
     "output_type": "stream",
     "text": [
      "Iteration:  22%|██▏       | 190/882 [00:15<00:55, 12.49it/s]\u001b[A\n"
     ]
    },
    {
     "name": "stdout",
     "output_type": "stream",
     "text": [
      "Epoch: 2, Training Step: 190, Loss: 0.44152891635894775\n",
      "Epoch: 2, Training Step: 191, Loss: 0.406413733959198\n",
      "Epoch: 2, Training Step: 192, Loss: 0.3575829565525055\n",
      "Epoch: 2, Training Step: 193, Loss: 0.38609328866004944\n",
      "Epoch: 2, Training Step: 194, Loss: 0.3614502251148224\n",
      "Epoch: 2, Training Step: 195, Loss: 0.32790902256965637\n"
     ]
    },
    {
     "name": "stderr",
     "output_type": "stream",
     "text": [
      "Iteration:  22%|██▏       | 196/882 [00:15<00:52, 13.14it/s]\u001b[A"
     ]
    },
    {
     "name": "stdout",
     "output_type": "stream",
     "text": [
      "Epoch: 2, Training Step: 196, Loss: 0.3535103499889374\n",
      "Epoch: 2, Training Step: 197, Loss: 0.3328394591808319\n",
      "Epoch: 2, Training Step: 198, Loss: 0.26622745394706726\n",
      "Epoch: 2, Training Step: 199, Loss: 0.31533583998680115\n",
      "Epoch: 2, Training Step: 200, Loss: 0.4465740919113159\n",
      "Checkpoint saved at epoch 2, training step 200.\n",
      "TripletEvaluator: Evaluating the model on the gooaq dataset in epoch 2 after 200 steps:\n"
     ]
    },
    {
     "name": "stderr",
     "output_type": "stream",
     "text": [
      "\n",
      "\u001b[A\n",
      "\u001b[A\n",
      "\u001b[A\n",
      "\u001b[A\n",
      "\u001b[A\n",
      "100%|██████████| 50/50 [00:00<00:00, 89.20it/s]\n",
      "\n",
      "\u001b[A\n",
      "\u001b[A\n",
      "\u001b[A\n",
      "\u001b[A\n",
      "\u001b[A\n",
      "100%|██████████| 50/50 [00:00<00:00, 82.86it/s]\n",
      "\n",
      "\u001b[A\n",
      "\u001b[A\n",
      "\u001b[A\n",
      "\u001b[A\n",
      "\u001b[A\n",
      "100%|██████████| 50/50 [00:00<00:00, 83.47it/s]\n"
     ]
    },
    {
     "name": "stdout",
     "output_type": "stream",
     "text": [
      "Accuracy Cosine Distance:   \t81.23\n",
      "Accuracy Dot Product:       \t19.90\n",
      "Accuracy Manhattan Distance:\t81.07\n",
      "Accuracy Euclidean Distance:\t81.15\n",
      "\n",
      "Epoch: 2, Training Step: 201, Loss: 0.4177096486091614\n",
      "Epoch: 2, Training Step: 202, Loss: 0.39038002490997314\n",
      "Epoch: 2, Training Step: 203, Loss: 0.36279022693634033\n",
      "Epoch: 2, Training Step: 204, Loss: 0.3755219578742981\n"
     ]
    },
    {
     "name": "stderr",
     "output_type": "stream",
     "text": [
      "\n"
     ]
    },
    {
     "name": "stdout",
     "output_type": "stream",
     "text": [
      "Epoch: 2, Training Step: 205, Loss: 0.45973527431488037\n",
      "Epoch: 2, Training Step: 206, Loss: 0.40644872188568115\n",
      "Epoch: 2, Training Step: 207, Loss: 0.36430972814559937\n",
      "Epoch: 2, Training Step: 208, Loss: 0.30366432666778564\n",
      "Epoch: 2, Training Step: 209, Loss: 0.4177994132041931\n",
      "Epoch: 2, Training Step: 210, Loss: 0.4952639043331146\n"
     ]
    },
    {
     "name": "stderr",
     "output_type": "stream",
     "text": [
      "Iteration:  24%|██▍       | 211/882 [00:19<01:10,  9.46it/s]\u001b[A"
     ]
    },
    {
     "name": "stdout",
     "output_type": "stream",
     "text": [
      "Epoch: 2, Training Step: 211, Loss: 0.45366570353507996\n",
      "Epoch: 2, Training Step: 212, Loss: 0.37643715739250183\n",
      "Epoch: 2, Training Step: 213, Loss: 0.3539351224899292\n",
      "Epoch: 2, Training Step: 214, Loss: 0.3783781826496124\n",
      "Epoch: 2, Training Step: 215, Loss: 0.36984044313430786\n"
     ]
    },
    {
     "name": "stderr",
     "output_type": "stream",
     "text": []
    },
    {
     "name": "stdout",
     "output_type": "stream",
     "text": [
      "Epoch: 2, Training Step: 216, Loss: 0.30455687642097473\n",
      "Epoch: 2, Training Step: 217, Loss: 0.34718790650367737\n",
      "Epoch: 2, Training Step: 218, Loss: 0.30319488048553467\n",
      "Epoch: 2, Training Step: 219, Loss: 0.29153141379356384\n",
      "Epoch: 2, Training Step: 220, Loss: 0.27367734909057617\n"
     ]
    },
    {
     "name": "stderr",
     "output_type": "stream",
     "text": []
    },
    {
     "name": "stdout",
     "output_type": "stream",
     "text": [
      "Epoch: 2, Training Step: 221, Loss: 0.42460131645202637\n",
      "Epoch: 2, Training Step: 222, Loss: 0.3275640606880188\n",
      "Epoch: 2, Training Step: 223, Loss: 0.3767009377479553\n",
      "Epoch: 2, Training Step: 224, Loss: 0.3808966875076294\n",
      "Epoch: 2, Training Step: 225, Loss: 0.456712543964386\n"
     ]
    },
    {
     "name": "stderr",
     "output_type": "stream",
     "text": []
    },
    {
     "name": "stdout",
     "output_type": "stream",
     "text": [
      "Epoch: 2, Training Step: 226, Loss: 0.42029857635498047\n",
      "Epoch: 2, Training Step: 227, Loss: 0.43632811307907104\n",
      "Epoch: 2, Training Step: 228, Loss: 0.4524081349372864\n",
      "Epoch: 2, Training Step: 229, Loss: 0.44559571146965027\n",
      "Epoch: 2, Training Step: 230, Loss: 0.43406912684440613\n"
     ]
    },
    {
     "name": "stderr",
     "output_type": "stream",
     "text": []
    },
    {
     "name": "stdout",
     "output_type": "stream",
     "text": [
      "Epoch: 2, Training Step: 231, Loss: 0.47244101762771606\n",
      "Epoch: 2, Training Step: 232, Loss: 0.3918924033641815\n",
      "Epoch: 2, Training Step: 233, Loss: 0.33710864186286926\n",
      "Epoch: 2, Training Step: 234, Loss: 0.33783355355262756\n",
      "Epoch: 2, Training Step: 235, Loss: 0.42667537927627563\n"
     ]
    },
    {
     "name": "stderr",
     "output_type": "stream",
     "text": []
    },
    {
     "name": "stdout",
     "output_type": "stream",
     "text": [
      "Epoch: 2, Training Step: 236, Loss: 0.37581562995910645\n",
      "Epoch: 2, Training Step: 237, Loss: 0.3055025339126587\n",
      "Epoch: 2, Training Step: 238, Loss: 0.37363651394844055\n",
      "Epoch: 2, Training Step: 239, Loss: 0.43178921937942505\n",
      "Epoch: 2, Training Step: 240, Loss: 0.4030061960220337\n"
     ]
    },
    {
     "name": "stderr",
     "output_type": "stream",
     "text": []
    },
    {
     "name": "stdout",
     "output_type": "stream",
     "text": [
      "Epoch: 2, Training Step: 241, Loss: 0.4167828857898712\n",
      "Epoch: 2, Training Step: 242, Loss: 0.48841995000839233\n",
      "Epoch: 2, Training Step: 243, Loss: 0.4522590637207031\n",
      "Epoch: 2, Training Step: 244, Loss: 0.38004109263420105\n",
      "Epoch: 2, Training Step: 245, Loss: 0.34439364075660706\n"
     ]
    },
    {
     "name": "stderr",
     "output_type": "stream",
     "text": []
    },
    {
     "name": "stdout",
     "output_type": "stream",
     "text": [
      "Epoch: 2, Training Step: 246, Loss: 0.2584545612335205\n",
      "Epoch: 2, Training Step: 247, Loss: 0.2613232433795929\n",
      "Epoch: 2, Training Step: 248, Loss: 0.3793751895427704\n",
      "Epoch: 2, Training Step: 249, Loss: 0.36639198660850525\n",
      "Epoch: 2, Training Step: 250, Loss: 0.4147230088710785\n",
      "Checkpoint saved at epoch 2, training step 250.\n",
      "TripletEvaluator: Evaluating the model on the gooaq dataset in epoch 2 after 250 steps:\n"
     ]
    },
    {
     "name": "stderr",
     "output_type": "stream",
     "text": [
      "\n",
      "\u001b[A\n",
      "\u001b[A\n",
      "\u001b[A\n",
      "\u001b[A\n",
      "\u001b[A\n",
      "100%|██████████| 50/50 [00:00<00:00, 85.94it/s]\n",
      "\n",
      "\u001b[A\n",
      "\u001b[A\n",
      "\u001b[A\n",
      "\u001b[A\n",
      "\u001b[A\n",
      "100%|██████████| 50/50 [00:00<00:00, 83.91it/s]\n",
      "\n",
      "\u001b[A\n",
      "\u001b[A\n",
      "\u001b[A\n",
      "\u001b[A\n",
      "\u001b[A\n",
      "100%|██████████| 50/50 [00:00<00:00, 83.68it/s]\n"
     ]
    },
    {
     "name": "stdout",
     "output_type": "stream",
     "text": [
      "Accuracy Cosine Distance:   \t81.26\n",
      "Accuracy Dot Product:       \t19.94\n",
      "Accuracy Manhattan Distance:\t81.07\n",
      "Accuracy Euclidean Distance:\t81.11\n",
      "\n",
      "Checkpoint saved at epoch 2, training step 250.\n",
      "Epoch: 2, Training Step: 251, Loss: 0.4355219304561615\n",
      "Epoch: 2, Training Step: 252, Loss: 0.3948251008987427\n",
      "Epoch: 2, Training Step: 253, Loss: 0.4069575071334839\n",
      "Epoch: 2, Training Step: 254, Loss: 0.343497097492218\n"
     ]
    },
    {
     "name": "stderr",
     "output_type": "stream",
     "text": []
    },
    {
     "name": "stdout",
     "output_type": "stream",
     "text": [
      "Epoch: 2, Training Step: 255, Loss: 0.3279639184474945\n",
      "Epoch: 2, Training Step: 256, Loss: 0.3764451742172241\n",
      "Epoch: 2, Training Step: 257, Loss: 0.2735117971897125\n",
      "Epoch: 2, Training Step: 258, Loss: 0.33075499534606934\n",
      "Epoch: 2, Training Step: 259, Loss: 0.35734909772872925\n"
     ]
    },
    {
     "name": "stderr",
     "output_type": "stream",
     "text": []
    },
    {
     "name": "stdout",
     "output_type": "stream",
     "text": [
      "Epoch: 2, Training Step: 260, Loss: 0.4216077923774719\n",
      "Epoch: 2, Training Step: 261, Loss: 0.4291187524795532\n",
      "Epoch: 2, Training Step: 262, Loss: 0.37954244017601013\n",
      "Epoch: 2, Training Step: 263, Loss: 0.3770771920681\n",
      "Epoch: 2, Training Step: 264, Loss: 0.45494043827056885\n"
     ]
    },
    {
     "name": "stderr",
     "output_type": "stream",
     "text": []
    },
    {
     "name": "stdout",
     "output_type": "stream",
     "text": [
      "Epoch: 2, Training Step: 265, Loss: 0.42117762565612793\n",
      "Epoch: 2, Training Step: 266, Loss: 0.42358988523483276\n",
      "Epoch: 2, Training Step: 267, Loss: 0.43562713265419006\n",
      "Epoch: 2, Training Step: 268, Loss: 0.34066951274871826\n",
      "Epoch: 2, Training Step: 269, Loss: 0.32624709606170654\n"
     ]
    },
    {
     "name": "stderr",
     "output_type": "stream",
     "text": []
    },
    {
     "name": "stdout",
     "output_type": "stream",
     "text": [
      "Epoch: 2, Training Step: 270, Loss: 0.41868728399276733\n",
      "Epoch: 2, Training Step: 271, Loss: 0.4499955475330353\n",
      "Epoch: 2, Training Step: 272, Loss: 0.40187183022499084\n",
      "Epoch: 2, Training Step: 273, Loss: 0.4090498983860016\n",
      "Epoch: 2, Training Step: 274, Loss: 0.4015869200229645\n",
      "Epoch: 2, Training Step: 275, Loss: 0.38327276706695557\n"
     ]
    },
    {
     "name": "stderr",
     "output_type": "stream",
     "text": []
    },
    {
     "name": "stdout",
     "output_type": "stream",
     "text": [
      "Epoch: 2, Training Step: 276, Loss: 0.3422917425632477\n",
      "Epoch: 2, Training Step: 277, Loss: 0.3371492028236389\n",
      "Epoch: 2, Training Step: 278, Loss: 0.29553741216659546\n",
      "Epoch: 2, Training Step: 279, Loss: 0.2611311972141266\n",
      "Epoch: 2, Training Step: 280, Loss: 0.30512017011642456\n"
     ]
    },
    {
     "name": "stderr",
     "output_type": "stream",
     "text": []
    },
    {
     "name": "stdout",
     "output_type": "stream",
     "text": [
      "Epoch: 2, Training Step: 281, Loss: 0.33433327078819275\n",
      "Epoch: 2, Training Step: 282, Loss: 0.35977989435195923\n",
      "Epoch: 2, Training Step: 283, Loss: 0.4426726996898651\n",
      "Epoch: 2, Training Step: 284, Loss: 0.42313700914382935\n",
      "Epoch: 2, Training Step: 285, Loss: 0.52718186378479\n",
      "Epoch: 2, Training Step: 286, Loss: 0.4737103581428528\n"
     ]
    },
    {
     "name": "stderr",
     "output_type": "stream",
     "text": []
    },
    {
     "name": "stdout",
     "output_type": "stream",
     "text": [
      "Epoch: 2, Training Step: 287, Loss: 0.401557058095932\n",
      "Epoch: 2, Training Step: 288, Loss: 0.38314715027809143\n",
      "Epoch: 2, Training Step: 289, Loss: 0.3412155508995056\n",
      "Epoch: 2, Training Step: 290, Loss: 0.4012714624404907\n",
      "Epoch: 2, Training Step: 291, Loss: 0.31153154373168945\n"
     ]
    },
    {
     "name": "stderr",
     "output_type": "stream",
     "text": []
    },
    {
     "name": "stdout",
     "output_type": "stream",
     "text": [
      "Epoch: 2, Training Step: 292, Loss: 0.37357765436172485\n",
      "Epoch: 2, Training Step: 293, Loss: 0.35421061515808105\n",
      "Epoch: 2, Training Step: 294, Loss: 0.3278021514415741\n",
      "Epoch: 2, Training Step: 295, Loss: 0.3626347780227661\n",
      "Epoch: 2, Training Step: 296, Loss: 0.3482593297958374\n"
     ]
    },
    {
     "name": "stderr",
     "output_type": "stream",
     "text": []
    },
    {
     "name": "stdout",
     "output_type": "stream",
     "text": [
      "Epoch: 2, Training Step: 297, Loss: 0.32124558091163635\n",
      "Epoch: 2, Training Step: 298, Loss: 0.3653556704521179\n",
      "Epoch: 2, Training Step: 299, Loss: 0.39893344044685364\n",
      "Epoch: 2, Training Step: 300, Loss: 0.4149250388145447\n",
      "Checkpoint saved at epoch 2, training step 300.\n",
      "TripletEvaluator: Evaluating the model on the gooaq dataset in epoch 2 after 300 steps:\n"
     ]
    },
    {
     "name": "stderr",
     "output_type": "stream",
     "text": [
      "\n",
      "\u001b[A\n",
      "\u001b[A\n",
      "\u001b[A\n",
      "\u001b[A\n",
      "\u001b[A\n",
      "100%|██████████| 50/50 [00:00<00:00, 82.75it/s]\n",
      "\n",
      "\u001b[A\n",
      "\u001b[A\n",
      "\u001b[A\n",
      "\u001b[A\n",
      "\u001b[A\n",
      "100%|██████████| 50/50 [00:00<00:00, 78.84it/s]\n",
      "\n",
      "\u001b[A\n",
      "\u001b[A\n",
      "\u001b[A\n",
      "\u001b[A\n",
      "\u001b[A\n",
      "100%|██████████| 50/50 [00:00<00:00, 78.45it/s]\n"
     ]
    },
    {
     "name": "stdout",
     "output_type": "stream",
     "text": [
      "Accuracy Cosine Distance:   \t81.30\n",
      "Accuracy Dot Product:       \t19.90\n",
      "Accuracy Manhattan Distance:\t81.05\n",
      "Accuracy Euclidean Distance:\t81.19\n",
      "\n",
      "Checkpoint saved at epoch 2, training step 300.\n",
      "Epoch: 2, Training Step: 301, Loss: 0.44184112548828125\n",
      "Epoch: 2, Training Step: 302, Loss: 0.4726625382900238\n",
      "Epoch: 2, Training Step: 303, Loss: 0.5588207840919495\n"
     ]
    },
    {
     "name": "stderr",
     "output_type": "stream",
     "text": []
    },
    {
     "name": "stdout",
     "output_type": "stream",
     "text": [
      "Epoch: 2, Training Step: 304, Loss: 0.4985370635986328\n",
      "Epoch: 2, Training Step: 305, Loss: 0.44250205159187317\n",
      "Epoch: 2, Training Step: 306, Loss: 0.45789381861686707\n",
      "Epoch: 2, Training Step: 307, Loss: 0.5082595944404602\n",
      "Epoch: 2, Training Step: 308, Loss: 0.3068743050098419\n"
     ]
    },
    {
     "name": "stderr",
     "output_type": "stream",
     "text": []
    },
    {
     "name": "stdout",
     "output_type": "stream",
     "text": [
      "Epoch: 2, Training Step: 309, Loss: 0.341490238904953\n",
      "Epoch: 2, Training Step: 310, Loss: 0.280191570520401\n",
      "Epoch: 2, Training Step: 311, Loss: 0.2863719165325165\n",
      "Epoch: 2, Training Step: 312, Loss: 0.28167012333869934\n",
      "Epoch: 2, Training Step: 313, Loss: 0.28539612889289856\n"
     ]
    },
    {
     "name": "stderr",
     "output_type": "stream",
     "text": []
    },
    {
     "name": "stdout",
     "output_type": "stream",
     "text": [
      "Epoch: 2, Training Step: 314, Loss: 0.32339122891426086\n",
      "Epoch: 2, Training Step: 315, Loss: 0.31701815128326416\n",
      "Epoch: 2, Training Step: 316, Loss: 0.34975436329841614\n",
      "Epoch: 2, Training Step: 317, Loss: 0.3918662667274475\n",
      "Epoch: 2, Training Step: 318, Loss: 0.36878976225852966\n",
      "Epoch: 2, Training Step: 319, Loss: 0.4016337990760803\n"
     ]
    },
    {
     "name": "stderr",
     "output_type": "stream",
     "text": [
      "\n",
      "Iteration:  37%|███▋      | 325/882 [00:29<00:51, 10.74it/s]"
     ]
    },
    {
     "name": "stdout",
     "output_type": "stream",
     "text": [
      "Epoch: 2, Training Step: 320, Loss: 0.49204525351524353\n",
      "Epoch: 2, Training Step: 321, Loss: 0.4599945843219757\n",
      "Epoch: 2, Training Step: 322, Loss: 0.4587257504463196\n",
      "Epoch: 2, Training Step: 323, Loss: 0.3677643835544586\n",
      "Epoch: 2, Training Step: 324, Loss: 0.3849926292896271\n"
     ]
    },
    {
     "name": "stderr",
     "output_type": "stream",
     "text": [
      "\u001b[A"
     ]
    },
    {
     "name": "stdout",
     "output_type": "stream",
     "text": [
      "Epoch: 2, Training Step: 325, Loss: 0.37208518385887146\n",
      "Epoch: 2, Training Step: 326, Loss: 0.39378300309181213\n",
      "Epoch: 2, Training Step: 327, Loss: 0.4208530783653259\n",
      "Epoch: 2, Training Step: 328, Loss: 0.37068021297454834\n"
     ]
    },
    {
     "name": "stderr",
     "output_type": "stream",
     "text": [
      "\n"
     ]
    },
    {
     "name": "stdout",
     "output_type": "stream",
     "text": [
      "Epoch: 2, Training Step: 329, Loss: 0.3520689308643341\n",
      "Epoch: 2, Training Step: 330, Loss: 0.4279543161392212\n",
      "Epoch: 2, Training Step: 331, Loss: 0.4801938533782959\n",
      "Epoch: 2, Training Step: 332, Loss: 0.4518973231315613\n",
      "Epoch: 2, Training Step: 333, Loss: 0.430069237947464\n"
     ]
    },
    {
     "name": "stderr",
     "output_type": "stream",
     "text": [
      "Iteration:  38%|███▊      | 334/882 [00:29<00:47, 11.51it/s]\u001b[A"
     ]
    },
    {
     "name": "stdout",
     "output_type": "stream",
     "text": [
      "Epoch: 2, Training Step: 334, Loss: 0.42121100425720215\n",
      "Epoch: 2, Training Step: 335, Loss: 0.3831971287727356\n",
      "Epoch: 2, Training Step: 336, Loss: 0.38712096214294434\n",
      "Epoch: 2, Training Step: 337, Loss: 0.3378489315509796\n",
      "Epoch: 2, Training Step: 338, Loss: 0.30611392855644226\n"
     ]
    },
    {
     "name": "stderr",
     "output_type": "stream",
     "text": []
    },
    {
     "name": "stdout",
     "output_type": "stream",
     "text": [
      "Epoch: 2, Training Step: 339, Loss: 0.3826010227203369\n",
      "Epoch: 2, Training Step: 340, Loss: 0.3875181972980499\n",
      "Epoch: 2, Training Step: 341, Loss: 0.3773444890975952\n",
      "Epoch: 2, Training Step: 342, Loss: 0.3337688446044922\n",
      "Epoch: 2, Training Step: 343, Loss: 0.3920791745185852\n"
     ]
    },
    {
     "name": "stderr",
     "output_type": "stream",
     "text": []
    },
    {
     "name": "stdout",
     "output_type": "stream",
     "text": [
      "Epoch: 2, Training Step: 344, Loss: 0.336017906665802\n",
      "Epoch: 2, Training Step: 345, Loss: 0.3943861722946167\n",
      "Epoch: 2, Training Step: 346, Loss: 0.3565792143344879\n",
      "Epoch: 2, Training Step: 347, Loss: 0.4951462149620056\n",
      "Epoch: 2, Training Step: 348, Loss: 0.46925801038742065\n",
      "Epoch: 2, Training Step: 349, Loss: 0.44545790553092957\n",
      "Epoch: 2, Training Step: 350, Loss: 0.4562642276287079\n",
      "Checkpoint saved at epoch 2, training step 350.\n",
      "TripletEvaluator: Evaluating the model on the gooaq dataset in epoch 2 after 350 steps:\n"
     ]
    },
    {
     "name": "stderr",
     "output_type": "stream",
     "text": [
      "\n",
      "\u001b[A\n",
      "\u001b[A\n",
      "\u001b[A\n",
      "\u001b[A\n",
      "\u001b[A\n",
      "100%|██████████| 50/50 [00:00<00:00, 82.69it/s]\n",
      "\n",
      "\u001b[A\n",
      "\u001b[A\n",
      "\u001b[A\n",
      "\u001b[A\n",
      "\u001b[A\n",
      "100%|██████████| 50/50 [00:00<00:00, 88.60it/s]\n",
      "\n",
      "\u001b[A\n",
      "\u001b[A\n",
      "\u001b[A\n",
      "\u001b[A\n",
      "\u001b[A\n",
      "100%|██████████| 50/50 [00:00<00:00, 82.29it/s]\n"
     ]
    },
    {
     "name": "stdout",
     "output_type": "stream",
     "text": [
      "Accuracy Cosine Distance:   \t81.30\n",
      "Accuracy Dot Product:       \t19.94\n",
      "Accuracy Manhattan Distance:\t80.99\n",
      "Accuracy Euclidean Distance:\t81.15\n",
      "\n",
      "Epoch: 2, Training Step: 351, Loss: 0.4705771207809448\n",
      "Epoch: 2, Training Step: 352, Loss: 0.4574039578437805\n",
      "Epoch: 2, Training Step: 353, Loss: 0.480977863073349\n",
      "Epoch: 2, Training Step: 354, Loss: 0.45628026127815247\n"
     ]
    },
    {
     "name": "stderr",
     "output_type": "stream",
     "text": []
    },
    {
     "name": "stdout",
     "output_type": "stream",
     "text": [
      "Epoch: 2, Training Step: 355, Loss: 0.3461954593658447\n",
      "Epoch: 2, Training Step: 356, Loss: 0.3118858337402344\n",
      "Epoch: 2, Training Step: 357, Loss: 0.3479017913341522\n",
      "Epoch: 2, Training Step: 358, Loss: 0.44958779215812683\n",
      "Epoch: 2, Training Step: 359, Loss: 0.3954741358757019\n"
     ]
    },
    {
     "name": "stderr",
     "output_type": "stream",
     "text": []
    },
    {
     "name": "stdout",
     "output_type": "stream",
     "text": [
      "Epoch: 2, Training Step: 360, Loss: 0.4674113988876343\n",
      "Epoch: 2, Training Step: 361, Loss: 0.5328683853149414\n",
      "Epoch: 2, Training Step: 362, Loss: 0.4812606871128082\n",
      "Epoch: 2, Training Step: 363, Loss: 0.4644305109977722\n",
      "Epoch: 2, Training Step: 364, Loss: 0.41479748487472534\n",
      "Epoch: 2, Training Step: 365, Loss: 0.3927946090698242\n"
     ]
    },
    {
     "name": "stderr",
     "output_type": "stream",
     "text": []
    },
    {
     "name": "stdout",
     "output_type": "stream",
     "text": [
      "Epoch: 2, Training Step: 366, Loss: 0.367563933134079\n",
      "Epoch: 2, Training Step: 367, Loss: 0.3588300049304962\n",
      "Epoch: 2, Training Step: 368, Loss: 0.391369104385376\n",
      "Epoch: 2, Training Step: 369, Loss: 0.5276219844818115\n",
      "Epoch: 2, Training Step: 370, Loss: 0.3262321949005127\n"
     ]
    },
    {
     "name": "stderr",
     "output_type": "stream",
     "text": []
    },
    {
     "name": "stdout",
     "output_type": "stream",
     "text": [
      "Epoch: 2, Training Step: 371, Loss: 0.3668479025363922\n",
      "Epoch: 2, Training Step: 372, Loss: 0.386702299118042\n",
      "Epoch: 2, Training Step: 373, Loss: 0.34891223907470703\n",
      "Epoch: 2, Training Step: 374, Loss: 0.27419447898864746\n",
      "Epoch: 2, Training Step: 375, Loss: 0.3079417645931244\n"
     ]
    },
    {
     "name": "stderr",
     "output_type": "stream",
     "text": []
    },
    {
     "name": "stdout",
     "output_type": "stream",
     "text": [
      "Epoch: 2, Training Step: 376, Loss: 0.29665452241897583\n",
      "Epoch: 2, Training Step: 377, Loss: 0.24951115250587463\n",
      "Epoch: 2, Training Step: 378, Loss: 0.27401140332221985\n",
      "Epoch: 2, Training Step: 379, Loss: 0.3135858476161957\n",
      "Epoch: 2, Training Step: 380, Loss: 0.301293283700943\n"
     ]
    },
    {
     "name": "stderr",
     "output_type": "stream",
     "text": []
    },
    {
     "name": "stdout",
     "output_type": "stream",
     "text": [
      "Epoch: 2, Training Step: 381, Loss: 0.292495995759964\n",
      "Epoch: 2, Training Step: 382, Loss: 0.3243846595287323\n",
      "Epoch: 2, Training Step: 383, Loss: 0.3930469751358032\n",
      "Epoch: 2, Training Step: 384, Loss: 0.3862231969833374\n",
      "Epoch: 2, Training Step: 385, Loss: 0.3270944356918335\n"
     ]
    },
    {
     "name": "stderr",
     "output_type": "stream",
     "text": [
      "\n"
     ]
    },
    {
     "name": "stdout",
     "output_type": "stream",
     "text": [
      "Epoch: 2, Training Step: 386, Loss: 0.2834610044956207\n",
      "Epoch: 2, Training Step: 387, Loss: 0.2907346189022064\n",
      "Epoch: 2, Training Step: 388, Loss: 0.4720483422279358\n",
      "Epoch: 2, Training Step: 389, Loss: 0.4396255910396576\n",
      "Epoch: 2, Training Step: 390, Loss: 0.40088215470314026\n"
     ]
    },
    {
     "name": "stderr",
     "output_type": "stream",
     "text": [
      "Iteration:  44%|████▍     | 391/882 [00:34<00:39, 12.33it/s]\u001b[A"
     ]
    },
    {
     "name": "stdout",
     "output_type": "stream",
     "text": [
      "Epoch: 2, Training Step: 391, Loss: 0.3661162555217743\n",
      "Epoch: 2, Training Step: 392, Loss: 0.4958246946334839\n",
      "Epoch: 2, Training Step: 393, Loss: 0.4457891881465912\n",
      "Epoch: 2, Training Step: 394, Loss: 0.4363013803958893\n",
      "Epoch: 2, Training Step: 395, Loss: 0.37582483887672424\n"
     ]
    },
    {
     "name": "stderr",
     "output_type": "stream",
     "text": []
    },
    {
     "name": "stdout",
     "output_type": "stream",
     "text": [
      "Epoch: 2, Training Step: 396, Loss: 0.2837637960910797\n",
      "Epoch: 2, Training Step: 397, Loss: 0.29972773790359497\n",
      "Epoch: 2, Training Step: 398, Loss: 0.38265037536621094\n",
      "Epoch: 2, Training Step: 399, Loss: 0.44487491250038147\n",
      "Epoch: 2, Training Step: 400, Loss: 0.39679205417633057\n",
      "Checkpoint saved at epoch 2, training step 400.\n",
      "TripletEvaluator: Evaluating the model on the gooaq dataset in epoch 2 after 400 steps:\n"
     ]
    },
    {
     "name": "stderr",
     "output_type": "stream",
     "text": [
      "\n",
      "\u001b[A\n",
      "\u001b[A\n",
      "\u001b[A\n",
      "\u001b[A\n",
      "\u001b[A\n",
      "100%|██████████| 50/50 [00:00<00:00, 78.58it/s]\n",
      "\n",
      "\u001b[A\n",
      "\u001b[A\n",
      "\u001b[A\n",
      "\u001b[A\n",
      "\u001b[A\n",
      "100%|██████████| 50/50 [00:00<00:00, 84.75it/s]\n",
      "\n",
      "\u001b[A\n",
      "\u001b[A\n",
      "\u001b[A\n",
      "\u001b[A\n",
      "\u001b[A\n",
      "100%|██████████| 50/50 [00:00<00:00, 79.85it/s]\n"
     ]
    },
    {
     "name": "stdout",
     "output_type": "stream",
     "text": [
      "Accuracy Cosine Distance:   \t81.30\n",
      "Accuracy Dot Product:       \t19.92\n",
      "Accuracy Manhattan Distance:\t81.01\n",
      "Accuracy Euclidean Distance:\t81.17\n",
      "\n",
      "Epoch: 2, Training Step: 401, Loss: 0.3859376907348633\n",
      "Epoch: 2, Training Step: 402, Loss: 0.3754298686981201\n",
      "Epoch: 2, Training Step: 403, Loss: 0.3508302569389343\n",
      "Epoch: 2, Training Step: 404, Loss: 0.3793386220932007\n"
     ]
    },
    {
     "name": "stderr",
     "output_type": "stream",
     "text": []
    },
    {
     "name": "stdout",
     "output_type": "stream",
     "text": [
      "Epoch: 2, Training Step: 405, Loss: 0.2624140977859497\n",
      "Epoch: 2, Training Step: 406, Loss: 0.282307893037796\n",
      "Epoch: 2, Training Step: 407, Loss: 0.28213104605674744\n",
      "Epoch: 2, Training Step: 408, Loss: 0.3321566879749298\n",
      "Epoch: 2, Training Step: 409, Loss: 0.3246297538280487\n",
      "Epoch: 2, Training Step: 410, Loss: 0.29635220766067505\n"
     ]
    },
    {
     "name": "stderr",
     "output_type": "stream",
     "text": []
    },
    {
     "name": "stdout",
     "output_type": "stream",
     "text": [
      "Epoch: 2, Training Step: 411, Loss: 0.3354676365852356\n",
      "Epoch: 2, Training Step: 412, Loss: 0.3667053282260895\n",
      "Epoch: 2, Training Step: 413, Loss: 0.299701064825058\n",
      "Epoch: 2, Training Step: 414, Loss: 0.30332693457603455\n",
      "Epoch: 2, Training Step: 415, Loss: 0.35564228892326355\n",
      "Epoch: 2, Training Step: 416, Loss: 0.31028929352760315\n"
     ]
    },
    {
     "name": "stderr",
     "output_type": "stream",
     "text": []
    },
    {
     "name": "stdout",
     "output_type": "stream",
     "text": [
      "Epoch: 2, Training Step: 417, Loss: 0.3653513193130493\n",
      "Epoch: 2, Training Step: 418, Loss: 0.3334191143512726\n",
      "Epoch: 2, Training Step: 419, Loss: 0.3256717324256897\n",
      "Epoch: 2, Training Step: 420, Loss: 0.3205936551094055\n",
      "Epoch: 2, Training Step: 421, Loss: 0.29025110602378845\n"
     ]
    },
    {
     "name": "stderr",
     "output_type": "stream",
     "text": []
    },
    {
     "name": "stdout",
     "output_type": "stream",
     "text": [
      "Epoch: 2, Training Step: 422, Loss: 0.281283974647522\n",
      "Epoch: 2, Training Step: 423, Loss: 0.38567981123924255\n",
      "Epoch: 2, Training Step: 424, Loss: 0.46031907200813293\n",
      "Epoch: 2, Training Step: 425, Loss: 0.45334312319755554\n",
      "Epoch: 2, Training Step: 426, Loss: 0.37449902296066284\n"
     ]
    },
    {
     "name": "stderr",
     "output_type": "stream",
     "text": [
      "\n"
     ]
    },
    {
     "name": "stdout",
     "output_type": "stream",
     "text": [
      "Epoch: 2, Training Step: 427, Loss: 0.38575229048728943\n",
      "Epoch: 2, Training Step: 428, Loss: 0.344689279794693\n",
      "Epoch: 2, Training Step: 429, Loss: 0.3680335581302643\n",
      "Epoch: 2, Training Step: 430, Loss: 0.3896498382091522\n",
      "Epoch: 2, Training Step: 431, Loss: 0.42397651076316833\n",
      "Epoch: 2, Training Step: 432, Loss: 0.41355836391448975\n"
     ]
    },
    {
     "name": "stderr",
     "output_type": "stream",
     "text": [
      "Iteration:  49%|████▉     | 433/882 [00:38<00:39, 11.41it/s]\u001b[A"
     ]
    },
    {
     "name": "stdout",
     "output_type": "stream",
     "text": [
      "Epoch: 2, Training Step: 433, Loss: 0.41756266355514526\n",
      "Epoch: 2, Training Step: 434, Loss: 0.4200286567211151\n",
      "Epoch: 2, Training Step: 435, Loss: 0.3794017434120178\n",
      "Epoch: 2, Training Step: 436, Loss: 0.37367668747901917\n",
      "Epoch: 2, Training Step: 437, Loss: 0.29663515090942383\n"
     ]
    },
    {
     "name": "stderr",
     "output_type": "stream",
     "text": []
    },
    {
     "name": "stdout",
     "output_type": "stream",
     "text": [
      "Epoch: 2, Training Step: 438, Loss: 0.2758961617946625\n",
      "Epoch: 2, Training Step: 439, Loss: 0.4433583915233612\n",
      "Epoch: 2, Training Step: 440, Loss: 0.3556455969810486\n",
      "Epoch: 2, Training Step: 441, Loss: 0.34203559160232544\n",
      "Epoch: 2, Training Step: 442, Loss: 0.3781340420246124\n"
     ]
    },
    {
     "name": "stderr",
     "output_type": "stream",
     "text": [
      "\n"
     ]
    },
    {
     "name": "stdout",
     "output_type": "stream",
     "text": [
      "Epoch: 2, Training Step: 443, Loss: 0.42872321605682373\n",
      "Epoch: 2, Training Step: 444, Loss: 0.36246758699417114\n",
      "Epoch: 2, Training Step: 445, Loss: 0.36277103424072266\n",
      "Epoch: 2, Training Step: 446, Loss: 0.45465412735939026\n",
      "Epoch: 2, Training Step: 447, Loss: 0.40785112977027893\n"
     ]
    },
    {
     "name": "stderr",
     "output_type": "stream",
     "text": [
      "Iteration:  51%|█████     | 448/882 [00:39<00:33, 12.88it/s]\u001b[A"
     ]
    },
    {
     "name": "stdout",
     "output_type": "stream",
     "text": [
      "Epoch: 2, Training Step: 448, Loss: 0.3746536374092102\n",
      "Epoch: 2, Training Step: 449, Loss: 0.34917595982551575\n",
      "Epoch: 2, Training Step: 450, Loss: 0.3079378604888916\n",
      "Checkpoint saved at epoch 2, training step 450.\n",
      "TripletEvaluator: Evaluating the model on the gooaq dataset in epoch 2 after 450 steps:\n"
     ]
    },
    {
     "name": "stderr",
     "output_type": "stream",
     "text": [
      "\n",
      "\u001b[A\n",
      "\u001b[A\n",
      "\u001b[A\n",
      "\u001b[A\n",
      "\u001b[A\n",
      "100%|██████████| 50/50 [00:00<00:00, 81.81it/s]\n",
      "\n",
      "\u001b[A\n",
      "\u001b[A\n",
      "\u001b[A\n",
      "\u001b[A\n",
      "\u001b[A\n",
      "100%|██████████| 50/50 [00:00<00:00, 83.02it/s]\n",
      "\n",
      "\u001b[A\n",
      "\u001b[A\n",
      "\u001b[A\n",
      "\u001b[A\n",
      "\u001b[A\n",
      "100%|██████████| 50/50 [00:00<00:00, 79.41it/s]\n"
     ]
    },
    {
     "name": "stdout",
     "output_type": "stream",
     "text": [
      "Accuracy Cosine Distance:   \t81.30\n",
      "Accuracy Dot Product:       \t19.92\n",
      "Accuracy Manhattan Distance:\t81.05\n",
      "Accuracy Euclidean Distance:\t81.17\n",
      "\n",
      "Epoch: 2, Training Step: 451, Loss: 0.3058996796607971\n",
      "Epoch: 2, Training Step: 452, Loss: 0.36759108304977417\n",
      "Epoch: 2, Training Step: 453, Loss: 0.35821181535720825\n",
      "Epoch: 2, Training Step: 454, Loss: 0.3550875186920166\n"
     ]
    },
    {
     "name": "stderr",
     "output_type": "stream",
     "text": []
    },
    {
     "name": "stdout",
     "output_type": "stream",
     "text": [
      "Epoch: 2, Training Step: 455, Loss: 0.28299304842948914\n",
      "Epoch: 2, Training Step: 456, Loss: 0.3551062345504761\n",
      "Epoch: 2, Training Step: 457, Loss: 0.3625849485397339\n",
      "Epoch: 2, Training Step: 458, Loss: 0.2906549572944641\n",
      "Epoch: 2, Training Step: 459, Loss: 0.308819442987442\n"
     ]
    },
    {
     "name": "stderr",
     "output_type": "stream",
     "text": [
      "\n"
     ]
    },
    {
     "name": "stdout",
     "output_type": "stream",
     "text": [
      "Epoch: 2, Training Step: 460, Loss: 0.37028881907463074\n",
      "Epoch: 2, Training Step: 461, Loss: 0.36977118253707886\n",
      "Epoch: 2, Training Step: 462, Loss: 0.4693773686885834\n",
      "Epoch: 2, Training Step: 463, Loss: 0.41792377829551697\n",
      "Epoch: 2, Training Step: 464, Loss: 0.3886420428752899\n",
      "Epoch: 2, Training Step: 465, Loss: 0.3921510577201843\n"
     ]
    },
    {
     "name": "stderr",
     "output_type": "stream",
     "text": [
      "Iteration:  53%|█████▎    | 466/882 [00:42<00:42,  9.88it/s]\u001b[A"
     ]
    },
    {
     "name": "stdout",
     "output_type": "stream",
     "text": [
      "Epoch: 2, Training Step: 466, Loss: 0.45773741602897644\n",
      "Epoch: 2, Training Step: 467, Loss: 0.3707706928253174\n",
      "Epoch: 2, Training Step: 468, Loss: 0.3510887622833252\n",
      "Epoch: 2, Training Step: 469, Loss: 0.3101959526538849\n",
      "Epoch: 2, Training Step: 470, Loss: 0.3558172583580017\n"
     ]
    },
    {
     "name": "stderr",
     "output_type": "stream",
     "text": []
    },
    {
     "name": "stdout",
     "output_type": "stream",
     "text": [
      "Epoch: 2, Training Step: 471, Loss: 0.3849533498287201\n",
      "Epoch: 2, Training Step: 472, Loss: 0.441941499710083\n",
      "Epoch: 2, Training Step: 473, Loss: 0.39136573672294617\n",
      "Epoch: 2, Training Step: 474, Loss: 0.44514232873916626\n",
      "Epoch: 2, Training Step: 475, Loss: 0.461492657661438\n"
     ]
    },
    {
     "name": "stderr",
     "output_type": "stream",
     "text": [
      "\n"
     ]
    },
    {
     "name": "stdout",
     "output_type": "stream",
     "text": [
      "Epoch: 2, Training Step: 476, Loss: 0.47737786173820496\n",
      "Epoch: 2, Training Step: 477, Loss: 0.5435331463813782\n",
      "Epoch: 2, Training Step: 478, Loss: 0.43314048647880554\n",
      "Epoch: 2, Training Step: 479, Loss: 0.4499874413013458\n",
      "Epoch: 2, Training Step: 480, Loss: 0.386052668094635\n"
     ]
    },
    {
     "name": "stderr",
     "output_type": "stream",
     "text": [
      "Iteration:  55%|█████▍    | 481/882 [00:43<00:35, 11.31it/s]\u001b[A"
     ]
    },
    {
     "name": "stdout",
     "output_type": "stream",
     "text": [
      "Epoch: 2, Training Step: 481, Loss: 0.4225026071071625\n",
      "Epoch: 2, Training Step: 482, Loss: 0.3601103723049164\n",
      "Epoch: 2, Training Step: 483, Loss: 0.4397053122520447\n",
      "Epoch: 2, Training Step: 484, Loss: 0.4203662574291229\n",
      "Epoch: 2, Training Step: 485, Loss: 0.31586214900016785\n"
     ]
    },
    {
     "name": "stderr",
     "output_type": "stream",
     "text": []
    },
    {
     "name": "stdout",
     "output_type": "stream",
     "text": [
      "Epoch: 2, Training Step: 486, Loss: 0.360934853553772\n",
      "Epoch: 2, Training Step: 487, Loss: 0.3526047170162201\n",
      "Epoch: 2, Training Step: 488, Loss: 0.3083498179912567\n",
      "Epoch: 2, Training Step: 489, Loss: 0.36698541045188904\n",
      "Epoch: 2, Training Step: 490, Loss: 0.33182963728904724\n"
     ]
    },
    {
     "name": "stderr",
     "output_type": "stream",
     "text": [
      "\n",
      "Iteration:  56%|█████▌    | 496/882 [00:44<00:30, 12.71it/s]"
     ]
    },
    {
     "name": "stdout",
     "output_type": "stream",
     "text": [
      "Epoch: 2, Training Step: 491, Loss: 0.39648187160491943\n",
      "Epoch: 2, Training Step: 492, Loss: 0.43449971079826355\n",
      "Epoch: 2, Training Step: 493, Loss: 0.36589735746383667\n",
      "Epoch: 2, Training Step: 494, Loss: 0.37104740738868713\n",
      "Epoch: 2, Training Step: 495, Loss: 0.3979251980781555\n"
     ]
    },
    {
     "name": "stderr",
     "output_type": "stream",
     "text": [
      "\u001b[A"
     ]
    },
    {
     "name": "stdout",
     "output_type": "stream",
     "text": [
      "Epoch: 2, Training Step: 496, Loss: 0.38294899463653564\n",
      "Epoch: 2, Training Step: 497, Loss: 0.5021896958351135\n",
      "Epoch: 2, Training Step: 498, Loss: 0.4590837061405182\n",
      "Epoch: 2, Training Step: 499, Loss: 0.4295541048049927\n",
      "Epoch: 2, Training Step: 500, Loss: 0.4178776443004608\n",
      "Checkpoint saved at epoch 2, training step 500.\n",
      "TripletEvaluator: Evaluating the model on the gooaq dataset in epoch 2 after 500 steps:\n"
     ]
    },
    {
     "name": "stderr",
     "output_type": "stream",
     "text": [
      "\n",
      "\u001b[A\n",
      "\u001b[A\n",
      "\u001b[A\n",
      "\u001b[A\n",
      "\u001b[A\n",
      "\u001b[A\n",
      "100%|██████████| 50/50 [00:00<00:00, 77.40it/s]\n",
      "\n",
      "\u001b[A\n",
      "\u001b[A\n",
      "\u001b[A\n",
      "\u001b[A\n",
      "\u001b[A\n",
      "100%|██████████| 50/50 [00:00<00:00, 79.74it/s]\n",
      "\n",
      "\u001b[A\n",
      "\u001b[A\n",
      "\u001b[A\n",
      "\u001b[A\n",
      "\u001b[A\n",
      "100%|██████████| 50/50 [00:00<00:00, 83.72it/s]\n",
      "\n"
     ]
    },
    {
     "name": "stdout",
     "output_type": "stream",
     "text": [
      "Accuracy Cosine Distance:   \t81.26\n",
      "Accuracy Dot Product:       \t19.92\n",
      "Accuracy Manhattan Distance:\t81.09\n",
      "Accuracy Euclidean Distance:\t81.15\n",
      "\n",
      "Epoch: 2, Training Step: 501, Loss: 0.37478888034820557\n",
      "Epoch: 2, Training Step: 502, Loss: 0.46873074769973755\n",
      "Epoch: 2, Training Step: 503, Loss: 0.36653992533683777\n",
      "Epoch: 2, Training Step: 504, Loss: 0.39473941922187805\n"
     ]
    },
    {
     "name": "stderr",
     "output_type": "stream",
     "text": [
      "Iteration:  57%|█████▋    | 505/882 [00:47<00:44,  8.43it/s]\u001b[A"
     ]
    },
    {
     "name": "stdout",
     "output_type": "stream",
     "text": [
      "Epoch: 2, Training Step: 505, Loss: 0.35354548692703247\n",
      "Epoch: 2, Training Step: 506, Loss: 0.30926603078842163\n",
      "Epoch: 2, Training Step: 507, Loss: 0.2841670513153076\n",
      "Epoch: 2, Training Step: 508, Loss: 0.2674048840999603\n",
      "Epoch: 2, Training Step: 509, Loss: 0.31421148777008057\n"
     ]
    },
    {
     "name": "stderr",
     "output_type": "stream",
     "text": []
    },
    {
     "name": "stdout",
     "output_type": "stream",
     "text": [
      "Epoch: 2, Training Step: 510, Loss: 0.3747081458568573\n",
      "Epoch: 2, Training Step: 511, Loss: 0.33063817024230957\n",
      "Epoch: 2, Training Step: 512, Loss: 0.4581180810928345\n",
      "Epoch: 2, Training Step: 513, Loss: 0.5151128172874451\n",
      "Epoch: 2, Training Step: 514, Loss: 0.4677092432975769\n",
      "Epoch: 2, Training Step: 515, Loss: 0.49890777468681335\n"
     ]
    },
    {
     "name": "stderr",
     "output_type": "stream",
     "text": []
    },
    {
     "name": "stdout",
     "output_type": "stream",
     "text": [
      "Epoch: 2, Training Step: 516, Loss: 0.45716392993927\n",
      "Epoch: 2, Training Step: 517, Loss: 0.4042671322822571\n",
      "Epoch: 2, Training Step: 518, Loss: 0.3362748324871063\n",
      "Epoch: 2, Training Step: 519, Loss: 0.33647018671035767\n",
      "Epoch: 2, Training Step: 520, Loss: 0.29117491841316223\n"
     ]
    },
    {
     "name": "stderr",
     "output_type": "stream",
     "text": [
      "\n"
     ]
    },
    {
     "name": "stdout",
     "output_type": "stream",
     "text": [
      "Epoch: 2, Training Step: 521, Loss: 0.29543158411979675\n",
      "Epoch: 2, Training Step: 522, Loss: 0.3608989715576172\n",
      "Epoch: 2, Training Step: 523, Loss: 0.334037184715271\n",
      "Epoch: 2, Training Step: 524, Loss: 0.4124886691570282\n",
      "Epoch: 2, Training Step: 525, Loss: 0.3900831937789917\n"
     ]
    },
    {
     "name": "stderr",
     "output_type": "stream",
     "text": [
      "Iteration:  60%|█████▉    | 526/882 [00:48<00:33, 10.47it/s]\u001b[A\n"
     ]
    },
    {
     "name": "stdout",
     "output_type": "stream",
     "text": [
      "Epoch: 2, Training Step: 526, Loss: 0.43886053562164307\n",
      "Epoch: 2, Training Step: 527, Loss: 0.4776991009712219\n",
      "Epoch: 2, Training Step: 528, Loss: 0.4445171654224396\n",
      "Epoch: 2, Training Step: 529, Loss: 0.4577045142650604\n",
      "Epoch: 2, Training Step: 530, Loss: 0.5047985315322876\n",
      "Epoch: 2, Training Step: 531, Loss: 0.363214373588562\n"
     ]
    },
    {
     "name": "stderr",
     "output_type": "stream",
     "text": [
      "Iteration:  60%|██████    | 532/882 [00:48<00:31, 11.10it/s]\u001b[A"
     ]
    },
    {
     "name": "stdout",
     "output_type": "stream",
     "text": [
      "Epoch: 2, Training Step: 532, Loss: 0.2841711938381195\n",
      "Epoch: 2, Training Step: 533, Loss: 0.31908944249153137\n",
      "Epoch: 2, Training Step: 534, Loss: 0.2880144417285919\n",
      "Epoch: 2, Training Step: 535, Loss: 0.3712231516838074\n",
      "Epoch: 2, Training Step: 536, Loss: 0.4058169424533844\n"
     ]
    },
    {
     "name": "stderr",
     "output_type": "stream",
     "text": []
    },
    {
     "name": "stdout",
     "output_type": "stream",
     "text": [
      "Epoch: 2, Training Step: 537, Loss: 0.3884653151035309\n",
      "Epoch: 2, Training Step: 538, Loss: 0.3817319869995117\n",
      "Epoch: 2, Training Step: 539, Loss: 0.434006929397583\n",
      "Epoch: 2, Training Step: 540, Loss: 0.38667532801628113\n",
      "Epoch: 2, Training Step: 541, Loss: 0.3421236276626587\n"
     ]
    },
    {
     "name": "stderr",
     "output_type": "stream",
     "text": []
    },
    {
     "name": "stdout",
     "output_type": "stream",
     "text": [
      "Epoch: 2, Training Step: 542, Loss: 0.46536973118782043\n",
      "Epoch: 2, Training Step: 543, Loss: 0.5036755204200745\n",
      "Epoch: 2, Training Step: 544, Loss: 0.4477129280567169\n",
      "Epoch: 2, Training Step: 545, Loss: 0.44969603419303894\n",
      "Epoch: 2, Training Step: 546, Loss: 0.30306172370910645\n"
     ]
    },
    {
     "name": "stderr",
     "output_type": "stream",
     "text": []
    },
    {
     "name": "stdout",
     "output_type": "stream",
     "text": [
      "Epoch: 2, Training Step: 547, Loss: 0.3466596305370331\n",
      "Epoch: 2, Training Step: 548, Loss: 0.35423901677131653\n",
      "Epoch: 2, Training Step: 549, Loss: 0.25119084119796753\n",
      "Epoch: 2, Training Step: 550, Loss: 0.21867594122886658\n",
      "Checkpoint saved at epoch 2, training step 550.\n",
      "TripletEvaluator: Evaluating the model on the gooaq dataset in epoch 2 after 550 steps:\n"
     ]
    },
    {
     "name": "stderr",
     "output_type": "stream",
     "text": [
      "\n",
      "\u001b[A\n",
      "\u001b[A\n",
      "\u001b[A\n",
      "\u001b[A\n",
      "\u001b[A\n",
      "100%|██████████| 50/50 [00:00<00:00, 83.72it/s]\n",
      "\n",
      "\u001b[A\n",
      "\u001b[A\n",
      "\u001b[A\n",
      "\u001b[A\n",
      "\u001b[A\n",
      "100%|██████████| 50/50 [00:00<00:00, 86.92it/s]\n",
      "\n",
      "\u001b[A\n",
      "\u001b[A\n",
      "\u001b[A\n",
      "\u001b[A\n",
      "\u001b[A\n",
      "100%|██████████| 50/50 [00:00<00:00, 81.50it/s]\n"
     ]
    },
    {
     "name": "stdout",
     "output_type": "stream",
     "text": [
      "Accuracy Cosine Distance:   \t81.32\n",
      "Accuracy Dot Product:       \t19.92\n",
      "Accuracy Manhattan Distance:\t81.09\n",
      "Accuracy Euclidean Distance:\t81.19\n",
      "\n",
      "Checkpoint saved at epoch 2, training step 550.\n",
      "Epoch: 2, Training Step: 551, Loss: 0.2881445586681366\n",
      "Epoch: 2, Training Step: 552, Loss: 0.218833789229393\n",
      "Epoch: 2, Training Step: 553, Loss: 0.268401175737381\n",
      "Epoch: 2, Training Step: 554, Loss: 0.30365055799484253\n"
     ]
    },
    {
     "name": "stderr",
     "output_type": "stream",
     "text": []
    },
    {
     "name": "stdout",
     "output_type": "stream",
     "text": [
      "Epoch: 2, Training Step: 555, Loss: 0.30374762415885925\n",
      "Epoch: 2, Training Step: 556, Loss: 0.3715306520462036\n",
      "Epoch: 2, Training Step: 557, Loss: 0.40686267614364624\n",
      "Epoch: 2, Training Step: 558, Loss: 0.42615988850593567\n",
      "Epoch: 2, Training Step: 559, Loss: 0.4107520580291748\n",
      "Epoch: 2, Training Step: 560, Loss: 0.34716740250587463\n"
     ]
    },
    {
     "name": "stderr",
     "output_type": "stream",
     "text": []
    },
    {
     "name": "stdout",
     "output_type": "stream",
     "text": [
      "Epoch: 2, Training Step: 561, Loss: 0.30764684081077576\n",
      "Epoch: 2, Training Step: 562, Loss: 0.28387337923049927\n",
      "Epoch: 2, Training Step: 563, Loss: 0.2982752323150635\n",
      "Epoch: 2, Training Step: 564, Loss: 0.3353779911994934\n",
      "Epoch: 2, Training Step: 565, Loss: 0.3527648448944092\n"
     ]
    },
    {
     "name": "stderr",
     "output_type": "stream",
     "text": []
    },
    {
     "name": "stdout",
     "output_type": "stream",
     "text": [
      "Epoch: 2, Training Step: 566, Loss: 0.3297502100467682\n",
      "Epoch: 2, Training Step: 567, Loss: 0.3941740095615387\n",
      "Epoch: 2, Training Step: 568, Loss: 0.36479857563972473\n",
      "Epoch: 2, Training Step: 569, Loss: 0.3094924986362457\n",
      "Epoch: 2, Training Step: 570, Loss: 0.37425804138183594\n"
     ]
    },
    {
     "name": "stderr",
     "output_type": "stream",
     "text": [
      "\n"
     ]
    },
    {
     "name": "stdout",
     "output_type": "stream",
     "text": [
      "Epoch: 2, Training Step: 571, Loss: 0.3788923919200897\n",
      "Epoch: 2, Training Step: 572, Loss: 0.35370349884033203\n",
      "Epoch: 2, Training Step: 573, Loss: 0.3505924344062805\n",
      "Epoch: 2, Training Step: 574, Loss: 0.3796553313732147\n",
      "Epoch: 2, Training Step: 575, Loss: 0.36610889434814453\n",
      "Epoch: 2, Training Step: 576, Loss: 0.3346368372440338\n"
     ]
    },
    {
     "name": "stderr",
     "output_type": "stream",
     "text": [
      "Iteration:  65%|██████▌   | 577/882 [00:53<00:28, 10.86it/s]\u001b[A"
     ]
    },
    {
     "name": "stdout",
     "output_type": "stream",
     "text": [
      "Epoch: 2, Training Step: 577, Loss: 0.4620492458343506\n",
      "Epoch: 2, Training Step: 578, Loss: 0.3673297166824341\n",
      "Epoch: 2, Training Step: 579, Loss: 0.35114628076553345\n",
      "Epoch: 2, Training Step: 580, Loss: 0.4047340750694275\n"
     ]
    },
    {
     "name": "stderr",
     "output_type": "stream",
     "text": []
    },
    {
     "name": "stdout",
     "output_type": "stream",
     "text": [
      "Epoch: 2, Training Step: 581, Loss: 0.365658164024353\n",
      "Epoch: 2, Training Step: 582, Loss: 0.33517587184906006\n",
      "Epoch: 2, Training Step: 583, Loss: 0.35859158635139465\n",
      "Epoch: 2, Training Step: 584, Loss: 0.4201255142688751\n",
      "Epoch: 2, Training Step: 585, Loss: 0.43821170926094055\n"
     ]
    },
    {
     "name": "stderr",
     "output_type": "stream",
     "text": [
      "\n"
     ]
    },
    {
     "name": "stdout",
     "output_type": "stream",
     "text": [
      "Epoch: 2, Training Step: 586, Loss: 0.3851277530193329\n",
      "Epoch: 2, Training Step: 587, Loss: 0.4054200351238251\n",
      "Epoch: 2, Training Step: 588, Loss: 0.3928745985031128\n",
      "Epoch: 2, Training Step: 589, Loss: 0.3146178126335144\n",
      "Epoch: 2, Training Step: 590, Loss: 0.28517672419548035\n",
      "Epoch: 2, Training Step: 591, Loss: 0.3316694498062134\n"
     ]
    },
    {
     "name": "stderr",
     "output_type": "stream",
     "text": [
      "Iteration:  67%|██████▋   | 592/882 [00:53<00:23, 12.36it/s]\u001b[A"
     ]
    },
    {
     "name": "stdout",
     "output_type": "stream",
     "text": [
      "Epoch: 2, Training Step: 592, Loss: 0.3415360152721405\n",
      "Epoch: 2, Training Step: 593, Loss: 0.4286178946495056\n",
      "Epoch: 2, Training Step: 594, Loss: 0.34980309009552\n",
      "Epoch: 2, Training Step: 595, Loss: 0.38487499952316284\n",
      "Epoch: 2, Training Step: 596, Loss: 0.40589550137519836\n"
     ]
    },
    {
     "name": "stderr",
     "output_type": "stream",
     "text": []
    },
    {
     "name": "stdout",
     "output_type": "stream",
     "text": [
      "Epoch: 2, Training Step: 597, Loss: 0.4168492555618286\n",
      "Epoch: 2, Training Step: 598, Loss: 0.35511648654937744\n",
      "Epoch: 2, Training Step: 599, Loss: 0.395435631275177\n",
      "Epoch: 2, Training Step: 600, Loss: 0.4371354281902313\n",
      "Checkpoint saved at epoch 2, training step 600.\n",
      "TripletEvaluator: Evaluating the model on the gooaq dataset in epoch 2 after 600 steps:\n"
     ]
    },
    {
     "name": "stderr",
     "output_type": "stream",
     "text": [
      "\n",
      "\u001b[A\n",
      "\u001b[A\n",
      "\u001b[A\n",
      "\u001b[A\n",
      "\u001b[A\n",
      "100%|██████████| 50/50 [00:00<00:00, 86.74it/s]\n",
      "\n",
      "\u001b[A\n",
      "\u001b[A\n",
      "\u001b[A\n",
      "\u001b[A\n",
      "\u001b[A\n",
      "100%|██████████| 50/50 [00:00<00:00, 82.37it/s]\n",
      "\n",
      "\u001b[A\n",
      "\u001b[A\n",
      "\u001b[A\n",
      "\u001b[A\n",
      "\u001b[A\n",
      "100%|██████████| 50/50 [00:00<00:00, 84.70it/s]\n"
     ]
    },
    {
     "name": "stdout",
     "output_type": "stream",
     "text": [
      "Accuracy Cosine Distance:   \t81.26\n",
      "Accuracy Dot Product:       \t19.92\n",
      "Accuracy Manhattan Distance:\t81.09\n",
      "Accuracy Euclidean Distance:\t81.19\n",
      "\n",
      "Epoch: 2, Training Step: 601, Loss: 0.3823184072971344\n",
      "Epoch: 2, Training Step: 602, Loss: 0.3931039869785309\n",
      "Epoch: 2, Training Step: 603, Loss: 0.4120895266532898\n",
      "Epoch: 2, Training Step: 604, Loss: 0.349422425031662\n"
     ]
    },
    {
     "name": "stderr",
     "output_type": "stream",
     "text": []
    },
    {
     "name": "stdout",
     "output_type": "stream",
     "text": [
      "Epoch: 2, Training Step: 605, Loss: 0.42127278447151184\n",
      "Epoch: 2, Training Step: 606, Loss: 0.382628858089447\n",
      "Epoch: 2, Training Step: 607, Loss: 0.47374585270881653\n",
      "Epoch: 2, Training Step: 608, Loss: 0.35451534390449524\n",
      "Epoch: 2, Training Step: 609, Loss: 0.5135042071342468\n",
      "Epoch: 2, Training Step: 610, Loss: 0.49142199754714966\n"
     ]
    },
    {
     "name": "stderr",
     "output_type": "stream",
     "text": []
    },
    {
     "name": "stdout",
     "output_type": "stream",
     "text": [
      "Epoch: 2, Training Step: 611, Loss: 0.47020405530929565\n",
      "Epoch: 2, Training Step: 612, Loss: 0.4542728066444397\n",
      "Epoch: 2, Training Step: 613, Loss: 0.3593619465827942\n",
      "Epoch: 2, Training Step: 614, Loss: 0.4013664722442627\n",
      "Epoch: 2, Training Step: 615, Loss: 0.41031724214553833\n",
      "Epoch: 2, Training Step: 616, Loss: 0.3932535648345947\n"
     ]
    },
    {
     "name": "stderr",
     "output_type": "stream",
     "text": []
    },
    {
     "name": "stdout",
     "output_type": "stream",
     "text": [
      "Epoch: 2, Training Step: 617, Loss: 0.3752487897872925\n",
      "Epoch: 2, Training Step: 618, Loss: 0.30869925022125244\n",
      "Epoch: 2, Training Step: 619, Loss: 0.3207371234893799\n",
      "Epoch: 2, Training Step: 620, Loss: 0.3582650125026703\n",
      "Epoch: 2, Training Step: 621, Loss: 0.38893797993659973\n",
      "Epoch: 2, Training Step: 622, Loss: 0.42598438262939453\n"
     ]
    },
    {
     "name": "stderr",
     "output_type": "stream",
     "text": []
    },
    {
     "name": "stdout",
     "output_type": "stream",
     "text": [
      "Epoch: 2, Training Step: 623, Loss: 0.43607115745544434\n",
      "Epoch: 2, Training Step: 624, Loss: 0.4898269772529602\n",
      "Epoch: 2, Training Step: 625, Loss: 0.465913861989975\n",
      "Epoch: 2, Training Step: 626, Loss: 0.3579653799533844\n",
      "Epoch: 2, Training Step: 627, Loss: 0.32971858978271484\n"
     ]
    },
    {
     "name": "stderr",
     "output_type": "stream",
     "text": []
    },
    {
     "name": "stdout",
     "output_type": "stream",
     "text": [
      "Epoch: 2, Training Step: 628, Loss: 0.35333192348480225\n",
      "Epoch: 2, Training Step: 629, Loss: 0.3237501382827759\n",
      "Epoch: 2, Training Step: 630, Loss: 0.35470446944236755\n",
      "Epoch: 2, Training Step: 631, Loss: 0.34711170196533203\n",
      "Epoch: 2, Training Step: 632, Loss: 0.37939876317977905\n"
     ]
    },
    {
     "name": "stderr",
     "output_type": "stream",
     "text": []
    },
    {
     "name": "stdout",
     "output_type": "stream",
     "text": [
      "Epoch: 2, Training Step: 633, Loss: 0.3271639347076416\n",
      "Epoch: 2, Training Step: 634, Loss: 0.2800711393356323\n",
      "Epoch: 2, Training Step: 635, Loss: 0.38456857204437256\n",
      "Epoch: 2, Training Step: 636, Loss: 0.3319566249847412\n",
      "Epoch: 2, Training Step: 637, Loss: 0.30670031905174255\n"
     ]
    },
    {
     "name": "stderr",
     "output_type": "stream",
     "text": [
      "\n"
     ]
    },
    {
     "name": "stdout",
     "output_type": "stream",
     "text": [
      "Epoch: 2, Training Step: 638, Loss: 0.3494746685028076\n",
      "Epoch: 2, Training Step: 639, Loss: 0.3438534438610077\n",
      "Epoch: 2, Training Step: 640, Loss: 0.48214566707611084\n",
      "Epoch: 2, Training Step: 641, Loss: 0.5222585797309875\n",
      "Epoch: 2, Training Step: 642, Loss: 0.5835132598876953\n"
     ]
    },
    {
     "name": "stderr",
     "output_type": "stream",
     "text": [
      "Iteration:  73%|███████▎  | 643/882 [00:58<00:18, 12.58it/s]\u001b[A"
     ]
    },
    {
     "name": "stdout",
     "output_type": "stream",
     "text": [
      "Epoch: 2, Training Step: 643, Loss: 0.422556072473526\n",
      "Epoch: 2, Training Step: 644, Loss: 0.4042377471923828\n",
      "Epoch: 2, Training Step: 645, Loss: 0.38539230823516846\n",
      "Epoch: 2, Training Step: 646, Loss: 0.3081680238246918\n",
      "Epoch: 2, Training Step: 647, Loss: 0.24724799394607544\n"
     ]
    },
    {
     "name": "stderr",
     "output_type": "stream",
     "text": []
    },
    {
     "name": "stdout",
     "output_type": "stream",
     "text": [
      "Epoch: 2, Training Step: 648, Loss: 0.30184298753738403\n",
      "Epoch: 2, Training Step: 649, Loss: 0.3059473931789398\n",
      "Epoch: 2, Training Step: 650, Loss: 0.32568955421447754\n",
      "Checkpoint saved at epoch 2, training step 650.\n",
      "TripletEvaluator: Evaluating the model on the gooaq dataset in epoch 2 after 650 steps:\n"
     ]
    },
    {
     "name": "stderr",
     "output_type": "stream",
     "text": [
      "\n",
      "\u001b[A\n",
      "\u001b[A\n",
      "\u001b[A\n",
      "\u001b[A\n",
      "\u001b[A\n",
      "100%|██████████| 50/50 [00:00<00:00, 83.88it/s]\n",
      "\n",
      "\u001b[A\n",
      "\u001b[A\n",
      "\u001b[A\n",
      "\u001b[A\n",
      "\u001b[A\n",
      "100%|██████████| 50/50 [00:00<00:00, 78.25it/s]\n",
      "\n",
      "\u001b[A\n",
      "\u001b[A\n",
      "\u001b[A\n",
      "\u001b[A\n",
      "\u001b[A\n",
      "100%|██████████| 50/50 [00:00<00:00, 81.45it/s]\n",
      "\n"
     ]
    },
    {
     "name": "stdout",
     "output_type": "stream",
     "text": [
      "Accuracy Cosine Distance:   \t81.28\n",
      "Accuracy Dot Product:       \t19.92\n",
      "Accuracy Manhattan Distance:\t81.11\n",
      "Accuracy Euclidean Distance:\t81.19\n",
      "\n",
      "Epoch: 2, Training Step: 651, Loss: 0.42264172434806824\n",
      "Epoch: 2, Training Step: 652, Loss: 0.37818801403045654\n",
      "Epoch: 2, Training Step: 653, Loss: 0.43054065108299255\n",
      "Epoch: 2, Training Step: 654, Loss: 0.45212891697883606\n"
     ]
    },
    {
     "name": "stderr",
     "output_type": "stream",
     "text": [
      "Iteration:  74%|███████▍  | 655/882 [01:01<00:25,  8.77it/s]\u001b[A"
     ]
    },
    {
     "name": "stdout",
     "output_type": "stream",
     "text": [
      "Epoch: 2, Training Step: 655, Loss: 0.34505894780158997\n",
      "Epoch: 2, Training Step: 656, Loss: 0.38181430101394653\n",
      "Epoch: 2, Training Step: 657, Loss: 0.38432979583740234\n",
      "Epoch: 2, Training Step: 658, Loss: 0.4263581931591034\n",
      "Epoch: 2, Training Step: 659, Loss: 0.41846755146980286\n"
     ]
    },
    {
     "name": "stderr",
     "output_type": "stream",
     "text": []
    },
    {
     "name": "stdout",
     "output_type": "stream",
     "text": [
      "Epoch: 2, Training Step: 660, Loss: 0.4110832214355469\n",
      "Epoch: 2, Training Step: 661, Loss: 0.4160388708114624\n",
      "Epoch: 2, Training Step: 662, Loss: 0.38132449984550476\n",
      "Epoch: 2, Training Step: 663, Loss: 0.37436020374298096\n",
      "Epoch: 2, Training Step: 664, Loss: 0.4861013889312744\n"
     ]
    },
    {
     "name": "stderr",
     "output_type": "stream",
     "text": []
    },
    {
     "name": "stdout",
     "output_type": "stream",
     "text": [
      "Epoch: 2, Training Step: 665, Loss: 0.46561023592948914\n",
      "Epoch: 2, Training Step: 666, Loss: 0.38825348019599915\n",
      "Epoch: 2, Training Step: 667, Loss: 0.3952636420726776\n",
      "Epoch: 2, Training Step: 668, Loss: 0.36648455262184143\n",
      "Epoch: 2, Training Step: 669, Loss: 0.5046018362045288\n"
     ]
    },
    {
     "name": "stderr",
     "output_type": "stream",
     "text": []
    },
    {
     "name": "stdout",
     "output_type": "stream",
     "text": [
      "Epoch: 2, Training Step: 670, Loss: 0.45707738399505615\n",
      "Epoch: 2, Training Step: 671, Loss: 0.47517162561416626\n",
      "Epoch: 2, Training Step: 672, Loss: 0.497010201215744\n",
      "Epoch: 2, Training Step: 673, Loss: 0.5763533115386963\n",
      "Epoch: 2, Training Step: 674, Loss: 0.44181400537490845\n"
     ]
    },
    {
     "name": "stderr",
     "output_type": "stream",
     "text": []
    },
    {
     "name": "stdout",
     "output_type": "stream",
     "text": [
      "Epoch: 2, Training Step: 675, Loss: 0.4336811900138855\n",
      "Epoch: 2, Training Step: 676, Loss: 0.4678020179271698\n",
      "Epoch: 2, Training Step: 677, Loss: 0.46987974643707275\n",
      "Epoch: 2, Training Step: 678, Loss: 0.4173172414302826\n",
      "Epoch: 2, Training Step: 679, Loss: 0.6347773671150208\n"
     ]
    },
    {
     "name": "stderr",
     "output_type": "stream",
     "text": []
    },
    {
     "name": "stdout",
     "output_type": "stream",
     "text": [
      "Epoch: 2, Training Step: 680, Loss: 0.39056479930877686\n",
      "Epoch: 2, Training Step: 681, Loss: 0.42713862657546997\n",
      "Epoch: 2, Training Step: 682, Loss: 0.423493891954422\n",
      "Epoch: 2, Training Step: 683, Loss: 0.43845808506011963\n",
      "Epoch: 2, Training Step: 684, Loss: 0.36431458592414856\n",
      "Epoch: 2, Training Step: 685, Loss: 0.3339269161224365\n"
     ]
    },
    {
     "name": "stderr",
     "output_type": "stream",
     "text": []
    },
    {
     "name": "stdout",
     "output_type": "stream",
     "text": [
      "Epoch: 2, Training Step: 686, Loss: 0.4088500738143921\n",
      "Epoch: 2, Training Step: 687, Loss: 0.3979819416999817\n",
      "Epoch: 2, Training Step: 688, Loss: 0.4662870168685913\n",
      "Epoch: 2, Training Step: 689, Loss: 0.41610291600227356\n",
      "Epoch: 2, Training Step: 690, Loss: 0.4108838737010956\n",
      "Epoch: 2, Training Step: 691, Loss: 0.43379542231559753\n"
     ]
    },
    {
     "name": "stderr",
     "output_type": "stream",
     "text": [
      "\n"
     ]
    },
    {
     "name": "stdout",
     "output_type": "stream",
     "text": [
      "Epoch: 2, Training Step: 692, Loss: 0.43906399607658386\n",
      "Epoch: 2, Training Step: 693, Loss: 0.34230414032936096\n",
      "Epoch: 2, Training Step: 694, Loss: 0.41502246260643005\n",
      "Epoch: 2, Training Step: 695, Loss: 0.3839613199234009\n",
      "Epoch: 2, Training Step: 696, Loss: 0.34741440415382385\n"
     ]
    },
    {
     "name": "stderr",
     "output_type": "stream",
     "text": [
      "Iteration:  79%|███████▉  | 697/882 [01:03<00:14, 12.88it/s]\u001b[A"
     ]
    },
    {
     "name": "stdout",
     "output_type": "stream",
     "text": [
      "Epoch: 2, Training Step: 697, Loss: 0.3740338981151581\n",
      "Epoch: 2, Training Step: 698, Loss: 0.32967713475227356\n",
      "Epoch: 2, Training Step: 699, Loss: 0.361275315284729\n",
      "Epoch: 2, Training Step: 700, Loss: 0.4119036793708801\n",
      "Checkpoint saved at epoch 2, training step 700.\n",
      "TripletEvaluator: Evaluating the model on the gooaq dataset in epoch 2 after 700 steps:\n"
     ]
    },
    {
     "name": "stderr",
     "output_type": "stream",
     "text": [
      "\n",
      "\u001b[A\n",
      "\u001b[A\n",
      "\u001b[A\n",
      "\u001b[A\n",
      "\u001b[A\n",
      "100%|██████████| 50/50 [00:00<00:00, 87.04it/s]\n",
      "\n",
      "\u001b[A\n",
      "\u001b[A\n",
      "\u001b[A\n",
      "\u001b[A\n",
      "\u001b[A\n",
      "100%|██████████| 50/50 [00:00<00:00, 84.30it/s]\n",
      "\n",
      "\u001b[A\n",
      "\u001b[A\n",
      "\u001b[A\n",
      "\u001b[A\n",
      "\u001b[A\n",
      "100%|██████████| 50/50 [00:00<00:00, 83.98it/s]\n"
     ]
    },
    {
     "name": "stdout",
     "output_type": "stream",
     "text": [
      "Accuracy Cosine Distance:   \t81.28\n",
      "Accuracy Dot Product:       \t19.92\n",
      "Accuracy Manhattan Distance:\t81.11\n",
      "Accuracy Euclidean Distance:\t81.19\n",
      "\n",
      "Epoch: 2, Training Step: 701, Loss: 0.33995652198791504\n",
      "Epoch: 2, Training Step: 702, Loss: 0.24163633584976196\n",
      "Epoch: 2, Training Step: 703, Loss: 0.2768027186393738\n",
      "Epoch: 2, Training Step: 704, Loss: 0.301947683095932\n"
     ]
    },
    {
     "name": "stderr",
     "output_type": "stream",
     "text": []
    },
    {
     "name": "stdout",
     "output_type": "stream",
     "text": [
      "Epoch: 2, Training Step: 705, Loss: 0.25244131684303284\n",
      "Epoch: 2, Training Step: 706, Loss: 0.3418547809123993\n",
      "Epoch: 2, Training Step: 707, Loss: 0.318797767162323\n",
      "Epoch: 2, Training Step: 708, Loss: 0.3440577983856201\n",
      "Epoch: 2, Training Step: 709, Loss: 0.3886331617832184\n"
     ]
    },
    {
     "name": "stderr",
     "output_type": "stream",
     "text": []
    },
    {
     "name": "stdout",
     "output_type": "stream",
     "text": [
      "Epoch: 2, Training Step: 710, Loss: 0.3946969211101532\n",
      "Epoch: 2, Training Step: 711, Loss: 0.3862292766571045\n",
      "Epoch: 2, Training Step: 712, Loss: 0.43488022685050964\n",
      "Epoch: 2, Training Step: 713, Loss: 0.48619145154953003\n",
      "Epoch: 2, Training Step: 714, Loss: 0.48891371488571167\n",
      "Epoch: 2, Training Step: 715, Loss: 0.49102526903152466\n"
     ]
    },
    {
     "name": "stderr",
     "output_type": "stream",
     "text": []
    },
    {
     "name": "stdout",
     "output_type": "stream",
     "text": [
      "Epoch: 2, Training Step: 716, Loss: 0.503180742263794\n",
      "Epoch: 2, Training Step: 717, Loss: 0.31157052516937256\n",
      "Epoch: 2, Training Step: 718, Loss: 0.4012501537799835\n",
      "Epoch: 2, Training Step: 719, Loss: 0.4219111502170563\n",
      "Epoch: 2, Training Step: 720, Loss: 0.4324818551540375\n"
     ]
    },
    {
     "name": "stderr",
     "output_type": "stream",
     "text": [
      "\n"
     ]
    },
    {
     "name": "stdout",
     "output_type": "stream",
     "text": [
      "Epoch: 2, Training Step: 721, Loss: 0.3760015368461609\n",
      "Epoch: 2, Training Step: 722, Loss: 0.3522467017173767\n",
      "Epoch: 2, Training Step: 723, Loss: 0.3447891175746918\n",
      "Epoch: 2, Training Step: 724, Loss: 0.29166337847709656\n",
      "Epoch: 2, Training Step: 725, Loss: 0.3148173391819\n",
      "Epoch: 2, Training Step: 726, Loss: 0.4009222090244293\n"
     ]
    },
    {
     "name": "stderr",
     "output_type": "stream",
     "text": [
      "Iteration:  82%|████████▏ | 727/882 [01:07<00:14, 11.07it/s]\u001b[A\n"
     ]
    },
    {
     "name": "stdout",
     "output_type": "stream",
     "text": [
      "Epoch: 2, Training Step: 727, Loss: 0.3859519064426422\n",
      "Epoch: 2, Training Step: 728, Loss: 0.40565425157546997\n",
      "Epoch: 2, Training Step: 729, Loss: 0.4380776584148407\n",
      "Epoch: 2, Training Step: 730, Loss: 0.37725669145584106\n",
      "Epoch: 2, Training Step: 731, Loss: 0.4628332853317261\n",
      "Epoch: 2, Training Step: 732, Loss: 0.3727107346057892\n"
     ]
    },
    {
     "name": "stderr",
     "output_type": "stream",
     "text": [
      "Iteration:  83%|████████▎ | 733/882 [01:07<00:12, 11.67it/s]\u001b[A\n"
     ]
    },
    {
     "name": "stdout",
     "output_type": "stream",
     "text": [
      "Epoch: 2, Training Step: 733, Loss: 0.4389536678791046\n",
      "Epoch: 2, Training Step: 734, Loss: 0.35844847559928894\n",
      "Epoch: 2, Training Step: 735, Loss: 0.36214950680732727\n",
      "Epoch: 2, Training Step: 736, Loss: 0.39669156074523926\n",
      "Epoch: 2, Training Step: 737, Loss: 0.33552029728889465\n",
      "Epoch: 2, Training Step: 738, Loss: 0.36082252860069275\n"
     ]
    },
    {
     "name": "stderr",
     "output_type": "stream",
     "text": [
      "Iteration:  84%|████████▍ | 739/882 [01:07<00:11, 12.33it/s]\u001b[A\n"
     ]
    },
    {
     "name": "stdout",
     "output_type": "stream",
     "text": [
      "Epoch: 2, Training Step: 739, Loss: 0.3944316804409027\n",
      "Epoch: 2, Training Step: 740, Loss: 0.3623239994049072\n",
      "Epoch: 2, Training Step: 741, Loss: 0.32210108637809753\n",
      "Epoch: 2, Training Step: 742, Loss: 0.35496607422828674\n",
      "Epoch: 2, Training Step: 743, Loss: 0.3125484883785248\n",
      "Epoch: 2, Training Step: 744, Loss: 0.4740634560585022\n"
     ]
    },
    {
     "name": "stderr",
     "output_type": "stream",
     "text": [
      "Iteration:  84%|████████▍ | 745/882 [01:07<00:10, 12.96it/s]\u001b[A"
     ]
    },
    {
     "name": "stdout",
     "output_type": "stream",
     "text": [
      "Epoch: 2, Training Step: 745, Loss: 0.43409037590026855\n",
      "Epoch: 2, Training Step: 746, Loss: 0.42660847306251526\n",
      "Epoch: 2, Training Step: 747, Loss: 0.4598790407180786\n",
      "Epoch: 2, Training Step: 748, Loss: 0.48464030027389526\n",
      "Epoch: 2, Training Step: 749, Loss: 0.4885002076625824\n",
      "Epoch: 2, Training Step: 750, Loss: 0.42759978771209717\n",
      "Checkpoint saved at epoch 2, training step 750.\n",
      "TripletEvaluator: Evaluating the model on the gooaq dataset in epoch 2 after 750 steps:\n"
     ]
    },
    {
     "name": "stderr",
     "output_type": "stream",
     "text": [
      "\n",
      "\u001b[A\n",
      "\u001b[A\n",
      "\u001b[A\n",
      "\u001b[A\n",
      "\u001b[A\n",
      "100%|██████████| 50/50 [00:00<00:00, 85.80it/s]\n",
      "\n",
      "\u001b[A\n",
      "\u001b[A\n",
      "\u001b[A\n",
      "\u001b[A\n",
      "\u001b[A\n",
      "100%|██████████| 50/50 [00:01<00:00, 39.47it/s]\n",
      "\n",
      "\u001b[A\n",
      "\u001b[A\n",
      "\u001b[A\n",
      "\u001b[A\n",
      "\u001b[A\n",
      "100%|██████████| 50/50 [00:00<00:00, 85.33it/s]\n"
     ]
    },
    {
     "name": "stdout",
     "output_type": "stream",
     "text": [
      "Accuracy Cosine Distance:   \t81.28\n",
      "Accuracy Dot Product:       \t19.92\n",
      "Accuracy Manhattan Distance:\t81.11\n",
      "Accuracy Euclidean Distance:\t81.19\n",
      "\n",
      "Epoch: 2, Training Step: 751, Loss: 0.5178233981132507\n",
      "Epoch: 2, Training Step: 752, Loss: 0.4462166130542755\n",
      "Epoch: 2, Training Step: 753, Loss: 0.4028393030166626\n",
      "Epoch: 2, Training Step: 754, Loss: 0.42194634675979614\n"
     ]
    },
    {
     "name": "stderr",
     "output_type": "stream",
     "text": []
    },
    {
     "name": "stdout",
     "output_type": "stream",
     "text": [
      "Epoch: 2, Training Step: 755, Loss: 0.415702223777771\n",
      "Epoch: 2, Training Step: 756, Loss: 0.4570994973182678\n",
      "Epoch: 2, Training Step: 757, Loss: 0.43375152349472046\n",
      "Epoch: 2, Training Step: 758, Loss: 0.361234575510025\n",
      "Epoch: 2, Training Step: 759, Loss: 0.38249140977859497\n"
     ]
    },
    {
     "name": "stderr",
     "output_type": "stream",
     "text": []
    },
    {
     "name": "stdout",
     "output_type": "stream",
     "text": [
      "Epoch: 2, Training Step: 760, Loss: 0.34262940287590027\n",
      "Epoch: 2, Training Step: 761, Loss: 0.3980958163738251\n",
      "Epoch: 2, Training Step: 762, Loss: 0.37638407945632935\n",
      "Epoch: 2, Training Step: 763, Loss: 0.3839397132396698\n",
      "Epoch: 2, Training Step: 764, Loss: 0.41272494196891785\n"
     ]
    },
    {
     "name": "stderr",
     "output_type": "stream",
     "text": []
    },
    {
     "name": "stdout",
     "output_type": "stream",
     "text": [
      "Epoch: 2, Training Step: 765, Loss: 0.33622780442237854\n",
      "Epoch: 2, Training Step: 766, Loss: 0.27516165375709534\n",
      "Epoch: 2, Training Step: 767, Loss: 0.32081344723701477\n",
      "Epoch: 2, Training Step: 768, Loss: 0.3800380229949951\n",
      "Epoch: 2, Training Step: 769, Loss: 0.4886487126350403\n",
      "Epoch: 2, Training Step: 770, Loss: 0.4953271746635437\n"
     ]
    },
    {
     "name": "stderr",
     "output_type": "stream",
     "text": []
    },
    {
     "name": "stdout",
     "output_type": "stream",
     "text": [
      "Epoch: 2, Training Step: 771, Loss: 0.48330357670783997\n",
      "Epoch: 2, Training Step: 772, Loss: 0.5037058591842651\n",
      "Epoch: 2, Training Step: 773, Loss: 0.36969703435897827\n",
      "Epoch: 2, Training Step: 774, Loss: 0.36169007420539856\n",
      "Epoch: 2, Training Step: 775, Loss: 0.40722382068634033\n"
     ]
    },
    {
     "name": "stderr",
     "output_type": "stream",
     "text": []
    },
    {
     "name": "stdout",
     "output_type": "stream",
     "text": [
      "Epoch: 2, Training Step: 776, Loss: 0.314730703830719\n",
      "Epoch: 2, Training Step: 777, Loss: 0.2599474787712097\n",
      "Epoch: 2, Training Step: 778, Loss: 0.2717193365097046\n",
      "Epoch: 2, Training Step: 779, Loss: 0.3561648428440094\n",
      "Epoch: 2, Training Step: 780, Loss: 0.3288659155368805\n"
     ]
    },
    {
     "name": "stderr",
     "output_type": "stream",
     "text": []
    },
    {
     "name": "stdout",
     "output_type": "stream",
     "text": [
      "Epoch: 2, Training Step: 781, Loss: 0.3513076901435852\n",
      "Epoch: 2, Training Step: 782, Loss: 0.43044769763946533\n",
      "Epoch: 2, Training Step: 783, Loss: 0.3926902413368225\n",
      "Epoch: 2, Training Step: 784, Loss: 0.41778016090393066\n",
      "Epoch: 2, Training Step: 785, Loss: 0.37297356128692627\n"
     ]
    },
    {
     "name": "stderr",
     "output_type": "stream",
     "text": []
    },
    {
     "name": "stdout",
     "output_type": "stream",
     "text": [
      "Epoch: 2, Training Step: 786, Loss: 0.4718998670578003\n",
      "Epoch: 2, Training Step: 787, Loss: 0.38424941897392273\n",
      "Epoch: 2, Training Step: 788, Loss: 0.45017704367637634\n",
      "Epoch: 2, Training Step: 789, Loss: 0.317852258682251\n",
      "Epoch: 2, Training Step: 790, Loss: 0.4159313142299652\n"
     ]
    },
    {
     "name": "stderr",
     "output_type": "stream",
     "text": []
    },
    {
     "name": "stdout",
     "output_type": "stream",
     "text": [
      "Epoch: 2, Training Step: 791, Loss: 0.40817657113075256\n",
      "Epoch: 2, Training Step: 792, Loss: 0.5723174810409546\n",
      "Epoch: 2, Training Step: 793, Loss: 0.4121454954147339\n",
      "Epoch: 2, Training Step: 794, Loss: 0.4527113735675812\n",
      "Epoch: 2, Training Step: 795, Loss: 0.537360429763794\n",
      "Epoch: 2, Training Step: 796, Loss: 0.4092712700366974\n"
     ]
    },
    {
     "name": "stderr",
     "output_type": "stream",
     "text": []
    },
    {
     "name": "stdout",
     "output_type": "stream",
     "text": [
      "Epoch: 2, Training Step: 797, Loss: 0.3266071081161499\n",
      "Epoch: 2, Training Step: 798, Loss: 0.4489916265010834\n",
      "Epoch: 2, Training Step: 799, Loss: 0.311674565076828\n",
      "Epoch: 2, Training Step: 800, Loss: 0.33079612255096436\n",
      "Checkpoint saved at epoch 2, training step 800.\n",
      "TripletEvaluator: Evaluating the model on the gooaq dataset in epoch 2 after 800 steps:\n"
     ]
    },
    {
     "name": "stderr",
     "output_type": "stream",
     "text": [
      "\n",
      "\u001b[A\n",
      "\u001b[A\n",
      "\u001b[A\n",
      "\u001b[A\n",
      "\u001b[A\n",
      "100%|██████████| 50/50 [00:00<00:00, 84.21it/s]\n",
      "\n",
      "\u001b[A\n",
      "\u001b[A\n",
      "\u001b[A\n",
      "\u001b[A\n",
      "\u001b[A\n",
      "100%|██████████| 50/50 [00:00<00:00, 81.86it/s]\n",
      "\n",
      "\u001b[A\n",
      "\u001b[A\n",
      "\u001b[A\n",
      "\u001b[A\n",
      "\u001b[A\n",
      "100%|██████████| 50/50 [00:00<00:00, 83.13it/s]\n"
     ]
    },
    {
     "name": "stdout",
     "output_type": "stream",
     "text": [
      "Accuracy Cosine Distance:   \t81.30\n",
      "Accuracy Dot Product:       \t19.92\n",
      "Accuracy Manhattan Distance:\t81.11\n",
      "Accuracy Euclidean Distance:\t81.19\n",
      "\n",
      "Epoch: 2, Training Step: 801, Loss: 0.3668833076953888\n",
      "Epoch: 2, Training Step: 802, Loss: 0.3366777300834656\n",
      "Epoch: 2, Training Step: 803, Loss: 0.3644567131996155\n",
      "Epoch: 2, Training Step: 804, Loss: 0.3329318165779114\n"
     ]
    },
    {
     "name": "stderr",
     "output_type": "stream",
     "text": [
      "\n"
     ]
    },
    {
     "name": "stdout",
     "output_type": "stream",
     "text": [
      "Epoch: 2, Training Step: 805, Loss: 0.3212527334690094\n",
      "Epoch: 2, Training Step: 806, Loss: 0.37514644861221313\n",
      "Epoch: 2, Training Step: 807, Loss: 0.33661407232284546\n",
      "Epoch: 2, Training Step: 808, Loss: 0.3457339406013489\n",
      "Epoch: 2, Training Step: 809, Loss: 0.43156397342681885\n",
      "Epoch: 2, Training Step: 810, Loss: 0.49379387497901917\n"
     ]
    },
    {
     "name": "stderr",
     "output_type": "stream",
     "text": [
      "Iteration:  92%|█████████▏| 811/882 [01:16<00:07,  9.13it/s]\u001b[A"
     ]
    },
    {
     "name": "stdout",
     "output_type": "stream",
     "text": [
      "Epoch: 2, Training Step: 811, Loss: 0.44072189927101135\n",
      "Epoch: 2, Training Step: 812, Loss: 0.4230569005012512\n",
      "Epoch: 2, Training Step: 813, Loss: 0.5021342039108276\n",
      "Epoch: 2, Training Step: 814, Loss: 0.35269010066986084\n",
      "Epoch: 2, Training Step: 815, Loss: 0.41385796666145325\n"
     ]
    },
    {
     "name": "stderr",
     "output_type": "stream",
     "text": []
    },
    {
     "name": "stdout",
     "output_type": "stream",
     "text": [
      "Epoch: 2, Training Step: 816, Loss: 0.4475303888320923\n",
      "Epoch: 2, Training Step: 817, Loss: 0.4331187307834625\n",
      "Epoch: 2, Training Step: 818, Loss: 0.3629154562950134\n",
      "Epoch: 2, Training Step: 819, Loss: 0.4797309935092926\n",
      "Epoch: 2, Training Step: 820, Loss: 0.461464524269104\n"
     ]
    },
    {
     "name": "stderr",
     "output_type": "stream",
     "text": []
    },
    {
     "name": "stdout",
     "output_type": "stream",
     "text": [
      "Epoch: 2, Training Step: 821, Loss: 0.44622480869293213\n",
      "Epoch: 2, Training Step: 822, Loss: 0.37675827741622925\n",
      "Epoch: 2, Training Step: 823, Loss: 0.4033034145832062\n",
      "Epoch: 2, Training Step: 824, Loss: 0.34515365958213806\n",
      "Epoch: 2, Training Step: 825, Loss: 0.3490133285522461\n"
     ]
    },
    {
     "name": "stderr",
     "output_type": "stream",
     "text": [
      "\n"
     ]
    },
    {
     "name": "stdout",
     "output_type": "stream",
     "text": [
      "Epoch: 2, Training Step: 826, Loss: 0.2617698609828949\n",
      "Epoch: 2, Training Step: 827, Loss: 0.2548404037952423\n",
      "Epoch: 2, Training Step: 828, Loss: 0.2981267273426056\n",
      "Epoch: 2, Training Step: 829, Loss: 0.43393316864967346\n",
      "Epoch: 2, Training Step: 830, Loss: 0.4627018868923187\n",
      "Epoch: 2, Training Step: 831, Loss: 0.47146594524383545\n"
     ]
    },
    {
     "name": "stderr",
     "output_type": "stream",
     "text": [
      "Iteration:  94%|█████████▍| 832/882 [01:17<00:04, 11.14it/s]\u001b[A"
     ]
    },
    {
     "name": "stdout",
     "output_type": "stream",
     "text": [
      "Epoch: 2, Training Step: 832, Loss: 0.3507764935493469\n",
      "Epoch: 2, Training Step: 833, Loss: 0.3961210250854492\n",
      "Epoch: 2, Training Step: 834, Loss: 0.3106999695301056\n",
      "Epoch: 2, Training Step: 835, Loss: 0.2875952422618866\n",
      "Epoch: 2, Training Step: 836, Loss: 0.35269656777381897\n"
     ]
    },
    {
     "name": "stderr",
     "output_type": "stream",
     "text": []
    },
    {
     "name": "stdout",
     "output_type": "stream",
     "text": [
      "Epoch: 2, Training Step: 837, Loss: 0.3897903859615326\n",
      "Epoch: 2, Training Step: 838, Loss: 0.3634911775588989\n",
      "Epoch: 2, Training Step: 839, Loss: 0.3980109691619873\n",
      "Epoch: 2, Training Step: 840, Loss: 0.4179234802722931\n",
      "Epoch: 2, Training Step: 841, Loss: 0.487120121717453\n"
     ]
    },
    {
     "name": "stderr",
     "output_type": "stream",
     "text": []
    },
    {
     "name": "stdout",
     "output_type": "stream",
     "text": [
      "Epoch: 2, Training Step: 842, Loss: 0.43516606092453003\n",
      "Epoch: 2, Training Step: 843, Loss: 0.4835992455482483\n",
      "Epoch: 2, Training Step: 844, Loss: 0.45027264952659607\n",
      "Epoch: 2, Training Step: 845, Loss: 0.5193690657615662\n"
     ]
    },
    {
     "name": "stderr",
     "output_type": "stream",
     "text": []
    },
    {
     "name": "stdout",
     "output_type": "stream",
     "text": [
      "Epoch: 2, Training Step: 846, Loss: 0.47556009888648987\n",
      "Epoch: 2, Training Step: 847, Loss: 0.5122761726379395\n",
      "Epoch: 2, Training Step: 848, Loss: 0.3944139778614044\n",
      "Epoch: 2, Training Step: 849, Loss: 0.42221778631210327\n",
      "Epoch: 2, Training Step: 850, Loss: 0.29816603660583496\n",
      "Checkpoint saved at epoch 2, training step 850.\n",
      "TripletEvaluator: Evaluating the model on the gooaq dataset in epoch 2 after 850 steps:\n"
     ]
    },
    {
     "name": "stderr",
     "output_type": "stream",
     "text": [
      "\n",
      "\u001b[A\n",
      "\u001b[A\n",
      "\u001b[A\n",
      "\u001b[A\n",
      "\u001b[A\n",
      "100%|██████████| 50/50 [00:00<00:00, 82.16it/s]\n",
      "\n",
      "\u001b[A\n",
      "\u001b[A\n",
      "\u001b[A\n",
      "\u001b[A\n",
      "\u001b[A\n",
      "100%|██████████| 50/50 [00:00<00:00, 85.70it/s]\n",
      "\n",
      "\u001b[A\n",
      "\u001b[A\n",
      "\u001b[A\n",
      "\u001b[A\n",
      "\u001b[A\n",
      "100%|██████████| 50/50 [00:00<00:00, 76.75it/s]\n"
     ]
    },
    {
     "name": "stdout",
     "output_type": "stream",
     "text": [
      "Accuracy Cosine Distance:   \t81.30\n",
      "Accuracy Dot Product:       \t19.92\n",
      "Accuracy Manhattan Distance:\t81.11\n",
      "Accuracy Euclidean Distance:\t81.19\n",
      "\n",
      "Epoch: 2, Training Step: 851, Loss: 0.37274909019470215\n",
      "Epoch: 2, Training Step: 852, Loss: 0.35590770840644836\n",
      "Epoch: 2, Training Step: 853, Loss: 0.3725969195365906\n",
      "Epoch: 2, Training Step: 854, Loss: 0.36607664823532104\n"
     ]
    },
    {
     "name": "stderr",
     "output_type": "stream",
     "text": []
    },
    {
     "name": "stdout",
     "output_type": "stream",
     "text": [
      "Epoch: 2, Training Step: 855, Loss: 0.3193892240524292\n",
      "Epoch: 2, Training Step: 856, Loss: 0.4190565347671509\n",
      "Epoch: 2, Training Step: 857, Loss: 0.4225950539112091\n",
      "Epoch: 2, Training Step: 858, Loss: 0.3194703757762909\n",
      "Epoch: 2, Training Step: 859, Loss: 0.3640472888946533\n"
     ]
    },
    {
     "name": "stderr",
     "output_type": "stream",
     "text": []
    },
    {
     "name": "stdout",
     "output_type": "stream",
     "text": [
      "Epoch: 2, Training Step: 860, Loss: 0.43308964371681213\n",
      "Epoch: 2, Training Step: 861, Loss: 0.37111568450927734\n",
      "Epoch: 2, Training Step: 862, Loss: 0.37059012055397034\n",
      "Epoch: 2, Training Step: 863, Loss: 0.3551921546459198\n",
      "Epoch: 2, Training Step: 864, Loss: 0.41468849778175354\n"
     ]
    },
    {
     "name": "stderr",
     "output_type": "stream",
     "text": []
    },
    {
     "name": "stdout",
     "output_type": "stream",
     "text": [
      "Epoch: 2, Training Step: 865, Loss: 0.3905825912952423\n",
      "Epoch: 2, Training Step: 866, Loss: 0.44640660285949707\n",
      "Epoch: 2, Training Step: 867, Loss: 0.36142250895500183\n",
      "Epoch: 2, Training Step: 868, Loss: 0.4298783540725708\n",
      "Epoch: 2, Training Step: 869, Loss: 0.4306503236293793\n"
     ]
    },
    {
     "name": "stderr",
     "output_type": "stream",
     "text": []
    },
    {
     "name": "stdout",
     "output_type": "stream",
     "text": [
      "Epoch: 2, Training Step: 870, Loss: 0.4205147922039032\n",
      "Epoch: 2, Training Step: 871, Loss: 0.5849425196647644\n",
      "Epoch: 2, Training Step: 872, Loss: 0.5831165909767151\n",
      "Epoch: 2, Training Step: 873, Loss: 0.567257821559906\n",
      "Epoch: 2, Training Step: 874, Loss: 0.5190643072128296\n",
      "Epoch: 2, Training Step: 875, Loss: 0.5919421911239624\n"
     ]
    },
    {
     "name": "stderr",
     "output_type": "stream",
     "text": []
    },
    {
     "name": "stdout",
     "output_type": "stream",
     "text": [
      "Epoch: 2, Training Step: 876, Loss: 0.4513179361820221\n",
      "Epoch: 2, Training Step: 877, Loss: 0.5028624534606934\n",
      "Epoch: 2, Training Step: 878, Loss: 0.45588305592536926\n",
      "Epoch: 2, Training Step: 879, Loss: 0.38851550221443176\n",
      "Epoch: 2, Training Step: 880, Loss: 0.36979636549949646\n"
     ]
    },
    {
     "name": "stderr",
     "output_type": "stream",
     "text": [
      "Iteration: 884it [01:22, 10.75it/s]                         \n"
     ]
    },
    {
     "name": "stdout",
     "output_type": "stream",
     "text": [
      "Epoch: 2, Training Step: 881, Loss: 0.36669084429740906\n",
      "Epoch: 2, Training Step: 882, Loss: 0.3996413052082062\n",
      "Epoch: 2, Training Step: 883, Loss: 0.34736117720603943\n",
      "TripletEvaluator: Evaluating the model on the gooaq dataset in epoch 2 after 884 steps:\n"
     ]
    },
    {
     "name": "stderr",
     "output_type": "stream",
     "text": [
      "100%|██████████| 50/50 [00:00<00:00, 86.23it/s]\n",
      "100%|██████████| 50/50 [00:00<00:00, 85.75it/s]\n",
      "100%|██████████| 50/50 [00:00<00:00, 82.19it/s]\n",
      "Epoch: 100%|██████████| 3/3 [04:21<00:00, 87.28s/it]"
     ]
    },
    {
     "name": "stdout",
     "output_type": "stream",
     "text": [
      "Accuracy Cosine Distance:   \t81.30\n",
      "Accuracy Dot Product:       \t19.92\n",
      "Accuracy Manhattan Distance:\t81.11\n",
      "Accuracy Euclidean Distance:\t81.19\n",
      "\n",
      "Checkpoint saved at epoch 2, training step 884.\n"
     ]
    },
    {
     "name": "stderr",
     "output_type": "stream",
     "text": [
      "\n"
     ]
    }
   ],
   "source": [
    "train_adapter_model(\n",
    "    model=adapter_model,\n",
    "    output_path = \"D:/adapter_model\",\n",
    "    train_dataloader = train_dl,\n",
    "    epochs = 3,\n",
    "    evaluator = valid_evaluator,\n",
    "    evaluation_steps = 50,\n",
    "    eval_score_criteria = \"cosine_accuracy\",\n",
    "    scheduler = \"warmupcosine\",\n",
    "    warmup_steps = 10,\n",
    "    optimizer_class = torch.optim.AdamW,\n",
    "    optimizer_params = {'lr': 2e-5},\n",
    "    weight_decay = 0.01,\n",
    "    model_target_device = \"cpu\",\n",
    "    load_from_checkpoint = False,\n",
    "    checkpoint_path= None,\n",
    "    show_progress_bar = True,\n",
    "    save_strategy = \"steps\", # Can be one of \"epoch\" or \"steps\"\n",
    "    save_steps = 50, # Only applicable if save_strategy is set to \"steps\"\n",
    ")"
   ]
  },
  {
   "cell_type": "code",
   "execution_count": 30,
   "metadata": {},
   "outputs": [
    {
     "name": "stdout",
     "output_type": "stream",
     "text": [
      "TripletEvaluator: Evaluating the model on the gooaq dataset:\n"
     ]
    },
    {
     "name": "stderr",
     "output_type": "stream",
     "text": [
      "100%|██████████| 49/49 [00:00<00:00, 83.41it/s]\n",
      "100%|██████████| 49/49 [00:00<00:00, 85.10it/s]\n",
      "100%|██████████| 49/49 [00:00<00:00, 80.20it/s]\n"
     ]
    },
    {
     "name": "stdout",
     "output_type": "stream",
     "text": [
      "Accuracy Cosine Distance:   \t83.28\n",
      "Accuracy Dot Product:       \t17.92\n",
      "Accuracy Manhattan Distance:\t83.45\n",
      "Accuracy Euclidean Distance:\t83.51\n",
      "\n"
     ]
    },
    {
     "data": {
      "text/plain": [
       "{'gooaq_cosine_accuracy': 0.8328223993460045,\n",
       " 'gooaq_dot_accuracy': 0.17923564275495607,\n",
       " 'gooaq_manhattan_accuracy': 0.8344573881054568,\n",
       " 'gooaq_euclidean_accuracy': 0.8350705088902514,\n",
       " 'gooaq_max_accuracy': 0.8350705088902514}"
      ]
     },
     "execution_count": 30,
     "metadata": {},
     "output_type": "execute_result"
    }
   ],
   "source": [
    "test_evaluator(adapter_model, closed_source=False, output_path=\"D:/adapter_model\")"
   ]
  },
  {
   "cell_type": "code",
   "execution_count": 42,
   "metadata": {},
   "outputs": [],
   "source": []
  }
 ],
 "metadata": {
  "kernelspec": {
   "display_name": "base",
   "language": "python",
   "name": "python3"
  },
  "language_info": {
   "codemirror_mode": {
    "name": "ipython",
    "version": 3
   },
   "file_extension": ".py",
   "mimetype": "text/x-python",
   "name": "python",
   "nbconvert_exporter": "python",
   "pygments_lexer": "ipython3",
   "version": "3.11.5"
  }
 },
 "nbformat": 4,
 "nbformat_minor": 2
}
